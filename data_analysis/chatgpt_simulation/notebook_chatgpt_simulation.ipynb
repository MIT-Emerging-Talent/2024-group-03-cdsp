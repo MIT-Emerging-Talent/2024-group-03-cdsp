{
 "cells": [
  {
   "cell_type": "markdown",
   "metadata": {},
   "source": [
    "# ChatGPT Mental Support simulation"
   ]
  },
  {
   "cell_type": "markdown",
   "metadata": {},
   "source": [
    "In this notebook we will simulate how chatGPT will respond to request from people with mental issues, problems and worries, that will be expressed plain in conversation.\n",
    "This responses will be compared to responses from mental counselor to see how is chatGPT doing this.\n",
    "\n",
    "### Dataset\n",
    "\n",
    "This simulation is based on this dataset:\n",
    "\n",
    "[Mental health Counseling Conversations dataset](https://www.kaggle.com/datasets/thedevastator/nlp-mental-health-conversations)\n",
    "\n",
    "### Dataset structure\n",
    "\n",
    "| Column   | Description | \n",
    "|----------|----------|\n",
    "| Context  | Request, phrase, query sentence from the patient, that seems to have mental troubles, problem, disorders of different kind        |  \n",
    "| Response | Response, that mental counselor is supposed to give. For one ```Context``` there is from 5 to 25 different responses | \n",
    "\n",
    "\n",
    "### Comparison\n",
    "\n",
    "Comparison between ChatGPT response will be done with special prompt, resulting in score [0-100], and be done comparing one response from ChatGRT to all (one by one) responses from the dataset. New dataset will chatGPT responses and scores will be build, and then explored\n",
    "\n"
   ]
  },
  {
   "cell_type": "markdown",
   "metadata": {},
   "source": [
    "## Preparing the data"
   ]
  },
  {
   "cell_type": "markdown",
   "metadata": {},
   "source": [
    "The dataset on the link above is available to download, so here it is already present in the ```dataset/NLP_Mental_Health_Conversations.csv```"
   ]
  },
  {
   "cell_type": "code",
   "execution_count": 1,
   "metadata": {},
   "outputs": [],
   "source": [
    "#!pip install pandas"
   ]
  },
  {
   "cell_type": "code",
   "execution_count": 2,
   "metadata": {},
   "outputs": [
    {
     "name": "stderr",
     "output_type": "stream",
     "text": [
      "C:\\Users\\sirius\\AppData\\Local\\Temp\\ipykernel_22444\\4080736814.py:1: DeprecationWarning: \n",
      "Pyarrow will become a required dependency of pandas in the next major release of pandas (pandas 3.0),\n",
      "(to allow more performant data types, such as the Arrow string type, and better interoperability with other libraries)\n",
      "but was not found to be installed on your system.\n",
      "If this would cause problems for you,\n",
      "please provide us feedback at https://github.com/pandas-dev/pandas/issues/54466\n",
      "        \n",
      "  import pandas as pd\n"
     ]
    }
   ],
   "source": [
    "import pandas as pd"
   ]
  },
  {
   "cell_type": "code",
   "execution_count": 3,
   "metadata": {},
   "outputs": [
    {
     "data": {
      "text/html": [
       "<div>\n",
       "<style scoped>\n",
       "    .dataframe tbody tr th:only-of-type {\n",
       "        vertical-align: middle;\n",
       "    }\n",
       "\n",
       "    .dataframe tbody tr th {\n",
       "        vertical-align: top;\n",
       "    }\n",
       "\n",
       "    .dataframe thead th {\n",
       "        text-align: right;\n",
       "    }\n",
       "</style>\n",
       "<table border=\"1\" class=\"dataframe\">\n",
       "  <thead>\n",
       "    <tr style=\"text-align: right;\">\n",
       "      <th></th>\n",
       "      <th>Context</th>\n",
       "      <th>Response</th>\n",
       "    </tr>\n",
       "  </thead>\n",
       "  <tbody>\n",
       "    <tr>\n",
       "      <th>0</th>\n",
       "      <td>I'm going through some things with my feelings...</td>\n",
       "      <td>If everyone thinks you're worthless, then mayb...</td>\n",
       "    </tr>\n",
       "    <tr>\n",
       "      <th>1</th>\n",
       "      <td>I'm going through some things with my feelings...</td>\n",
       "      <td>Hello, and thank you for your question and see...</td>\n",
       "    </tr>\n",
       "    <tr>\n",
       "      <th>2</th>\n",
       "      <td>I'm going through some things with my feelings...</td>\n",
       "      <td>First thing I'd suggest is getting the sleep y...</td>\n",
       "    </tr>\n",
       "    <tr>\n",
       "      <th>3</th>\n",
       "      <td>I'm going through some things with my feelings...</td>\n",
       "      <td>Therapy is essential for those that are feelin...</td>\n",
       "    </tr>\n",
       "    <tr>\n",
       "      <th>4</th>\n",
       "      <td>I'm going through some things with my feelings...</td>\n",
       "      <td>I first want to let you know that you are not ...</td>\n",
       "    </tr>\n",
       "  </tbody>\n",
       "</table>\n",
       "</div>"
      ],
      "text/plain": [
       "                                             Context  \\\n",
       "0  I'm going through some things with my feelings...   \n",
       "1  I'm going through some things with my feelings...   \n",
       "2  I'm going through some things with my feelings...   \n",
       "3  I'm going through some things with my feelings...   \n",
       "4  I'm going through some things with my feelings...   \n",
       "\n",
       "                                            Response  \n",
       "0  If everyone thinks you're worthless, then mayb...  \n",
       "1  Hello, and thank you for your question and see...  \n",
       "2  First thing I'd suggest is getting the sleep y...  \n",
       "3  Therapy is essential for those that are feelin...  \n",
       "4  I first want to let you know that you are not ...  "
      ]
     },
     "execution_count": 3,
     "metadata": {},
     "output_type": "execute_result"
    }
   ],
   "source": [
    "CONVERSATIONS_DATASET_FILENAME='dataset/NLP_Mental_Health_Conversations.csv'\n",
    "\n",
    "conversation_dataset=pd.read_csv(CONVERSATIONS_DATASET_FILENAME)\n",
    "\n",
    "conversation_dataset.head()"
   ]
  },
  {
   "cell_type": "code",
   "execution_count": 4,
   "metadata": {},
   "outputs": [
    {
     "data": {
      "text/plain": [
       "3512"
      ]
     },
     "execution_count": 4,
     "metadata": {},
     "output_type": "execute_result"
    }
   ],
   "source": [
    "len(conversation_dataset)"
   ]
  },
  {
   "cell_type": "code",
   "execution_count": 5,
   "metadata": {},
   "outputs": [],
   "source": [
    "conversation_dataset.columns = conversation_dataset.columns.str.lower().str.replace(' ', '_')"
   ]
  },
  {
   "cell_type": "code",
   "execution_count": 6,
   "metadata": {},
   "outputs": [
    {
     "data": {
      "text/plain": [
       "context     0\n",
       "response    4\n",
       "dtype: int64"
      ]
     },
     "execution_count": 6,
     "metadata": {},
     "output_type": "execute_result"
    }
   ],
   "source": [
    "conversation_dataset.isna().sum()"
   ]
  },
  {
   "cell_type": "code",
   "execution_count": 7,
   "metadata": {},
   "outputs": [
    {
     "data": {
      "text/html": [
       "<div>\n",
       "<style scoped>\n",
       "    .dataframe tbody tr th:only-of-type {\n",
       "        vertical-align: middle;\n",
       "    }\n",
       "\n",
       "    .dataframe tbody tr th {\n",
       "        vertical-align: top;\n",
       "    }\n",
       "\n",
       "    .dataframe thead th {\n",
       "        text-align: right;\n",
       "    }\n",
       "</style>\n",
       "<table border=\"1\" class=\"dataframe\">\n",
       "  <thead>\n",
       "    <tr style=\"text-align: right;\">\n",
       "      <th></th>\n",
       "      <th>context</th>\n",
       "      <th>response</th>\n",
       "    </tr>\n",
       "  </thead>\n",
       "  <tbody>\n",
       "    <tr>\n",
       "      <th>count</th>\n",
       "      <td>3512</td>\n",
       "      <td>3508</td>\n",
       "    </tr>\n",
       "    <tr>\n",
       "      <th>unique</th>\n",
       "      <td>995</td>\n",
       "      <td>2479</td>\n",
       "    </tr>\n",
       "    <tr>\n",
       "      <th>top</th>\n",
       "      <td>I have so many issues to address. I have a his...</td>\n",
       "      <td>It's normal to feel a little anxiety--after al...</td>\n",
       "    </tr>\n",
       "    <tr>\n",
       "      <th>freq</th>\n",
       "      <td>94</td>\n",
       "      <td>3</td>\n",
       "    </tr>\n",
       "  </tbody>\n",
       "</table>\n",
       "</div>"
      ],
      "text/plain": [
       "                                                  context  \\\n",
       "count                                                3512   \n",
       "unique                                                995   \n",
       "top     I have so many issues to address. I have a his...   \n",
       "freq                                                   94   \n",
       "\n",
       "                                                 response  \n",
       "count                                                3508  \n",
       "unique                                               2479  \n",
       "top     It's normal to feel a little anxiety--after al...  \n",
       "freq                                                    3  "
      ]
     },
     "execution_count": 7,
     "metadata": {},
     "output_type": "execute_result"
    }
   ],
   "source": [
    "conversation_dataset.describe()"
   ]
  },
  {
   "cell_type": "code",
   "execution_count": 8,
   "metadata": {},
   "outputs": [
    {
     "name": "stdout",
     "output_type": "stream",
     "text": [
      "I'm in a state of depression right now. Who can I talk to? I've been sick in a lot of pain and crying. Don't know where to turn.\n"
     ]
    }
   ],
   "source": [
    "context_example=conversation_dataset.loc[328]['context']\n",
    "\n",
    "responses_example=conversation_dataset[conversation_dataset['context']==context_example]\n",
    "\n",
    "print(context_example)\n"
   ]
  },
  {
   "cell_type": "code",
   "execution_count": 9,
   "metadata": {},
   "outputs": [
    {
     "data": {
      "text/html": [
       "<div>\n",
       "<style scoped>\n",
       "    .dataframe tbody tr th:only-of-type {\n",
       "        vertical-align: middle;\n",
       "    }\n",
       "\n",
       "    .dataframe tbody tr th {\n",
       "        vertical-align: top;\n",
       "    }\n",
       "\n",
       "    .dataframe thead th {\n",
       "        text-align: right;\n",
       "    }\n",
       "</style>\n",
       "<table border=\"1\" class=\"dataframe\">\n",
       "  <thead>\n",
       "    <tr style=\"text-align: right;\">\n",
       "      <th></th>\n",
       "      <th>context</th>\n",
       "      <th>response</th>\n",
       "    </tr>\n",
       "  </thead>\n",
       "  <tbody>\n",
       "    <tr>\n",
       "      <th>328</th>\n",
       "      <td>I'm in a state of depression right now. Who ca...</td>\n",
       "      <td>First of all, if you’re sick and in pain, have...</td>\n",
       "    </tr>\n",
       "    <tr>\n",
       "      <th>2166</th>\n",
       "      <td>I'm in a state of depression right now. Who ca...</td>\n",
       "      <td>First of all, if you’re sick and in pain, have...</td>\n",
       "    </tr>\n",
       "  </tbody>\n",
       "</table>\n",
       "</div>"
      ],
      "text/plain": [
       "                                                context  \\\n",
       "328   I'm in a state of depression right now. Who ca...   \n",
       "2166  I'm in a state of depression right now. Who ca...   \n",
       "\n",
       "                                               response  \n",
       "328   First of all, if you’re sick and in pain, have...  \n",
       "2166  First of all, if you’re sick and in pain, have...  "
      ]
     },
     "execution_count": 9,
     "metadata": {},
     "output_type": "execute_result"
    }
   ],
   "source": [
    "responses_example"
   ]
  },
  {
   "cell_type": "code",
   "execution_count": 10,
   "metadata": {},
   "outputs": [
    {
     "name": "stdout",
     "output_type": "stream",
     "text": [
      "First of all, if you’re sick and in pain, have you seen your doctor? If you have a chronic illness and pain, this can often lead to depression and is very common. You’ve taken the first step to dealing with it. You can talk to your doctor, even if your depression isn’t related to your health. He or she can either look at prescribing you an antidepressant or can refer you to a psychologist or psychiatrist.If that’s not really an option for you, there are also helplines (local or national) or support groups where people dealing with similar issues can talk to each other. If you can't find any in your area (newspapers usually publish this information), there are online support groups as well.\n",
      "First of all, if you’re sick and in pain, have you seen your doctor? If you have a chronic illness and pain, this can often lead to depression and is very common. You’ve taken the first step to dealing with it. You can talk to your doctor, even if your depression isn’t related to your health. He or she can either look at prescribing you an antidepressant or can refer you to a psychologist or psychiatrist.If that’s not really an option for you, there are also helplines (local or national) or support groups where people dealing with similar issues can talk to each other. If you can't find any in your area (newspapers usually publish this information), there are online support groups as well. \n"
     ]
    }
   ],
   "source": [
    "responses_example.reset_index(inplace=True)\n",
    "responses_example\n",
    "print(responses_example.loc[0]['response'])\n",
    "print(responses_example.loc[1]['response'])"
   ]
  },
  {
   "cell_type": "markdown",
   "metadata": {},
   "source": [
    "### Dataset contains duplicate responses\n",
    "\n",
    "lets see some more"
   ]
  },
  {
   "cell_type": "code",
   "execution_count": 11,
   "metadata": {},
   "outputs": [
    {
     "name": "stdout",
     "output_type": "stream",
     "text": [
      "I have so many issues to address. I have a history of sexual abuse, I’m a breast cancer survivor and I am a lifetime insomniac.    I have a long history of depression and I’m beginning to have anxiety. I have low self esteem but I’ve been happily married for almost 35 years.\n",
      "   I’ve never had counseling about any of this. Do I have too many issues to address in counseling?\n"
     ]
    }
   ],
   "source": [
    "context_example=conversation_dataset.loc[38]['context']\n",
    "\n",
    "responses_example=conversation_dataset[conversation_dataset['context']==context_example]\n",
    "\n",
    "print(context_example)"
   ]
  },
  {
   "cell_type": "code",
   "execution_count": 12,
   "metadata": {},
   "outputs": [
    {
     "data": {
      "text/html": [
       "<div>\n",
       "<style scoped>\n",
       "    .dataframe tbody tr th:only-of-type {\n",
       "        vertical-align: middle;\n",
       "    }\n",
       "\n",
       "    .dataframe tbody tr th {\n",
       "        vertical-align: top;\n",
       "    }\n",
       "\n",
       "    .dataframe thead th {\n",
       "        text-align: right;\n",
       "    }\n",
       "</style>\n",
       "<table border=\"1\" class=\"dataframe\">\n",
       "  <thead>\n",
       "    <tr style=\"text-align: right;\">\n",
       "      <th></th>\n",
       "      <th>context</th>\n",
       "      <th>response</th>\n",
       "    </tr>\n",
       "  </thead>\n",
       "  <tbody>\n",
       "    <tr>\n",
       "      <th>23</th>\n",
       "      <td>I have so many issues to address. I have a his...</td>\n",
       "      <td>Let me start by saying there are never too man...</td>\n",
       "    </tr>\n",
       "    <tr>\n",
       "      <th>24</th>\n",
       "      <td>I have so many issues to address. I have a his...</td>\n",
       "      <td>It is never too late to get help and begin mak...</td>\n",
       "    </tr>\n",
       "    <tr>\n",
       "      <th>25</th>\n",
       "      <td>I have so many issues to address. I have a his...</td>\n",
       "      <td>You have been through so much and it sounds li...</td>\n",
       "    </tr>\n",
       "    <tr>\n",
       "      <th>26</th>\n",
       "      <td>I have so many issues to address. I have a his...</td>\n",
       "      <td>Absolutely not.  I strongly recommending worki...</td>\n",
       "    </tr>\n",
       "    <tr>\n",
       "      <th>27</th>\n",
       "      <td>I have so many issues to address. I have a his...</td>\n",
       "      <td>Absolutely not!  In fact, most people have man...</td>\n",
       "    </tr>\n",
       "    <tr>\n",
       "      <th>...</th>\n",
       "      <td>...</td>\n",
       "      <td>...</td>\n",
       "    </tr>\n",
       "    <tr>\n",
       "      <th>2010</th>\n",
       "      <td>I have so many issues to address. I have a his...</td>\n",
       "      <td>The way it goes is that all your issues are co...</td>\n",
       "    </tr>\n",
       "    <tr>\n",
       "      <th>2011</th>\n",
       "      <td>I have so many issues to address. I have a his...</td>\n",
       "      <td>I think this is a very common question that pe...</td>\n",
       "    </tr>\n",
       "    <tr>\n",
       "      <th>2012</th>\n",
       "      <td>I have so many issues to address. I have a his...</td>\n",
       "      <td>Hello, I'm so glad you decided to take the fir...</td>\n",
       "    </tr>\n",
       "    <tr>\n",
       "      <th>2013</th>\n",
       "      <td>I have so many issues to address. I have a his...</td>\n",
       "      <td>Not at all my dear. Human beings are complex c...</td>\n",
       "    </tr>\n",
       "    <tr>\n",
       "      <th>2014</th>\n",
       "      <td>I have so many issues to address. I have a his...</td>\n",
       "      <td>Everyone has topics to discuss when they start...</td>\n",
       "    </tr>\n",
       "  </tbody>\n",
       "</table>\n",
       "<p>94 rows × 2 columns</p>\n",
       "</div>"
      ],
      "text/plain": [
       "                                                context  \\\n",
       "23    I have so many issues to address. I have a his...   \n",
       "24    I have so many issues to address. I have a his...   \n",
       "25    I have so many issues to address. I have a his...   \n",
       "26    I have so many issues to address. I have a his...   \n",
       "27    I have so many issues to address. I have a his...   \n",
       "...                                                 ...   \n",
       "2010  I have so many issues to address. I have a his...   \n",
       "2011  I have so many issues to address. I have a his...   \n",
       "2012  I have so many issues to address. I have a his...   \n",
       "2013  I have so many issues to address. I have a his...   \n",
       "2014  I have so many issues to address. I have a his...   \n",
       "\n",
       "                                               response  \n",
       "23    Let me start by saying there are never too man...  \n",
       "24    It is never too late to get help and begin mak...  \n",
       "25    You have been through so much and it sounds li...  \n",
       "26    Absolutely not.  I strongly recommending worki...  \n",
       "27    Absolutely not!  In fact, most people have man...  \n",
       "...                                                 ...  \n",
       "2010  The way it goes is that all your issues are co...  \n",
       "2011  I think this is a very common question that pe...  \n",
       "2012  Hello, I'm so glad you decided to take the fir...  \n",
       "2013  Not at all my dear. Human beings are complex c...  \n",
       "2014  Everyone has topics to discuss when they start...  \n",
       "\n",
       "[94 rows x 2 columns]"
      ]
     },
     "execution_count": 12,
     "metadata": {},
     "output_type": "execute_result"
    }
   ],
   "source": [
    "responses_example"
   ]
  },
  {
   "cell_type": "code",
   "execution_count": 13,
   "metadata": {},
   "outputs": [
    {
     "name": "stdout",
     "output_type": "stream",
     "text": [
      "I'm fine when we start becoming intimate, but out of nowhere, I will get a flashback of what happened to me in the past. I start hysterically crying and freaking out when my boyfriend obviously has done nothing to hurt me.\n"
     ]
    }
   ],
   "source": [
    "context_example=conversation_dataset.loc[1000]['context']\n",
    "\n",
    "responses_example=conversation_dataset[conversation_dataset['context']==context_example]\n",
    "\n",
    "print(context_example)"
   ]
  },
  {
   "cell_type": "code",
   "execution_count": 14,
   "metadata": {},
   "outputs": [
    {
     "data": {
      "text/html": [
       "<div>\n",
       "<style scoped>\n",
       "    .dataframe tbody tr th:only-of-type {\n",
       "        vertical-align: middle;\n",
       "    }\n",
       "\n",
       "    .dataframe tbody tr th {\n",
       "        vertical-align: top;\n",
       "    }\n",
       "\n",
       "    .dataframe thead th {\n",
       "        text-align: right;\n",
       "    }\n",
       "</style>\n",
       "<table border=\"1\" class=\"dataframe\">\n",
       "  <thead>\n",
       "    <tr style=\"text-align: right;\">\n",
       "      <th></th>\n",
       "      <th>context</th>\n",
       "      <th>response</th>\n",
       "    </tr>\n",
       "  </thead>\n",
       "  <tbody>\n",
       "    <tr>\n",
       "      <th>999</th>\n",
       "      <td>I'm fine when we start becoming intimate, but ...</td>\n",
       "      <td>Have you sought the support of a therapist rea...</td>\n",
       "    </tr>\n",
       "    <tr>\n",
       "      <th>1000</th>\n",
       "      <td>I'm fine when we start becoming intimate, but ...</td>\n",
       "      <td>Sexual intimacy can be very triggering for sur...</td>\n",
       "    </tr>\n",
       "    <tr>\n",
       "      <th>2701</th>\n",
       "      <td>I'm fine when we start becoming intimate, but ...</td>\n",
       "      <td>Have you sought the support of a therapist rea...</td>\n",
       "    </tr>\n",
       "    <tr>\n",
       "      <th>2709</th>\n",
       "      <td>I'm fine when we start becoming intimate, but ...</td>\n",
       "      <td>Sexual intimacy can be very triggering for su...</td>\n",
       "    </tr>\n",
       "  </tbody>\n",
       "</table>\n",
       "</div>"
      ],
      "text/plain": [
       "                                                context  \\\n",
       "999   I'm fine when we start becoming intimate, but ...   \n",
       "1000  I'm fine when we start becoming intimate, but ...   \n",
       "2701  I'm fine when we start becoming intimate, but ...   \n",
       "2709  I'm fine when we start becoming intimate, but ...   \n",
       "\n",
       "                                               response  \n",
       "999   Have you sought the support of a therapist rea...  \n",
       "1000  Sexual intimacy can be very triggering for sur...  \n",
       "2701  Have you sought the support of a therapist rea...  \n",
       "2709   Sexual intimacy can be very triggering for su...  "
      ]
     },
     "execution_count": 14,
     "metadata": {},
     "output_type": "execute_result"
    }
   ],
   "source": [
    "responses_example"
   ]
  },
  {
   "cell_type": "markdown",
   "metadata": {},
   "source": [
    "### Removing duplicates and zero entries"
   ]
  },
  {
   "cell_type": "code",
   "execution_count": 15,
   "metadata": {},
   "outputs": [],
   "source": [
    "conversation_dataset.dropna(subset=['response'], inplace=True)\n",
    "conversation_dataset.drop_duplicates(subset=['response'], inplace=True)\n",
    "conversation_dataset.reset_index(drop=True, inplace=True)"
   ]
  },
  {
   "cell_type": "code",
   "execution_count": 16,
   "metadata": {},
   "outputs": [
    {
     "data": {
      "text/plain": [
       "2479"
      ]
     },
     "execution_count": 16,
     "metadata": {},
     "output_type": "execute_result"
    }
   ],
   "source": [
    "len(conversation_dataset)"
   ]
  },
  {
   "cell_type": "code",
   "execution_count": 17,
   "metadata": {},
   "outputs": [
    {
     "data": {
      "text/plain": [
       "context     0\n",
       "response    0\n",
       "dtype: int64"
      ]
     },
     "execution_count": 17,
     "metadata": {},
     "output_type": "execute_result"
    }
   ],
   "source": [
    "conversation_dataset.isna().sum()"
   ]
  },
  {
   "cell_type": "code",
   "execution_count": 18,
   "metadata": {},
   "outputs": [
    {
     "name": "stdout",
     "output_type": "stream",
     "text": [
      "I'm in a state of depression right now. Who can I talk to? I've been sick in a lot of pain and crying. Don't know where to turn.\n"
     ]
    }
   ],
   "source": [
    "context_example=conversation_dataset.loc[328]['context']\n",
    "\n",
    "responses_example=conversation_dataset[conversation_dataset['context']==context_example]\n",
    "\n",
    "print(context_example)\n"
   ]
  },
  {
   "cell_type": "code",
   "execution_count": 19,
   "metadata": {},
   "outputs": [
    {
     "data": {
      "text/html": [
       "<div>\n",
       "<style scoped>\n",
       "    .dataframe tbody tr th:only-of-type {\n",
       "        vertical-align: middle;\n",
       "    }\n",
       "\n",
       "    .dataframe tbody tr th {\n",
       "        vertical-align: top;\n",
       "    }\n",
       "\n",
       "    .dataframe thead th {\n",
       "        text-align: right;\n",
       "    }\n",
       "</style>\n",
       "<table border=\"1\" class=\"dataframe\">\n",
       "  <thead>\n",
       "    <tr style=\"text-align: right;\">\n",
       "      <th></th>\n",
       "      <th>context</th>\n",
       "      <th>response</th>\n",
       "    </tr>\n",
       "  </thead>\n",
       "  <tbody>\n",
       "    <tr>\n",
       "      <th>328</th>\n",
       "      <td>I'm in a state of depression right now. Who ca...</td>\n",
       "      <td>First of all, if you’re sick and in pain, have...</td>\n",
       "    </tr>\n",
       "    <tr>\n",
       "      <th>2025</th>\n",
       "      <td>I'm in a state of depression right now. Who ca...</td>\n",
       "      <td>First of all, if you’re sick and in pain, have...</td>\n",
       "    </tr>\n",
       "  </tbody>\n",
       "</table>\n",
       "</div>"
      ],
      "text/plain": [
       "                                                context  \\\n",
       "328   I'm in a state of depression right now. Who ca...   \n",
       "2025  I'm in a state of depression right now. Who ca...   \n",
       "\n",
       "                                               response  \n",
       "328   First of all, if you’re sick and in pain, have...  \n",
       "2025  First of all, if you’re sick and in pain, have...  "
      ]
     },
     "execution_count": 19,
     "metadata": {},
     "output_type": "execute_result"
    }
   ],
   "source": [
    "responses_example"
   ]
  },
  {
   "cell_type": "code",
   "execution_count": 20,
   "metadata": {},
   "outputs": [
    {
     "data": {
      "text/html": [
       "<div>\n",
       "<style scoped>\n",
       "    .dataframe tbody tr th:only-of-type {\n",
       "        vertical-align: middle;\n",
       "    }\n",
       "\n",
       "    .dataframe tbody tr th {\n",
       "        vertical-align: top;\n",
       "    }\n",
       "\n",
       "    .dataframe thead th {\n",
       "        text-align: right;\n",
       "    }\n",
       "</style>\n",
       "<table border=\"1\" class=\"dataframe\">\n",
       "  <thead>\n",
       "    <tr style=\"text-align: right;\">\n",
       "      <th></th>\n",
       "      <th>context</th>\n",
       "      <th>response</th>\n",
       "    </tr>\n",
       "  </thead>\n",
       "  <tbody>\n",
       "    <tr>\n",
       "      <th>count</th>\n",
       "      <td>2479</td>\n",
       "      <td>2479</td>\n",
       "    </tr>\n",
       "    <tr>\n",
       "      <th>unique</th>\n",
       "      <td>912</td>\n",
       "      <td>2479</td>\n",
       "    </tr>\n",
       "    <tr>\n",
       "      <th>top</th>\n",
       "      <td>I have so many issues to address. I have a his...</td>\n",
       "      <td>If everyone thinks you're worthless, then mayb...</td>\n",
       "    </tr>\n",
       "    <tr>\n",
       "      <th>freq</th>\n",
       "      <td>47</td>\n",
       "      <td>1</td>\n",
       "    </tr>\n",
       "  </tbody>\n",
       "</table>\n",
       "</div>"
      ],
      "text/plain": [
       "                                                  context  \\\n",
       "count                                                2479   \n",
       "unique                                                912   \n",
       "top     I have so many issues to address. I have a his...   \n",
       "freq                                                   47   \n",
       "\n",
       "                                                 response  \n",
       "count                                                2479  \n",
       "unique                                               2479  \n",
       "top     If everyone thinks you're worthless, then mayb...  \n",
       "freq                                                    1  "
      ]
     },
     "execution_count": 20,
     "metadata": {},
     "output_type": "execute_result"
    }
   ],
   "source": [
    "conversation_dataset.describe()"
   ]
  },
  {
   "cell_type": "code",
   "execution_count": 21,
   "metadata": {},
   "outputs": [
    {
     "name": "stdout",
     "output_type": "stream",
     "text": [
      "I'm fine when we start becoming intimate, but out of nowhere, I will get a flashback of what happened to me in the past. I start hysterically crying and freaking out when my boyfriend obviously has done nothing to hurt me.\n"
     ]
    }
   ],
   "source": [
    "context_example=conversation_dataset.loc[1000]['context']\n",
    "\n",
    "responses_example=conversation_dataset[conversation_dataset['context']==context_example]\n",
    "\n",
    "print(context_example)"
   ]
  },
  {
   "cell_type": "code",
   "execution_count": 22,
   "metadata": {},
   "outputs": [
    {
     "data": {
      "text/html": [
       "<div>\n",
       "<style scoped>\n",
       "    .dataframe tbody tr th:only-of-type {\n",
       "        vertical-align: middle;\n",
       "    }\n",
       "\n",
       "    .dataframe tbody tr th {\n",
       "        vertical-align: top;\n",
       "    }\n",
       "\n",
       "    .dataframe thead th {\n",
       "        text-align: right;\n",
       "    }\n",
       "</style>\n",
       "<table border=\"1\" class=\"dataframe\">\n",
       "  <thead>\n",
       "    <tr style=\"text-align: right;\">\n",
       "      <th></th>\n",
       "      <th>context</th>\n",
       "      <th>response</th>\n",
       "    </tr>\n",
       "  </thead>\n",
       "  <tbody>\n",
       "    <tr>\n",
       "      <th>999</th>\n",
       "      <td>I'm fine when we start becoming intimate, but ...</td>\n",
       "      <td>Have you sought the support of a therapist rea...</td>\n",
       "    </tr>\n",
       "    <tr>\n",
       "      <th>1000</th>\n",
       "      <td>I'm fine when we start becoming intimate, but ...</td>\n",
       "      <td>Sexual intimacy can be very triggering for sur...</td>\n",
       "    </tr>\n",
       "    <tr>\n",
       "      <th>2221</th>\n",
       "      <td>I'm fine when we start becoming intimate, but ...</td>\n",
       "      <td>Have you sought the support of a therapist rea...</td>\n",
       "    </tr>\n",
       "    <tr>\n",
       "      <th>2226</th>\n",
       "      <td>I'm fine when we start becoming intimate, but ...</td>\n",
       "      <td>Sexual intimacy can be very triggering for su...</td>\n",
       "    </tr>\n",
       "  </tbody>\n",
       "</table>\n",
       "</div>"
      ],
      "text/plain": [
       "                                                context  \\\n",
       "999   I'm fine when we start becoming intimate, but ...   \n",
       "1000  I'm fine when we start becoming intimate, but ...   \n",
       "2221  I'm fine when we start becoming intimate, but ...   \n",
       "2226  I'm fine when we start becoming intimate, but ...   \n",
       "\n",
       "                                               response  \n",
       "999   Have you sought the support of a therapist rea...  \n",
       "1000  Sexual intimacy can be very triggering for sur...  \n",
       "2221  Have you sought the support of a therapist rea...  \n",
       "2226   Sexual intimacy can be very triggering for su...  "
      ]
     },
     "execution_count": 22,
     "metadata": {},
     "output_type": "execute_result"
    }
   ],
   "source": [
    "responses_example"
   ]
  },
  {
   "cell_type": "code",
   "execution_count": 23,
   "metadata": {},
   "outputs": [
    {
     "data": {
      "text/plain": [
       "False"
      ]
     },
     "execution_count": 23,
     "metadata": {},
     "output_type": "execute_result"
    }
   ],
   "source": [
    "conversation_dataset.loc[1000]['response']==conversation_dataset.loc[2226]['response']"
   ]
  },
  {
   "cell_type": "code",
   "execution_count": 24,
   "metadata": {},
   "outputs": [
    {
     "name": "stdout",
     "output_type": "stream",
     "text": [
      "Sexual intimacy can be very triggering for survivors even when it is both wanted and consensual.  You may want to consider seeing a therapist who specializes in trauma to work through the abuse if you have not already done so. Often times triggers still hold such a powerful effect when the emotions related to the abuse  have not been fully processed.  In the meantime, you may want to consider coming up with a Safe Word to let your partner know that you are being triggered or to communicate your physical boundaries to him.  Often times, the experience of communicating  your physical boundaries to your partner, having those boundaries respected and validated, and having a partner who is understanding and  willing to engage in intimacy in such a way that does not violate your physical boundaries  can reinforce a sense of safety with him.\n",
      " Sexual intimacy can be very triggering for survivors even when it is both wanted and consensual.  You may want to consider seeing a therapist who specializes in trauma to work through the abuse if you have not already done so. Often times triggers still hold such a powerful effect when the emotions related to the abuse  have not been fully processed.  In the meantime, you may want to consider coming up with a Safe Word to let your partner know that you are being triggered or to communicate your physical boundaries to him.  Often times, the experience of communicating  your physical boundaries to your partner, having those boundaries respected and validated, and having a partner who is understanding and  willing to engage in intimacy in such a way that does not violate your physical boundaries  can reinforce a sense of safety with him. \n",
      "First of all, if you’re sick and in pain, have you seen your doctor? If you have a chronic illness and pain, this can often lead to depression and is very common. You’ve taken the first step to dealing with it. You can talk to your doctor, even if your depression isn’t related to your health. He or she can either look at prescribing you an antidepressant or can refer you to a psychologist or psychiatrist.If that’s not really an option for you, there are also helplines (local or national) or support groups where people dealing with similar issues can talk to each other. If you can't find any in your area (newspapers usually publish this information), there are online support groups as well.\n",
      "First of all, if you’re sick and in pain, have you seen your doctor? If you have a chronic illness and pain, this can often lead to depression and is very common. You’ve taken the first step to dealing with it. You can talk to your doctor, even if your depression isn’t related to your health. He or she can either look at prescribing you an antidepressant or can refer you to a psychologist or psychiatrist.If that’s not really an option for you, there are also helplines (local or national) or support groups where people dealing with similar issues can talk to each other. If you can't find any in your area (newspapers usually publish this information), there are online support groups as well. \n",
      "False\n"
     ]
    }
   ],
   "source": [
    "print(conversation_dataset.loc[1000]['response'])\n",
    "print(conversation_dataset.loc[2226]['response'])\n",
    "\n",
    "print(conversation_dataset.loc[328]['response'])\n",
    "print(conversation_dataset.loc[2025]['response'])\n",
    "\n",
    "print(conversation_dataset.loc[328]['response']==conversation_dataset.loc[2025]['response'])"
   ]
  },
  {
   "cell_type": "code",
   "execution_count": 25,
   "metadata": {},
   "outputs": [
    {
     "name": "stdout",
     "output_type": "stream",
     "text": [
      "Positions where responses differ:\n",
      "[]\n",
      "Lengths of response1 and response2: 698 699\n"
     ]
    }
   ],
   "source": [
    "response1 = conversation_dataset.loc[328]['response']\n",
    "response2 = conversation_dataset.loc[2025]['response']\n",
    "\n",
    "# Find the minimum length of the two responses\n",
    "min_length = min(len(response1), len(response2))\n",
    "\n",
    "# Iterate through each character and find the positions where they differ\n",
    "differences = []\n",
    "for i in range(min_length):\n",
    "    if response1[i] != response2[i]:\n",
    "        differences.append(i)\n",
    "\n",
    "# Print the positions where the responses differ\n",
    "print(\"Positions where responses differ:\")\n",
    "print(differences)\n",
    "print('Lengths of response1 and response2:', len(response1), len(response2))"
   ]
  },
  {
   "cell_type": "code",
   "execution_count": 26,
   "metadata": {},
   "outputs": [
    {
     "name": "stdout",
     "output_type": "stream",
     "text": [
      "True\n"
     ]
    }
   ],
   "source": [
    "print(response1.strip()==response2.strip())"
   ]
  },
  {
   "cell_type": "markdown",
   "metadata": {},
   "source": [
    "So there is duplicate entries, but they differ in heading or trailing spaces.\n",
    "Let's fix this, and remove duplicates once more."
   ]
  },
  {
   "cell_type": "code",
   "execution_count": 27,
   "metadata": {},
   "outputs": [],
   "source": [
    "conversation_dataset['response']=conversation_dataset['response'].apply(lambda x: x.strip())"
   ]
  },
  {
   "cell_type": "code",
   "execution_count": 28,
   "metadata": {},
   "outputs": [
    {
     "data": {
      "text/html": [
       "<div>\n",
       "<style scoped>\n",
       "    .dataframe tbody tr th:only-of-type {\n",
       "        vertical-align: middle;\n",
       "    }\n",
       "\n",
       "    .dataframe tbody tr th {\n",
       "        vertical-align: top;\n",
       "    }\n",
       "\n",
       "    .dataframe thead th {\n",
       "        text-align: right;\n",
       "    }\n",
       "</style>\n",
       "<table border=\"1\" class=\"dataframe\">\n",
       "  <thead>\n",
       "    <tr style=\"text-align: right;\">\n",
       "      <th></th>\n",
       "      <th>context</th>\n",
       "      <th>response</th>\n",
       "    </tr>\n",
       "  </thead>\n",
       "  <tbody>\n",
       "    <tr>\n",
       "      <th>count</th>\n",
       "      <td>2479</td>\n",
       "      <td>2479</td>\n",
       "    </tr>\n",
       "    <tr>\n",
       "      <th>unique</th>\n",
       "      <td>912</td>\n",
       "      <td>2075</td>\n",
       "    </tr>\n",
       "    <tr>\n",
       "      <th>top</th>\n",
       "      <td>I have so many issues to address. I have a his...</td>\n",
       "      <td>This can be a very complicated situation. The ...</td>\n",
       "    </tr>\n",
       "    <tr>\n",
       "      <th>freq</th>\n",
       "      <td>47</td>\n",
       "      <td>2</td>\n",
       "    </tr>\n",
       "  </tbody>\n",
       "</table>\n",
       "</div>"
      ],
      "text/plain": [
       "                                                  context  \\\n",
       "count                                                2479   \n",
       "unique                                                912   \n",
       "top     I have so many issues to address. I have a his...   \n",
       "freq                                                   47   \n",
       "\n",
       "                                                 response  \n",
       "count                                                2479  \n",
       "unique                                               2075  \n",
       "top     This can be a very complicated situation. The ...  \n",
       "freq                                                    2  "
      ]
     },
     "execution_count": 28,
     "metadata": {},
     "output_type": "execute_result"
    }
   ],
   "source": [
    "conversation_dataset.describe()"
   ]
  },
  {
   "cell_type": "code",
   "execution_count": 29,
   "metadata": {},
   "outputs": [],
   "source": [
    "conversation_dataset.drop_duplicates(subset=['response'], inplace=True)\n",
    "conversation_dataset.reset_index(drop=True, inplace=True)"
   ]
  },
  {
   "cell_type": "code",
   "execution_count": 30,
   "metadata": {},
   "outputs": [
    {
     "data": {
      "text/html": [
       "<div>\n",
       "<style scoped>\n",
       "    .dataframe tbody tr th:only-of-type {\n",
       "        vertical-align: middle;\n",
       "    }\n",
       "\n",
       "    .dataframe tbody tr th {\n",
       "        vertical-align: top;\n",
       "    }\n",
       "\n",
       "    .dataframe thead th {\n",
       "        text-align: right;\n",
       "    }\n",
       "</style>\n",
       "<table border=\"1\" class=\"dataframe\">\n",
       "  <thead>\n",
       "    <tr style=\"text-align: right;\">\n",
       "      <th></th>\n",
       "      <th>context</th>\n",
       "      <th>response</th>\n",
       "    </tr>\n",
       "  </thead>\n",
       "  <tbody>\n",
       "    <tr>\n",
       "      <th>count</th>\n",
       "      <td>2075</td>\n",
       "      <td>2075</td>\n",
       "    </tr>\n",
       "    <tr>\n",
       "      <th>unique</th>\n",
       "      <td>847</td>\n",
       "      <td>2075</td>\n",
       "    </tr>\n",
       "    <tr>\n",
       "      <th>top</th>\n",
       "      <td>I have so many issues to address. I have a his...</td>\n",
       "      <td>If everyone thinks you're worthless, then mayb...</td>\n",
       "    </tr>\n",
       "    <tr>\n",
       "      <th>freq</th>\n",
       "      <td>47</td>\n",
       "      <td>1</td>\n",
       "    </tr>\n",
       "  </tbody>\n",
       "</table>\n",
       "</div>"
      ],
      "text/plain": [
       "                                                  context  \\\n",
       "count                                                2075   \n",
       "unique                                                847   \n",
       "top     I have so many issues to address. I have a his...   \n",
       "freq                                                   47   \n",
       "\n",
       "                                                 response  \n",
       "count                                                2075  \n",
       "unique                                               2075  \n",
       "top     If everyone thinks you're worthless, then mayb...  \n",
       "freq                                                    1  "
      ]
     },
     "execution_count": 30,
     "metadata": {},
     "output_type": "execute_result"
    }
   ],
   "source": [
    "conversation_dataset.describe()"
   ]
  },
  {
   "cell_type": "code",
   "execution_count": 31,
   "metadata": {},
   "outputs": [
    {
     "name": "stdout",
     "output_type": "stream",
     "text": [
      "I'm fine when we start becoming intimate, but out of nowhere, I will get a flashback of what happened to me in the past. I start hysterically crying and freaking out when my boyfriend obviously has done nothing to hurt me.\n"
     ]
    }
   ],
   "source": [
    "# Test once more\n",
    "context_example=conversation_dataset.loc[1000]['context']\n",
    "\n",
    "responses_example=conversation_dataset[conversation_dataset['context']==context_example]\n",
    "\n",
    "print(context_example)"
   ]
  },
  {
   "cell_type": "code",
   "execution_count": 32,
   "metadata": {},
   "outputs": [
    {
     "data": {
      "text/html": [
       "<div>\n",
       "<style scoped>\n",
       "    .dataframe tbody tr th:only-of-type {\n",
       "        vertical-align: middle;\n",
       "    }\n",
       "\n",
       "    .dataframe tbody tr th {\n",
       "        vertical-align: top;\n",
       "    }\n",
       "\n",
       "    .dataframe thead th {\n",
       "        text-align: right;\n",
       "    }\n",
       "</style>\n",
       "<table border=\"1\" class=\"dataframe\">\n",
       "  <thead>\n",
       "    <tr style=\"text-align: right;\">\n",
       "      <th></th>\n",
       "      <th>context</th>\n",
       "      <th>response</th>\n",
       "    </tr>\n",
       "  </thead>\n",
       "  <tbody>\n",
       "    <tr>\n",
       "      <th>999</th>\n",
       "      <td>I'm fine when we start becoming intimate, but ...</td>\n",
       "      <td>Have you sought the support of a therapist rea...</td>\n",
       "    </tr>\n",
       "    <tr>\n",
       "      <th>1000</th>\n",
       "      <td>I'm fine when we start becoming intimate, but ...</td>\n",
       "      <td>Sexual intimacy can be very triggering for sur...</td>\n",
       "    </tr>\n",
       "  </tbody>\n",
       "</table>\n",
       "</div>"
      ],
      "text/plain": [
       "                                                context  \\\n",
       "999   I'm fine when we start becoming intimate, but ...   \n",
       "1000  I'm fine when we start becoming intimate, but ...   \n",
       "\n",
       "                                               response  \n",
       "999   Have you sought the support of a therapist rea...  \n",
       "1000  Sexual intimacy can be very triggering for sur...  "
      ]
     },
     "execution_count": 32,
     "metadata": {},
     "output_type": "execute_result"
    }
   ],
   "source": [
    "responses_example"
   ]
  },
  {
   "cell_type": "markdown",
   "metadata": {},
   "source": [
    "### Errors in dataset\n",
    "\n",
    "Working with the dataset I found some irrelevant entries. So we should just delete them\n"
   ]
  },
  {
   "cell_type": "code",
   "execution_count": 33,
   "metadata": {},
   "outputs": [],
   "source": [
    "error_context=[\" such as not enough sleep\", \n",
    "\"Can a counselor take sides with one parent and allow a parent to order the child to tell the counselor\"]\n",
    "\n",
    "conversation_dataset=conversation_dataset[~conversation_dataset['context'].str.startswith(tuple(error_context))]\n"
   ]
  },
  {
   "cell_type": "code",
   "execution_count": 34,
   "metadata": {},
   "outputs": [
    {
     "data": {
      "text/html": [
       "<div>\n",
       "<style scoped>\n",
       "    .dataframe tbody tr th:only-of-type {\n",
       "        vertical-align: middle;\n",
       "    }\n",
       "\n",
       "    .dataframe tbody tr th {\n",
       "        vertical-align: top;\n",
       "    }\n",
       "\n",
       "    .dataframe thead th {\n",
       "        text-align: right;\n",
       "    }\n",
       "</style>\n",
       "<table border=\"1\" class=\"dataframe\">\n",
       "  <thead>\n",
       "    <tr style=\"text-align: right;\">\n",
       "      <th></th>\n",
       "      <th>context</th>\n",
       "      <th>response</th>\n",
       "    </tr>\n",
       "  </thead>\n",
       "  <tbody>\n",
       "    <tr>\n",
       "      <th>count</th>\n",
       "      <td>2072</td>\n",
       "      <td>2072</td>\n",
       "    </tr>\n",
       "    <tr>\n",
       "      <th>unique</th>\n",
       "      <td>845</td>\n",
       "      <td>2072</td>\n",
       "    </tr>\n",
       "    <tr>\n",
       "      <th>top</th>\n",
       "      <td>I have so many issues to address. I have a his...</td>\n",
       "      <td>If everyone thinks you're worthless, then mayb...</td>\n",
       "    </tr>\n",
       "    <tr>\n",
       "      <th>freq</th>\n",
       "      <td>47</td>\n",
       "      <td>1</td>\n",
       "    </tr>\n",
       "  </tbody>\n",
       "</table>\n",
       "</div>"
      ],
      "text/plain": [
       "                                                  context  \\\n",
       "count                                                2072   \n",
       "unique                                                845   \n",
       "top     I have so many issues to address. I have a his...   \n",
       "freq                                                   47   \n",
       "\n",
       "                                                 response  \n",
       "count                                                2072  \n",
       "unique                                               2072  \n",
       "top     If everyone thinks you're worthless, then mayb...  \n",
       "freq                                                    1  "
      ]
     },
     "execution_count": 34,
     "metadata": {},
     "output_type": "execute_result"
    }
   ],
   "source": [
    "conversation_dataset.describe()"
   ]
  },
  {
   "cell_type": "code",
   "execution_count": 35,
   "metadata": {},
   "outputs": [],
   "source": [
    "context_unique = conversation_dataset.groupby('context').size().reset_index(name='count')"
   ]
  },
  {
   "cell_type": "code",
   "execution_count": 36,
   "metadata": {},
   "outputs": [
    {
     "data": {
      "text/html": [
       "<div>\n",
       "<style scoped>\n",
       "    .dataframe tbody tr th:only-of-type {\n",
       "        vertical-align: middle;\n",
       "    }\n",
       "\n",
       "    .dataframe tbody tr th {\n",
       "        vertical-align: top;\n",
       "    }\n",
       "\n",
       "    .dataframe thead th {\n",
       "        text-align: right;\n",
       "    }\n",
       "</style>\n",
       "<table border=\"1\" class=\"dataframe\">\n",
       "  <thead>\n",
       "    <tr style=\"text-align: right;\">\n",
       "      <th></th>\n",
       "      <th>context</th>\n",
       "      <th>count</th>\n",
       "    </tr>\n",
       "  </thead>\n",
       "  <tbody>\n",
       "    <tr>\n",
       "      <th>286</th>\n",
       "      <td>I have so many issues to address. I have a his...</td>\n",
       "      <td>47</td>\n",
       "    </tr>\n",
       "    <tr>\n",
       "      <th>78</th>\n",
       "      <td>How do you know you have the right therapist f...</td>\n",
       "      <td>41</td>\n",
       "    </tr>\n",
       "    <tr>\n",
       "      <th>546</th>\n",
       "      <td>Is it normal for people to cry during therapy,...</td>\n",
       "      <td>38</td>\n",
       "    </tr>\n",
       "    <tr>\n",
       "      <th>524</th>\n",
       "      <td>I've gone to a couple therapy sessions so far ...</td>\n",
       "      <td>26</td>\n",
       "    </tr>\n",
       "    <tr>\n",
       "      <th>462</th>\n",
       "      <td>I'm going through some things with my feelings...</td>\n",
       "      <td>23</td>\n",
       "    </tr>\n",
       "    <tr>\n",
       "      <th>...</th>\n",
       "      <td>...</td>\n",
       "      <td>...</td>\n",
       "    </tr>\n",
       "    <tr>\n",
       "      <th>361</th>\n",
       "      <td>I stress over everything. If I don't have enou...</td>\n",
       "      <td>1</td>\n",
       "    </tr>\n",
       "    <tr>\n",
       "      <th>366</th>\n",
       "      <td>I think I have depression, anxiety, bipolar di...</td>\n",
       "      <td>1</td>\n",
       "    </tr>\n",
       "    <tr>\n",
       "      <th>369</th>\n",
       "      <td>I think adult life is making him depressed and...</td>\n",
       "      <td>1</td>\n",
       "    </tr>\n",
       "    <tr>\n",
       "      <th>370</th>\n",
       "      <td>I think i may suffer from depression, and it i...</td>\n",
       "      <td>1</td>\n",
       "    </tr>\n",
       "    <tr>\n",
       "      <th>844</th>\n",
       "      <td>i was addicted to porn since the second grade....</td>\n",
       "      <td>1</td>\n",
       "    </tr>\n",
       "  </tbody>\n",
       "</table>\n",
       "<p>845 rows × 2 columns</p>\n",
       "</div>"
      ],
      "text/plain": [
       "                                               context  count\n",
       "286  I have so many issues to address. I have a his...     47\n",
       "78   How do you know you have the right therapist f...     41\n",
       "546  Is it normal for people to cry during therapy,...     38\n",
       "524  I've gone to a couple therapy sessions so far ...     26\n",
       "462  I'm going through some things with my feelings...     23\n",
       "..                                                 ...    ...\n",
       "361  I stress over everything. If I don't have enou...      1\n",
       "366  I think I have depression, anxiety, bipolar di...      1\n",
       "369  I think adult life is making him depressed and...      1\n",
       "370  I think i may suffer from depression, and it i...      1\n",
       "844  i was addicted to porn since the second grade....      1\n",
       "\n",
       "[845 rows x 2 columns]"
      ]
     },
     "execution_count": 36,
     "metadata": {},
     "output_type": "execute_result"
    }
   ],
   "source": [
    "context_unique.sort_values('count',ascending=False)"
   ]
  },
  {
   "cell_type": "code",
   "execution_count": 37,
   "metadata": {},
   "outputs": [
    {
     "data": {
      "text/html": [
       "<div>\n",
       "<style scoped>\n",
       "    .dataframe tbody tr th:only-of-type {\n",
       "        vertical-align: middle;\n",
       "    }\n",
       "\n",
       "    .dataframe tbody tr th {\n",
       "        vertical-align: top;\n",
       "    }\n",
       "\n",
       "    .dataframe thead th {\n",
       "        text-align: right;\n",
       "    }\n",
       "</style>\n",
       "<table border=\"1\" class=\"dataframe\">\n",
       "  <thead>\n",
       "    <tr style=\"text-align: right;\">\n",
       "      <th></th>\n",
       "      <th>context</th>\n",
       "      <th>count</th>\n",
       "    </tr>\n",
       "  </thead>\n",
       "  <tbody>\n",
       "    <tr>\n",
       "      <th>286</th>\n",
       "      <td>I have so many issues to address. I have a his...</td>\n",
       "      <td>47</td>\n",
       "    </tr>\n",
       "    <tr>\n",
       "      <th>78</th>\n",
       "      <td>How do you know you have the right therapist f...</td>\n",
       "      <td>41</td>\n",
       "    </tr>\n",
       "    <tr>\n",
       "      <th>546</th>\n",
       "      <td>Is it normal for people to cry during therapy,...</td>\n",
       "      <td>38</td>\n",
       "    </tr>\n",
       "    <tr>\n",
       "      <th>524</th>\n",
       "      <td>I've gone to a couple therapy sessions so far ...</td>\n",
       "      <td>26</td>\n",
       "    </tr>\n",
       "    <tr>\n",
       "      <th>462</th>\n",
       "      <td>I'm going through some things with my feelings...</td>\n",
       "      <td>23</td>\n",
       "    </tr>\n",
       "    <tr>\n",
       "      <th>832</th>\n",
       "      <td>When my daughter is stressed about a silly thi...</td>\n",
       "      <td>23</td>\n",
       "    </tr>\n",
       "    <tr>\n",
       "      <th>80</th>\n",
       "      <td>How does a person start the counseling process?</td>\n",
       "      <td>22</td>\n",
       "    </tr>\n",
       "    <tr>\n",
       "      <th>31</th>\n",
       "      <td>Does counseling really do anything that can he...</td>\n",
       "      <td>21</td>\n",
       "    </tr>\n",
       "    <tr>\n",
       "      <th>79</th>\n",
       "      <td>How does a counselor decide when to end counse...</td>\n",
       "      <td>21</td>\n",
       "    </tr>\n",
       "    <tr>\n",
       "      <th>73</th>\n",
       "      <td>How do I decide if I should end my relationshi...</td>\n",
       "      <td>15</td>\n",
       "    </tr>\n",
       "    <tr>\n",
       "      <th>41</th>\n",
       "      <td>Every winter I find myself getting sad because...</td>\n",
       "      <td>15</td>\n",
       "    </tr>\n",
       "    <tr>\n",
       "      <th>699</th>\n",
       "      <td>My mother takes care of niece whom my sister a...</td>\n",
       "      <td>13</td>\n",
       "    </tr>\n",
       "    <tr>\n",
       "      <th>354</th>\n",
       "      <td>I start counseling/therapy in a few days (I'm ...</td>\n",
       "      <td>12</td>\n",
       "    </tr>\n",
       "    <tr>\n",
       "      <th>305</th>\n",
       "      <td>I just took a job that requires me to travel f...</td>\n",
       "      <td>11</td>\n",
       "    </tr>\n",
       "    <tr>\n",
       "      <th>311</th>\n",
       "      <td>I keep having these random thoughts that I don...</td>\n",
       "      <td>11</td>\n",
       "    </tr>\n",
       "    <tr>\n",
       "      <th>647</th>\n",
       "      <td>My fiancé and I have been together for 3 years...</td>\n",
       "      <td>11</td>\n",
       "    </tr>\n",
       "    <tr>\n",
       "      <th>827</th>\n",
       "      <td>When I'm in large crowds I get angry and I jus...</td>\n",
       "      <td>11</td>\n",
       "    </tr>\n",
       "    <tr>\n",
       "      <th>397</th>\n",
       "      <td>I was raped a couple months ago, Since then, a...</td>\n",
       "      <td>11</td>\n",
       "    </tr>\n",
       "    <tr>\n",
       "      <th>697</th>\n",
       "      <td>My mother has Alzheimer's and she has become s...</td>\n",
       "      <td>10</td>\n",
       "    </tr>\n",
       "    <tr>\n",
       "      <th>213</th>\n",
       "      <td>I have a friend that who I used to be in a rel...</td>\n",
       "      <td>10</td>\n",
       "    </tr>\n",
       "    <tr>\n",
       "      <th>485</th>\n",
       "      <td>I'm obsessing about a terrible breakup. Everyt...</td>\n",
       "      <td>9</td>\n",
       "    </tr>\n",
       "    <tr>\n",
       "      <th>817</th>\n",
       "      <td>What makes a healthy marriage last?</td>\n",
       "      <td>9</td>\n",
       "    </tr>\n",
       "    <tr>\n",
       "      <th>486</th>\n",
       "      <td>I'm planning to have baby, so I have to quit s...</td>\n",
       "      <td>9</td>\n",
       "    </tr>\n",
       "    <tr>\n",
       "      <th>568</th>\n",
       "      <td>I’ve been in a long distance relationship with...</td>\n",
       "      <td>9</td>\n",
       "    </tr>\n",
       "    <tr>\n",
       "      <th>154</th>\n",
       "      <td>I don't know what to say. I have never really ...</td>\n",
       "      <td>9</td>\n",
       "    </tr>\n",
       "    <tr>\n",
       "      <th>626</th>\n",
       "      <td>My daughter is in later elementary school. She...</td>\n",
       "      <td>9</td>\n",
       "    </tr>\n",
       "    <tr>\n",
       "      <th>563</th>\n",
       "      <td>I’m facing severe depression and anxiety and I...</td>\n",
       "      <td>9</td>\n",
       "    </tr>\n",
       "    <tr>\n",
       "      <th>16</th>\n",
       "      <td>After he got home from the hospital he was ang...</td>\n",
       "      <td>9</td>\n",
       "    </tr>\n",
       "    <tr>\n",
       "      <th>303</th>\n",
       "      <td>I just lost my grandpa and i'm having a rough ...</td>\n",
       "      <td>9</td>\n",
       "    </tr>\n",
       "    <tr>\n",
       "      <th>444</th>\n",
       "      <td>I'm being verbally abused on a daily basis by ...</td>\n",
       "      <td>9</td>\n",
       "    </tr>\n",
       "  </tbody>\n",
       "</table>\n",
       "</div>"
      ],
      "text/plain": [
       "                                               context  count\n",
       "286  I have so many issues to address. I have a his...     47\n",
       "78   How do you know you have the right therapist f...     41\n",
       "546  Is it normal for people to cry during therapy,...     38\n",
       "524  I've gone to a couple therapy sessions so far ...     26\n",
       "462  I'm going through some things with my feelings...     23\n",
       "832  When my daughter is stressed about a silly thi...     23\n",
       "80     How does a person start the counseling process?     22\n",
       "31   Does counseling really do anything that can he...     21\n",
       "79   How does a counselor decide when to end counse...     21\n",
       "73   How do I decide if I should end my relationshi...     15\n",
       "41   Every winter I find myself getting sad because...     15\n",
       "699  My mother takes care of niece whom my sister a...     13\n",
       "354  I start counseling/therapy in a few days (I'm ...     12\n",
       "305  I just took a job that requires me to travel f...     11\n",
       "311  I keep having these random thoughts that I don...     11\n",
       "647  My fiancé and I have been together for 3 years...     11\n",
       "827  When I'm in large crowds I get angry and I jus...     11\n",
       "397  I was raped a couple months ago, Since then, a...     11\n",
       "697  My mother has Alzheimer's and she has become s...     10\n",
       "213  I have a friend that who I used to be in a rel...     10\n",
       "485  I'm obsessing about a terrible breakup. Everyt...      9\n",
       "817                What makes a healthy marriage last?      9\n",
       "486  I'm planning to have baby, so I have to quit s...      9\n",
       "568  I’ve been in a long distance relationship with...      9\n",
       "154  I don't know what to say. I have never really ...      9\n",
       "626  My daughter is in later elementary school. She...      9\n",
       "563  I’m facing severe depression and anxiety and I...      9\n",
       "16   After he got home from the hospital he was ang...      9\n",
       "303  I just lost my grandpa and i'm having a rough ...      9\n",
       "444  I'm being verbally abused on a daily basis by ...      9"
      ]
     },
     "execution_count": 37,
     "metadata": {},
     "output_type": "execute_result"
    }
   ],
   "source": [
    "context_unique.sort_values('count',ascending=False).head(30)"
   ]
  },
  {
   "cell_type": "code",
   "execution_count": 38,
   "metadata": {},
   "outputs": [
    {
     "data": {
      "text/plain": [
       "count    845.000000\n",
       "mean       2.452071\n",
       "std        3.549132\n",
       "min        1.000000\n",
       "25%        1.000000\n",
       "50%        1.000000\n",
       "75%        2.000000\n",
       "max       47.000000\n",
       "Name: count, dtype: float64"
      ]
     },
     "execution_count": 38,
     "metadata": {},
     "output_type": "execute_result"
    }
   ],
   "source": [
    "context_unique['count'].describe()"
   ]
  },
  {
   "cell_type": "code",
   "execution_count": 39,
   "metadata": {},
   "outputs": [
    {
     "data": {
      "text/html": [
       "<div>\n",
       "<style scoped>\n",
       "    .dataframe tbody tr th:only-of-type {\n",
       "        vertical-align: middle;\n",
       "    }\n",
       "\n",
       "    .dataframe tbody tr th {\n",
       "        vertical-align: top;\n",
       "    }\n",
       "\n",
       "    .dataframe thead th {\n",
       "        text-align: right;\n",
       "    }\n",
       "</style>\n",
       "<table border=\"1\" class=\"dataframe\">\n",
       "  <thead>\n",
       "    <tr style=\"text-align: right;\">\n",
       "      <th></th>\n",
       "      <th>context</th>\n",
       "      <th>count</th>\n",
       "    </tr>\n",
       "  </thead>\n",
       "  <tbody>\n",
       "    <tr>\n",
       "      <th>0</th>\n",
       "      <td>A few nights ago I talked to this girl I know ...</td>\n",
       "      <td>1</td>\n",
       "    </tr>\n",
       "    <tr>\n",
       "      <th>2</th>\n",
       "      <td>A friend of mine taking psychology advised I g...</td>\n",
       "      <td>1</td>\n",
       "    </tr>\n",
       "    <tr>\n",
       "      <th>3</th>\n",
       "      <td>A girl and I were madly in love. We dated for ...</td>\n",
       "      <td>1</td>\n",
       "    </tr>\n",
       "    <tr>\n",
       "      <th>8</th>\n",
       "      <td>About a month ago, I went through my boyfriend...</td>\n",
       "      <td>1</td>\n",
       "    </tr>\n",
       "    <tr>\n",
       "      <th>13</th>\n",
       "      <td>After a domestic abuse situation, I went to a ...</td>\n",
       "      <td>1</td>\n",
       "    </tr>\n",
       "    <tr>\n",
       "      <th>...</th>\n",
       "      <td>...</td>\n",
       "      <td>...</td>\n",
       "    </tr>\n",
       "    <tr>\n",
       "      <th>830</th>\n",
       "      <td>When having sex I think of other men and want ...</td>\n",
       "      <td>1</td>\n",
       "    </tr>\n",
       "    <tr>\n",
       "      <th>837</th>\n",
       "      <td>Whenever I leave my girlfriend I get panic att...</td>\n",
       "      <td>1</td>\n",
       "    </tr>\n",
       "    <tr>\n",
       "      <th>839</th>\n",
       "      <td>Whenever I sing along with a song that I like ...</td>\n",
       "      <td>1</td>\n",
       "    </tr>\n",
       "    <tr>\n",
       "      <th>841</th>\n",
       "      <td>Why am I attracted to older men?</td>\n",
       "      <td>1</td>\n",
       "    </tr>\n",
       "    <tr>\n",
       "      <th>844</th>\n",
       "      <td>i was addicted to porn since the second grade....</td>\n",
       "      <td>1</td>\n",
       "    </tr>\n",
       "  </tbody>\n",
       "</table>\n",
       "<p>452 rows × 2 columns</p>\n",
       "</div>"
      ],
      "text/plain": [
       "                                               context  count\n",
       "0    A few nights ago I talked to this girl I know ...      1\n",
       "2    A friend of mine taking psychology advised I g...      1\n",
       "3    A girl and I were madly in love. We dated for ...      1\n",
       "8    About a month ago, I went through my boyfriend...      1\n",
       "13   After a domestic abuse situation, I went to a ...      1\n",
       "..                                                 ...    ...\n",
       "830  When having sex I think of other men and want ...      1\n",
       "837  Whenever I leave my girlfriend I get panic att...      1\n",
       "839  Whenever I sing along with a song that I like ...      1\n",
       "841                   Why am I attracted to older men?      1\n",
       "844  i was addicted to porn since the second grade....      1\n",
       "\n",
       "[452 rows x 2 columns]"
      ]
     },
     "execution_count": 39,
     "metadata": {},
     "output_type": "execute_result"
    }
   ],
   "source": [
    "context_unique[context_unique['count']==1]"
   ]
  },
  {
   "cell_type": "code",
   "execution_count": 40,
   "metadata": {},
   "outputs": [
    {
     "data": {
      "text/plain": [
       "count\n",
       "1     452\n",
       "2     184\n",
       "3      74\n",
       "4      43\n",
       "5      25\n",
       "6      18\n",
       "9      12\n",
       "7      11\n",
       "8       6\n",
       "11      5\n",
       "23      2\n",
       "21      2\n",
       "15      2\n",
       "10      2\n",
       "38      1\n",
       "26      1\n",
       "41      1\n",
       "12      1\n",
       "47      1\n",
       "22      1\n",
       "13      1\n",
       "Name: count, dtype: int64"
      ]
     },
     "execution_count": 40,
     "metadata": {},
     "output_type": "execute_result"
    }
   ],
   "source": [
    "count_distribution = context_unique['count'].value_counts()\n",
    "\n",
    "count_distribution"
   ]
  },
  {
   "cell_type": "code",
   "execution_count": 41,
   "metadata": {},
   "outputs": [],
   "source": [
    "CONTEXT_UNIQUE_FILENAME='dataset/context_unique.csv'\n",
    "\n",
    "context_unique.to_csv(CONTEXT_UNIQUE_FILENAME)"
   ]
  },
  {
   "cell_type": "code",
   "execution_count": 42,
   "metadata": {},
   "outputs": [
    {
     "data": {
      "text/html": [
       "<div>\n",
       "<style scoped>\n",
       "    .dataframe tbody tr th:only-of-type {\n",
       "        vertical-align: middle;\n",
       "    }\n",
       "\n",
       "    .dataframe tbody tr th {\n",
       "        vertical-align: top;\n",
       "    }\n",
       "\n",
       "    .dataframe thead th {\n",
       "        text-align: right;\n",
       "    }\n",
       "</style>\n",
       "<table border=\"1\" class=\"dataframe\">\n",
       "  <thead>\n",
       "    <tr style=\"text-align: right;\">\n",
       "      <th></th>\n",
       "      <th>context</th>\n",
       "      <th>response</th>\n",
       "    </tr>\n",
       "  </thead>\n",
       "  <tbody>\n",
       "    <tr>\n",
       "      <th>count</th>\n",
       "      <td>2072</td>\n",
       "      <td>2072</td>\n",
       "    </tr>\n",
       "    <tr>\n",
       "      <th>unique</th>\n",
       "      <td>845</td>\n",
       "      <td>2072</td>\n",
       "    </tr>\n",
       "    <tr>\n",
       "      <th>top</th>\n",
       "      <td>I have so many issues to address. I have a his...</td>\n",
       "      <td>If everyone thinks you're worthless, then mayb...</td>\n",
       "    </tr>\n",
       "    <tr>\n",
       "      <th>freq</th>\n",
       "      <td>47</td>\n",
       "      <td>1</td>\n",
       "    </tr>\n",
       "  </tbody>\n",
       "</table>\n",
       "</div>"
      ],
      "text/plain": [
       "                                                  context  \\\n",
       "count                                                2072   \n",
       "unique                                                845   \n",
       "top     I have so many issues to address. I have a his...   \n",
       "freq                                                   47   \n",
       "\n",
       "                                                 response  \n",
       "count                                                2072  \n",
       "unique                                               2072  \n",
       "top     If everyone thinks you're worthless, then mayb...  \n",
       "freq                                                    1  "
      ]
     },
     "execution_count": 42,
     "metadata": {},
     "output_type": "execute_result"
    }
   ],
   "source": [
    "conversation_dataset.describe()"
   ]
  },
  {
   "cell_type": "markdown",
   "metadata": {},
   "source": [
    "### Data is cleaned and ready for simulation\n",
    "\n",
    "So we have 845 unique requests, with a mean of 2.45 responses for each, and 452 having one response, and max of 47 responses, but only 10 requests have more then 10 responses.\n",
    "\n",
    "### Conclusions\n",
    "\n",
    "**Maybe for simulation we should use only requests with 2 or more responses, so we have some variety in approved responses to compare with. If we take request with 2 or more we will have 393 requests, if we take with 3 or more - 209 requests. 209 may be enough for our simulation. And having only one response will make it possible for incorrect scoring of ChatGPT output. Because mental issues is delicate matter, so several different responses may serve well for specific case.**\n"
   ]
  },
  {
   "cell_type": "markdown",
   "metadata": {},
   "source": [
    "## ChatGPT"
   ]
  },
  {
   "cell_type": "markdown",
   "metadata": {},
   "source": [
    "We follow the standard way of using OpenAI API for reaching ChatGPT\n",
    "The below code uses ```.env``` file in this directory, which is not included to the repository.\n",
    "```.env```  which must contain:\n",
    "```\n",
    "OPENAI_API_KEY=...\n",
    "```\n",
    "This API key to be used to interact with OpenAI API\n",
    "\n",
    "If you want to use this code, you must [get your own API key from OpenAI](https://platform.openai.com/api-keys)\n",
    "\n",
    "Moreover you will need to make a payment to your ChatGPT account, to be able to use it.\n",
    "\n",
    "This code is based on the [course by DeepLearning.AI](https://learn.deeplearning.ai/courses/langchain/lesson/2/models%2C-prompts-and-parsers)"
   ]
  },
  {
   "cell_type": "code",
   "execution_count": 43,
   "metadata": {},
   "outputs": [],
   "source": [
    "# !pip install python-dotenv\n",
    "# !pip install openai"
   ]
  },
  {
   "cell_type": "code",
   "execution_count": 44,
   "metadata": {},
   "outputs": [],
   "source": [
    "import os\n",
    "import openai\n",
    "\n",
    "from dotenv import load_dotenv, find_dotenv\n",
    "_ = load_dotenv(find_dotenv()) # read local .env file"
   ]
  },
  {
   "cell_type": "code",
   "execution_count": null,
   "metadata": {},
   "outputs": [],
   "source": []
  },
  {
   "cell_type": "code",
   "execution_count": 45,
   "metadata": {},
   "outputs": [],
   "source": [
    "GPT_MODEL='gpt-3.5-turbo'   \n",
    "#\n",
    "# Pricing\n",
    "# Model\tInput\tOutput\n",
    "# gpt-3.5-turbo-0125\t$0.0005 / 1K tokens\t$0.0015 / 1K tokens\n",
    "#\n",
    "# Updated GPT 3.5 Turbo\n",
    "# The latest GPT-3.5 Turbo model with higher accuracy at responding in requested formats \n",
    "# and a fix for a bug which caused a text encoding issue for non-English language function calls. \n",
    "# Returns a maximum of 4,096 output tokens.\n",
    "#"
   ]
  },
  {
   "cell_type": "code",
   "execution_count": 46,
   "metadata": {},
   "outputs": [],
   "source": [
    "client = openai.OpenAI(\n",
    "\n",
    "    api_key=os.environ.get(\"OPENAI_API_KEY\"),\n",
    ")"
   ]
  },
  {
   "cell_type": "code",
   "execution_count": null,
   "metadata": {},
   "outputs": [],
   "source": []
  },
  {
   "cell_type": "code",
   "execution_count": 47,
   "metadata": {},
   "outputs": [
    {
     "name": "stdout",
     "output_type": "stream",
     "text": [
      "Hello! How can I assist you today?\n"
     ]
    }
   ],
   "source": [
    "chat_completion = client.chat.completions.create(\n",
    "    messages=[\n",
    "        {\n",
    "            \"role\": \"user\",\n",
    "            \"content\": \"Hello, this is a test\",\n",
    "        }\n",
    "    ],\n",
    "    model=GPT_MODEL,\n",
    ")\n",
    "\n",
    "print(chat_completion.choices[0].message.content)\n"
   ]
  },
  {
   "cell_type": "code",
   "execution_count": null,
   "metadata": {},
   "outputs": [],
   "source": []
  },
  {
   "cell_type": "code",
   "execution_count": 48,
   "metadata": {},
   "outputs": [],
   "source": [
    "import random\n",
    "\n",
    "TEMPERATURE = 0.6 # default temperature for ChatGPT. Web ChatGPT uses 0.6 all the time. varies from 0 (same answers, no randomness) to 1 (much variety, much random)\n",
    "\n",
    "# Our randomness constants:\n",
    "\n",
    "USE_STARTUP_DIALOG = 0.25\n",
    "\n",
    "# if we use startup dialog, we may have up to 4 preceding phrases.\n",
    "\n",
    "DIALOG_LENGTH_WEIGHTS=[0.35,0.3,0.2,0.15]  # So len 1 will occur more frequently, len 4 - much less\n",
    "DIALOG_LENGTH_OPTIONS=[2,4,6,8]\n",
    "\n",
    "starting_messages = [\n",
    "[\n",
    "    {'role': 'user', 'content': \"Hi\"},\n",
    "    {'role': 'assistant', 'content': \"Hello! How can I assist you today?\"},\n",
    "    {'role': 'user', 'content': \"Yes! How are you?\"},\n",
    "    {'role': 'assistant', 'content': \"As an AI, I don't have feelings or emotions, but I'm here and ready to assist you with any questions or tasks you have. How can I help you today?\"},\n",
    "    {'role': 'user', 'content': \"What do you do\"},\n",
    "    {'role': 'assistant', 'content': \"I'm here to help with a wide range of tasks! You can ask me questions, seek information on various topics, brainstorm ideas, get assistance with writing or editing, play text-based games, generate creative content, and much more. Just let me know what you need help with, and I'll do my best to assist you!\"},\n",
    "    {'role': 'user', 'content': 'Yes'},\n",
    "    {'role': 'assistant', 'content': \"Great! If you have any specific questions or need assistance with something, feel free to ask. I'm here to help!\"},\n",
    "],\n",
    "[\n",
    "    {'role': 'user', 'content': \"Hello!\"},\n",
    "    {'role': 'assistant', 'content': \"Hello! How can I assist you today?\"},\n",
    "    {'role': 'user', 'content': \"I don't know\"},\n",
    "    {'role': 'assistant', 'content': \"That's perfectly fine! If you have any questions, need advice, want to discuss a topic, or just want to chat, feel free to let me know. I'm here to help with anything you need.\"},\n",
    "    {'role': 'user', 'content': \"Ok. I will think about it\"},\n",
    "    {'role': 'assistant', 'content': \"Sure thing! Take your time to think, and whenever you're ready, feel free to reach out. I'll be here to assist you whenever you need.\"},\n",
    "    {'role': 'user', 'content': \"Tell me something\"},\n",
    "    {'role': 'assistant', 'content': \"Sure! Did you know that the world's largest desert isn't the Sahara, but actually Antarctica? Despite being covered in ice, Antarctica is considered a desert because it receives very little precipitation, less than 2 inches (50 millimeters) per year in some areas. Its size and harsh climate make it the largest desert on Earth, even larger than the Sahara Desert.\"},         \n",
    "],\n",
    "[\n",
    "    {'role': 'user', 'content': \"Nice to see you\"},\n",
    "    {'role': 'assistant', 'content': \"Nice to see you too! How can I assist you today?\"},\n",
    "    {'role': 'user', 'content': \"What can you say?\"},\n",
    "    {'role': 'assistant', 'content': \"As an AI language model, I can engage in conversation, answer questions, provide information on a wide range of topics, generate text based on prompts, offer suggestions, and more. Just let me know what you need assistance with or what you'd like to discuss!\"},\n",
    "    {'role': 'user', 'content': \"Just tell me something\"},\n",
    "    {'role': 'assistant', 'content': \"Sure! Did you know that honey never spoils? Archaeologists have found pots of honey in ancient Egyptian tombs that are over 3,000 years old and still perfectly edible. This remarkable longevity is due to the unique chemical composition of honey, which includes low water content and natural acidity, making it inhospitable to bacteria and microorganisms that cause food to spoil.\"},\n",
    "    {'role': 'user', 'content': \"Interesting\"},\n",
    "    {'role': 'assistant', 'content': \"I'm glad you found it interesting! If you have any other topics you'd like to learn about or discuss, feel free to let me know. I'm here to help!\"},  \n",
    "],\n",
    "[\n",
    "    {'role': 'user', 'content': \"How are things\"},\n",
    "    {'role': 'assistant', 'content': \"As an AI, I don't have personal experiences, but I'm here and ready to assist you with any questions or tasks you have! How can I help you today?\"},  \n",
    "    {'role': 'user', 'content': \"I am unsure\"},\n",
    "    {'role': 'assistant', 'content': \"It's okay to feel unsure sometimes. If there's anything specific on your mind or any decision you're facing, feel free to share, and I'll do my best to assist you. Whether it's about making a choice, seeking advice, or just discussing your thoughts, I'm here to help.\"},  \n",
    "    {'role': 'user', 'content': \"yes talk to me\"},\n",
    "    {'role': 'assistant', 'content': \"Of course! Is there anything particular on your mind that you'd like to talk about? It could be anything from personal concerns, questions about a topic, or just casual conversation. Feel free to share, and I'm here to listen and offer assistance or insights as best as I can.\"},  \n",
    "    {'role': 'user', 'content': \"i don't know\"},\n",
    "    {'role': 'assistant', 'content': \"That's completely fine. Sometimes it can be helpful to explore different topics or interests to see if anything sparks your curiosity or engages your thoughts. Is there a subject you've been curious about or something you've been meaning to learn more about? Alternatively, we can engage in a casual conversation about anything you'd like. Let me know if there's a specific direction you'd like to take our conversation or if there's anything specific you'd like to discuss.\"},  \n",
    "],\n",
    "]\n"
   ]
  },
  {
   "cell_type": "markdown",
   "metadata": {},
   "source": [
    "### Helper function for request - response"
   ]
  },
  {
   "cell_type": "code",
   "execution_count": 49,
   "metadata": {},
   "outputs": [],
   "source": [
    "def generate_messages(phrase_request:str)->list[dict]:\n",
    "    \"\"\"Using random this function will generate messages to pass to ChatGPT\n",
    "\n",
    "    Args:\n",
    "        phrase_request (str): Request phrase to put to the end of messages list\n",
    "\n",
    "    Returns:\n",
    "        list[dict]: messages list in a OpenAi format\n",
    "    \"\"\"\n",
    "    # this is a standard option\n",
    "    return_messages=[    {'role': 'system', 'content': \"You are a helpful assistant.\"},\n",
    "                     ]\n",
    "    \n",
    "    # use random to chose if we are adding anything\n",
    "    if random.random()<USE_STARTUP_DIALOG:\n",
    "        # choose number of adding, based on provided weights\n",
    "        startup_len_to_add=random.choices(DIALOG_LENGTH_OPTIONS, weights=DIALOG_LENGTH_WEIGHTS)[0]\n",
    "        message_chain=random.randint(0,len(starting_messages)-1)\n",
    "        return_messages+=starting_messages[message_chain][:startup_len_to_add]\n",
    "    \n",
    "    # finally our phrase                                                                                \n",
    "    return return_messages+[\n",
    "        {'role': 'user', 'content': phrase_request},\n",
    "    ]"
   ]
  },
  {
   "cell_type": "code",
   "execution_count": 50,
   "metadata": {},
   "outputs": [
    {
     "data": {
      "text/plain": [
       "[{'role': 'system', 'content': 'You are a helpful assistant.'},\n",
       " {'role': 'user', 'content': 'hello'}]"
      ]
     },
     "execution_count": 50,
     "metadata": {},
     "output_type": "execute_result"
    }
   ],
   "source": [
    "generate_messages('hello')"
   ]
  },
  {
   "cell_type": "code",
   "execution_count": 51,
   "metadata": {},
   "outputs": [
    {
     "data": {
      "text/plain": [
       "[{'role': 'system', 'content': 'You are a helpful assistant.'},\n",
       " {'role': 'user', 'content': 'Nice to see you'},\n",
       " {'role': 'assistant',\n",
       "  'content': 'Nice to see you too! How can I assist you today?'},\n",
       " {'role': 'user', 'content': 'hello'}]"
      ]
     },
     "execution_count": 51,
     "metadata": {},
     "output_type": "execute_result"
    }
   ],
   "source": [
    "generate_messages('hello')"
   ]
  },
  {
   "cell_type": "code",
   "execution_count": 52,
   "metadata": {},
   "outputs": [],
   "source": [
    "# now let's write a function that sends this messages to ChatGPT and get response"
   ]
  },
  {
   "cell_type": "code",
   "execution_count": 53,
   "metadata": {},
   "outputs": [],
   "source": [
    "def request_gpt(messages:list[dict], temperature=TEMPERATURE, model=GPT_MODEL)->str:\n",
    "    \"\"\"Sends messages to ChatGPT and returns the response\n",
    "\n",
    "    Args:\n",
    "        messages (list[dict]): list of messages in OpenAI format\n",
    "\n",
    "    Returns:\n",
    "        str: response of ChatGpt\n",
    "    \"\"\"\n",
    "    chat_completion = client.chat.completions.create(\n",
    "        messages=messages,\n",
    "        model=model,\n",
    "        temperature=temperature\n",
    "    )\n",
    "\n",
    "    return chat_completion.choices[0].message.content"
   ]
  },
  {
   "cell_type": "code",
   "execution_count": 54,
   "metadata": {},
   "outputs": [],
   "source": [
    "def speak_with_gpt(phrase_request:str)->str:\n",
    "    \"\"\"Use phrase_request to generate messages with generate_messages function, send's them to ChatGPT, and return response\n",
    "\n",
    "    Args:\n",
    "        phrase_request (str): Phrase to ask\n",
    "\n",
    "    Returns:\n",
    "        str: Response of ChatGPT\n",
    "    \"\"\"\n",
    "    return request_gpt(generate_messages(phrase_request=phrase_request))"
   ]
  },
  {
   "cell_type": "code",
   "execution_count": 55,
   "metadata": {},
   "outputs": [],
   "source": [
    "example_phrase=context_unique.loc[100]['context']"
   ]
  },
  {
   "cell_type": "code",
   "execution_count": 56,
   "metadata": {},
   "outputs": [
    {
     "data": {
      "text/plain": [
       "[{'role': 'system', 'content': 'You are a helpful assistant.'},\n",
       " {'role': 'user',\n",
       "  'content': 'I am always arguing with my father. He gets stressed over work and health and talks to me in a tone of voice that seems very demanding and seems more like yelling. I get upset often at this. Am I too sensitive? He always says I am overreacting but never seems to understand that he is hurting my feelings. No matter how often I try to tell him this, he never listens.'}]"
      ]
     },
     "execution_count": 56,
     "metadata": {},
     "output_type": "execute_result"
    }
   ],
   "source": [
    "generate_messages(example_phrase)"
   ]
  },
  {
   "cell_type": "code",
   "execution_count": 57,
   "metadata": {},
   "outputs": [],
   "source": [
    "# speak_with_gpt(example_phrase)"
   ]
  },
  {
   "cell_type": "code",
   "execution_count": 58,
   "metadata": {},
   "outputs": [],
   "source": [
    "# lets try it again several times"
   ]
  },
  {
   "cell_type": "code",
   "execution_count": 59,
   "metadata": {},
   "outputs": [],
   "source": [
    "# speak_with_gpt(example_phrase)"
   ]
  },
  {
   "cell_type": "code",
   "execution_count": 60,
   "metadata": {},
   "outputs": [],
   "source": [
    "# speak_with_gpt(example_phrase)"
   ]
  },
  {
   "cell_type": "code",
   "execution_count": 61,
   "metadata": {},
   "outputs": [],
   "source": [
    "# copies of output\n",
    "chatgpt_response1=\"It's completely understandable that you feel upset when your father speaks to you in a demanding or yelling tone. It's important to remember that everyone has different communication styles and ways of expressing their stress. It's also okay to have your own feelings and reactions to the way he speaks to you.\\n\\nIt's not necessarily that you are too sensitive, but rather that you have valid feelings that deserve to be acknowledged and respected. It's important to communicate your feelings to your father in a calm and assertive manner. You can try to have a conversation with him during a calm moment, expressing how his tone of voice makes you feel and how you would like to be spoken to.\\n\\nIt's possible that your father may not be aware of how his tone affects you, and it may take some time for him to understand and adjust his communication style. It's important to be patient and persistent in expressing your feelings to him.\\n\\nIf despite your efforts, your father continues to dismiss your feelings and refuses to listen, it may be helpful to seek support from a trusted family member, friend, or counselor to help navigate the situation and find healthy ways to cope with the challenging interactions. Remember that it's okay to prioritize your own well-being and set boundaries in relationships that are emotionally challenging.\"\n",
    "chatgpt_response2='It sounds like you\\'re going through a challenging situation with your father. It\\'s important to remember that everyone experiences and expresses stress differently. It\\'s also common for misunderstandings to occur in communication, especially during times of tension.\\n\\nYour feelings are valid, and it\\'s okay to feel upset when someone speaks to you in a way that hurts your feelings. It\\'s also understandable that you want your father to understand how his tone affects you.\\n\\nHere are a few suggestions that may help improve communication with your father:\\n\\n1. Choose the right time: Try to have a calm and private conversation with your father when both of you are in a relaxed state and not already in the midst of an argument.\\n\\n2. Use \"I\" statements: Express your feelings using \"I\" statements to help your father understand how his tone of voice affects you. For example, \"I feel hurt when you speak to me in a demanding tone.\"\\n\\n3. Listen actively: Try to listen to your father\\'s perspective as well. Understanding each other\\'s point of view can lead to better communication and empathy.\\n\\n4. Seek support: If you find it challenging to communicate with your father on your own, consider seeking the help of a family therapist or counselor who can facilitate productive conversations and provide guidance on improving your relationship.\\n\\nRemember, it\\'s okay to set boundaries and communicate your feelings in a respectful manner. Your well-being is important, and it\\'s essential to address any concerns that are affecting your mental health and relationships.'\n",
    "chatgpt_response3=\"It's understandable that you feel upset in this situation. It's important to remember that your feelings are valid, and it's not necessarily about being too sensitive. It sounds like there may be a communication issue between you and your father.\\n\\nIt might be helpful to have a calm and honest conversation with your father when you both are in a good mood. Express how his tone of voice and demanding behavior make you feel, and try to explain that you are not trying to overreact but instead want to improve your relationship with him.\\n\\nIt's possible that your father may not realize the impact of his words and actions on you, so having an open and honest conversation could help bring this to his attention. It may take time for him to understand and change his behavior, so be patient and continue to communicate your feelings to him.\\n\\nIn the meantime, it could also be beneficial to find healthy ways to cope with the stress and tension in your relationship with your father, such as practicing self-care, talking to a trusted friend or counselor, or engaging in activities that bring you joy and relaxation. Remember to prioritize your well-being and set boundaries to protect your emotional health.\"\n"
   ]
  },
  {
   "cell_type": "code",
   "execution_count": 62,
   "metadata": {},
   "outputs": [
    {
     "name": "stdout",
     "output_type": "stream",
     "text": [
      "Thanks for the question. Regardless of whether or not you are sensitive, it is okay to want better communication with those who are important to you. When we feel that we are being talked down to or being ridiculed, it is difficult to not take it personally. It sounds like you have taken the first and necessary step in resolving this by bringing up the issue to him. Is it possible that the delivery of your message is causing him to feel blamed or defensive? Try communicating with him during a time when you are not upset and when it is out of context. Begin your statements with \"I\" as opposed to \"you.\" For example, you can tell him, \"I feel angry when you raise your voice at me\" instead of \"You always yell at me.\" Also, avoid using black and white terms such as never and always. Additionally, offer sugggestions as to ways that he can better communicate with you. Maybe he just doesn't know how to. Lastly, when delivering a message, I like to use the sandwich method by starting off the discussion with something postive and ending it with something postive. For example, you may say something to the effect of:\"Dad, I enjoy the discussions we share and really value your opinion. There are times that I feel angry when you talk to me aggressively. Perhaps you can try talking to me using a calmer tone when I bring up heated topics. Let's try and work on this together. I will try to be less sensitive and I am asking that you be more calm.\"I hope you find this useful!\n"
     ]
    }
   ],
   "source": [
    "dataset_response=conversation_dataset[conversation_dataset['context']==example_phrase]['response'].iloc[0]\n",
    "print(dataset_response)"
   ]
  },
  {
   "cell_type": "code",
   "execution_count": null,
   "metadata": {},
   "outputs": [],
   "source": []
  },
  {
   "cell_type": "markdown",
   "metadata": {},
   "source": [
    "### Helper function for comparing the results"
   ]
  },
  {
   "cell_type": "code",
   "execution_count": 63,
   "metadata": {},
   "outputs": [],
   "source": [
    "COMPARING_TEMPERATURE=0   # lower is better in such cases, we will get more sustainable responses\n",
    "\n",
    "#\n",
    "# note: i have made several experiments with it. with high temp you sometimes have 20 f\n",
    "#\n",
    "\n",
    "COMPARING_PROMPT_TEMPLATE =\"\"\"\n",
    "Please compare the meaning and summarization of PHRASE_1 and PHRASE_2. \n",
    "\n",
    "Rate similarity of meaning by scale from 0 to 100 (0 - opposite meaning, no similarity, 100 - total similarity).\n",
    "\n",
    "Response with number only!\n",
    "\n",
    "```PHRASE_1```\n",
    "<<<PHRASE1###>>>\n",
    "```END OF PHRASE_1```\n",
    "\n",
    "\n",
    "```PHRASE_2```\n",
    "<<<PHRASE2###>>>\n",
    "```END OF PHRASE_2```\n",
    "\n",
    "SCALE OF LIKENESS:\n",
    "\"\"\""
   ]
  },
  {
   "cell_type": "code",
   "execution_count": 64,
   "metadata": {},
   "outputs": [],
   "source": [
    "def generate_comparing_prompt(response1:str,response2:str)->str:\n",
    "    \"\"\"Insert into COMPARING_PROMPT_TEMPLATE given request and responses\n",
    "\n",
    "    Args:\n",
    "        response1 (str): response1\n",
    "        response2 (str): response2\n",
    "\n",
    "    Returns:\n",
    "        str: Prompt to send to ChatGRT for comparing\n",
    "    \"\"\"\n",
    "    return COMPARING_PROMPT_TEMPLATE.replace('<<<PHRASE1###>>>', response1).replace('<<<PHRASE2###>>>', response2)"
   ]
  },
  {
   "cell_type": "code",
   "execution_count": 65,
   "metadata": {},
   "outputs": [
    {
     "name": "stdout",
     "output_type": "stream",
     "text": [
      "\n",
      "Please compare the meaning and summarization of PHRASE_1 and PHRASE_2. \n",
      "\n",
      "Rate similarity of meaning by scale from 0 to 100 (0 - opposite meaning, no similarity, 100 - total similarity).\n",
      "\n",
      "Response with number only!\n",
      "\n",
      "```PHRASE_1```\n",
      "It's understandable that you feel upset in this situation. It's important to remember that your feelings are valid, and it's not necessarily about being too sensitive. It sounds like there may be a communication issue between you and your father.\n",
      "\n",
      "It might be helpful to have a calm and honest conversation with your father when you both are in a good mood. Express how his tone of voice and demanding behavior make you feel, and try to explain that you are not trying to overreact but instead want to improve your relationship with him.\n",
      "\n",
      "It's possible that your father may not realize the impact of his words and actions on you, so having an open and honest conversation could help bring this to his attention. It may take time for him to understand and change his behavior, so be patient and continue to communicate your feelings to him.\n",
      "\n",
      "In the meantime, it could also be beneficial to find healthy ways to cope with the stress and tension in your relationship with your father, such as practicing self-care, talking to a trusted friend or counselor, or engaging in activities that bring you joy and relaxation. Remember to prioritize your well-being and set boundaries to protect your emotional health.\n",
      "```END OF PHRASE_1```\n",
      "\n",
      "\n",
      "```PHRASE_2```\n",
      "Thanks for the question. Regardless of whether or not you are sensitive, it is okay to want better communication with those who are important to you. When we feel that we are being talked down to or being ridiculed, it is difficult to not take it personally. It sounds like you have taken the first and necessary step in resolving this by bringing up the issue to him. Is it possible that the delivery of your message is causing him to feel blamed or defensive? Try communicating with him during a time when you are not upset and when it is out of context. Begin your statements with \"I\" as opposed to \"you.\" For example, you can tell him, \"I feel angry when you raise your voice at me\" instead of \"You always yell at me.\" Also, avoid using black and white terms such as never and always. Additionally, offer sugggestions as to ways that he can better communicate with you. Maybe he just doesn't know how to. Lastly, when delivering a message, I like to use the sandwich method by starting off the discussion with something postive and ending it with something postive. For example, you may say something to the effect of:\"Dad, I enjoy the discussions we share and really value your opinion. There are times that I feel angry when you talk to me aggressively. Perhaps you can try talking to me using a calmer tone when I bring up heated topics. Let's try and work on this together. I will try to be less sensitive and I am asking that you be more calm.\"I hope you find this useful!\n",
      "```END OF PHRASE_2```\n",
      "\n",
      "SCALE OF LIKENESS:\n",
      "\n"
     ]
    }
   ],
   "source": [
    "comparing_prompt=generate_comparing_prompt(chatgpt_response3,dataset_response)\n",
    "print(comparing_prompt)"
   ]
  },
  {
   "cell_type": "code",
   "execution_count": 66,
   "metadata": {},
   "outputs": [],
   "source": [
    "def compare_with_gpt(response1:str,response2:str, temperature=COMPARING_TEMPERATURE, model=GPT_MODEL)->int:\n",
    "    \"\"\"Makes a prompt to compare phrase1 and phrase2, send to ChatGPT and return and integer \n",
    "\n",
    "    Args:\n",
    "        response1 (str): response1\n",
    "        response2 (str): response2\n",
    "\n",
    "    Returns:\n",
    "        int: 0..100 - scale of likeness, -1 if something goes wrong\n",
    "    \"\"\"\n",
    "    messages=[{'role': 'system', 'content': \"You are a helpful assistant, proficient in psychology and language. \"},\n",
    "              {'role': 'user', 'content': generate_comparing_prompt(response1,response2)},  \n",
    "    ]\n",
    "    response=request_gpt(messages,temperature=temperature)\n",
    "    \n",
    "    try:\n",
    "        scale_number=int(response.strip())\n",
    "    except ValueError:\n",
    "        scale_number=-1\n",
    "        \n",
    "    return scale_number\n",
    "    "
   ]
  },
  {
   "cell_type": "code",
   "execution_count": 67,
   "metadata": {},
   "outputs": [],
   "source": [
    "# print(compare_with_gpt(chatgpt_response1,dataset_response))"
   ]
  },
  {
   "cell_type": "code",
   "execution_count": 68,
   "metadata": {},
   "outputs": [],
   "source": [
    "# print(compare_with_gpt(chatgpt_response2,dataset_response))"
   ]
  },
  {
   "cell_type": "code",
   "execution_count": 69,
   "metadata": {},
   "outputs": [],
   "source": [
    "# print(compare_with_gpt(\"rtu7e56ujdfghj\",dataset_response))"
   ]
  },
  {
   "cell_type": "code",
   "execution_count": 70,
   "metadata": {},
   "outputs": [],
   "source": [
    "# print(compare_with_gpt(\" YOU ARE BAD SON!!!\",dataset_response))"
   ]
  },
  {
   "cell_type": "code",
   "execution_count": null,
   "metadata": {},
   "outputs": [],
   "source": []
  },
  {
   "cell_type": "code",
   "execution_count": 80,
   "metadata": {},
   "outputs": [],
   "source": [
    "example_phrase2=context_unique.iloc[341]['context']"
   ]
  },
  {
   "cell_type": "code",
   "execution_count": 72,
   "metadata": {},
   "outputs": [
    {
     "data": {
      "text/plain": [
       "'I panicked over a minor parking lot mistake. It was totally my fault, but due to another insurance issue, I left a note with an illegible phone number. Guilty over this, I got an envelope containing several hundred dollars. Unfortunately, by the time I returned, the other driver had seen my ersatz note and drove away. Since I cannot make this up to that individual, how do I atone for my cowardly act? I have been trying to do random acts of kindness in hopes that karma will somehow even out.'"
      ]
     },
     "execution_count": 72,
     "metadata": {},
     "output_type": "execute_result"
    }
   ],
   "source": [
    "example_phrase2"
   ]
  },
  {
   "cell_type": "code",
   "execution_count": 73,
   "metadata": {},
   "outputs": [
    {
     "name": "stdout",
     "output_type": "stream",
     "text": [
      "407    From your writing, you have already atoned for...\n",
      "408    Thanks for sharing as it shows your humanity a...\n",
      "Name: response, dtype: object\n"
     ]
    }
   ],
   "source": [
    "dataset_response=conversation_dataset[conversation_dataset['context']==example_phrase2]['response']\n",
    "print(dataset_response)"
   ]
  },
  {
   "cell_type": "code",
   "execution_count": 74,
   "metadata": {},
   "outputs": [],
   "source": [
    "dataset_response1=dataset_response.iloc[0]\n",
    "dataset_response2=dataset_response.iloc[1]\n"
   ]
  },
  {
   "cell_type": "code",
   "execution_count": 75,
   "metadata": {},
   "outputs": [
    {
     "name": "stdout",
     "output_type": "stream",
     "text": [
      "From your writing, you have already atoned for what you describe as \"cowardly\".Recognizing your action and trying to directly correct it, realizing your action was improper and demonstrating the willingness to take right action, are all examples of making things right.Since the actual driver is unavailable to consult as to their wishes on what they expect and feel would correct the matter, you did the next best thing and considered the situation from the driver point of view. Thanks for sharing as it shows your humanity and that you have a sensitive conscience. In your example here I'd encourage you to always think, \"safety first\"; and never offer a stranger at the accident scene \"...several hundred dollars\". Why? Because it could go badly against you (i.e. extortion, robbed, or would this be considered a bribe).   To the point, I'm reminded of Steps Eight and Nine in many 12-step programs regarding making amends. In your specific example since the injured unidentified party departed, and by your own admission you've been doing random acts of kindness, it seems to me you've acted in reasonable good faith fashion to make amends. Well done.   I'm not a karma expert but as a therapist I would invite you to explore the deeper story behind your use of the words \"cowardly\", \"guilty\", and what it does for you to engage in \"random acts of kindness\". What a fascinating journey this could be for you. Best wishes.\n"
     ]
    }
   ],
   "source": [
    "print(dataset_response1,dataset_response2)"
   ]
  },
  {
   "cell_type": "code",
   "execution_count": 76,
   "metadata": {},
   "outputs": [
    {
     "name": "stdout",
     "output_type": "stream",
     "text": [
      "Example simulation.\n",
      "request: I panicked over a minor parking lot mistake. It was totally my fault, but due to another insurance issue, I left a note with an illegible phone number. Guilty over this, I got an envelope containing several hundred dollars. Unfortunately, by the time I returned, the other driver had seen my ersatz note and drove away. Since I cannot make this up to that individual, how do I atone for my cowardly act? I have been trying to do random acts of kindness in hopes that karma will somehow even out.\n",
      "database response1 From your writing, you have already atoned for what you describe as \"cowardly\".Recognizing your action and trying to directly correct it, realizing your action was improper and demonstrating the willingness to take right action, are all examples of making things right.Since the actual driver is unavailable to consult as to their wishes on what they expect and feel would correct the matter, you did the next best thing and considered the situation from the driver point of view.\n",
      "database response2 Thanks for sharing as it shows your humanity and that you have a sensitive conscience. In your example here I'd encourage you to always think, \"safety first\"; and never offer a stranger at the accident scene \"...several hundred dollars\". Why? Because it could go badly against you (i.e. extortion, robbed, or would this be considered a bribe).   To the point, I'm reminded of Steps Eight and Nine in many 12-step programs regarding making amends. In your specific example since the injured unidentified party departed, and by your own admission you've been doing random acts of kindness, it seems to me you've acted in reasonable good faith fashion to make amends. Well done.   I'm not a karma expert but as a therapist I would invite you to explore the deeper story behind your use of the words \"cowardly\", \"guilty\", and what it does for you to engage in \"random acts of kindness\". What a fascinating journey this could be for you. Best wishes.\n",
      "\n",
      "iteration 0\n",
      "GPT response 1: It sounds like you are feeling remorseful about the situation, and it's commendable that you are seeking ways to make amends. While you may not be able to directly rectify the specific incident with the other driver, your intention to balance things out through random acts of kindness is a positive step.\n",
      "\n",
      "Here are some suggestions on how you can continue to atone for the situation:\n",
      "\n",
      "1. **Continue with Random Acts of Kindness:** Keep spreading positivity and kindness in your daily interactions. Small gestures can make a significant impact on others' lives.\n",
      "\n",
      "2. **Reflect on the Experience:** Use this incident as a learning opportunity. Reflect on what happened, how it made you feel, and what you can do differently in the future to handle similar situations with more integrity and responsibility.\n",
      "\n",
      "3. **Practice Mindfulness and Self-Compassion:** Be kind to yourself as well. Acknowledge your mistake, learn from it, and forgive yourself. Practicing mindfulness can help you stay present and focused on making positive choices moving forward.\n",
      "\n",
      "4. **Volunteer or Donate:** Consider volunteering your time or donating to a cause that aligns with your values. Giving back to the community can be a powerful way to make a positive impact.\n",
      "\n",
      "5. **Apologize if Possible:** If you have the opportunity to cross paths with the other driver again, consider apologizing and explaining the situation. While you can't change what happened, a sincere apology can sometimes provide closure for both parties.\n",
      "\n",
      "Remember that everyone makes mistakes, and what's important is how we choose to respond and grow from them. By continuing to practice kindness and self-awareness, you are already taking steps towards atonement and personal growth.\n",
      "Compared to dataset response 1 85\n",
      "Compared to dataset response 2 85\n",
      "\n",
      "iteration 1\n",
      "GPT response 1: It's understandable that you feel guilty about the situation, but it's important to remember that mistakes happen and it's never too late to try to make amends. It's great that you're trying to balance things out by doing random acts of kindness. Here are a few suggestions on how you can further atone for your actions:\n",
      "\n",
      "1. Pay it forward: Continue doing random acts of kindness whenever you can. Whether it's helping someone in need, volunteering your time, or simply spreading positivity, these actions can make a difference in someone's day.\n",
      "\n",
      "2. Donate to a charitable cause: Consider donating some of the money you received to a charity or organization that helps others. This can help you feel like you're making a positive impact in the world.\n",
      "\n",
      "3. Apologize in a different way: Even though you may not be able to directly apologize to the other driver, you can still try to make amends in other ways. Perhaps you can write a letter expressing your remorse and explaining what happened. You can also try to spread awareness about the importance of taking responsibility for one's actions.\n",
      "\n",
      "Remember that everyone makes mistakes, and what's important is how we learn and grow from them. Keep doing good deeds and trying to make a positive impact, and over time, you may find some peace in knowing that you're making a difference in the world.\n",
      "Compared to dataset response 1 85\n",
      "Compared to dataset response 2 72\n",
      "\n",
      "iteration 2\n",
      "GPT response 1: It's understandable that you feel guilty about the situation, but it's important to remember that mistakes happen and what's most important is that you are trying to make amends. Here are a few suggestions on how you can continue to atone for what happened:\n",
      "\n",
      "1. **Pay it forward**: Continue with your random acts of kindness and spread positivity wherever you go. You can volunteer your time, donate to charity, or simply help someone in need.\n",
      "\n",
      "2. **Apologize if possible**: If you happen to come across the other driver again or have any way of contacting them, consider apologizing and explaining the situation. They may appreciate your honesty and effort to make things right.\n",
      "\n",
      "3. **Learn from the experience**: Use this situation as a learning opportunity to be more responsible and careful in the future. Remember to always leave clear and accurate information in case of any accidents or mistakes.\n",
      "\n",
      "4. **Forgive yourself**: It's important to forgive yourself for the mistake you made. Be kind to yourself and understand that everyone makes errors sometimes. Focus on the positive actions you are taking to make amends.\n",
      "\n",
      "Remember that karma works in mysterious ways, and by continuing to do good deeds and being a better person, you are already on the right path towards making things right.\n",
      "Compared to dataset response 1 85\n",
      "Compared to dataset response 2 72\n",
      "\n",
      "iteration 3\n",
      "GPT response 1: It's understandable that you feel guilty about the situation, but it's important to remember that mistakes happen and it's never too late to make amends. Here are some suggestions on how you can atone for your actions and continue spreading positivity through random acts of kindness:\n",
      "\n",
      "1. **Pay it forward**: Continue performing random acts of kindness for others, whether it's helping a stranger in need, volunteering your time, or simply spreading positivity through kind words and gestures.\n",
      "\n",
      "2. **Donate to charity**: Consider making a donation to a charity or organization that supports a cause you are passionate about. Giving back to the community is a great way to make a positive impact.\n",
      "\n",
      "3. **Apologize in a different way**: If you have any information about the other driver, such as their license plate number or vehicle details, you could try reaching out through social media or local community groups to apologize and offer to make amends.\n",
      "\n",
      "4. **Practice self-forgiveness**: It's important to forgive yourself for your mistake and learn from it. Remember that everyone makes errors and what's important is how you choose to move forward from it.\n",
      "\n",
      "5. **Spread awareness**: Share your experience and the importance of taking responsibility for our actions with others. By sharing your story, you may inspire others to do the same and make amends for their mistakes.\n",
      "\n",
      "Remember that acts of kindness, no matter how big or small, can have a positive impact on both others and yourself. Keep spreading positivity and continue to strive for personal growth and self-improvement.\n",
      "Compared to dataset response 1 85\n",
      "Compared to dataset response 2 72\n",
      "\n",
      "final array of comparing: [[85, 85, \"It sounds like you are feeling remorseful about the situation, and it's commendable that you are seeking ways to make amends. While you may not be able to directly rectify the specific incident with the other driver, your intention to balance things out through random acts of kindness is a positive step.\\n\\nHere are some suggestions on how you can continue to atone for the situation:\\n\\n1. **Continue with Random Acts of Kindness:** Keep spreading positivity and kindness in your daily interactions. Small gestures can make a significant impact on others' lives.\\n\\n2. **Reflect on the Experience:** Use this incident as a learning opportunity. Reflect on what happened, how it made you feel, and what you can do differently in the future to handle similar situations with more integrity and responsibility.\\n\\n3. **Practice Mindfulness and Self-Compassion:** Be kind to yourself as well. Acknowledge your mistake, learn from it, and forgive yourself. Practicing mindfulness can help you stay present and focused on making positive choices moving forward.\\n\\n4. **Volunteer or Donate:** Consider volunteering your time or donating to a cause that aligns with your values. Giving back to the community can be a powerful way to make a positive impact.\\n\\n5. **Apologize if Possible:** If you have the opportunity to cross paths with the other driver again, consider apologizing and explaining the situation. While you can't change what happened, a sincere apology can sometimes provide closure for both parties.\\n\\nRemember that everyone makes mistakes, and what's important is how we choose to respond and grow from them. By continuing to practice kindness and self-awareness, you are already taking steps towards atonement and personal growth.\"], [85, 72, \"It's understandable that you feel guilty about the situation, but it's important to remember that mistakes happen and it's never too late to try to make amends. It's great that you're trying to balance things out by doing random acts of kindness. Here are a few suggestions on how you can further atone for your actions:\\n\\n1. Pay it forward: Continue doing random acts of kindness whenever you can. Whether it's helping someone in need, volunteering your time, or simply spreading positivity, these actions can make a difference in someone's day.\\n\\n2. Donate to a charitable cause: Consider donating some of the money you received to a charity or organization that helps others. This can help you feel like you're making a positive impact in the world.\\n\\n3. Apologize in a different way: Even though you may not be able to directly apologize to the other driver, you can still try to make amends in other ways. Perhaps you can write a letter expressing your remorse and explaining what happened. You can also try to spread awareness about the importance of taking responsibility for one's actions.\\n\\nRemember that everyone makes mistakes, and what's important is how we learn and grow from them. Keep doing good deeds and trying to make a positive impact, and over time, you may find some peace in knowing that you're making a difference in the world.\"], [85, 72, \"It's understandable that you feel guilty about the situation, but it's important to remember that mistakes happen and what's most important is that you are trying to make amends. Here are a few suggestions on how you can continue to atone for what happened:\\n\\n1. **Pay it forward**: Continue with your random acts of kindness and spread positivity wherever you go. You can volunteer your time, donate to charity, or simply help someone in need.\\n\\n2. **Apologize if possible**: If you happen to come across the other driver again or have any way of contacting them, consider apologizing and explaining the situation. They may appreciate your honesty and effort to make things right.\\n\\n3. **Learn from the experience**: Use this situation as a learning opportunity to be more responsible and careful in the future. Remember to always leave clear and accurate information in case of any accidents or mistakes.\\n\\n4. **Forgive yourself**: It's important to forgive yourself for the mistake you made. Be kind to yourself and understand that everyone makes errors sometimes. Focus on the positive actions you are taking to make amends.\\n\\nRemember that karma works in mysterious ways, and by continuing to do good deeds and being a better person, you are already on the right path towards making things right.\"], [85, 72, \"It's understandable that you feel guilty about the situation, but it's important to remember that mistakes happen and it's never too late to make amends. Here are some suggestions on how you can atone for your actions and continue spreading positivity through random acts of kindness:\\n\\n1. **Pay it forward**: Continue performing random acts of kindness for others, whether it's helping a stranger in need, volunteering your time, or simply spreading positivity through kind words and gestures.\\n\\n2. **Donate to charity**: Consider making a donation to a charity or organization that supports a cause you are passionate about. Giving back to the community is a great way to make a positive impact.\\n\\n3. **Apologize in a different way**: If you have any information about the other driver, such as their license plate number or vehicle details, you could try reaching out through social media or local community groups to apologize and offer to make amends.\\n\\n4. **Practice self-forgiveness**: It's important to forgive yourself for your mistake and learn from it. Remember that everyone makes errors and what's important is how you choose to move forward from it.\\n\\n5. **Spread awareness**: Share your experience and the importance of taking responsibility for our actions with others. By sharing your story, you may inspire others to do the same and make amends for their mistakes.\\n\\nRemember that acts of kindness, no matter how big or small, can have a positive impact on both others and yourself. Keep spreading positivity and continue to strive for personal growth and self-improvement.\"]]\n"
     ]
    }
   ],
   "source": [
    "chat_gpt_responses=[]\n",
    "print(\"Example simulation.\")\n",
    "print(\"request:\",example_phrase2)\n",
    "print(\"database response1:\", dataset_response1 )\n",
    "print(\"database response2:\", dataset_response2 )\n",
    "print()\n",
    "\n",
    "for i in range(4):\n",
    "    print('iteration', i)\n",
    "    single_response=speak_with_gpt(example_phrase2)\n",
    "    print(\"GPT response 1:\", single_response)\n",
    "    comp_score1=compare_with_gpt(single_response,dataset_response1)\n",
    "    comp_score2=compare_with_gpt(single_response,dataset_response2)\n",
    "    print(\"Compared to dataset response 1\", comp_score1)\n",
    "    print(\"Compared to dataset response 2\", comp_score2)   \n",
    "    chat_gpt_responses.append([comp_score1,comp_score2,single_response])\n",
    "    print()\n",
    "    \n",
    "print('final array of comparing:', chat_gpt_responses)"
   ]
  },
  {
   "cell_type": "code",
   "execution_count": 77,
   "metadata": {},
   "outputs": [
    {
     "data": {
      "text/plain": [
       "[[85,\n",
       "  85,\n",
       "  \"It sounds like you are feeling remorseful about the situation, and it's commendable that you are seeking ways to make amends. While you may not be able to directly rectify the specific incident with the other driver, your intention to balance things out through random acts of kindness is a positive step.\\n\\nHere are some suggestions on how you can continue to atone for the situation:\\n\\n1. **Continue with Random Acts of Kindness:** Keep spreading positivity and kindness in your daily interactions. Small gestures can make a significant impact on others' lives.\\n\\n2. **Reflect on the Experience:** Use this incident as a learning opportunity. Reflect on what happened, how it made you feel, and what you can do differently in the future to handle similar situations with more integrity and responsibility.\\n\\n3. **Practice Mindfulness and Self-Compassion:** Be kind to yourself as well. Acknowledge your mistake, learn from it, and forgive yourself. Practicing mindfulness can help you stay present and focused on making positive choices moving forward.\\n\\n4. **Volunteer or Donate:** Consider volunteering your time or donating to a cause that aligns with your values. Giving back to the community can be a powerful way to make a positive impact.\\n\\n5. **Apologize if Possible:** If you have the opportunity to cross paths with the other driver again, consider apologizing and explaining the situation. While you can't change what happened, a sincere apology can sometimes provide closure for both parties.\\n\\nRemember that everyone makes mistakes, and what's important is how we choose to respond and grow from them. By continuing to practice kindness and self-awareness, you are already taking steps towards atonement and personal growth.\"],\n",
       " [85,\n",
       "  72,\n",
       "  \"It's understandable that you feel guilty about the situation, but it's important to remember that mistakes happen and it's never too late to try to make amends. It's great that you're trying to balance things out by doing random acts of kindness. Here are a few suggestions on how you can further atone for your actions:\\n\\n1. Pay it forward: Continue doing random acts of kindness whenever you can. Whether it's helping someone in need, volunteering your time, or simply spreading positivity, these actions can make a difference in someone's day.\\n\\n2. Donate to a charitable cause: Consider donating some of the money you received to a charity or organization that helps others. This can help you feel like you're making a positive impact in the world.\\n\\n3. Apologize in a different way: Even though you may not be able to directly apologize to the other driver, you can still try to make amends in other ways. Perhaps you can write a letter expressing your remorse and explaining what happened. You can also try to spread awareness about the importance of taking responsibility for one's actions.\\n\\nRemember that everyone makes mistakes, and what's important is how we learn and grow from them. Keep doing good deeds and trying to make a positive impact, and over time, you may find some peace in knowing that you're making a difference in the world.\"],\n",
       " [85,\n",
       "  72,\n",
       "  \"It's understandable that you feel guilty about the situation, but it's important to remember that mistakes happen and what's most important is that you are trying to make amends. Here are a few suggestions on how you can continue to atone for what happened:\\n\\n1. **Pay it forward**: Continue with your random acts of kindness and spread positivity wherever you go. You can volunteer your time, donate to charity, or simply help someone in need.\\n\\n2. **Apologize if possible**: If you happen to come across the other driver again or have any way of contacting them, consider apologizing and explaining the situation. They may appreciate your honesty and effort to make things right.\\n\\n3. **Learn from the experience**: Use this situation as a learning opportunity to be more responsible and careful in the future. Remember to always leave clear and accurate information in case of any accidents or mistakes.\\n\\n4. **Forgive yourself**: It's important to forgive yourself for the mistake you made. Be kind to yourself and understand that everyone makes errors sometimes. Focus on the positive actions you are taking to make amends.\\n\\nRemember that karma works in mysterious ways, and by continuing to do good deeds and being a better person, you are already on the right path towards making things right.\"],\n",
       " [85,\n",
       "  72,\n",
       "  \"It's understandable that you feel guilty about the situation, but it's important to remember that mistakes happen and it's never too late to make amends. Here are some suggestions on how you can atone for your actions and continue spreading positivity through random acts of kindness:\\n\\n1. **Pay it forward**: Continue performing random acts of kindness for others, whether it's helping a stranger in need, volunteering your time, or simply spreading positivity through kind words and gestures.\\n\\n2. **Donate to charity**: Consider making a donation to a charity or organization that supports a cause you are passionate about. Giving back to the community is a great way to make a positive impact.\\n\\n3. **Apologize in a different way**: If you have any information about the other driver, such as their license plate number or vehicle details, you could try reaching out through social media or local community groups to apologize and offer to make amends.\\n\\n4. **Practice self-forgiveness**: It's important to forgive yourself for your mistake and learn from it. Remember that everyone makes errors and what's important is how you choose to move forward from it.\\n\\n5. **Spread awareness**: Share your experience and the importance of taking responsibility for our actions with others. By sharing your story, you may inspire others to do the same and make amends for their mistakes.\\n\\nRemember that acts of kindness, no matter how big or small, can have a positive impact on both others and yourself. Keep spreading positivity and continue to strive for personal growth and self-improvement.\"]]"
      ]
     },
     "execution_count": 77,
     "metadata": {},
     "output_type": "execute_result"
    }
   ],
   "source": [
    "chat_gpt_responses"
   ]
  },
  {
   "cell_type": "code",
   "execution_count": 88,
   "metadata": {},
   "outputs": [
    {
     "name": "stdout",
     "output_type": "stream",
     "text": [
      "A few years ago I was making love to my wife when for no known reason I lost my erection,    Now I'm In my early 30s and my problem has become more and more frequent. This is causing major problems for my ego and it's diminishing my self esteem. This has resulted in ongoing depression and tearing apart my marriage.    I am devastated and cannot find a cause for these issues. I am very attracted to my wife and want to express it in the bedroom like I used to.    What could be causing this, and what can I do about it?\n",
      "89    First step always is to do a medical rule out ...\n",
      "90    When I'm working with men with this type of si...\n",
      "91    For starters, know that this is a normal exper...\n",
      "92    Erection maintenance is caused by connective t...\n",
      "93    If you haven't already, please see a doctor.  ...\n",
      "94    Assuming there are no medical explanations for...\n",
      "Name: response, dtype: object\n"
     ]
    }
   ],
   "source": [
    "example_phrase3=context_unique.iloc[1]['context']\n",
    "dataset_response=conversation_dataset[conversation_dataset['context']==example_phrase3]['response']\n",
    "print(example_phrase3)\n",
    "print(dataset_response)"
   ]
  },
  {
   "cell_type": "code",
   "execution_count": 89,
   "metadata": {},
   "outputs": [
    {
     "name": "stdout",
     "output_type": "stream",
     "text": [
      "Example simulation 2.\n",
      "request: A few years ago I was making love to my wife when for no known reason I lost my erection,    Now I'm In my early 30s and my problem has become more and more frequent. This is causing major problems for my ego and it's diminishing my self esteem. This has resulted in ongoing depression and tearing apart my marriage.    I am devastated and cannot find a cause for these issues. I am very attracted to my wife and want to express it in the bedroom like I used to.    What could be causing this, and what can I do about it?\n",
      "\n",
      "iteration 0\n",
      "Got GPT response 0\n",
      "comparing scores: [85, 85, 85, 20, 85, 85]\n",
      "\n",
      "iteration 1\n",
      "Got GPT response 1\n",
      "comparing scores: [85, 85, 85, 72, 85, 85]\n",
      "\n",
      "iteration 2\n",
      "Got GPT response 2\n",
      "comparing scores: [85, 85, 85, 72, 85, 85]\n",
      "\n",
      "iteration 3\n",
      "Got GPT response 3\n",
      "comparing scores: [85, 85, 85, 72, 85, 85]\n",
      "\n",
      "iteration 4\n",
      "Got GPT response 4\n",
      "comparing scores: [85, 85, 85, 25, 85, 85]\n",
      "\n"
     ]
    }
   ],
   "source": [
    "chat_gpt_responses2=[]\n",
    "print(\"Example simulation 2.\")\n",
    "print(\"request:\",example_phrase3)\n",
    "\n",
    "print()\n",
    "\n",
    "for i in range(5):\n",
    "    print('iteration', i)\n",
    "    single_response=speak_with_gpt(example_phrase3)\n",
    "    print(\"Got GPT response\", i)\n",
    "    result_line=[]\n",
    "    for j in range(6):\n",
    "        result_line.append(compare_with_gpt(single_response,dataset_response.iloc[j])) \n",
    "    print('comparing scores:',result_line)\n",
    "    result_line.append(single_response)\n",
    "    chat_gpt_responses2.append(result_line)\n",
    "    print()\n",
    "    \n"
   ]
  },
  {
   "cell_type": "code",
   "execution_count": 91,
   "metadata": {},
   "outputs": [
    {
     "data": {
      "text/plain": [
       "[[85,\n",
       "  85,\n",
       "  85,\n",
       "  20,\n",
       "  85,\n",
       "  85,\n",
       "  \"I'm sorry to hear that you're going through this challenging situation. Erectile dysfunction can be a complex issue with various potential causes, including physical, psychological, or a combination of both. It's essential to address this concern with the help of a healthcare professional, such as a doctor or a urologist, to determine the underlying cause and explore treatment options.\\n\\nSome common factors that can contribute to erectile dysfunction include stress, anxiety, relationship issues, underlying health conditions (such as heart disease, diabetes, or high blood pressure), hormonal imbalances, alcohol or substance abuse, medications, and lifestyle factors like smoking, lack of exercise, or poor diet.\\n\\nHere are some steps you can consider to address this issue:\\n\\n1. **Consult a Healthcare Professional**: Make an appointment with a doctor or urologist to discuss your concerns openly. They can help diagnose the underlying cause and recommend appropriate treatments.\\n\\n2. **Address Any Underlying Health Conditions**: If you have any existing health issues, such as diabetes or high blood pressure, managing these conditions effectively can help improve erectile function.\\n\\n3. **Explore Therapy**: Counseling or therapy, either individually or as a couple, can help address any psychological factors contributing to your erectile dysfunction and improve communication and intimacy in your relationship.\\n\\n4. **Lifestyle Changes**: Adopting a healthy lifestyle, including regular exercise, a balanced diet, stress management techniques, and avoiding excessive alcohol or substance use, can have a positive impact on erectile function.\\n\\n5. **Consider Medication**: In some cases, medications such as Viagra, Cialis, or Levitra may be prescribed to help with erectile dysfunction. These should be taken under the guidance of a healthcare provider.\\n\\nRemember, you are not alone in facing this issue, and seeking help is a positive step towards finding a solution. Open communication with your partner about your feelings and concerns can also strengthen your relationship and provide mutual support during this challenging time.\"],\n",
       " [85,\n",
       "  85,\n",
       "  85,\n",
       "  72,\n",
       "  85,\n",
       "  85,\n",
       "  \"I'm sorry to hear that you're going through this challenging situation. Erectile dysfunction can have various causes, including physical, psychological, or a combination of both. It's important to address this issue with care and seek professional help if needed. Here are some steps you can take:\\n\\n1. **Consult a healthcare provider**: It's essential to speak with a healthcare provider, such as a urologist or a therapist specializing in sexual health, to rule out any underlying medical conditions and explore potential psychological factors contributing to your erectile dysfunction.\\n\\n2. **Open communication with your partner**: Talk openly and honestly with your wife about what you're experiencing. Communication is key in maintaining a strong and supportive relationship during difficult times. Your partner's understanding and support can make a significant difference.\\n\\n3. **Consider therapy**: Erectile dysfunction can be linked to stress, anxiety, depression, or relationship issues. Individual or couples therapy can help you explore and address any emotional factors that may be contributing to your condition.\\n\\n4. **Lifestyle changes**: Adopting a healthy lifestyle can positively impact your sexual health. Regular exercise, a balanced diet, stress management techniques, and good sleep hygiene can all contribute to overall well-being, including sexual function.\\n\\n5. **Explore treatment options**: Depending on the underlying cause of your erectile dysfunction, your healthcare provider may recommend treatments such as medication, therapy, or lifestyle changes. It's important to follow your healthcare provider's guidance and treatment plan.\\n\\nRemember, you are not alone in facing this challenge, and seeking help is a positive step toward addressing the issue. Take care of yourself and prioritize your well-being.\"],\n",
       " [85,\n",
       "  85,\n",
       "  85,\n",
       "  72,\n",
       "  85,\n",
       "  85,\n",
       "  \"I'm sorry to hear that you're going through this challenging situation. Erectile dysfunction can have various causes, including physical and psychological factors. It's essential to consult with a healthcare professional, such as a doctor or a urologist, to determine the root cause of your issue and explore potential treatment options.\\n\\nHere are some common causes of erectile dysfunction:\\n\\n1. Psychological factors: Stress, anxiety, depression, relationship issues, or performance anxiety can contribute to erectile dysfunction.\\n\\n2. Physical factors: Health conditions like diabetes, high blood pressure, heart disease, obesity, and hormonal imbalances can impact erectile function. Lifestyle factors such as smoking, excessive alcohol consumption, and lack of exercise can also play a role.\\n\\n3. Medications: Certain medications can have side effects that affect erectile function. It's important to discuss any medications you are taking with your healthcare provider.\\n\\nTo address your concerns and work towards improving your situation, consider taking the following steps:\\n\\n1. Seek professional help: Schedule an appointment with a doctor or a specialist to discuss your symptoms and undergo a thorough evaluation. They can help identify potential causes and recommend appropriate treatment options.\\n\\n2. Open communication: Talk openly with your wife about your concerns and seek her support. Communication and understanding are crucial for maintaining a healthy relationship during difficult times.\\n\\n3. Lifestyle changes: Adopting a healthy lifestyle, including regular exercise, a balanced diet, adequate sleep, and stress management techniques, can positively impact erectile function.\\n\\n4. Therapy: Consider seeking therapy or counseling to address any underlying psychological factors contributing to your erectile dysfunction and to improve your mental well-being.\\n\\nRemember, you are not alone in facing this issue, and seeking help is the first step towards finding a solution. Take care of yourself and prioritize your physical and mental health.\"],\n",
       " [85,\n",
       "  85,\n",
       "  85,\n",
       "  72,\n",
       "  85,\n",
       "  85,\n",
       "  \"I'm sorry to hear that you're going through this, but it's important to know that you're not alone in facing such challenges. Erectile dysfunction can have both physical and psychological causes, and it's important to address them to find a solution. Here are some possible factors and steps you can take to address the issue:\\n\\n1. Stress and anxiety: Stress and anxiety can have a significant impact on sexual performance. It's important to identify and address any sources of stress in your life. Consider relaxation techniques, such as deep breathing exercises, meditation, or yoga to help manage stress.\\n\\n2. Relationship issues: Communication is key in any relationship. Talk openly and honestly with your wife about how you're feeling. Seeking couples therapy or sex therapy together can also be beneficial in addressing any underlying relationship issues.\\n\\n3. Health conditions: Certain medical conditions, such as diabetes, high blood pressure, or heart disease, can contribute to erectile dysfunction. It's important to consult with a healthcare provider to rule out any underlying health issues.\\n\\n4. Lifestyle factors: Smoking, excessive alcohol consumption, lack of exercise, and poor diet can all contribute to erectile dysfunction. Making positive lifestyle changes, such as quitting smoking, reducing alcohol intake, and exercising regularly, can help improve your sexual performance.\\n\\n5. Psychological factors: Depression and low self-esteem can also contribute to erectile dysfunction. Consider seeking therapy or counseling to address any underlying psychological issues.\\n\\n6. Medication: Some medications can also contribute to erectile dysfunction. Consult with your healthcare provider to review your current medications and discuss potential alternatives.\\n\\nRemember, seeking help is the first step towards finding a solution. Don't hesitate to reach out to a healthcare provider or a therapist for further guidance and support. You deserve to feel confident and satisfied in your sexual relationship with your wife.\"],\n",
       " [85,\n",
       "  85,\n",
       "  85,\n",
       "  25,\n",
       "  85,\n",
       "  85,\n",
       "  \"I'm sorry to hear that you're experiencing this issue, and I understand that it can be very distressing. Erectile dysfunction (ED) can have various causes, both physical and psychological. It's important to consult with a healthcare professional to determine the underlying cause of your ED and explore treatment options.\\n\\nPhysical causes of ED can include issues such as cardiovascular disease, diabetes, hormonal imbalances, or neurological conditions. Psychological factors such as stress, anxiety, depression, or relationship problems can also contribute to erectile difficulties.\\n\\nHere are some steps you can take to address this issue:\\n\\n1. Consult a healthcare provider: Schedule an appointment with a doctor, urologist, or a mental health professional to discuss your concerns and undergo a thorough evaluation. They can help determine the cause of your ED and recommend appropriate treatment options.\\n\\n2. Lifestyle changes: Making healthy lifestyle choices such as maintaining a balanced diet, exercising regularly, managing stress, and avoiding excessive alcohol and tobacco use can improve your overall health and potentially help with ED.\\n\\n3. Communication with your partner: Open and honest communication with your wife about your concerns and feelings can help strengthen your relationship and alleviate some of the pressure you may be feeling in the bedroom.\\n\\n4. Consider therapy: Individual or couples therapy can be beneficial in addressing any underlying psychological issues contributing to your ED and improving your relationship dynamics.\\n\\n5. Explore treatment options: Depending on the underlying cause of your ED, treatment options may include medications, such as phosphodiesterase-5 inhibitors (e.g., Viagra, Cialis), hormone therapy, psychological counseling, or lifestyle modifications.\\n\\nRemember, you are not alone in facing this issue, and seeking help is an important step towards finding a solution. Take care of yourself and prioritize your well-being.\"]]"
      ]
     },
     "execution_count": 91,
     "metadata": {},
     "output_type": "execute_result"
    }
   ],
   "source": [
    "chat_gpt_responses2"
   ]
  },
  {
   "cell_type": "code",
   "execution_count": 115,
   "metadata": {},
   "outputs": [
    {
     "name": "stdout",
     "output_type": "stream",
     "text": [
      "Every time I send a message to someone or a group message on Instagram, iMessage, or snapchat people will read my messages but then they won't answer me.    Could it be that there is something they don't like about me? I don't understand why they won't answer my messages. How do I get people to respond to me?\n",
      "1831    I understand the feeling of not being liked du...\n",
      "1832    Sorry to hear your friends aren't responding t...\n",
      "1833    I'm sorry that you are having a difficult time...\n",
      "Name: response, dtype: object\n"
     ]
    }
   ],
   "source": [
    "ii=38\n",
    "\n",
    "example_phrase4=context_unique.iloc[ii]['context']\n",
    "dataset_response_s4=conversation_dataset[conversation_dataset['context']==example_phrase4]['response']\n",
    "print(example_phrase4)\n",
    "print(dataset_response_s4)"
   ]
  },
  {
   "cell_type": "code",
   "execution_count": 117,
   "metadata": {},
   "outputs": [
    {
     "name": "stdout",
     "output_type": "stream",
     "text": [
      "Example simulation 3.\n",
      "request: Every time I send a message to someone or a group message on Instagram, iMessage, or snapchat people will read my messages but then they won't answer me.    Could it be that there is something they don't like about me? I don't understand why they won't answer my messages. How do I get people to respond to me?\n",
      "\n",
      "iteration 0\n",
      "Got GPT response 0\n",
      "comparing scores: [85, 72, 72]\n",
      "\n",
      "iteration 1\n",
      "Got GPT response 1\n",
      "comparing scores: [85, 72, 85]\n",
      "\n",
      "iteration 2\n",
      "Got GPT response 2\n",
      "comparing scores: [72, 85, 85]\n",
      "\n",
      "iteration 3\n",
      "Got GPT response 3\n",
      "comparing scores: [85, 85, 85]\n",
      "\n",
      "iteration 4\n",
      "Got GPT response 4\n",
      "comparing scores: [85, 85, 85]\n",
      "\n"
     ]
    }
   ],
   "source": [
    "chat_gpt_responses4=[]\n",
    "print(\"Example simulation 3.\")\n",
    "print(\"request:\",example_phrase4)\n",
    "\n",
    "print()\n",
    "\n",
    "for i in range(5):\n",
    "    print('iteration', i)\n",
    "    single_response=speak_with_gpt(example_phrase4)\n",
    "    print(\"Got GPT response\", i)\n",
    "    result_line=[]\n",
    "    for j in range(3):\n",
    "        result_line.append(compare_with_gpt(single_response,dataset_response_s4.iloc[j])) \n",
    "    print('comparing scores:',result_line)\n",
    "    result_line.append(single_response)\n",
    "    chat_gpt_responses4.append(result_line)\n",
    "    print()"
   ]
  },
  {
   "cell_type": "code",
   "execution_count": 118,
   "metadata": {},
   "outputs": [
    {
     "data": {
      "text/plain": [
       "[[85,\n",
       "  72,\n",
       "  72,\n",
       "  \"I'm sorry to hear that you're feeling this way. It's important to remember that people's actions or lack of response to messages may not always be a reflection of who you are as a person. There could be various reasons why someone may not respond to messages promptly, such as being busy, forgetful, or simply not knowing how to respond at that moment.\\n\\nHere are a few tips that might help improve your chances of getting responses:\\n\\n1. **Be patient**: Give people some time to respond before assuming they are ignoring you. Remember, everyone has their own schedules and priorities.\\n\\n2. **Engage in meaningful conversations**: Try to initiate conversations that are interesting and engaging. Ask questions, share stories, and show genuine interest in the other person.\\n\\n3. **Avoid sending too many messages**: Sending too many messages in a short period of time may come across as overwhelming. Give people space to respond at their own pace.\\n\\n4. **Use different communication channels**: If you're not getting responses on one platform, try reaching out through a different platform or in person.\\n\\n5. **Respect boundaries**: It's important to respect people's boundaries and understand that not everyone may be comfortable or available to respond to messages all the time.\\n\\n6. **Reflect on your communication style**: Take a moment to reflect on how you communicate with others. Are you being clear, respectful, and considerate in your messages?\\n\\nRemember, building relationships and connections takes time and effort. Don't be too hard on yourself if you don't always get immediate responses. Keep being yourself and reaching out to others, and eventually, you will find people who appreciate and respond to your messages.\"],\n",
       " [85,\n",
       "  72,\n",
       "  85,\n",
       "  \"It's understandable to feel frustrated when people don't respond to your messages. There could be various reasons why someone may not respond promptly, such as being busy, forgetting to reply, or not knowing how to respond.\\n\\nBefore assuming that people don't like you, consider these tips to increase the chances of getting responses:\\n\\n1. **Be Understanding**: Remember that everyone has their own schedules and priorities. Give them the benefit of the doubt before jumping to conclusions.\\n\\n2. **Engage in Meaningful Conversations**: Instead of just sending generic messages, try to initiate conversations that are interesting and engaging. Ask questions, share stories, or show genuine interest in the other person's life.\\n\\n3. **Respect Boundaries**: Avoid bombarding people with messages or expecting immediate responses. Respect their time and space.\\n\\n4. **Use Different Communication Channels**: If someone is not responding on one platform, try reaching out through a different medium. They may be more active on a different app.\\n\\n5. **Give Clear Calls to Action**: Sometimes people may read your message but not know how to respond. Provide clear prompts or questions that invite them to reply.\\n\\n6. **Show Genuine Interest**: Show that you care about the other person's well-being and interests. This can make them more likely to respond to your messages.\\n\\nRemember that not everyone will be responsive all the time, and that's okay. Focus on building genuine connections and meaningful conversations rather than just seeking responses.\"],\n",
       " [72,\n",
       "  85,\n",
       "  85,\n",
       "  \"It's natural to feel a bit concerned when people don't respond to your messages, but there could be various reasons why they might not be replying promptly. It's important not to jump to conclusions or assume that it's something about you personally. Here are a few things to consider:\\n\\n1. **Busy Schedules**: People are often busy with their own lives, work, and responsibilities, so they may not always have the time to respond immediately. Give them some time before following up.\\n\\n2. **Communication Preferences**: Some people may not be as active on messaging apps or may prefer other forms of communication. They might have seen your message but forgot to reply or intended to respond later.\\n\\n3. **Misunderstandings**: Sometimes messages can be misinterpreted or may not convey the intended tone. Make sure your messages are clear and friendly to encourage responses.\\n\\n4. **Overwhelming Messages**: If you send too many messages or come across as too persistent, it could deter people from responding. Give them space and avoid bombarding them with messages.\\n\\n5. **Engaging Content**: Try to make your messages engaging and interesting to encourage responses. Ask questions, share relevant information, or start conversations based on common interests.\\n\\n6. **Personal Connection**: Building a personal connection with someone can also increase the likelihood of them responding. Show genuine interest in them and their lives, and try to connect on a deeper level.\\n\\nRemember, not everyone will respond to every message, and that's okay. Focus on building genuine connections and relationships with those who do engage with you. If you're feeling ignored, it might be helpful to have a conversation with your friends about communication preferences and how you can better connect with them.\"],\n",
       " [85,\n",
       "  85,\n",
       "  85,\n",
       "  \"It's natural to feel this way when people don't respond to your messages, but it's important to remember that there could be many reasons why someone doesn't reply right away. It might not have anything to do with you personally. Here are a few things to consider:\\n\\n1. **Busy schedules**: People may be busy with work, school, or other commitments, making it difficult for them to respond immediately.\\n\\n2. **Different communication preferences**: Some people prefer face-to-face conversations or phone calls over messaging apps.\\n\\n3. **Overwhelmed with messages**: People may receive a lot of messages daily, and yours might get lost in the shuffle.\\n\\n4. **Not sure how to respond**: Sometimes people may not know how to respond to a message, especially if it requires a thoughtful or lengthy reply.\\n\\n5. **Misinterpretation**: It's possible that your messages are being misinterpreted or not coming across the way you intend them to.\\n\\nTo increase the chances of getting responses, consider the following tips:\\n\\n1. **Be patient**: Give people time to respond before following up.\\n\\n2. **Keep messages concise**: Try to be clear and concise in your messages to make it easier for others to respond.\\n\\n3. **Engage in meaningful conversations**: Instead of just sending generic messages, try to initiate conversations that are engaging and interesting.\\n\\n4. **Show interest in others**: Ask questions and show genuine interest in the other person to encourage them to respond.\\n\\n5. **Respect boundaries**: Understand that people may not always be available to chat, and it's important to respect their boundaries.\\n\\nRemember, communication is a two-way street, and sometimes it's just a matter of finding the right timing and approach.\"],\n",
       " [85,\n",
       "  85,\n",
       "  85,\n",
       "  \"It's natural to feel concerned when people don't respond to your messages, but there could be various reasons why they might not reply promptly. Here are a few possible explanations:\\n\\n1. **Busy Schedule**: People might be busy with work, school, or other commitments, making it difficult for them to respond immediately.\\n\\n2. **Forgetfulness**: Sometimes, individuals may read a message with the intention of replying later but end up forgetting about it.\\n\\n3. **Overwhelmed Inbox**: People may receive a high volume of messages, leading to some messages being overlooked or forgotten.\\n\\n4. **Lack of Interest**: While it's not ideal, some individuals may not respond if they are not interested in the conversation or the topic being discussed.\\n\\n5. **Technical Issues**: Occasionally, messages may not be delivered or may be missed due to technical glitches or issues with the messaging platform.\\n\\nTo increase the likelihood of receiving responses, here are some tips:\\n\\n1. **Be Patient**: Give people some time to respond before following up. They may reply when they have a moment.\\n\\n2. **Engage in Meaningful Conversations**: Try to initiate conversations that are engaging and relevant to the person you're messaging. This can increase the chances of getting a response.\\n\\n3. **Respect Boundaries**: Be mindful of the other person's time and availability. Avoid bombarding them with multiple messages if they haven't responded.\\n\\n4. **Use Various Communication Channels**: If one platform doesn't seem to be working well for communication, try reaching out through different channels.\\n\\n5. **Ask Direct Questions**: Sometimes, people may not reply if they are unsure how to respond. Asking direct questions can prompt a response.\\n\\nRemember, everyone has different communication styles and preferences. If someone consistently ignores your messages or shows disinterest, it may be a sign to reassess the relationship and focus on connections that value and reciprocate your communication efforts.\"]]"
      ]
     },
     "execution_count": 118,
     "metadata": {},
     "output_type": "execute_result"
    }
   ],
   "source": [
    "chat_gpt_responses4"
   ]
  },
  {
   "cell_type": "code",
   "execution_count": 119,
   "metadata": {},
   "outputs": [
    {
     "name": "stdout",
     "output_type": "stream",
     "text": [
      "I understand the feeling of not being liked due to not having any responses on the sites you list.More than likely the non-response has less to do with liking you than w liking the way you write your messages.Have you tried asking a question in your posts?  This would be one way to invite people to answer your post.When you write,  imagine yourself as the reader of the post.If you think about the wording of a question which would motivate you to respond, then this formula will very likely be the same for many others who read your post.Good luck!\n",
      "Sorry to hear your friends aren't responding to you. If these friends are in-person as well as online, perhaps going to them in person and asking talking to them about your concern. Perhaps it's the way you send messages or the way they are receiving them. if they say no, then a simple request to respond to your messages. Measure the result and notice if there are even small differences. Also understand, why this is so important to you. Ask yourself, why it's so important for you to receive these messages from friends. What does it mean when they don't respond.\n",
      "I'm sorry that you are having a difficult time.I wonder about how your friendships are in person. If you get along well with people and have effective conversations with them face-to-face, there could be some kind of technology-related problem.Have you tried gently talking to people about how you send a message and they didn't answer? If you can phrase it in such a way that they recognize that you are asking for information and not blaming them for not answering you, that could be effective.I'd also encourage you to consider how much this is bothering you. If it is causing a significant amount of anxiety (say, more than 5/10 if 10 is really anxious), I would suggest talking with a local therapist.In the meantime, consider talking about this with someone you trust to whom you can get more details to get a more specific answer.\n"
     ]
    }
   ],
   "source": [
    "for j in range(3):\n",
    "    print(dataset_response_s4.iloc[j])"
   ]
  },
  {
   "cell_type": "code",
   "execution_count": null,
   "metadata": {},
   "outputs": [],
   "source": []
  },
  {
   "cell_type": "code",
   "execution_count": null,
   "metadata": {},
   "outputs": [],
   "source": []
  },
  {
   "cell_type": "markdown",
   "metadata": {},
   "source": [
    "## Help or advise needed\n",
    "\n",
    "I am not sure in the correctness of my comparing. Results are very similar. On this point I will pause and ask for help, and maybe think myself. \n",
    "\n",
    "I am getting the 85 score most of the time\n",
    "\n",
    "I think the comparing prompt may not be perfect. Need to think about it\n"
   ]
  },
  {
   "cell_type": "code",
   "execution_count": null,
   "metadata": {},
   "outputs": [],
   "source": []
  },
  {
   "cell_type": "code",
   "execution_count": null,
   "metadata": {},
   "outputs": [],
   "source": []
  }
 ],
 "metadata": {
  "kernelspec": {
   "display_name": "Python 3",
   "language": "python",
   "name": "python3"
  },
  "language_info": {
   "codemirror_mode": {
    "name": "ipython",
    "version": 3
   },
   "file_extension": ".py",
   "mimetype": "text/x-python",
   "name": "python",
   "nbconvert_exporter": "python",
   "pygments_lexer": "ipython3",
   "version": "3.11.6"
  }
 },
 "nbformat": 4,
 "nbformat_minor": 2
}
