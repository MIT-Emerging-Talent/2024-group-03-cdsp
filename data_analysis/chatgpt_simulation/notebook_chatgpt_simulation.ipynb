{
 "cells": [
  {
   "cell_type": "markdown",
   "metadata": {},
   "source": [
    "# ChatGPT Mental Support simulation"
   ]
  },
  {
   "cell_type": "markdown",
   "metadata": {},
   "source": [
    "In this notebook we will simulate how chatGPT will respond to request from people with mental issues, problems and worries, that will be expressed plain in conversation.\n",
    "This responses will be compared to responses from mental counselor to see how is chatGPT doing this.\n",
    "\n",
    "### Dataset\n",
    "\n",
    "This simulation is based on this dataset:\n",
    "\n",
    "[Mental health Counseling Conversations dataset](https://www.kaggle.com/datasets/thedevastator/nlp-mental-health-conversations)\n",
    "\n",
    "### Dataset structure\n",
    "\n",
    "| Column   | Description | \n",
    "|----------|----------|\n",
    "| Context  | Request, phrase, query sentence from the patient, that seems to have mental troubles, problem, disorders of different kind        |  \n",
    "| Response | Response, that mental counselor is supposed to give. For one ```Context``` there is from 5 to 25 different responses | \n",
    "\n",
    "\n",
    "### Comparison\n",
    "\n",
    "Comparison between ChatGPT response will be done with special prompt, resulting in score [0-100], and be done comparing one response from ChatGRT to all (one by one) responses from the dataset. New dataset will chatGPT responses and scores will be build, and then explored\n",
    "\n"
   ]
  },
  {
   "cell_type": "markdown",
   "metadata": {},
   "source": [
    "## Preparing the data"
   ]
  },
  {
   "cell_type": "markdown",
   "metadata": {},
   "source": [
    "The dataset on the link above is available to download, so here it is already present in the ```dataset/NLP_Mental_Health_Conversations.csv```"
   ]
  },
  {
   "cell_type": "code",
   "execution_count": 86,
   "metadata": {},
   "outputs": [],
   "source": [
    "#!pip install pandas"
   ]
  },
  {
   "cell_type": "code",
   "execution_count": 87,
   "metadata": {},
   "outputs": [],
   "source": [
    "import pandas as pd"
   ]
  },
  {
   "cell_type": "code",
   "execution_count": 88,
   "metadata": {},
   "outputs": [
    {
     "data": {
      "text/html": [
       "<div>\n",
       "<style scoped>\n",
       "    .dataframe tbody tr th:only-of-type {\n",
       "        vertical-align: middle;\n",
       "    }\n",
       "\n",
       "    .dataframe tbody tr th {\n",
       "        vertical-align: top;\n",
       "    }\n",
       "\n",
       "    .dataframe thead th {\n",
       "        text-align: right;\n",
       "    }\n",
       "</style>\n",
       "<table border=\"1\" class=\"dataframe\">\n",
       "  <thead>\n",
       "    <tr style=\"text-align: right;\">\n",
       "      <th></th>\n",
       "      <th>Context</th>\n",
       "      <th>Response</th>\n",
       "    </tr>\n",
       "  </thead>\n",
       "  <tbody>\n",
       "    <tr>\n",
       "      <th>0</th>\n",
       "      <td>I'm going through some things with my feelings...</td>\n",
       "      <td>If everyone thinks you're worthless, then mayb...</td>\n",
       "    </tr>\n",
       "    <tr>\n",
       "      <th>1</th>\n",
       "      <td>I'm going through some things with my feelings...</td>\n",
       "      <td>Hello, and thank you for your question and see...</td>\n",
       "    </tr>\n",
       "    <tr>\n",
       "      <th>2</th>\n",
       "      <td>I'm going through some things with my feelings...</td>\n",
       "      <td>First thing I'd suggest is getting the sleep y...</td>\n",
       "    </tr>\n",
       "    <tr>\n",
       "      <th>3</th>\n",
       "      <td>I'm going through some things with my feelings...</td>\n",
       "      <td>Therapy is essential for those that are feelin...</td>\n",
       "    </tr>\n",
       "    <tr>\n",
       "      <th>4</th>\n",
       "      <td>I'm going through some things with my feelings...</td>\n",
       "      <td>I first want to let you know that you are not ...</td>\n",
       "    </tr>\n",
       "  </tbody>\n",
       "</table>\n",
       "</div>"
      ],
      "text/plain": [
       "                                             Context  \\\n",
       "0  I'm going through some things with my feelings...   \n",
       "1  I'm going through some things with my feelings...   \n",
       "2  I'm going through some things with my feelings...   \n",
       "3  I'm going through some things with my feelings...   \n",
       "4  I'm going through some things with my feelings...   \n",
       "\n",
       "                                            Response  \n",
       "0  If everyone thinks you're worthless, then mayb...  \n",
       "1  Hello, and thank you for your question and see...  \n",
       "2  First thing I'd suggest is getting the sleep y...  \n",
       "3  Therapy is essential for those that are feelin...  \n",
       "4  I first want to let you know that you are not ...  "
      ]
     },
     "execution_count": 88,
     "metadata": {},
     "output_type": "execute_result"
    }
   ],
   "source": [
    "CONVERSATIONS_DATASET_FILENAME='dataset/NLP_Mental_Health_Conversations.csv'\n",
    "\n",
    "conversation_dataset=pd.read_csv(CONVERSATIONS_DATASET_FILENAME)\n",
    "\n",
    "conversation_dataset.head()"
   ]
  },
  {
   "cell_type": "code",
   "execution_count": 89,
   "metadata": {},
   "outputs": [
    {
     "data": {
      "text/plain": [
       "3512"
      ]
     },
     "execution_count": 89,
     "metadata": {},
     "output_type": "execute_result"
    }
   ],
   "source": [
    "len(conversation_dataset)"
   ]
  },
  {
   "cell_type": "code",
   "execution_count": 90,
   "metadata": {},
   "outputs": [],
   "source": [
    "conversation_dataset.columns = conversation_dataset.columns.str.lower().str.replace(' ', '_')"
   ]
  },
  {
   "cell_type": "code",
   "execution_count": 91,
   "metadata": {},
   "outputs": [
    {
     "data": {
      "text/plain": [
       "context     0\n",
       "response    4\n",
       "dtype: int64"
      ]
     },
     "execution_count": 91,
     "metadata": {},
     "output_type": "execute_result"
    }
   ],
   "source": [
    "conversation_dataset.isna().sum()"
   ]
  },
  {
   "cell_type": "code",
   "execution_count": 92,
   "metadata": {},
   "outputs": [
    {
     "data": {
      "text/html": [
       "<div>\n",
       "<style scoped>\n",
       "    .dataframe tbody tr th:only-of-type {\n",
       "        vertical-align: middle;\n",
       "    }\n",
       "\n",
       "    .dataframe tbody tr th {\n",
       "        vertical-align: top;\n",
       "    }\n",
       "\n",
       "    .dataframe thead th {\n",
       "        text-align: right;\n",
       "    }\n",
       "</style>\n",
       "<table border=\"1\" class=\"dataframe\">\n",
       "  <thead>\n",
       "    <tr style=\"text-align: right;\">\n",
       "      <th></th>\n",
       "      <th>context</th>\n",
       "      <th>response</th>\n",
       "    </tr>\n",
       "  </thead>\n",
       "  <tbody>\n",
       "    <tr>\n",
       "      <th>count</th>\n",
       "      <td>3512</td>\n",
       "      <td>3508</td>\n",
       "    </tr>\n",
       "    <tr>\n",
       "      <th>unique</th>\n",
       "      <td>995</td>\n",
       "      <td>2479</td>\n",
       "    </tr>\n",
       "    <tr>\n",
       "      <th>top</th>\n",
       "      <td>I have so many issues to address. I have a his...</td>\n",
       "      <td>It's normal to feel a little anxiety--after al...</td>\n",
       "    </tr>\n",
       "    <tr>\n",
       "      <th>freq</th>\n",
       "      <td>94</td>\n",
       "      <td>3</td>\n",
       "    </tr>\n",
       "  </tbody>\n",
       "</table>\n",
       "</div>"
      ],
      "text/plain": [
       "                                                  context  \\\n",
       "count                                                3512   \n",
       "unique                                                995   \n",
       "top     I have so many issues to address. I have a his...   \n",
       "freq                                                   94   \n",
       "\n",
       "                                                 response  \n",
       "count                                                3508  \n",
       "unique                                               2479  \n",
       "top     It's normal to feel a little anxiety--after al...  \n",
       "freq                                                    3  "
      ]
     },
     "execution_count": 92,
     "metadata": {},
     "output_type": "execute_result"
    }
   ],
   "source": [
    "conversation_dataset.describe()"
   ]
  },
  {
   "cell_type": "code",
   "execution_count": 93,
   "metadata": {},
   "outputs": [
    {
     "name": "stdout",
     "output_type": "stream",
     "text": [
      "I'm in a state of depression right now. Who can I talk to? I've been sick in a lot of pain and crying. Don't know where to turn.\n"
     ]
    }
   ],
   "source": [
    "context_example=conversation_dataset.loc[328]['context']\n",
    "\n",
    "responses_example=conversation_dataset[conversation_dataset['context']==context_example]\n",
    "\n",
    "print(context_example)\n"
   ]
  },
  {
   "cell_type": "code",
   "execution_count": 94,
   "metadata": {},
   "outputs": [
    {
     "data": {
      "text/html": [
       "<div>\n",
       "<style scoped>\n",
       "    .dataframe tbody tr th:only-of-type {\n",
       "        vertical-align: middle;\n",
       "    }\n",
       "\n",
       "    .dataframe tbody tr th {\n",
       "        vertical-align: top;\n",
       "    }\n",
       "\n",
       "    .dataframe thead th {\n",
       "        text-align: right;\n",
       "    }\n",
       "</style>\n",
       "<table border=\"1\" class=\"dataframe\">\n",
       "  <thead>\n",
       "    <tr style=\"text-align: right;\">\n",
       "      <th></th>\n",
       "      <th>context</th>\n",
       "      <th>response</th>\n",
       "    </tr>\n",
       "  </thead>\n",
       "  <tbody>\n",
       "    <tr>\n",
       "      <th>328</th>\n",
       "      <td>I'm in a state of depression right now. Who ca...</td>\n",
       "      <td>First of all, if you’re sick and in pain, have...</td>\n",
       "    </tr>\n",
       "    <tr>\n",
       "      <th>2166</th>\n",
       "      <td>I'm in a state of depression right now. Who ca...</td>\n",
       "      <td>First of all, if you’re sick and in pain, have...</td>\n",
       "    </tr>\n",
       "  </tbody>\n",
       "</table>\n",
       "</div>"
      ],
      "text/plain": [
       "                                                context  \\\n",
       "328   I'm in a state of depression right now. Who ca...   \n",
       "2166  I'm in a state of depression right now. Who ca...   \n",
       "\n",
       "                                               response  \n",
       "328   First of all, if you’re sick and in pain, have...  \n",
       "2166  First of all, if you’re sick and in pain, have...  "
      ]
     },
     "execution_count": 94,
     "metadata": {},
     "output_type": "execute_result"
    }
   ],
   "source": [
    "responses_example"
   ]
  },
  {
   "cell_type": "code",
   "execution_count": 95,
   "metadata": {},
   "outputs": [
    {
     "name": "stdout",
     "output_type": "stream",
     "text": [
      "First of all, if you’re sick and in pain, have you seen your doctor? If you have a chronic illness and pain, this can often lead to depression and is very common. You’ve taken the first step to dealing with it. You can talk to your doctor, even if your depression isn’t related to your health. He or she can either look at prescribing you an antidepressant or can refer you to a psychologist or psychiatrist.If that’s not really an option for you, there are also helplines (local or national) or support groups where people dealing with similar issues can talk to each other. If you can't find any in your area (newspapers usually publish this information), there are online support groups as well.\n",
      "First of all, if you’re sick and in pain, have you seen your doctor? If you have a chronic illness and pain, this can often lead to depression and is very common. You’ve taken the first step to dealing with it. You can talk to your doctor, even if your depression isn’t related to your health. He or she can either look at prescribing you an antidepressant or can refer you to a psychologist or psychiatrist.If that’s not really an option for you, there are also helplines (local or national) or support groups where people dealing with similar issues can talk to each other. If you can't find any in your area (newspapers usually publish this information), there are online support groups as well. \n"
     ]
    }
   ],
   "source": [
    "responses_example.reset_index(inplace=True)\n",
    "responses_example\n",
    "print(responses_example.loc[0]['response'])\n",
    "print(responses_example.loc[1]['response'])"
   ]
  },
  {
   "cell_type": "markdown",
   "metadata": {},
   "source": [
    "### Dataset contains duplicate responses\n",
    "\n",
    "lets see some more"
   ]
  },
  {
   "cell_type": "code",
   "execution_count": 96,
   "metadata": {},
   "outputs": [
    {
     "name": "stdout",
     "output_type": "stream",
     "text": [
      "I have so many issues to address. I have a history of sexual abuse, I’m a breast cancer survivor and I am a lifetime insomniac.    I have a long history of depression and I’m beginning to have anxiety. I have low self esteem but I’ve been happily married for almost 35 years.\n",
      "   I’ve never had counseling about any of this. Do I have too many issues to address in counseling?\n"
     ]
    }
   ],
   "source": [
    "context_example=conversation_dataset.loc[38]['context']\n",
    "\n",
    "responses_example=conversation_dataset[conversation_dataset['context']==context_example]\n",
    "\n",
    "print(context_example)"
   ]
  },
  {
   "cell_type": "code",
   "execution_count": 97,
   "metadata": {},
   "outputs": [
    {
     "data": {
      "text/html": [
       "<div>\n",
       "<style scoped>\n",
       "    .dataframe tbody tr th:only-of-type {\n",
       "        vertical-align: middle;\n",
       "    }\n",
       "\n",
       "    .dataframe tbody tr th {\n",
       "        vertical-align: top;\n",
       "    }\n",
       "\n",
       "    .dataframe thead th {\n",
       "        text-align: right;\n",
       "    }\n",
       "</style>\n",
       "<table border=\"1\" class=\"dataframe\">\n",
       "  <thead>\n",
       "    <tr style=\"text-align: right;\">\n",
       "      <th></th>\n",
       "      <th>context</th>\n",
       "      <th>response</th>\n",
       "    </tr>\n",
       "  </thead>\n",
       "  <tbody>\n",
       "    <tr>\n",
       "      <th>23</th>\n",
       "      <td>I have so many issues to address. I have a his...</td>\n",
       "      <td>Let me start by saying there are never too man...</td>\n",
       "    </tr>\n",
       "    <tr>\n",
       "      <th>24</th>\n",
       "      <td>I have so many issues to address. I have a his...</td>\n",
       "      <td>It is never too late to get help and begin mak...</td>\n",
       "    </tr>\n",
       "    <tr>\n",
       "      <th>25</th>\n",
       "      <td>I have so many issues to address. I have a his...</td>\n",
       "      <td>You have been through so much and it sounds li...</td>\n",
       "    </tr>\n",
       "    <tr>\n",
       "      <th>26</th>\n",
       "      <td>I have so many issues to address. I have a his...</td>\n",
       "      <td>Absolutely not.  I strongly recommending worki...</td>\n",
       "    </tr>\n",
       "    <tr>\n",
       "      <th>27</th>\n",
       "      <td>I have so many issues to address. I have a his...</td>\n",
       "      <td>Absolutely not!  In fact, most people have man...</td>\n",
       "    </tr>\n",
       "    <tr>\n",
       "      <th>...</th>\n",
       "      <td>...</td>\n",
       "      <td>...</td>\n",
       "    </tr>\n",
       "    <tr>\n",
       "      <th>2010</th>\n",
       "      <td>I have so many issues to address. I have a his...</td>\n",
       "      <td>The way it goes is that all your issues are co...</td>\n",
       "    </tr>\n",
       "    <tr>\n",
       "      <th>2011</th>\n",
       "      <td>I have so many issues to address. I have a his...</td>\n",
       "      <td>I think this is a very common question that pe...</td>\n",
       "    </tr>\n",
       "    <tr>\n",
       "      <th>2012</th>\n",
       "      <td>I have so many issues to address. I have a his...</td>\n",
       "      <td>Hello, I'm so glad you decided to take the fir...</td>\n",
       "    </tr>\n",
       "    <tr>\n",
       "      <th>2013</th>\n",
       "      <td>I have so many issues to address. I have a his...</td>\n",
       "      <td>Not at all my dear. Human beings are complex c...</td>\n",
       "    </tr>\n",
       "    <tr>\n",
       "      <th>2014</th>\n",
       "      <td>I have so many issues to address. I have a his...</td>\n",
       "      <td>Everyone has topics to discuss when they start...</td>\n",
       "    </tr>\n",
       "  </tbody>\n",
       "</table>\n",
       "<p>94 rows × 2 columns</p>\n",
       "</div>"
      ],
      "text/plain": [
       "                                                context  \\\n",
       "23    I have so many issues to address. I have a his...   \n",
       "24    I have so many issues to address. I have a his...   \n",
       "25    I have so many issues to address. I have a his...   \n",
       "26    I have so many issues to address. I have a his...   \n",
       "27    I have so many issues to address. I have a his...   \n",
       "...                                                 ...   \n",
       "2010  I have so many issues to address. I have a his...   \n",
       "2011  I have so many issues to address. I have a his...   \n",
       "2012  I have so many issues to address. I have a his...   \n",
       "2013  I have so many issues to address. I have a his...   \n",
       "2014  I have so many issues to address. I have a his...   \n",
       "\n",
       "                                               response  \n",
       "23    Let me start by saying there are never too man...  \n",
       "24    It is never too late to get help and begin mak...  \n",
       "25    You have been through so much and it sounds li...  \n",
       "26    Absolutely not.  I strongly recommending worki...  \n",
       "27    Absolutely not!  In fact, most people have man...  \n",
       "...                                                 ...  \n",
       "2010  The way it goes is that all your issues are co...  \n",
       "2011  I think this is a very common question that pe...  \n",
       "2012  Hello, I'm so glad you decided to take the fir...  \n",
       "2013  Not at all my dear. Human beings are complex c...  \n",
       "2014  Everyone has topics to discuss when they start...  \n",
       "\n",
       "[94 rows x 2 columns]"
      ]
     },
     "execution_count": 97,
     "metadata": {},
     "output_type": "execute_result"
    }
   ],
   "source": [
    "responses_example"
   ]
  },
  {
   "cell_type": "code",
   "execution_count": 98,
   "metadata": {},
   "outputs": [
    {
     "name": "stdout",
     "output_type": "stream",
     "text": [
      "I'm fine when we start becoming intimate, but out of nowhere, I will get a flashback of what happened to me in the past. I start hysterically crying and freaking out when my boyfriend obviously has done nothing to hurt me.\n"
     ]
    }
   ],
   "source": [
    "context_example=conversation_dataset.loc[1000]['context']\n",
    "\n",
    "responses_example=conversation_dataset[conversation_dataset['context']==context_example]\n",
    "\n",
    "print(context_example)"
   ]
  },
  {
   "cell_type": "code",
   "execution_count": 99,
   "metadata": {},
   "outputs": [
    {
     "data": {
      "text/html": [
       "<div>\n",
       "<style scoped>\n",
       "    .dataframe tbody tr th:only-of-type {\n",
       "        vertical-align: middle;\n",
       "    }\n",
       "\n",
       "    .dataframe tbody tr th {\n",
       "        vertical-align: top;\n",
       "    }\n",
       "\n",
       "    .dataframe thead th {\n",
       "        text-align: right;\n",
       "    }\n",
       "</style>\n",
       "<table border=\"1\" class=\"dataframe\">\n",
       "  <thead>\n",
       "    <tr style=\"text-align: right;\">\n",
       "      <th></th>\n",
       "      <th>context</th>\n",
       "      <th>response</th>\n",
       "    </tr>\n",
       "  </thead>\n",
       "  <tbody>\n",
       "    <tr>\n",
       "      <th>999</th>\n",
       "      <td>I'm fine when we start becoming intimate, but ...</td>\n",
       "      <td>Have you sought the support of a therapist rea...</td>\n",
       "    </tr>\n",
       "    <tr>\n",
       "      <th>1000</th>\n",
       "      <td>I'm fine when we start becoming intimate, but ...</td>\n",
       "      <td>Sexual intimacy can be very triggering for sur...</td>\n",
       "    </tr>\n",
       "    <tr>\n",
       "      <th>2701</th>\n",
       "      <td>I'm fine when we start becoming intimate, but ...</td>\n",
       "      <td>Have you sought the support of a therapist rea...</td>\n",
       "    </tr>\n",
       "    <tr>\n",
       "      <th>2709</th>\n",
       "      <td>I'm fine when we start becoming intimate, but ...</td>\n",
       "      <td>Sexual intimacy can be very triggering for su...</td>\n",
       "    </tr>\n",
       "  </tbody>\n",
       "</table>\n",
       "</div>"
      ],
      "text/plain": [
       "                                                context  \\\n",
       "999   I'm fine when we start becoming intimate, but ...   \n",
       "1000  I'm fine when we start becoming intimate, but ...   \n",
       "2701  I'm fine when we start becoming intimate, but ...   \n",
       "2709  I'm fine when we start becoming intimate, but ...   \n",
       "\n",
       "                                               response  \n",
       "999   Have you sought the support of a therapist rea...  \n",
       "1000  Sexual intimacy can be very triggering for sur...  \n",
       "2701  Have you sought the support of a therapist rea...  \n",
       "2709   Sexual intimacy can be very triggering for su...  "
      ]
     },
     "execution_count": 99,
     "metadata": {},
     "output_type": "execute_result"
    }
   ],
   "source": [
    "responses_example"
   ]
  },
  {
   "cell_type": "markdown",
   "metadata": {},
   "source": [
    "### Removing duplicates and zero entries"
   ]
  },
  {
   "cell_type": "code",
   "execution_count": 100,
   "metadata": {},
   "outputs": [],
   "source": [
    "conversation_dataset.dropna(subset=['response'], inplace=True)\n",
    "conversation_dataset.drop_duplicates(subset=['response'], inplace=True)\n",
    "conversation_dataset.reset_index(drop=True, inplace=True)"
   ]
  },
  {
   "cell_type": "code",
   "execution_count": 101,
   "metadata": {},
   "outputs": [
    {
     "data": {
      "text/plain": [
       "2479"
      ]
     },
     "execution_count": 101,
     "metadata": {},
     "output_type": "execute_result"
    }
   ],
   "source": [
    "len(conversation_dataset)"
   ]
  },
  {
   "cell_type": "code",
   "execution_count": 102,
   "metadata": {},
   "outputs": [
    {
     "data": {
      "text/plain": [
       "context     0\n",
       "response    0\n",
       "dtype: int64"
      ]
     },
     "execution_count": 102,
     "metadata": {},
     "output_type": "execute_result"
    }
   ],
   "source": [
    "conversation_dataset.isna().sum()"
   ]
  },
  {
   "cell_type": "code",
   "execution_count": 103,
   "metadata": {},
   "outputs": [
    {
     "name": "stdout",
     "output_type": "stream",
     "text": [
      "I'm in a state of depression right now. Who can I talk to? I've been sick in a lot of pain and crying. Don't know where to turn.\n"
     ]
    }
   ],
   "source": [
    "context_example=conversation_dataset.loc[328]['context']\n",
    "\n",
    "responses_example=conversation_dataset[conversation_dataset['context']==context_example]\n",
    "\n",
    "print(context_example)\n"
   ]
  },
  {
   "cell_type": "code",
   "execution_count": 104,
   "metadata": {},
   "outputs": [
    {
     "data": {
      "text/html": [
       "<div>\n",
       "<style scoped>\n",
       "    .dataframe tbody tr th:only-of-type {\n",
       "        vertical-align: middle;\n",
       "    }\n",
       "\n",
       "    .dataframe tbody tr th {\n",
       "        vertical-align: top;\n",
       "    }\n",
       "\n",
       "    .dataframe thead th {\n",
       "        text-align: right;\n",
       "    }\n",
       "</style>\n",
       "<table border=\"1\" class=\"dataframe\">\n",
       "  <thead>\n",
       "    <tr style=\"text-align: right;\">\n",
       "      <th></th>\n",
       "      <th>context</th>\n",
       "      <th>response</th>\n",
       "    </tr>\n",
       "  </thead>\n",
       "  <tbody>\n",
       "    <tr>\n",
       "      <th>328</th>\n",
       "      <td>I'm in a state of depression right now. Who ca...</td>\n",
       "      <td>First of all, if you’re sick and in pain, have...</td>\n",
       "    </tr>\n",
       "    <tr>\n",
       "      <th>2025</th>\n",
       "      <td>I'm in a state of depression right now. Who ca...</td>\n",
       "      <td>First of all, if you’re sick and in pain, have...</td>\n",
       "    </tr>\n",
       "  </tbody>\n",
       "</table>\n",
       "</div>"
      ],
      "text/plain": [
       "                                                context  \\\n",
       "328   I'm in a state of depression right now. Who ca...   \n",
       "2025  I'm in a state of depression right now. Who ca...   \n",
       "\n",
       "                                               response  \n",
       "328   First of all, if you’re sick and in pain, have...  \n",
       "2025  First of all, if you’re sick and in pain, have...  "
      ]
     },
     "execution_count": 104,
     "metadata": {},
     "output_type": "execute_result"
    }
   ],
   "source": [
    "responses_example"
   ]
  },
  {
   "cell_type": "code",
   "execution_count": 105,
   "metadata": {},
   "outputs": [
    {
     "data": {
      "text/html": [
       "<div>\n",
       "<style scoped>\n",
       "    .dataframe tbody tr th:only-of-type {\n",
       "        vertical-align: middle;\n",
       "    }\n",
       "\n",
       "    .dataframe tbody tr th {\n",
       "        vertical-align: top;\n",
       "    }\n",
       "\n",
       "    .dataframe thead th {\n",
       "        text-align: right;\n",
       "    }\n",
       "</style>\n",
       "<table border=\"1\" class=\"dataframe\">\n",
       "  <thead>\n",
       "    <tr style=\"text-align: right;\">\n",
       "      <th></th>\n",
       "      <th>context</th>\n",
       "      <th>response</th>\n",
       "    </tr>\n",
       "  </thead>\n",
       "  <tbody>\n",
       "    <tr>\n",
       "      <th>count</th>\n",
       "      <td>2479</td>\n",
       "      <td>2479</td>\n",
       "    </tr>\n",
       "    <tr>\n",
       "      <th>unique</th>\n",
       "      <td>912</td>\n",
       "      <td>2479</td>\n",
       "    </tr>\n",
       "    <tr>\n",
       "      <th>top</th>\n",
       "      <td>I have so many issues to address. I have a his...</td>\n",
       "      <td>If everyone thinks you're worthless, then mayb...</td>\n",
       "    </tr>\n",
       "    <tr>\n",
       "      <th>freq</th>\n",
       "      <td>47</td>\n",
       "      <td>1</td>\n",
       "    </tr>\n",
       "  </tbody>\n",
       "</table>\n",
       "</div>"
      ],
      "text/plain": [
       "                                                  context  \\\n",
       "count                                                2479   \n",
       "unique                                                912   \n",
       "top     I have so many issues to address. I have a his...   \n",
       "freq                                                   47   \n",
       "\n",
       "                                                 response  \n",
       "count                                                2479  \n",
       "unique                                               2479  \n",
       "top     If everyone thinks you're worthless, then mayb...  \n",
       "freq                                                    1  "
      ]
     },
     "execution_count": 105,
     "metadata": {},
     "output_type": "execute_result"
    }
   ],
   "source": [
    "conversation_dataset.describe()"
   ]
  },
  {
   "cell_type": "code",
   "execution_count": 106,
   "metadata": {},
   "outputs": [
    {
     "name": "stdout",
     "output_type": "stream",
     "text": [
      "I'm fine when we start becoming intimate, but out of nowhere, I will get a flashback of what happened to me in the past. I start hysterically crying and freaking out when my boyfriend obviously has done nothing to hurt me.\n"
     ]
    }
   ],
   "source": [
    "context_example=conversation_dataset.loc[1000]['context']\n",
    "\n",
    "responses_example=conversation_dataset[conversation_dataset['context']==context_example]\n",
    "\n",
    "print(context_example)"
   ]
  },
  {
   "cell_type": "code",
   "execution_count": 107,
   "metadata": {},
   "outputs": [
    {
     "data": {
      "text/html": [
       "<div>\n",
       "<style scoped>\n",
       "    .dataframe tbody tr th:only-of-type {\n",
       "        vertical-align: middle;\n",
       "    }\n",
       "\n",
       "    .dataframe tbody tr th {\n",
       "        vertical-align: top;\n",
       "    }\n",
       "\n",
       "    .dataframe thead th {\n",
       "        text-align: right;\n",
       "    }\n",
       "</style>\n",
       "<table border=\"1\" class=\"dataframe\">\n",
       "  <thead>\n",
       "    <tr style=\"text-align: right;\">\n",
       "      <th></th>\n",
       "      <th>context</th>\n",
       "      <th>response</th>\n",
       "    </tr>\n",
       "  </thead>\n",
       "  <tbody>\n",
       "    <tr>\n",
       "      <th>999</th>\n",
       "      <td>I'm fine when we start becoming intimate, but ...</td>\n",
       "      <td>Have you sought the support of a therapist rea...</td>\n",
       "    </tr>\n",
       "    <tr>\n",
       "      <th>1000</th>\n",
       "      <td>I'm fine when we start becoming intimate, but ...</td>\n",
       "      <td>Sexual intimacy can be very triggering for sur...</td>\n",
       "    </tr>\n",
       "    <tr>\n",
       "      <th>2221</th>\n",
       "      <td>I'm fine when we start becoming intimate, but ...</td>\n",
       "      <td>Have you sought the support of a therapist rea...</td>\n",
       "    </tr>\n",
       "    <tr>\n",
       "      <th>2226</th>\n",
       "      <td>I'm fine when we start becoming intimate, but ...</td>\n",
       "      <td>Sexual intimacy can be very triggering for su...</td>\n",
       "    </tr>\n",
       "  </tbody>\n",
       "</table>\n",
       "</div>"
      ],
      "text/plain": [
       "                                                context  \\\n",
       "999   I'm fine when we start becoming intimate, but ...   \n",
       "1000  I'm fine when we start becoming intimate, but ...   \n",
       "2221  I'm fine when we start becoming intimate, but ...   \n",
       "2226  I'm fine when we start becoming intimate, but ...   \n",
       "\n",
       "                                               response  \n",
       "999   Have you sought the support of a therapist rea...  \n",
       "1000  Sexual intimacy can be very triggering for sur...  \n",
       "2221  Have you sought the support of a therapist rea...  \n",
       "2226   Sexual intimacy can be very triggering for su...  "
      ]
     },
     "execution_count": 107,
     "metadata": {},
     "output_type": "execute_result"
    }
   ],
   "source": [
    "responses_example"
   ]
  },
  {
   "cell_type": "code",
   "execution_count": 108,
   "metadata": {},
   "outputs": [
    {
     "data": {
      "text/plain": [
       "False"
      ]
     },
     "execution_count": 108,
     "metadata": {},
     "output_type": "execute_result"
    }
   ],
   "source": [
    "conversation_dataset.loc[1000]['response']==conversation_dataset.loc[2226]['response']"
   ]
  },
  {
   "cell_type": "code",
   "execution_count": 109,
   "metadata": {},
   "outputs": [
    {
     "name": "stdout",
     "output_type": "stream",
     "text": [
      "Sexual intimacy can be very triggering for survivors even when it is both wanted and consensual.  You may want to consider seeing a therapist who specializes in trauma to work through the abuse if you have not already done so. Often times triggers still hold such a powerful effect when the emotions related to the abuse  have not been fully processed.  In the meantime, you may want to consider coming up with a Safe Word to let your partner know that you are being triggered or to communicate your physical boundaries to him.  Often times, the experience of communicating  your physical boundaries to your partner, having those boundaries respected and validated, and having a partner who is understanding and  willing to engage in intimacy in such a way that does not violate your physical boundaries  can reinforce a sense of safety with him.\n",
      " Sexual intimacy can be very triggering for survivors even when it is both wanted and consensual.  You may want to consider seeing a therapist who specializes in trauma to work through the abuse if you have not already done so. Often times triggers still hold such a powerful effect when the emotions related to the abuse  have not been fully processed.  In the meantime, you may want to consider coming up with a Safe Word to let your partner know that you are being triggered or to communicate your physical boundaries to him.  Often times, the experience of communicating  your physical boundaries to your partner, having those boundaries respected and validated, and having a partner who is understanding and  willing to engage in intimacy in such a way that does not violate your physical boundaries  can reinforce a sense of safety with him. \n",
      "First of all, if you’re sick and in pain, have you seen your doctor? If you have a chronic illness and pain, this can often lead to depression and is very common. You’ve taken the first step to dealing with it. You can talk to your doctor, even if your depression isn’t related to your health. He or she can either look at prescribing you an antidepressant or can refer you to a psychologist or psychiatrist.If that’s not really an option for you, there are also helplines (local or national) or support groups where people dealing with similar issues can talk to each other. If you can't find any in your area (newspapers usually publish this information), there are online support groups as well.\n",
      "First of all, if you’re sick and in pain, have you seen your doctor? If you have a chronic illness and pain, this can often lead to depression and is very common. You’ve taken the first step to dealing with it. You can talk to your doctor, even if your depression isn’t related to your health. He or she can either look at prescribing you an antidepressant or can refer you to a psychologist or psychiatrist.If that’s not really an option for you, there are also helplines (local or national) or support groups where people dealing with similar issues can talk to each other. If you can't find any in your area (newspapers usually publish this information), there are online support groups as well. \n",
      "False\n"
     ]
    }
   ],
   "source": [
    "print(conversation_dataset.loc[1000]['response'])\n",
    "print(conversation_dataset.loc[2226]['response'])\n",
    "\n",
    "print(conversation_dataset.loc[328]['response'])\n",
    "print(conversation_dataset.loc[2025]['response'])\n",
    "\n",
    "print(conversation_dataset.loc[328]['response']==conversation_dataset.loc[2025]['response'])"
   ]
  },
  {
   "cell_type": "code",
   "execution_count": 110,
   "metadata": {},
   "outputs": [
    {
     "name": "stdout",
     "output_type": "stream",
     "text": [
      "Positions where responses differ:\n",
      "[]\n",
      "Lengths of response1 and response2: 698 699\n"
     ]
    }
   ],
   "source": [
    "response1 = conversation_dataset.loc[328]['response']\n",
    "response2 = conversation_dataset.loc[2025]['response']\n",
    "\n",
    "# Find the minimum length of the two responses\n",
    "min_length = min(len(response1), len(response2))\n",
    "\n",
    "# Iterate through each character and find the positions where they differ\n",
    "differences = []\n",
    "for i in range(min_length):\n",
    "    if response1[i] != response2[i]:\n",
    "        differences.append(i)\n",
    "\n",
    "# Print the positions where the responses differ\n",
    "print(\"Positions where responses differ:\")\n",
    "print(differences)\n",
    "print('Lengths of response1 and response2:', len(response1), len(response2))"
   ]
  },
  {
   "cell_type": "code",
   "execution_count": 111,
   "metadata": {},
   "outputs": [
    {
     "name": "stdout",
     "output_type": "stream",
     "text": [
      "True\n"
     ]
    }
   ],
   "source": [
    "print(response1.strip()==response2.strip())"
   ]
  },
  {
   "cell_type": "markdown",
   "metadata": {},
   "source": [
    "So there is duplicate entries, but they differ in heading or trailing spaces.\n",
    "Let's fix this, and remove duplicates once more."
   ]
  },
  {
   "cell_type": "code",
   "execution_count": 112,
   "metadata": {},
   "outputs": [],
   "source": [
    "conversation_dataset['response']=conversation_dataset['response'].apply(lambda x: x.strip())"
   ]
  },
  {
   "cell_type": "code",
   "execution_count": 113,
   "metadata": {},
   "outputs": [
    {
     "data": {
      "text/html": [
       "<div>\n",
       "<style scoped>\n",
       "    .dataframe tbody tr th:only-of-type {\n",
       "        vertical-align: middle;\n",
       "    }\n",
       "\n",
       "    .dataframe tbody tr th {\n",
       "        vertical-align: top;\n",
       "    }\n",
       "\n",
       "    .dataframe thead th {\n",
       "        text-align: right;\n",
       "    }\n",
       "</style>\n",
       "<table border=\"1\" class=\"dataframe\">\n",
       "  <thead>\n",
       "    <tr style=\"text-align: right;\">\n",
       "      <th></th>\n",
       "      <th>context</th>\n",
       "      <th>response</th>\n",
       "    </tr>\n",
       "  </thead>\n",
       "  <tbody>\n",
       "    <tr>\n",
       "      <th>count</th>\n",
       "      <td>2479</td>\n",
       "      <td>2479</td>\n",
       "    </tr>\n",
       "    <tr>\n",
       "      <th>unique</th>\n",
       "      <td>912</td>\n",
       "      <td>2075</td>\n",
       "    </tr>\n",
       "    <tr>\n",
       "      <th>top</th>\n",
       "      <td>I have so many issues to address. I have a his...</td>\n",
       "      <td>This can be a very complicated situation. The ...</td>\n",
       "    </tr>\n",
       "    <tr>\n",
       "      <th>freq</th>\n",
       "      <td>47</td>\n",
       "      <td>2</td>\n",
       "    </tr>\n",
       "  </tbody>\n",
       "</table>\n",
       "</div>"
      ],
      "text/plain": [
       "                                                  context  \\\n",
       "count                                                2479   \n",
       "unique                                                912   \n",
       "top     I have so many issues to address. I have a his...   \n",
       "freq                                                   47   \n",
       "\n",
       "                                                 response  \n",
       "count                                                2479  \n",
       "unique                                               2075  \n",
       "top     This can be a very complicated situation. The ...  \n",
       "freq                                                    2  "
      ]
     },
     "execution_count": 113,
     "metadata": {},
     "output_type": "execute_result"
    }
   ],
   "source": [
    "conversation_dataset.describe()"
   ]
  },
  {
   "cell_type": "code",
   "execution_count": 114,
   "metadata": {},
   "outputs": [],
   "source": [
    "conversation_dataset.drop_duplicates(subset=['response'], inplace=True)\n",
    "conversation_dataset.reset_index(drop=True, inplace=True)"
   ]
  },
  {
   "cell_type": "code",
   "execution_count": 115,
   "metadata": {},
   "outputs": [
    {
     "data": {
      "text/html": [
       "<div>\n",
       "<style scoped>\n",
       "    .dataframe tbody tr th:only-of-type {\n",
       "        vertical-align: middle;\n",
       "    }\n",
       "\n",
       "    .dataframe tbody tr th {\n",
       "        vertical-align: top;\n",
       "    }\n",
       "\n",
       "    .dataframe thead th {\n",
       "        text-align: right;\n",
       "    }\n",
       "</style>\n",
       "<table border=\"1\" class=\"dataframe\">\n",
       "  <thead>\n",
       "    <tr style=\"text-align: right;\">\n",
       "      <th></th>\n",
       "      <th>context</th>\n",
       "      <th>response</th>\n",
       "    </tr>\n",
       "  </thead>\n",
       "  <tbody>\n",
       "    <tr>\n",
       "      <th>count</th>\n",
       "      <td>2075</td>\n",
       "      <td>2075</td>\n",
       "    </tr>\n",
       "    <tr>\n",
       "      <th>unique</th>\n",
       "      <td>847</td>\n",
       "      <td>2075</td>\n",
       "    </tr>\n",
       "    <tr>\n",
       "      <th>top</th>\n",
       "      <td>I have so many issues to address. I have a his...</td>\n",
       "      <td>If everyone thinks you're worthless, then mayb...</td>\n",
       "    </tr>\n",
       "    <tr>\n",
       "      <th>freq</th>\n",
       "      <td>47</td>\n",
       "      <td>1</td>\n",
       "    </tr>\n",
       "  </tbody>\n",
       "</table>\n",
       "</div>"
      ],
      "text/plain": [
       "                                                  context  \\\n",
       "count                                                2075   \n",
       "unique                                                847   \n",
       "top     I have so many issues to address. I have a his...   \n",
       "freq                                                   47   \n",
       "\n",
       "                                                 response  \n",
       "count                                                2075  \n",
       "unique                                               2075  \n",
       "top     If everyone thinks you're worthless, then mayb...  \n",
       "freq                                                    1  "
      ]
     },
     "execution_count": 115,
     "metadata": {},
     "output_type": "execute_result"
    }
   ],
   "source": [
    "conversation_dataset.describe()"
   ]
  },
  {
   "cell_type": "code",
   "execution_count": 116,
   "metadata": {},
   "outputs": [
    {
     "name": "stdout",
     "output_type": "stream",
     "text": [
      "I'm fine when we start becoming intimate, but out of nowhere, I will get a flashback of what happened to me in the past. I start hysterically crying and freaking out when my boyfriend obviously has done nothing to hurt me.\n"
     ]
    }
   ],
   "source": [
    "# Test once more\n",
    "context_example=conversation_dataset.loc[1000]['context']\n",
    "\n",
    "responses_example=conversation_dataset[conversation_dataset['context']==context_example]\n",
    "\n",
    "print(context_example)"
   ]
  },
  {
   "cell_type": "code",
   "execution_count": 117,
   "metadata": {},
   "outputs": [
    {
     "data": {
      "text/html": [
       "<div>\n",
       "<style scoped>\n",
       "    .dataframe tbody tr th:only-of-type {\n",
       "        vertical-align: middle;\n",
       "    }\n",
       "\n",
       "    .dataframe tbody tr th {\n",
       "        vertical-align: top;\n",
       "    }\n",
       "\n",
       "    .dataframe thead th {\n",
       "        text-align: right;\n",
       "    }\n",
       "</style>\n",
       "<table border=\"1\" class=\"dataframe\">\n",
       "  <thead>\n",
       "    <tr style=\"text-align: right;\">\n",
       "      <th></th>\n",
       "      <th>context</th>\n",
       "      <th>response</th>\n",
       "    </tr>\n",
       "  </thead>\n",
       "  <tbody>\n",
       "    <tr>\n",
       "      <th>999</th>\n",
       "      <td>I'm fine when we start becoming intimate, but ...</td>\n",
       "      <td>Have you sought the support of a therapist rea...</td>\n",
       "    </tr>\n",
       "    <tr>\n",
       "      <th>1000</th>\n",
       "      <td>I'm fine when we start becoming intimate, but ...</td>\n",
       "      <td>Sexual intimacy can be very triggering for sur...</td>\n",
       "    </tr>\n",
       "  </tbody>\n",
       "</table>\n",
       "</div>"
      ],
      "text/plain": [
       "                                                context  \\\n",
       "999   I'm fine when we start becoming intimate, but ...   \n",
       "1000  I'm fine when we start becoming intimate, but ...   \n",
       "\n",
       "                                               response  \n",
       "999   Have you sought the support of a therapist rea...  \n",
       "1000  Sexual intimacy can be very triggering for sur...  "
      ]
     },
     "execution_count": 117,
     "metadata": {},
     "output_type": "execute_result"
    }
   ],
   "source": [
    "responses_example"
   ]
  },
  {
   "cell_type": "markdown",
   "metadata": {},
   "source": [
    "### Errors in dataset\n",
    "\n",
    "Working with the dataset I found some irrelevant entries. So we should just delete them\n"
   ]
  },
  {
   "cell_type": "code",
   "execution_count": 136,
   "metadata": {},
   "outputs": [],
   "source": [
    "error_context=[\" such as not enough sleep\", \n",
    "\"Can a counselor take sides with one parent and allow a parent to order the child to tell the counselor\"]\n",
    "\n",
    "conversation_dataset=conversation_dataset[~conversation_dataset['context'].str.startswith(tuple(error_context))]\n"
   ]
  },
  {
   "cell_type": "code",
   "execution_count": 137,
   "metadata": {},
   "outputs": [
    {
     "data": {
      "text/html": [
       "<div>\n",
       "<style scoped>\n",
       "    .dataframe tbody tr th:only-of-type {\n",
       "        vertical-align: middle;\n",
       "    }\n",
       "\n",
       "    .dataframe tbody tr th {\n",
       "        vertical-align: top;\n",
       "    }\n",
       "\n",
       "    .dataframe thead th {\n",
       "        text-align: right;\n",
       "    }\n",
       "</style>\n",
       "<table border=\"1\" class=\"dataframe\">\n",
       "  <thead>\n",
       "    <tr style=\"text-align: right;\">\n",
       "      <th></th>\n",
       "      <th>context</th>\n",
       "      <th>response</th>\n",
       "    </tr>\n",
       "  </thead>\n",
       "  <tbody>\n",
       "    <tr>\n",
       "      <th>count</th>\n",
       "      <td>2072</td>\n",
       "      <td>2072</td>\n",
       "    </tr>\n",
       "    <tr>\n",
       "      <th>unique</th>\n",
       "      <td>845</td>\n",
       "      <td>2072</td>\n",
       "    </tr>\n",
       "    <tr>\n",
       "      <th>top</th>\n",
       "      <td>I have so many issues to address. I have a his...</td>\n",
       "      <td>If everyone thinks you're worthless, then mayb...</td>\n",
       "    </tr>\n",
       "    <tr>\n",
       "      <th>freq</th>\n",
       "      <td>47</td>\n",
       "      <td>1</td>\n",
       "    </tr>\n",
       "  </tbody>\n",
       "</table>\n",
       "</div>"
      ],
      "text/plain": [
       "                                                  context  \\\n",
       "count                                                2072   \n",
       "unique                                                845   \n",
       "top     I have so many issues to address. I have a his...   \n",
       "freq                                                   47   \n",
       "\n",
       "                                                 response  \n",
       "count                                                2072  \n",
       "unique                                               2072  \n",
       "top     If everyone thinks you're worthless, then mayb...  \n",
       "freq                                                    1  "
      ]
     },
     "execution_count": 137,
     "metadata": {},
     "output_type": "execute_result"
    }
   ],
   "source": [
    "conversation_dataset.describe()"
   ]
  },
  {
   "cell_type": "code",
   "execution_count": 138,
   "metadata": {},
   "outputs": [],
   "source": [
    "context_unique = conversation_dataset.groupby('context').size().reset_index(name='count')"
   ]
  },
  {
   "cell_type": "code",
   "execution_count": 139,
   "metadata": {},
   "outputs": [
    {
     "data": {
      "text/html": [
       "<div>\n",
       "<style scoped>\n",
       "    .dataframe tbody tr th:only-of-type {\n",
       "        vertical-align: middle;\n",
       "    }\n",
       "\n",
       "    .dataframe tbody tr th {\n",
       "        vertical-align: top;\n",
       "    }\n",
       "\n",
       "    .dataframe thead th {\n",
       "        text-align: right;\n",
       "    }\n",
       "</style>\n",
       "<table border=\"1\" class=\"dataframe\">\n",
       "  <thead>\n",
       "    <tr style=\"text-align: right;\">\n",
       "      <th></th>\n",
       "      <th>context</th>\n",
       "      <th>count</th>\n",
       "    </tr>\n",
       "  </thead>\n",
       "  <tbody>\n",
       "    <tr>\n",
       "      <th>286</th>\n",
       "      <td>I have so many issues to address. I have a his...</td>\n",
       "      <td>47</td>\n",
       "    </tr>\n",
       "    <tr>\n",
       "      <th>78</th>\n",
       "      <td>How do you know you have the right therapist f...</td>\n",
       "      <td>41</td>\n",
       "    </tr>\n",
       "    <tr>\n",
       "      <th>546</th>\n",
       "      <td>Is it normal for people to cry during therapy,...</td>\n",
       "      <td>38</td>\n",
       "    </tr>\n",
       "    <tr>\n",
       "      <th>524</th>\n",
       "      <td>I've gone to a couple therapy sessions so far ...</td>\n",
       "      <td>26</td>\n",
       "    </tr>\n",
       "    <tr>\n",
       "      <th>462</th>\n",
       "      <td>I'm going through some things with my feelings...</td>\n",
       "      <td>23</td>\n",
       "    </tr>\n",
       "    <tr>\n",
       "      <th>...</th>\n",
       "      <td>...</td>\n",
       "      <td>...</td>\n",
       "    </tr>\n",
       "    <tr>\n",
       "      <th>361</th>\n",
       "      <td>I stress over everything. If I don't have enou...</td>\n",
       "      <td>1</td>\n",
       "    </tr>\n",
       "    <tr>\n",
       "      <th>366</th>\n",
       "      <td>I think I have depression, anxiety, bipolar di...</td>\n",
       "      <td>1</td>\n",
       "    </tr>\n",
       "    <tr>\n",
       "      <th>369</th>\n",
       "      <td>I think adult life is making him depressed and...</td>\n",
       "      <td>1</td>\n",
       "    </tr>\n",
       "    <tr>\n",
       "      <th>370</th>\n",
       "      <td>I think i may suffer from depression, and it i...</td>\n",
       "      <td>1</td>\n",
       "    </tr>\n",
       "    <tr>\n",
       "      <th>844</th>\n",
       "      <td>i was addicted to porn since the second grade....</td>\n",
       "      <td>1</td>\n",
       "    </tr>\n",
       "  </tbody>\n",
       "</table>\n",
       "<p>845 rows × 2 columns</p>\n",
       "</div>"
      ],
      "text/plain": [
       "                                               context  count\n",
       "286  I have so many issues to address. I have a his...     47\n",
       "78   How do you know you have the right therapist f...     41\n",
       "546  Is it normal for people to cry during therapy,...     38\n",
       "524  I've gone to a couple therapy sessions so far ...     26\n",
       "462  I'm going through some things with my feelings...     23\n",
       "..                                                 ...    ...\n",
       "361  I stress over everything. If I don't have enou...      1\n",
       "366  I think I have depression, anxiety, bipolar di...      1\n",
       "369  I think adult life is making him depressed and...      1\n",
       "370  I think i may suffer from depression, and it i...      1\n",
       "844  i was addicted to porn since the second grade....      1\n",
       "\n",
       "[845 rows x 2 columns]"
      ]
     },
     "execution_count": 139,
     "metadata": {},
     "output_type": "execute_result"
    }
   ],
   "source": [
    "context_unique.sort_values('count',ascending=False)"
   ]
  },
  {
   "cell_type": "code",
   "execution_count": 140,
   "metadata": {},
   "outputs": [
    {
     "data": {
      "text/html": [
       "<div>\n",
       "<style scoped>\n",
       "    .dataframe tbody tr th:only-of-type {\n",
       "        vertical-align: middle;\n",
       "    }\n",
       "\n",
       "    .dataframe tbody tr th {\n",
       "        vertical-align: top;\n",
       "    }\n",
       "\n",
       "    .dataframe thead th {\n",
       "        text-align: right;\n",
       "    }\n",
       "</style>\n",
       "<table border=\"1\" class=\"dataframe\">\n",
       "  <thead>\n",
       "    <tr style=\"text-align: right;\">\n",
       "      <th></th>\n",
       "      <th>context</th>\n",
       "      <th>count</th>\n",
       "    </tr>\n",
       "  </thead>\n",
       "  <tbody>\n",
       "    <tr>\n",
       "      <th>286</th>\n",
       "      <td>I have so many issues to address. I have a his...</td>\n",
       "      <td>47</td>\n",
       "    </tr>\n",
       "    <tr>\n",
       "      <th>78</th>\n",
       "      <td>How do you know you have the right therapist f...</td>\n",
       "      <td>41</td>\n",
       "    </tr>\n",
       "    <tr>\n",
       "      <th>546</th>\n",
       "      <td>Is it normal for people to cry during therapy,...</td>\n",
       "      <td>38</td>\n",
       "    </tr>\n",
       "    <tr>\n",
       "      <th>524</th>\n",
       "      <td>I've gone to a couple therapy sessions so far ...</td>\n",
       "      <td>26</td>\n",
       "    </tr>\n",
       "    <tr>\n",
       "      <th>462</th>\n",
       "      <td>I'm going through some things with my feelings...</td>\n",
       "      <td>23</td>\n",
       "    </tr>\n",
       "    <tr>\n",
       "      <th>832</th>\n",
       "      <td>When my daughter is stressed about a silly thi...</td>\n",
       "      <td>23</td>\n",
       "    </tr>\n",
       "    <tr>\n",
       "      <th>80</th>\n",
       "      <td>How does a person start the counseling process?</td>\n",
       "      <td>22</td>\n",
       "    </tr>\n",
       "    <tr>\n",
       "      <th>31</th>\n",
       "      <td>Does counseling really do anything that can he...</td>\n",
       "      <td>21</td>\n",
       "    </tr>\n",
       "    <tr>\n",
       "      <th>79</th>\n",
       "      <td>How does a counselor decide when to end counse...</td>\n",
       "      <td>21</td>\n",
       "    </tr>\n",
       "    <tr>\n",
       "      <th>73</th>\n",
       "      <td>How do I decide if I should end my relationshi...</td>\n",
       "      <td>15</td>\n",
       "    </tr>\n",
       "    <tr>\n",
       "      <th>41</th>\n",
       "      <td>Every winter I find myself getting sad because...</td>\n",
       "      <td>15</td>\n",
       "    </tr>\n",
       "    <tr>\n",
       "      <th>699</th>\n",
       "      <td>My mother takes care of niece whom my sister a...</td>\n",
       "      <td>13</td>\n",
       "    </tr>\n",
       "    <tr>\n",
       "      <th>354</th>\n",
       "      <td>I start counseling/therapy in a few days (I'm ...</td>\n",
       "      <td>12</td>\n",
       "    </tr>\n",
       "    <tr>\n",
       "      <th>305</th>\n",
       "      <td>I just took a job that requires me to travel f...</td>\n",
       "      <td>11</td>\n",
       "    </tr>\n",
       "    <tr>\n",
       "      <th>311</th>\n",
       "      <td>I keep having these random thoughts that I don...</td>\n",
       "      <td>11</td>\n",
       "    </tr>\n",
       "    <tr>\n",
       "      <th>647</th>\n",
       "      <td>My fiancé and I have been together for 3 years...</td>\n",
       "      <td>11</td>\n",
       "    </tr>\n",
       "    <tr>\n",
       "      <th>827</th>\n",
       "      <td>When I'm in large crowds I get angry and I jus...</td>\n",
       "      <td>11</td>\n",
       "    </tr>\n",
       "    <tr>\n",
       "      <th>397</th>\n",
       "      <td>I was raped a couple months ago, Since then, a...</td>\n",
       "      <td>11</td>\n",
       "    </tr>\n",
       "    <tr>\n",
       "      <th>697</th>\n",
       "      <td>My mother has Alzheimer's and she has become s...</td>\n",
       "      <td>10</td>\n",
       "    </tr>\n",
       "    <tr>\n",
       "      <th>213</th>\n",
       "      <td>I have a friend that who I used to be in a rel...</td>\n",
       "      <td>10</td>\n",
       "    </tr>\n",
       "    <tr>\n",
       "      <th>485</th>\n",
       "      <td>I'm obsessing about a terrible breakup. Everyt...</td>\n",
       "      <td>9</td>\n",
       "    </tr>\n",
       "    <tr>\n",
       "      <th>817</th>\n",
       "      <td>What makes a healthy marriage last?</td>\n",
       "      <td>9</td>\n",
       "    </tr>\n",
       "    <tr>\n",
       "      <th>486</th>\n",
       "      <td>I'm planning to have baby, so I have to quit s...</td>\n",
       "      <td>9</td>\n",
       "    </tr>\n",
       "    <tr>\n",
       "      <th>568</th>\n",
       "      <td>I’ve been in a long distance relationship with...</td>\n",
       "      <td>9</td>\n",
       "    </tr>\n",
       "    <tr>\n",
       "      <th>154</th>\n",
       "      <td>I don't know what to say. I have never really ...</td>\n",
       "      <td>9</td>\n",
       "    </tr>\n",
       "    <tr>\n",
       "      <th>626</th>\n",
       "      <td>My daughter is in later elementary school. She...</td>\n",
       "      <td>9</td>\n",
       "    </tr>\n",
       "    <tr>\n",
       "      <th>563</th>\n",
       "      <td>I’m facing severe depression and anxiety and I...</td>\n",
       "      <td>9</td>\n",
       "    </tr>\n",
       "    <tr>\n",
       "      <th>16</th>\n",
       "      <td>After he got home from the hospital he was ang...</td>\n",
       "      <td>9</td>\n",
       "    </tr>\n",
       "    <tr>\n",
       "      <th>303</th>\n",
       "      <td>I just lost my grandpa and i'm having a rough ...</td>\n",
       "      <td>9</td>\n",
       "    </tr>\n",
       "    <tr>\n",
       "      <th>444</th>\n",
       "      <td>I'm being verbally abused on a daily basis by ...</td>\n",
       "      <td>9</td>\n",
       "    </tr>\n",
       "  </tbody>\n",
       "</table>\n",
       "</div>"
      ],
      "text/plain": [
       "                                               context  count\n",
       "286  I have so many issues to address. I have a his...     47\n",
       "78   How do you know you have the right therapist f...     41\n",
       "546  Is it normal for people to cry during therapy,...     38\n",
       "524  I've gone to a couple therapy sessions so far ...     26\n",
       "462  I'm going through some things with my feelings...     23\n",
       "832  When my daughter is stressed about a silly thi...     23\n",
       "80     How does a person start the counseling process?     22\n",
       "31   Does counseling really do anything that can he...     21\n",
       "79   How does a counselor decide when to end counse...     21\n",
       "73   How do I decide if I should end my relationshi...     15\n",
       "41   Every winter I find myself getting sad because...     15\n",
       "699  My mother takes care of niece whom my sister a...     13\n",
       "354  I start counseling/therapy in a few days (I'm ...     12\n",
       "305  I just took a job that requires me to travel f...     11\n",
       "311  I keep having these random thoughts that I don...     11\n",
       "647  My fiancé and I have been together for 3 years...     11\n",
       "827  When I'm in large crowds I get angry and I jus...     11\n",
       "397  I was raped a couple months ago, Since then, a...     11\n",
       "697  My mother has Alzheimer's and she has become s...     10\n",
       "213  I have a friend that who I used to be in a rel...     10\n",
       "485  I'm obsessing about a terrible breakup. Everyt...      9\n",
       "817                What makes a healthy marriage last?      9\n",
       "486  I'm planning to have baby, so I have to quit s...      9\n",
       "568  I’ve been in a long distance relationship with...      9\n",
       "154  I don't know what to say. I have never really ...      9\n",
       "626  My daughter is in later elementary school. She...      9\n",
       "563  I’m facing severe depression and anxiety and I...      9\n",
       "16   After he got home from the hospital he was ang...      9\n",
       "303  I just lost my grandpa and i'm having a rough ...      9\n",
       "444  I'm being verbally abused on a daily basis by ...      9"
      ]
     },
     "execution_count": 140,
     "metadata": {},
     "output_type": "execute_result"
    }
   ],
   "source": [
    "context_unique.sort_values('count',ascending=False).head(30)"
   ]
  },
  {
   "cell_type": "code",
   "execution_count": 141,
   "metadata": {},
   "outputs": [
    {
     "data": {
      "text/plain": [
       "count    845.000000\n",
       "mean       2.452071\n",
       "std        3.549132\n",
       "min        1.000000\n",
       "25%        1.000000\n",
       "50%        1.000000\n",
       "75%        2.000000\n",
       "max       47.000000\n",
       "Name: count, dtype: float64"
      ]
     },
     "execution_count": 141,
     "metadata": {},
     "output_type": "execute_result"
    }
   ],
   "source": [
    "context_unique['count'].describe()"
   ]
  },
  {
   "cell_type": "code",
   "execution_count": 142,
   "metadata": {},
   "outputs": [
    {
     "data": {
      "text/html": [
       "<div>\n",
       "<style scoped>\n",
       "    .dataframe tbody tr th:only-of-type {\n",
       "        vertical-align: middle;\n",
       "    }\n",
       "\n",
       "    .dataframe tbody tr th {\n",
       "        vertical-align: top;\n",
       "    }\n",
       "\n",
       "    .dataframe thead th {\n",
       "        text-align: right;\n",
       "    }\n",
       "</style>\n",
       "<table border=\"1\" class=\"dataframe\">\n",
       "  <thead>\n",
       "    <tr style=\"text-align: right;\">\n",
       "      <th></th>\n",
       "      <th>context</th>\n",
       "      <th>count</th>\n",
       "    </tr>\n",
       "  </thead>\n",
       "  <tbody>\n",
       "    <tr>\n",
       "      <th>0</th>\n",
       "      <td>A few nights ago I talked to this girl I know ...</td>\n",
       "      <td>1</td>\n",
       "    </tr>\n",
       "    <tr>\n",
       "      <th>2</th>\n",
       "      <td>A friend of mine taking psychology advised I g...</td>\n",
       "      <td>1</td>\n",
       "    </tr>\n",
       "    <tr>\n",
       "      <th>3</th>\n",
       "      <td>A girl and I were madly in love. We dated for ...</td>\n",
       "      <td>1</td>\n",
       "    </tr>\n",
       "    <tr>\n",
       "      <th>8</th>\n",
       "      <td>About a month ago, I went through my boyfriend...</td>\n",
       "      <td>1</td>\n",
       "    </tr>\n",
       "    <tr>\n",
       "      <th>13</th>\n",
       "      <td>After a domestic abuse situation, I went to a ...</td>\n",
       "      <td>1</td>\n",
       "    </tr>\n",
       "    <tr>\n",
       "      <th>...</th>\n",
       "      <td>...</td>\n",
       "      <td>...</td>\n",
       "    </tr>\n",
       "    <tr>\n",
       "      <th>830</th>\n",
       "      <td>When having sex I think of other men and want ...</td>\n",
       "      <td>1</td>\n",
       "    </tr>\n",
       "    <tr>\n",
       "      <th>837</th>\n",
       "      <td>Whenever I leave my girlfriend I get panic att...</td>\n",
       "      <td>1</td>\n",
       "    </tr>\n",
       "    <tr>\n",
       "      <th>839</th>\n",
       "      <td>Whenever I sing along with a song that I like ...</td>\n",
       "      <td>1</td>\n",
       "    </tr>\n",
       "    <tr>\n",
       "      <th>841</th>\n",
       "      <td>Why am I attracted to older men?</td>\n",
       "      <td>1</td>\n",
       "    </tr>\n",
       "    <tr>\n",
       "      <th>844</th>\n",
       "      <td>i was addicted to porn since the second grade....</td>\n",
       "      <td>1</td>\n",
       "    </tr>\n",
       "  </tbody>\n",
       "</table>\n",
       "<p>452 rows × 2 columns</p>\n",
       "</div>"
      ],
      "text/plain": [
       "                                               context  count\n",
       "0    A few nights ago I talked to this girl I know ...      1\n",
       "2    A friend of mine taking psychology advised I g...      1\n",
       "3    A girl and I were madly in love. We dated for ...      1\n",
       "8    About a month ago, I went through my boyfriend...      1\n",
       "13   After a domestic abuse situation, I went to a ...      1\n",
       "..                                                 ...    ...\n",
       "830  When having sex I think of other men and want ...      1\n",
       "837  Whenever I leave my girlfriend I get panic att...      1\n",
       "839  Whenever I sing along with a song that I like ...      1\n",
       "841                   Why am I attracted to older men?      1\n",
       "844  i was addicted to porn since the second grade....      1\n",
       "\n",
       "[452 rows x 2 columns]"
      ]
     },
     "execution_count": 142,
     "metadata": {},
     "output_type": "execute_result"
    }
   ],
   "source": [
    "context_unique[context_unique['count']==1]"
   ]
  },
  {
   "cell_type": "code",
   "execution_count": 145,
   "metadata": {},
   "outputs": [
    {
     "data": {
      "text/plain": [
       "count\n",
       "1     452\n",
       "2     184\n",
       "3      74\n",
       "4      43\n",
       "5      25\n",
       "6      18\n",
       "9      12\n",
       "7      11\n",
       "8       6\n",
       "11      5\n",
       "23      2\n",
       "21      2\n",
       "15      2\n",
       "10      2\n",
       "38      1\n",
       "26      1\n",
       "41      1\n",
       "12      1\n",
       "47      1\n",
       "22      1\n",
       "13      1\n",
       "Name: count, dtype: int64"
      ]
     },
     "execution_count": 145,
     "metadata": {},
     "output_type": "execute_result"
    }
   ],
   "source": [
    "count_distribution = context_unique['count'].value_counts()\n",
    "\n",
    "count_distribution"
   ]
  },
  {
   "cell_type": "code",
   "execution_count": 144,
   "metadata": {},
   "outputs": [
    {
     "data": {
      "text/html": [
       "<div>\n",
       "<style scoped>\n",
       "    .dataframe tbody tr th:only-of-type {\n",
       "        vertical-align: middle;\n",
       "    }\n",
       "\n",
       "    .dataframe tbody tr th {\n",
       "        vertical-align: top;\n",
       "    }\n",
       "\n",
       "    .dataframe thead th {\n",
       "        text-align: right;\n",
       "    }\n",
       "</style>\n",
       "<table border=\"1\" class=\"dataframe\">\n",
       "  <thead>\n",
       "    <tr style=\"text-align: right;\">\n",
       "      <th></th>\n",
       "      <th>context</th>\n",
       "      <th>response</th>\n",
       "    </tr>\n",
       "  </thead>\n",
       "  <tbody>\n",
       "    <tr>\n",
       "      <th>count</th>\n",
       "      <td>2072</td>\n",
       "      <td>2072</td>\n",
       "    </tr>\n",
       "    <tr>\n",
       "      <th>unique</th>\n",
       "      <td>845</td>\n",
       "      <td>2072</td>\n",
       "    </tr>\n",
       "    <tr>\n",
       "      <th>top</th>\n",
       "      <td>I have so many issues to address. I have a his...</td>\n",
       "      <td>If everyone thinks you're worthless, then mayb...</td>\n",
       "    </tr>\n",
       "    <tr>\n",
       "      <th>freq</th>\n",
       "      <td>47</td>\n",
       "      <td>1</td>\n",
       "    </tr>\n",
       "  </tbody>\n",
       "</table>\n",
       "</div>"
      ],
      "text/plain": [
       "                                                  context  \\\n",
       "count                                                2072   \n",
       "unique                                                845   \n",
       "top     I have so many issues to address. I have a his...   \n",
       "freq                                                   47   \n",
       "\n",
       "                                                 response  \n",
       "count                                                2072  \n",
       "unique                                               2072  \n",
       "top     If everyone thinks you're worthless, then mayb...  \n",
       "freq                                                    1  "
      ]
     },
     "execution_count": 144,
     "metadata": {},
     "output_type": "execute_result"
    }
   ],
   "source": [
    "conversation_dataset.describe()"
   ]
  },
  {
   "cell_type": "markdown",
   "metadata": {},
   "source": [
    "### Data is cleaned and ready for simulation\n",
    "\n",
    "So we have 845 unique requests, with a mean of 2.45 responses for each, and 452 having one response, and max of 47 responses, but only 10 requests have more then 10 responses.\n",
    "\n",
    "### Conclusions\n",
    "\n",
    "**Maybe for simulation we should use only requests with 2 or more responses, so we have some variety in approved responses to compare with. If we take request with 2 or more we will have 393 requests, if we take with 3 or more - 209 requests. 209 may be enough for our simulation. And having only one response will make it possible for incorrect scoring of ChatGPT output. Because mental issues is delicate matter, so several different responses may serve well for specific case.**\n"
   ]
  },
  {
   "cell_type": "markdown",
   "metadata": {},
   "source": [
    "## ChatGPT"
   ]
  },
  {
   "cell_type": "code",
   "execution_count": null,
   "metadata": {},
   "outputs": [],
   "source": []
  },
  {
   "cell_type": "code",
   "execution_count": null,
   "metadata": {},
   "outputs": [],
   "source": []
  },
  {
   "cell_type": "code",
   "execution_count": null,
   "metadata": {},
   "outputs": [],
   "source": []
  },
  {
   "cell_type": "code",
   "execution_count": null,
   "metadata": {},
   "outputs": [],
   "source": []
  },
  {
   "cell_type": "code",
   "execution_count": null,
   "metadata": {},
   "outputs": [],
   "source": []
  },
  {
   "cell_type": "code",
   "execution_count": null,
   "metadata": {},
   "outputs": [],
   "source": []
  },
  {
   "cell_type": "code",
   "execution_count": null,
   "metadata": {},
   "outputs": [],
   "source": []
  },
  {
   "cell_type": "code",
   "execution_count": null,
   "metadata": {},
   "outputs": [],
   "source": []
  }
 ],
 "metadata": {
  "kernelspec": {
   "display_name": "Python 3",
   "language": "python",
   "name": "python3"
  },
  "language_info": {
   "codemirror_mode": {
    "name": "ipython",
    "version": 3
   },
   "file_extension": ".py",
   "mimetype": "text/x-python",
   "name": "python",
   "nbconvert_exporter": "python",
   "pygments_lexer": "ipython3",
   "version": "3.11.6"
  }
 },
 "nbformat": 4,
 "nbformat_minor": 2
}
