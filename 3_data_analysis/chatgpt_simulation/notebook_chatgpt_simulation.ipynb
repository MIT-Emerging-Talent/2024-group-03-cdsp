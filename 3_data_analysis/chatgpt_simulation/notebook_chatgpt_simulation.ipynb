{
 "cells": [
  {
   "cell_type": "markdown",
   "metadata": {},
   "source": [
    "# ChatGPT Mental Support simulation"
   ]
  },
  {
   "cell_type": "markdown",
   "metadata": {},
   "source": [
    "In this notebook we will simulate how chatGPT will respond to request from people with mental issues, problems and worries, that will be expressed plain in conversation.\n",
    "This responses will be compared to responses from mental counselor to see how is chatGPT doing this.\n",
    "\n",
    "### Dataset\n",
    "\n",
    "This simulation is based on this dataset:\n",
    "\n",
    "[Mental health Counseling Conversations dataset](https://www.kaggle.com/datasets/thedevastator/nlp-mental-health-conversations)\n",
    "\n",
    "### Dataset structure\n",
    "\n",
    "| Column   | Description | \n",
    "|----------|----------|\n",
    "| Context  | Request, phrase, query sentence from the patient, that seems to have mental troubles, problem, disorders of different kind        |  \n",
    "| Response | Response, that mental counselor is supposed to give. For one ```Context``` there is from 1 to 47 different responses (mean 2.5) | \n",
    "\n",
    "\n",
    "### Comparison\n",
    "\n",
    "Comparison between ChatGPT response will be done with special prompt, resulting in score [0-100], and be done comparing one response from ChatGRT to all (one by one) responses from the dataset. New dataset will chatGPT responses and scores will be build, and then explored\n",
    "\n"
   ]
  },
  {
   "cell_type": "markdown",
   "metadata": {},
   "source": [
    "# Notebook for simulation\n",
    "\n",
    "Exploration of data and cleaning,\n",
    "Probes with ChatGPT are places in the [preparation notebook](notebook_preparation_work.ipynb)\n",
    "\n",
    "Here only functions to make data ready, and helper functions are presented"
   ]
  },
  {
   "cell_type": "markdown",
   "metadata": {},
   "source": [
    "## Preparing the data"
   ]
  },
  {
   "cell_type": "markdown",
   "metadata": {},
   "source": [
    "The dataset on the link above is available to download, so here it is already present in the ```dataset/NLP_Mental_Health_Conversations.csv```"
   ]
  },
  {
   "cell_type": "code",
   "execution_count": 1,
   "metadata": {},
   "outputs": [],
   "source": [
    "#!pip install pandas"
   ]
  },
  {
   "cell_type": "code",
   "execution_count": 2,
   "metadata": {},
   "outputs": [
    {
     "name": "stderr",
     "output_type": "stream",
     "text": [
      "C:\\Users\\sirius\\AppData\\Local\\Temp\\ipykernel_20852\\2162656668.py:1: DeprecationWarning: \n",
      "Pyarrow will become a required dependency of pandas in the next major release of pandas (pandas 3.0),\n",
      "(to allow more performant data types, such as the Arrow string type, and better interoperability with other libraries)\n",
      "but was not found to be installed on your system.\n",
      "If this would cause problems for you,\n",
      "please provide us feedback at https://github.com/pandas-dev/pandas/issues/54466\n",
      "        \n",
      "  import pandas as pd\n"
     ]
    }
   ],
   "source": [
    "import pandas as pd\n",
    "import numpy as np"
   ]
  },
  {
   "cell_type": "code",
   "execution_count": 3,
   "metadata": {},
   "outputs": [],
   "source": [
    "CONVERSATIONS_DATASET_FILENAME = 'dataset/NLP_Mental_Health_Conversations.csv'\n",
    "\n",
    "conversation_dataset = pd.read_csv(CONVERSATIONS_DATASET_FILENAME)"
   ]
  },
  {
   "cell_type": "code",
   "execution_count": 4,
   "metadata": {},
   "outputs": [],
   "source": [
    "conversation_dataset.columns = conversation_dataset.columns.str.lower().str.replace(' ', '_')"
   ]
  },
  {
   "cell_type": "markdown",
   "metadata": {},
   "source": [
    "### Removing duplicates and zero entries"
   ]
  },
  {
   "cell_type": "code",
   "execution_count": 5,
   "metadata": {},
   "outputs": [],
   "source": [
    "conversation_dataset.dropna(subset=['response'], inplace=True)\n",
    "conversation_dataset.drop_duplicates(subset=['response'], inplace=True)\n",
    "conversation_dataset.reset_index(drop=True, inplace=True)"
   ]
  },
  {
   "cell_type": "markdown",
   "metadata": {},
   "source": [
    "So there is duplicate entries, but they differ in heading or trailing spaces.\n",
    "Let's fix this, and remove duplicates once more."
   ]
  },
  {
   "cell_type": "code",
   "execution_count": 6,
   "metadata": {},
   "outputs": [],
   "source": [
    "conversation_dataset['response'] = conversation_dataset['response'].apply(\n",
    "    lambda x: x.strip())"
   ]
  },
  {
   "cell_type": "code",
   "execution_count": 7,
   "metadata": {},
   "outputs": [],
   "source": [
    "conversation_dataset.drop_duplicates(subset=['response'], inplace=True)\n",
    "conversation_dataset.reset_index(drop=True, inplace=True)"
   ]
  },
  {
   "cell_type": "markdown",
   "metadata": {},
   "source": [
    "### Errors in dataset\n",
    "\n",
    "Working with the dataset I found some irrelevant entries. So we should just delete them\n"
   ]
  },
  {
   "cell_type": "code",
   "execution_count": 8,
   "metadata": {},
   "outputs": [],
   "source": [
    "error_context = [\" such as not enough sleep\",\n",
    "                 \"Can a counselor take sides with one parent and allow a parent to order the child to tell the counselor\"]\n",
    "\n",
    "conversation_dataset = conversation_dataset[~conversation_dataset['context'].str.startswith(\n",
    "    tuple(error_context))]"
   ]
  },
  {
   "cell_type": "code",
   "execution_count": 9,
   "metadata": {},
   "outputs": [
    {
     "data": {
      "text/html": [
       "<div>\n",
       "<style scoped>\n",
       "    .dataframe tbody tr th:only-of-type {\n",
       "        vertical-align: middle;\n",
       "    }\n",
       "\n",
       "    .dataframe tbody tr th {\n",
       "        vertical-align: top;\n",
       "    }\n",
       "\n",
       "    .dataframe thead th {\n",
       "        text-align: right;\n",
       "    }\n",
       "</style>\n",
       "<table border=\"1\" class=\"dataframe\">\n",
       "  <thead>\n",
       "    <tr style=\"text-align: right;\">\n",
       "      <th></th>\n",
       "      <th>context</th>\n",
       "      <th>response</th>\n",
       "    </tr>\n",
       "  </thead>\n",
       "  <tbody>\n",
       "    <tr>\n",
       "      <th>count</th>\n",
       "      <td>2049</td>\n",
       "      <td>2049</td>\n",
       "    </tr>\n",
       "    <tr>\n",
       "      <th>unique</th>\n",
       "      <td>841</td>\n",
       "      <td>2049</td>\n",
       "    </tr>\n",
       "    <tr>\n",
       "      <th>top</th>\n",
       "      <td>I have so many issues to address. I have a his...</td>\n",
       "      <td>If everyone thinks you're worthless, then mayb...</td>\n",
       "    </tr>\n",
       "    <tr>\n",
       "      <th>freq</th>\n",
       "      <td>47</td>\n",
       "      <td>1</td>\n",
       "    </tr>\n",
       "  </tbody>\n",
       "</table>\n",
       "</div>"
      ],
      "text/plain": [
       "                                                  context  \\\n",
       "count                                                2049   \n",
       "unique                                                841   \n",
       "top     I have so many issues to address. I have a his...   \n",
       "freq                                                   47   \n",
       "\n",
       "                                                 response  \n",
       "count                                                2049  \n",
       "unique                                               2049  \n",
       "top     If everyone thinks you're worthless, then mayb...  \n",
       "freq                                                    1  "
      ]
     },
     "execution_count": 9,
     "metadata": {},
     "output_type": "execute_result"
    }
   ],
   "source": [
    "conversation_dataset.describe()"
   ]
  },
  {
   "cell_type": "code",
   "execution_count": 10,
   "metadata": {},
   "outputs": [],
   "source": [
    "context_unique = conversation_dataset.groupby(\n",
    "    'context').size().reset_index(name='count')"
   ]
  },
  {
   "cell_type": "code",
   "execution_count": 11,
   "metadata": {},
   "outputs": [
    {
     "data": {
      "text/html": [
       "<div>\n",
       "<style scoped>\n",
       "    .dataframe tbody tr th:only-of-type {\n",
       "        vertical-align: middle;\n",
       "    }\n",
       "\n",
       "    .dataframe tbody tr th {\n",
       "        vertical-align: top;\n",
       "    }\n",
       "\n",
       "    .dataframe thead th {\n",
       "        text-align: right;\n",
       "    }\n",
       "</style>\n",
       "<table border=\"1\" class=\"dataframe\">\n",
       "  <thead>\n",
       "    <tr style=\"text-align: right;\">\n",
       "      <th></th>\n",
       "      <th>context</th>\n",
       "      <th>count</th>\n",
       "    </tr>\n",
       "  </thead>\n",
       "  <tbody>\n",
       "    <tr>\n",
       "      <th>286</th>\n",
       "      <td>I have so many issues to address. I have a his...</td>\n",
       "      <td>47</td>\n",
       "    </tr>\n",
       "    <tr>\n",
       "      <th>78</th>\n",
       "      <td>How do you know you have the right therapist f...</td>\n",
       "      <td>41</td>\n",
       "    </tr>\n",
       "    <tr>\n",
       "      <th>545</th>\n",
       "      <td>Is it normal for people to cry during therapy,...</td>\n",
       "      <td>38</td>\n",
       "    </tr>\n",
       "    <tr>\n",
       "      <th>523</th>\n",
       "      <td>I've gone to a couple therapy sessions so far ...</td>\n",
       "      <td>26</td>\n",
       "    </tr>\n",
       "    <tr>\n",
       "      <th>828</th>\n",
       "      <td>When my daughter is stressed about a silly thi...</td>\n",
       "      <td>23</td>\n",
       "    </tr>\n",
       "    <tr>\n",
       "      <th>461</th>\n",
       "      <td>I'm going through some things with my feelings...</td>\n",
       "      <td>23</td>\n",
       "    </tr>\n",
       "    <tr>\n",
       "      <th>80</th>\n",
       "      <td>How does a person start the counseling process?</td>\n",
       "      <td>22</td>\n",
       "    </tr>\n",
       "    <tr>\n",
       "      <th>79</th>\n",
       "      <td>How does a counselor decide when to end counse...</td>\n",
       "      <td>20</td>\n",
       "    </tr>\n",
       "    <tr>\n",
       "      <th>31</th>\n",
       "      <td>Does counseling really do anything that can he...</td>\n",
       "      <td>20</td>\n",
       "    </tr>\n",
       "    <tr>\n",
       "      <th>73</th>\n",
       "      <td>How do I decide if I should end my relationshi...</td>\n",
       "      <td>15</td>\n",
       "    </tr>\n",
       "    <tr>\n",
       "      <th>41</th>\n",
       "      <td>Every winter I find myself getting sad because...</td>\n",
       "      <td>15</td>\n",
       "    </tr>\n",
       "    <tr>\n",
       "      <th>695</th>\n",
       "      <td>My mother takes care of niece whom my sister a...</td>\n",
       "      <td>13</td>\n",
       "    </tr>\n",
       "    <tr>\n",
       "      <th>353</th>\n",
       "      <td>I start counseling/therapy in a few days (I'm ...</td>\n",
       "      <td>12</td>\n",
       "    </tr>\n",
       "    <tr>\n",
       "      <th>306</th>\n",
       "      <td>I just took a job that requires me to travel f...</td>\n",
       "      <td>11</td>\n",
       "    </tr>\n",
       "    <tr>\n",
       "      <th>396</th>\n",
       "      <td>I was raped a couple months ago, Since then, a...</td>\n",
       "      <td>11</td>\n",
       "    </tr>\n",
       "    <tr>\n",
       "      <th>823</th>\n",
       "      <td>When I'm in large crowds I get angry and I jus...</td>\n",
       "      <td>11</td>\n",
       "    </tr>\n",
       "    <tr>\n",
       "      <th>643</th>\n",
       "      <td>My fiancé and I have been together for 3 years...</td>\n",
       "      <td>11</td>\n",
       "    </tr>\n",
       "    <tr>\n",
       "      <th>311</th>\n",
       "      <td>I keep having these random thoughts that I don...</td>\n",
       "      <td>11</td>\n",
       "    </tr>\n",
       "    <tr>\n",
       "      <th>213</th>\n",
       "      <td>I have a friend that who I used to be in a rel...</td>\n",
       "      <td>10</td>\n",
       "    </tr>\n",
       "    <tr>\n",
       "      <th>693</th>\n",
       "      <td>My mother has Alzheimer's and she has become s...</td>\n",
       "      <td>10</td>\n",
       "    </tr>\n",
       "    <tr>\n",
       "      <th>484</th>\n",
       "      <td>I'm obsessing about a terrible breakup. Everyt...</td>\n",
       "      <td>9</td>\n",
       "    </tr>\n",
       "    <tr>\n",
       "      <th>624</th>\n",
       "      <td>My daughter is in later elementary school. She...</td>\n",
       "      <td>9</td>\n",
       "    </tr>\n",
       "    <tr>\n",
       "      <th>303</th>\n",
       "      <td>I just lost my grandpa and i'm having a rough ...</td>\n",
       "      <td>9</td>\n",
       "    </tr>\n",
       "    <tr>\n",
       "      <th>465</th>\n",
       "      <td>I'm having relationship problems and I want to...</td>\n",
       "      <td>9</td>\n",
       "    </tr>\n",
       "    <tr>\n",
       "      <th>813</th>\n",
       "      <td>What makes a healthy marriage last?</td>\n",
       "      <td>9</td>\n",
       "    </tr>\n",
       "    <tr>\n",
       "      <th>154</th>\n",
       "      <td>I don't know what to say. I have never really ...</td>\n",
       "      <td>9</td>\n",
       "    </tr>\n",
       "    <tr>\n",
       "      <th>566</th>\n",
       "      <td>I’ve been in a long distance relationship with...</td>\n",
       "      <td>9</td>\n",
       "    </tr>\n",
       "    <tr>\n",
       "      <th>246</th>\n",
       "      <td>I have been married for 11 years. Within the p...</td>\n",
       "      <td>9</td>\n",
       "    </tr>\n",
       "    <tr>\n",
       "      <th>16</th>\n",
       "      <td>After he got home from the hospital he was ang...</td>\n",
       "      <td>9</td>\n",
       "    </tr>\n",
       "    <tr>\n",
       "      <th>561</th>\n",
       "      <td>I’m facing severe depression and anxiety and I...</td>\n",
       "      <td>9</td>\n",
       "    </tr>\n",
       "  </tbody>\n",
       "</table>\n",
       "</div>"
      ],
      "text/plain": [
       "                                               context  count\n",
       "286  I have so many issues to address. I have a his...     47\n",
       "78   How do you know you have the right therapist f...     41\n",
       "545  Is it normal for people to cry during therapy,...     38\n",
       "523  I've gone to a couple therapy sessions so far ...     26\n",
       "828  When my daughter is stressed about a silly thi...     23\n",
       "461  I'm going through some things with my feelings...     23\n",
       "80     How does a person start the counseling process?     22\n",
       "79   How does a counselor decide when to end counse...     20\n",
       "31   Does counseling really do anything that can he...     20\n",
       "73   How do I decide if I should end my relationshi...     15\n",
       "41   Every winter I find myself getting sad because...     15\n",
       "695  My mother takes care of niece whom my sister a...     13\n",
       "353  I start counseling/therapy in a few days (I'm ...     12\n",
       "306  I just took a job that requires me to travel f...     11\n",
       "396  I was raped a couple months ago, Since then, a...     11\n",
       "823  When I'm in large crowds I get angry and I jus...     11\n",
       "643  My fiancé and I have been together for 3 years...     11\n",
       "311  I keep having these random thoughts that I don...     11\n",
       "213  I have a friend that who I used to be in a rel...     10\n",
       "693  My mother has Alzheimer's and she has become s...     10\n",
       "484  I'm obsessing about a terrible breakup. Everyt...      9\n",
       "624  My daughter is in later elementary school. She...      9\n",
       "303  I just lost my grandpa and i'm having a rough ...      9\n",
       "465  I'm having relationship problems and I want to...      9\n",
       "813                What makes a healthy marriage last?      9\n",
       "154  I don't know what to say. I have never really ...      9\n",
       "566  I’ve been in a long distance relationship with...      9\n",
       "246  I have been married for 11 years. Within the p...      9\n",
       "16   After he got home from the hospital he was ang...      9\n",
       "561  I’m facing severe depression and anxiety and I...      9"
      ]
     },
     "execution_count": 11,
     "metadata": {},
     "output_type": "execute_result"
    }
   ],
   "source": [
    "context_unique.sort_values('count', ascending=False).head(30)"
   ]
  },
  {
   "cell_type": "code",
   "execution_count": 12,
   "metadata": {},
   "outputs": [
    {
     "data": {
      "text/plain": [
       "count    841.000000\n",
       "mean       2.436385\n",
       "std        3.538705\n",
       "min        1.000000\n",
       "25%        1.000000\n",
       "50%        1.000000\n",
       "75%        2.000000\n",
       "max       47.000000\n",
       "Name: count, dtype: float64"
      ]
     },
     "execution_count": 12,
     "metadata": {},
     "output_type": "execute_result"
    }
   ],
   "source": [
    "context_unique['count'].describe()"
   ]
  },
  {
   "cell_type": "code",
   "execution_count": 13,
   "metadata": {},
   "outputs": [
    {
     "data": {
      "text/plain": [
       "count\n",
       "1     452\n",
       "2     182\n",
       "3      78\n",
       "4      40\n",
       "5      23\n",
       "6      18\n",
       "9      12\n",
       "7      10\n",
       "8       6\n",
       "11      5\n",
       "23      2\n",
       "20      2\n",
       "15      2\n",
       "10      2\n",
       "38      1\n",
       "26      1\n",
       "41      1\n",
       "12      1\n",
       "47      1\n",
       "22      1\n",
       "13      1\n",
       "Name: count, dtype: int64"
      ]
     },
     "execution_count": 13,
     "metadata": {},
     "output_type": "execute_result"
    }
   ],
   "source": [
    "context_unique['count'].value_counts()"
   ]
  },
  {
   "cell_type": "code",
   "execution_count": 14,
   "metadata": {},
   "outputs": [],
   "source": [
    "CONTEXT_UNIQUE_FILENAME = 'working_data/context_unique.csv'\n",
    "\n",
    "context_unique.to_csv(CONTEXT_UNIQUE_FILENAME)"
   ]
  },
  {
   "cell_type": "markdown",
   "metadata": {},
   "source": [
    "### Data is cleaned and ready for simulation\n",
    "\n",
    "So we have 845 unique requests, with a mean of 2.45 responses for each, and 452 having one response, and max of 47 responses, but only 10 requests have more then 10 responses.\n",
    "\n",
    "### Conclusions\n",
    "\n",
    "**Maybe for simulation we should use only requests with 2 or more responses, so we have some variety in approved responses to compare with. If we take request with 2 or more we will have 393 requests, if we take with 3 or more - 209 requests. 209 may be enough for our simulation. And having only one response will make it possible for incorrect scoring of ChatGPT output. Because mental issues is delicate matter, so several different responses may serve well for specific case.**\n"
   ]
  },
  {
   "cell_type": "markdown",
   "metadata": {},
   "source": [
    "## ChatGPT"
   ]
  },
  {
   "cell_type": "markdown",
   "metadata": {},
   "source": [
    "We follow the standard way of using OpenAI API for reaching ChatGPT\n",
    "The below code uses ```.env``` file in this directory, which is not included to the repository.\n",
    "```.env```  which must contain:\n",
    "```\n",
    "OPENAI_API_KEY=...\n",
    "```\n",
    "This API key to be used to interact with OpenAI API\n",
    "\n",
    "If you want to use this code, you must [get your own API key from OpenAI](https://platform.openai.com/api-keys)\n",
    "\n",
    "Moreover you will need to make a payment to your ChatGPT account, to be able to use it.\n",
    "\n",
    "This code is based on the [course by DeepLearning.AI](https://learn.deeplearning.ai/courses/langchain/lesson/2/models%2C-prompts-and-parsers)"
   ]
  },
  {
   "cell_type": "code",
   "execution_count": 15,
   "metadata": {},
   "outputs": [],
   "source": [
    "# !pip install python-dotenv\n",
    "# !pip install openai"
   ]
  },
  {
   "cell_type": "code",
   "execution_count": 16,
   "metadata": {},
   "outputs": [],
   "source": [
    "import os\n",
    "import openai\n",
    "\n",
    "from dotenv import load_dotenv, find_dotenv\n",
    "_ = load_dotenv(find_dotenv())  # read local .env file"
   ]
  },
  {
   "cell_type": "markdown",
   "metadata": {},
   "source": [
    "## ChatGPT client and initial functions"
   ]
  },
  {
   "cell_type": "code",
   "execution_count": 17,
   "metadata": {},
   "outputs": [],
   "source": [
    "GPT_MODEL = 'gpt-3.5-turbo-0125'\n",
    "#\n",
    "# Pricing\n",
    "# Model\tInput\tOutput\n",
    "# gpt-3.5-turbo-0125\t$0.0005 / 1K tokens\t$0.0015 / 1K tokens\n",
    "#\n",
    "# Updated GPT 3.5 Turbo\n",
    "# The latest GPT-3.5 Turbo model with higher accuracy at responding in requested formats\n",
    "# and a fix for a bug which caused a text encoding issue for non-English language function calls.\n",
    "# Returns a maximum of 4,096 output tokens.\n",
    "#"
   ]
  },
  {
   "cell_type": "code",
   "execution_count": 18,
   "metadata": {},
   "outputs": [],
   "source": [
    "client = openai.OpenAI(\n",
    "\n",
    "    api_key=os.environ.get(\"OPENAI_API_KEY\"),\n",
    ")"
   ]
  },
  {
   "cell_type": "code",
   "execution_count": 19,
   "metadata": {},
   "outputs": [],
   "source": [
    "chat_completion = client.chat.completions.create(\n",
    "    messages=[\n",
    "        {\n",
    "            \"role\": \"user\",\n",
    "            \"content\": \"Hello, this is a test\",\n",
    "        }\n",
    "    ],\n",
    "    model=GPT_MODEL,\n",
    ")\n",
    "\n",
    "# print(chat_completion.choices[0].message.content)"
   ]
  },
  {
   "cell_type": "code",
   "execution_count": 90,
   "metadata": {},
   "outputs": [],
   "source": [
    "import random\n",
    "\n",
    "# default temperature for ChatGPT. Web ChatGPT uses 0.6 all the time. varies from 0 (same answers, no randomness) to 1 (much variety, much random)\n",
    "TEMPERATURE = 0.6\n",
    "SPEAK_TEMPERATURE = 0.6\n",
    "\n",
    "# Our randomness constants:\n",
    "\n",
    "USE_STARTUP_DIALOG = 0.25\n",
    "\n",
    "# if we use startup dialog, we may have up to 4 preceding phrases.\n",
    "\n",
    "# So len 1 will occur more frequently, len 4 - much less\n",
    "DIALOG_LENGTH_WEIGHTS = [0.35, 0.3, 0.2, 0.15]\n",
    "DIALOG_LENGTH_OPTIONS = [2, 4, 6, 8]\n",
    "\n",
    "starting_messages = [\n",
    "    [\n",
    "        {'role': 'user', 'content': \"Hi\"},\n",
    "        {'role': 'assistant', 'content': \"Hello! How can I assist you today?\"},\n",
    "        {'role': 'user', 'content': \"Yes! How are you?\"},\n",
    "        {'role': 'assistant', 'content': \"As an AI, I don't have feelings or emotions, but I'm here and ready to assist you with any questions or tasks you have. How can I help you today?\"},\n",
    "        {'role': 'user', 'content': \"What do you do\"},\n",
    "        {'role': 'assistant', 'content': \"I'm here to help with a wide range of tasks! You can ask me questions, seek information on various topics, brainstorm ideas, get assistance with writing or editing, play text-based games, generate creative content, and much more. Just let me know what you need help with, and I'll do my best to assist you!\"},\n",
    "        {'role': 'user', 'content': 'Yes'},\n",
    "        {'role': 'assistant', 'content': \"Great! If you have any specific questions or need assistance with something, feel free to ask. I'm here to help!\"},\n",
    "    ],\n",
    "    [\n",
    "        {'role': 'user', 'content': \"Hello!\"},\n",
    "        {'role': 'assistant', 'content': \"Hello! How can I assist you today?\"},\n",
    "        {'role': 'user', 'content': \"I don't know\"},\n",
    "        {'role': 'assistant', 'content': \"That's perfectly fine! If you have any questions, need advice, want to discuss a topic, or just want to chat, feel free to let me know. I'm here to help with anything you need.\"},\n",
    "        {'role': 'user', 'content': \"Ok. I will think about it\"},\n",
    "        {'role': 'assistant', 'content': \"Sure thing! Take your time to think, and whenever you're ready, feel free to reach out. I'll be here to assist you whenever you need.\"},\n",
    "        {'role': 'user', 'content': \"Tell me something\"},\n",
    "        {'role': 'assistant',\n",
    "            'content': \"Sure! Did you know that the world's largest desert isn't the Sahara, but actually Antarctica? Despite being covered in ice, Antarctica is considered a desert because it receives very little precipitation, less than 2 inches (50 millimeters) per year in some areas. Its size and harsh climate make it the largest desert on Earth, even larger than the Sahara Desert.\"},\n",
    "    ],\n",
    "    [\n",
    "        {'role': 'user', 'content': \"Nice to see you\"},\n",
    "        {'role': 'assistant', 'content': \"Nice to see you too! How can I assist you today?\"},\n",
    "        {'role': 'user', 'content': \"What can you say?\"},\n",
    "        {'role': 'assistant', 'content': \"As an AI language model, I can engage in conversation, answer questions, provide information on a wide range of topics, generate text based on prompts, offer suggestions, and more. Just let me know what you need assistance with or what you'd like to discuss!\"},\n",
    "        {'role': 'user', 'content': \"Just tell me something\"},\n",
    "        {'role': 'assistant', 'content': \"Sure! Did you know that honey never spoils? Archaeologists have found pots of honey in ancient Egyptian tombs that are over 3,000 years old and still perfectly edible. This remarkable longevity is due to the unique chemical composition of honey, which includes low water content and natural acidity, making it inhospitable to bacteria and microorganisms that cause food to spoil.\"},\n",
    "        {'role': 'user', 'content': \"Interesting\"},\n",
    "        {'role': 'assistant', 'content': \"I'm glad you found it interesting! If you have any other topics you'd like to learn about or discuss, feel free to let me know. I'm here to help!\"},\n",
    "    ],\n",
    "    [\n",
    "        {'role': 'user', 'content': \"How are things\"},\n",
    "        {'role': 'assistant', 'content': \"As an AI, I don't have personal experiences, but I'm here and ready to assist you with any questions or tasks you have! How can I help you today?\"},\n",
    "        {'role': 'user', 'content': \"I am unsure\"},\n",
    "        {'role': 'assistant', 'content': \"It's okay to feel unsure sometimes. If there's anything specific on your mind or any decision you're facing, feel free to share, and I'll do my best to assist you. Whether it's about making a choice, seeking advice, or just discussing your thoughts, I'm here to help.\"},\n",
    "        {'role': 'user', 'content': \"yes talk to me\"},\n",
    "        {'role': 'assistant', 'content': \"Of course! Is there anything particular on your mind that you'd like to talk about? It could be anything from personal concerns, questions about a topic, or just casual conversation. Feel free to share, and I'm here to listen and offer assistance or insights as best as I can.\"},\n",
    "        {'role': 'user', 'content': \"i don't know\"},\n",
    "        {'role': 'assistant', 'content': \"That's completely fine. Sometimes it can be helpful to explore different topics or interests to see if anything sparks your curiosity or engages your thoughts. Is there a subject you've been curious about or something you've been meaning to learn more about? Alternatively, we can engage in a casual conversation about anything you'd like. Let me know if there's a specific direction you'd like to take our conversation or if there's anything specific you'd like to discuss.\"},\n",
    "    ],\n",
    "]"
   ]
  },
  {
   "cell_type": "markdown",
   "metadata": {},
   "source": [
    "### Helper function for request - response"
   ]
  },
  {
   "cell_type": "code",
   "execution_count": 91,
   "metadata": {},
   "outputs": [],
   "source": [
    "def generate_messages(phrase_request: str) -> list[dict]:\n",
    "    \"\"\"Using random this function will generate messages to pass to ChatGPT\n",
    "\n",
    "    Args:\n",
    "        phrase_request (str): Request phrase to put to the end of messages list\n",
    "\n",
    "    Returns:\n",
    "        list[dict]: messages list in a OpenAi format\n",
    "    \"\"\"\n",
    "    # this is a standard option\n",
    "    return_messages = [{'role': 'system', 'content': \"You are a helpful assistant.\"},\n",
    "                       ]\n",
    "\n",
    "    # use random to chose if we are adding anything\n",
    "    if random.random() < USE_STARTUP_DIALOG:\n",
    "        # choose number of adding, based on provided weights\n",
    "        startup_len_to_add = random.choices(\n",
    "            DIALOG_LENGTH_OPTIONS, weights=DIALOG_LENGTH_WEIGHTS)[0]\n",
    "        message_chain = random.randint(0, len(starting_messages)-1)\n",
    "        return_messages += starting_messages[message_chain][:startup_len_to_add]\n",
    "\n",
    "    # finally our phrase\n",
    "    return return_messages+[\n",
    "        {'role': 'user', 'content': phrase_request},\n",
    "    ]"
   ]
  },
  {
   "cell_type": "code",
   "execution_count": 92,
   "metadata": {},
   "outputs": [],
   "source": [
    "def request_gpt(messages: list[dict], temperature=TEMPERATURE, model=GPT_MODEL) -> str:\n",
    "    \"\"\"Sends messages to ChatGPT and returns the response\n",
    "\n",
    "    Args:\n",
    "        messages (list[dict]): list of messages in OpenAI format\n",
    "\n",
    "    Returns:\n",
    "        str: response of ChatGpt\n",
    "    \"\"\"\n",
    "    chat_completion = client.chat.completions.create(\n",
    "        messages=messages,\n",
    "        model=model,\n",
    "        temperature=temperature\n",
    "    )\n",
    "\n",
    "    return chat_completion.choices[0].message.content"
   ]
  },
  {
   "cell_type": "code",
   "execution_count": 98,
   "metadata": {},
   "outputs": [],
   "source": [
    "def speak_with_gpt(phrase_request: str, temperature=SPEAK_TEMPERATURE) -> str:\n",
    "    \"\"\"Use phrase_request to generate messages with generate_messages function, send's them to ChatGPT, and return response\n",
    "\n",
    "    Args:\n",
    "        phrase_request (str): Phrase to ask\n",
    "\n",
    "    Returns:\n",
    "        str: Response of ChatGPT\n",
    "    \"\"\"\n",
    "    return request_gpt(generate_messages(phrase_request=phrase_request), temperature=temperature)"
   ]
  },
  {
   "cell_type": "markdown",
   "metadata": {},
   "source": [
    "### Helper function for comparing the results"
   ]
  },
  {
   "cell_type": "code",
   "execution_count": 24,
   "metadata": {},
   "outputs": [],
   "source": [
    "# lower is better in such cases, we will get more sustainable responses\n",
    "COMPARING_TEMPERATURE = 0.3\n",
    "\n",
    "#\n",
    "# note: i have made experiments with it until i get it working correctly\n",
    "#\n",
    "\n",
    "COMPARING_PROMPT_TEMPLATE_2 = \"\"\"\n",
    "You will need to compare two phrases and scale their likeness. \n",
    "\n",
    "Compare PHRASE_1 and PHRASE_2 by summarized meaning, rate similarity by scale from 0 to 100 (0 - no similarity or opposite meaning, 100 - total likeness, similar meaning).\n",
    "\n",
    "Response with number only!\n",
    "\n",
    "\n",
    "```PHRASE_1```\n",
    "<<<PHRASE1###>>>\n",
    "```END OF PHRASE_1```\n",
    "\n",
    "\n",
    "```PHRASE_2```\n",
    "<<<PHRASE2###>>>\n",
    "```END OF PHRASE_2```\n",
    "\n",
    "SCALE OF LIKENESS:\n",
    "\"\"\""
   ]
  },
  {
   "cell_type": "code",
   "execution_count": 25,
   "metadata": {},
   "outputs": [],
   "source": [
    "def generate_comparing_prompt(response1: str, response2: str, comparing_template=COMPARING_PROMPT_TEMPLATE_2) -> str:\n",
    "    \"\"\"Insert into COMPARING_PROMPT_TEMPLATE given request and responses\n",
    "\n",
    "    Args:\n",
    "        response1 (str): response1\n",
    "        response2 (str): response2\n",
    "\n",
    "    Returns:\n",
    "        str: Prompt to send to ChatGRT for comparing\n",
    "    \"\"\"\n",
    "    return comparing_template.replace('<<<PHRASE1###>>>', response1).replace('<<<PHRASE2###>>>', response2)"
   ]
  },
  {
   "cell_type": "code",
   "execution_count": 26,
   "metadata": {},
   "outputs": [],
   "source": [
    "def compare_with_gpt(response1: str, response2: str, temperature=COMPARING_TEMPERATURE, model=GPT_MODEL) -> int:\n",
    "    \"\"\"Makes a prompt to compare phrase1 and phrase2, send to ChatGPT and return and integer \n",
    "\n",
    "    Args:\n",
    "        response1 (str): response1\n",
    "        response2 (str): response2\n",
    "\n",
    "    Returns:\n",
    "        int: 0..100 - scale of likeness, -1 if something goes wrong\n",
    "    \"\"\"\n",
    "    messages = [{'role': 'system', 'content': \"You are a helpful assistant. \"},\n",
    "                {'role': 'user', 'content': generate_comparing_prompt(\n",
    "                    response1, response2)},\n",
    "                ]\n",
    "    response = request_gpt(messages, temperature=temperature)\n",
    "\n",
    "    try:\n",
    "        scale_number = int(response.strip())\n",
    "    except ValueError:\n",
    "        scale_number = -1\n",
    "\n",
    "    return scale_number"
   ]
  },
  {
   "cell_type": "markdown",
   "metadata": {},
   "source": [
    "### Labeling\n",
    "\n",
    "we will label the requests for futher analysis"
   ]
  },
  {
   "cell_type": "code",
   "execution_count": 27,
   "metadata": {},
   "outputs": [],
   "source": [
    "LABELING_TEMPERATURE = 0\n",
    "\n",
    "LABEL_PROMPT_1 = \"\"\"\n",
    "Analyze the text and label the topic of it. Label must be of one or several words, and name the type of mental disorder the author of text is facing. \n",
    "Examples of topics: [ Depression, Anxiety, Eating Disorder, Drug Use, Addiction, Schizophrenia, Bipolar Disorder, Self-Esteem, Personality Disorders, .... ]\n",
    "You should use common label names with low variety, so I could use this label later in my project.\n",
    "Provide two labels maximum, that are more relevant.\n",
    "Respond with label names only, separate different labels with coma \",\"!\n",
    "<<<TEXT>>>\n",
    "<<<<<<TEXT###>>>>>>\n",
    "<<<END OF TEXT>>>\n",
    "\n",
    "<<<LABEL>>>:\n",
    "\"\"\"\n",
    "\n",
    "\n",
    "def generate_labeling_prompt(text_to_label: str, comparing_template=LABEL_PROMPT_1) -> str:\n",
    "    \"\"\"Insert into comparing_template given text to send later to ChatGPT\n",
    "\n",
    "    Args:\n",
    "        text_to_label (str): text to label\n",
    "\n",
    "    Returns:\n",
    "        str: Prompt to send to ChatGRT for labeling\n",
    "    \"\"\"\n",
    "    return comparing_template.replace('<<<<<<TEXT###>>>>>>', text_to_label)\n",
    "\n",
    "\n",
    "def get_label_from_chatGPT(text_to_label: str, temperature=LABELING_TEMPERATURE) -> str:\n",
    "    \"\"\"Generate label prompt, send to ChatGPT and get label for given text\n",
    "\n",
    "    Args:\n",
    "        text_to_label (str): text to label\n",
    "\n",
    "    Returns:\n",
    "        str: label\n",
    "    \"\"\"\n",
    "    messages = [{'role': 'system', 'content': \"You are a helpful assistant. You label text with labels from a limited common set, so they could later be used to aggregate texts.\"},\n",
    "                {'role': 'user', 'content': generate_labeling_prompt(\n",
    "                    text_to_label)},\n",
    "                ]\n",
    "    response = request_gpt(messages, temperature=temperature)\n",
    "\n",
    "    return response"
   ]
  },
  {
   "cell_type": "code",
   "execution_count": null,
   "metadata": {},
   "outputs": [],
   "source": []
  },
  {
   "cell_type": "markdown",
   "metadata": {},
   "source": [
    "## Simulation \n",
    "\n",
    "We will make a new dataset and run a simulation for filling it "
   ]
  },
  {
   "cell_type": "code",
   "execution_count": 28,
   "metadata": {},
   "outputs": [],
   "source": [
    "\n",
    "gpt_simulation = pd.DataFrame(columns=['request', 'label', 'ds_responses_count',\n",
    "                              'chatgpt_response', 'scores', 'min_score', 'max_score', 'mean_score'])\n",
    "\n",
    "GPT_SIMULATION_DATASET_FILENAME = 'simulation_data/gpt_simulation_01_'"
   ]
  },
  {
   "cell_type": "code",
   "execution_count": 140,
   "metadata": {},
   "outputs": [],
   "source": []
  },
  {
   "cell_type": "code",
   "execution_count": 109,
   "metadata": {},
   "outputs": [],
   "source": [
    "def run_one_request(request:str,label:str,gpt_dataset=gpt_simulation,max_comparing=10):\n",
    "    \"\"\"Send's request_str to ChatGPT and analyze the response.\n",
    "\n",
    "    Args:\n",
    "        request_str (str): Request to send to chatGPT\n",
    "        label (str): Label of request\n",
    "        dataset (_type_, optional): Dataset to write results. Defaults to gpt_simulation.\n",
    "        max_comparing (int, optional): To how many original dataset responses we should compare this GPTresponse. Defaults to 15.\n",
    "        \n",
    "    \"\"\"\n",
    "    current_ds_len=len(gpt_dataset)\n",
    "    ds_responses_count=context_unique[context_unique['context']==request]['count'].iloc[0]\n",
    "    ds_responses=conversation_dataset[conversation_dataset['context']==request]['response']\n",
    "    if len(ds_responses)!=ds_responses_count:\n",
    "        print(\"ERROR WITH COUNT MISMATCH\")\n",
    "        return\n",
    "    print('SIM ('+str(current_ds_len)+') ['+request[:20]+'] ', end='')\n",
    "    chatgpt_response=speak_with_gpt(request, temperature=SPEAK_TEMPERATURE)\n",
    "    print(' -> ','{'+chatgpt_response[:100]+'} :: [', end='')\n",
    "    scores=[]\n",
    "    for i in range(min(ds_responses_count, max_comparing)):\n",
    "        one_score=compare_with_gpt(chatgpt_response,ds_responses.iloc[i])\n",
    "        scores.append(one_score)\n",
    "        print(one_score,' ', end='')\n",
    "    scores=np.array(scores)\n",
    "    min_score, max_score, mean_score=scores.min(), scores.max(),scores.mean()\n",
    "    print(f' ]  min: {min_score},  max: {max_score},  mean: {mean_score} ')\n",
    "    gpt_dataset.loc[current_ds_len]={\n",
    "                'request': request,\n",
    "                'label': label,\n",
    "                'ds_responses_count': ds_responses_count,         \n",
    "                'chatgpt_response': chatgpt_response,\n",
    "                'scores': scores,\n",
    "                'min_score': min_score,\n",
    "                'max_score': max_score,\n",
    "                'mean_score': mean_score\n",
    "    }\n",
    "    "
   ]
  },
  {
   "cell_type": "code",
   "execution_count": 29,
   "metadata": {},
   "outputs": [
    {
     "data": {
      "text/plain": [
       "'After I told them, they yelled at me.'"
      ]
     },
     "execution_count": 29,
     "metadata": {},
     "output_type": "execute_result"
    }
   ],
   "source": [
    "req_num=12\n",
    "\n",
    "sample_request=context_unique.iloc[req_num]['context']\n",
    "\n",
    "sample_request"
   ]
  },
  {
   "cell_type": "code",
   "execution_count": 32,
   "metadata": {},
   "outputs": [
    {
     "name": "stdout",
     "output_type": "stream",
     "text": [
      "SIM (0) [After I told them, they yelled at me.] (L: Family Conflict, Anxiety ) ->  {I'm sorry to hear that. It sounds like a difficult} :: [70  70  70  70  75  70  75  20   ]  min: 20,  max: 75,  mean: 65.0 \n"
     ]
    }
   ],
   "source": [
    "label=get_label_from_chatGPT(sample_request)\n",
    "\n",
    "run_one_request(sample_request, label)"
   ]
  },
  {
   "cell_type": "code",
   "execution_count": 33,
   "metadata": {},
   "outputs": [
    {
     "data": {
      "text/plain": [
       "\"After my fiancé cheated on me because of a miscommunication, I pulled myself away from him.    Now he says all he wants is be with me. I'm pushing him away mentally now because he cheated on me again. I make plans with him that I don't keep. I really do love him still and I care about him. Should I give home one more chance?\""
      ]
     },
     "execution_count": 33,
     "metadata": {},
     "output_type": "execute_result"
    }
   ],
   "source": [
    "req_num=17\n",
    "\n",
    "sample_request=context_unique.iloc[req_num]['context']\n",
    "\n",
    "sample_request"
   ]
  },
  {
   "cell_type": "code",
   "execution_count": 34,
   "metadata": {},
   "outputs": [
    {
     "name": "stdout",
     "output_type": "stream",
     "text": [
      "SIM (1) [After my fiancé cheated on me because of a miscomm] (L: Relationship Issues, Trust Issues ) ->  {I'm sorry to hear that you're going through this d} :: [63   ]  min: 63,  max: 63,  mean: 63.0 \n"
     ]
    }
   ],
   "source": [
    "label=get_label_from_chatGPT(sample_request)\n",
    "\n",
    "run_one_request(sample_request, label)"
   ]
  },
  {
   "cell_type": "code",
   "execution_count": 35,
   "metadata": {},
   "outputs": [
    {
     "data": {
      "text/plain": [
       "2"
      ]
     },
     "execution_count": 35,
     "metadata": {},
     "output_type": "execute_result"
    }
   ],
   "source": [
    "len(gpt_simulation)"
   ]
  },
  {
   "cell_type": "code",
   "execution_count": 36,
   "metadata": {},
   "outputs": [
    {
     "data": {
      "text/html": [
       "<div>\n",
       "<style scoped>\n",
       "    .dataframe tbody tr th:only-of-type {\n",
       "        vertical-align: middle;\n",
       "    }\n",
       "\n",
       "    .dataframe tbody tr th {\n",
       "        vertical-align: top;\n",
       "    }\n",
       "\n",
       "    .dataframe thead th {\n",
       "        text-align: right;\n",
       "    }\n",
       "</style>\n",
       "<table border=\"1\" class=\"dataframe\">\n",
       "  <thead>\n",
       "    <tr style=\"text-align: right;\">\n",
       "      <th></th>\n",
       "      <th>request</th>\n",
       "      <th>label</th>\n",
       "      <th>ds_responses_count</th>\n",
       "      <th>chatgpt_response</th>\n",
       "      <th>scores</th>\n",
       "      <th>min_score</th>\n",
       "      <th>max_score</th>\n",
       "      <th>mean_score</th>\n",
       "    </tr>\n",
       "  </thead>\n",
       "  <tbody>\n",
       "    <tr>\n",
       "      <th>0</th>\n",
       "      <td>After I told them, they yelled at me.</td>\n",
       "      <td>Family Conflict, Anxiety</td>\n",
       "      <td>8</td>\n",
       "      <td>I'm sorry to hear that. It sounds like a diffi...</td>\n",
       "      <td>[70, 70, 70, 70, 75, 70, 75, 20]</td>\n",
       "      <td>20</td>\n",
       "      <td>75</td>\n",
       "      <td>65.0</td>\n",
       "    </tr>\n",
       "    <tr>\n",
       "      <th>1</th>\n",
       "      <td>After my fiancé cheated on me because of a mis...</td>\n",
       "      <td>Relationship Issues, Trust Issues</td>\n",
       "      <td>1</td>\n",
       "      <td>I'm sorry to hear that you're going through th...</td>\n",
       "      <td>[63]</td>\n",
       "      <td>63</td>\n",
       "      <td>63</td>\n",
       "      <td>63.0</td>\n",
       "    </tr>\n",
       "  </tbody>\n",
       "</table>\n",
       "</div>"
      ],
      "text/plain": [
       "                                             request  \\\n",
       "0              After I told them, they yelled at me.   \n",
       "1  After my fiancé cheated on me because of a mis...   \n",
       "\n",
       "                               label  ds_responses_count  \\\n",
       "0           Family Conflict, Anxiety                   8   \n",
       "1  Relationship Issues, Trust Issues                   1   \n",
       "\n",
       "                                    chatgpt_response  \\\n",
       "0  I'm sorry to hear that. It sounds like a diffi...   \n",
       "1  I'm sorry to hear that you're going through th...   \n",
       "\n",
       "                             scores  min_score  max_score  mean_score  \n",
       "0  [70, 70, 70, 70, 75, 70, 75, 20]         20         75        65.0  \n",
       "1                              [63]         63         63        63.0  "
      ]
     },
     "execution_count": 36,
     "metadata": {},
     "output_type": "execute_result"
    }
   ],
   "source": [
    "gpt_simulation"
   ]
  },
  {
   "cell_type": "code",
   "execution_count": 39,
   "metadata": {},
   "outputs": [],
   "source": [
    "def save_simulation_dataset(gpt_dataset=gpt_simulation):\n",
    "    \"\"\"Saves to csv the simulation dataset, using INDEX and Dataset lenght to make the filename\n",
    "\n",
    "    Args:\n",
    "        dataset (_type_, optional): _description_. Defaults to gpt_simulation.\n",
    "    \"\"\"\n",
    "    ds_len = len(gpt_dataset)\n",
    "    print()\n",
    "    if ds_len:\n",
    "        filename=GPT_SIMULATION_DATASET_FILENAME+str(ds_len).zfill(4)+'.csv'\n",
    "        print(ds_len,' len dataset will be saved to ',filename)\n",
    "        gpt_dataset.to_csv(filename)\n",
    "        print('Dataset saved to ', filename)"
   ]
  },
  {
   "cell_type": "code",
   "execution_count": null,
   "metadata": {},
   "outputs": [],
   "source": []
  },
  {
   "cell_type": "code",
   "execution_count": 40,
   "metadata": {},
   "outputs": [
    {
     "name": "stdout",
     "output_type": "stream",
     "text": [
      "\n",
      "2  len dataset will be saved to  simulation_data/gpt_simulation_01_0002.csv\n",
      "Dataset saved to  simulation_data/gpt_simulation_01_0002.csv\n"
     ]
    }
   ],
   "source": [
    "save_simulation_dataset()"
   ]
  },
  {
   "cell_type": "code",
   "execution_count": 41,
   "metadata": {},
   "outputs": [
    {
     "data": {
      "text/plain": [
       "\"Any time things get heated, the past gets brought up. I raise my voice at her to try to get a point across. She asks open-ended questions but always has to turn my own answer against me. She's seven months pregnant. I have drank in the past, but I'm not dependent on alcohol—I only drink at social events.\""
      ]
     },
     "execution_count": 41,
     "metadata": {},
     "output_type": "execute_result"
    }
   ],
   "source": [
    "req_num=22\n",
    "\n",
    "sample_request=context_unique.iloc[req_num]['context']\n",
    "\n",
    "sample_request"
   ]
  },
  {
   "cell_type": "code",
   "execution_count": 42,
   "metadata": {},
   "outputs": [
    {
     "name": "stdout",
     "output_type": "stream",
     "text": [
      "SIM (2) [Any time things get heated, the past gets brought ] (L: Relationship Issues, Alcohol Abuse ) ->  {It sounds like there may be some communication iss} :: [70   ]  min: 70,  max: 70,  mean: 70.0 \n"
     ]
    }
   ],
   "source": [
    "label=get_label_from_chatGPT(sample_request)\n",
    "\n",
    "run_one_request(sample_request, label)"
   ]
  },
  {
   "cell_type": "code",
   "execution_count": 43,
   "metadata": {},
   "outputs": [
    {
     "data": {
      "text/plain": [
       "'Every winter I find myself getting sad because of the weather. How can I fight this?'"
      ]
     },
     "execution_count": 43,
     "metadata": {},
     "output_type": "execute_result"
    }
   ],
   "source": [
    "req_num=41\n",
    "\n",
    "sample_request=context_unique.iloc[req_num]['context']\n",
    "\n",
    "sample_request"
   ]
  },
  {
   "cell_type": "code",
   "execution_count": 44,
   "metadata": {},
   "outputs": [
    {
     "name": "stdout",
     "output_type": "stream",
     "text": [
      "SIM (3) [Every winter I find myself getting sad because of ] (L: Seasonal Affective Disorder, Depression ) ->  {I'm sorry to hear that you struggle with feeling s} :: [85  75  85  85  90  85  85  85  85  70  70  90  70  85  85   ]  min: 70,  max: 90,  mean: 82.0 \n"
     ]
    }
   ],
   "source": [
    "label=get_label_from_chatGPT(sample_request)\n",
    "\n",
    "run_one_request(sample_request, label)"
   ]
  },
  {
   "cell_type": "code",
   "execution_count": 45,
   "metadata": {},
   "outputs": [
    {
     "data": {
      "text/html": [
       "<div>\n",
       "<style scoped>\n",
       "    .dataframe tbody tr th:only-of-type {\n",
       "        vertical-align: middle;\n",
       "    }\n",
       "\n",
       "    .dataframe tbody tr th {\n",
       "        vertical-align: top;\n",
       "    }\n",
       "\n",
       "    .dataframe thead th {\n",
       "        text-align: right;\n",
       "    }\n",
       "</style>\n",
       "<table border=\"1\" class=\"dataframe\">\n",
       "  <thead>\n",
       "    <tr style=\"text-align: right;\">\n",
       "      <th></th>\n",
       "      <th>request</th>\n",
       "      <th>label</th>\n",
       "      <th>ds_responses_count</th>\n",
       "      <th>chatgpt_response</th>\n",
       "      <th>scores</th>\n",
       "      <th>min_score</th>\n",
       "      <th>max_score</th>\n",
       "      <th>mean_score</th>\n",
       "    </tr>\n",
       "  </thead>\n",
       "  <tbody>\n",
       "    <tr>\n",
       "      <th>0</th>\n",
       "      <td>After I told them, they yelled at me.</td>\n",
       "      <td>Family Conflict, Anxiety</td>\n",
       "      <td>8</td>\n",
       "      <td>I'm sorry to hear that. It sounds like a diffi...</td>\n",
       "      <td>[70, 70, 70, 70, 75, 70, 75, 20]</td>\n",
       "      <td>20</td>\n",
       "      <td>75</td>\n",
       "      <td>65.0</td>\n",
       "    </tr>\n",
       "    <tr>\n",
       "      <th>1</th>\n",
       "      <td>After my fiancé cheated on me because of a mis...</td>\n",
       "      <td>Relationship Issues, Trust Issues</td>\n",
       "      <td>1</td>\n",
       "      <td>I'm sorry to hear that you're going through th...</td>\n",
       "      <td>[63]</td>\n",
       "      <td>63</td>\n",
       "      <td>63</td>\n",
       "      <td>63.0</td>\n",
       "    </tr>\n",
       "    <tr>\n",
       "      <th>2</th>\n",
       "      <td>Any time things get heated, the past gets brou...</td>\n",
       "      <td>Relationship Issues, Alcohol Abuse</td>\n",
       "      <td>1</td>\n",
       "      <td>It sounds like there may be some communication...</td>\n",
       "      <td>[70]</td>\n",
       "      <td>70</td>\n",
       "      <td>70</td>\n",
       "      <td>70.0</td>\n",
       "    </tr>\n",
       "    <tr>\n",
       "      <th>3</th>\n",
       "      <td>Every winter I find myself getting sad because...</td>\n",
       "      <td>Seasonal Affective Disorder, Depression</td>\n",
       "      <td>15</td>\n",
       "      <td>I'm sorry to hear that you struggle with feeli...</td>\n",
       "      <td>[85, 75, 85, 85, 90, 85, 85, 85, 85, 70, 70, 9...</td>\n",
       "      <td>70</td>\n",
       "      <td>90</td>\n",
       "      <td>82.0</td>\n",
       "    </tr>\n",
       "  </tbody>\n",
       "</table>\n",
       "</div>"
      ],
      "text/plain": [
       "                                             request  \\\n",
       "0              After I told them, they yelled at me.   \n",
       "1  After my fiancé cheated on me because of a mis...   \n",
       "2  Any time things get heated, the past gets brou...   \n",
       "3  Every winter I find myself getting sad because...   \n",
       "\n",
       "                                     label  ds_responses_count  \\\n",
       "0                 Family Conflict, Anxiety                   8   \n",
       "1        Relationship Issues, Trust Issues                   1   \n",
       "2       Relationship Issues, Alcohol Abuse                   1   \n",
       "3  Seasonal Affective Disorder, Depression                  15   \n",
       "\n",
       "                                    chatgpt_response  \\\n",
       "0  I'm sorry to hear that. It sounds like a diffi...   \n",
       "1  I'm sorry to hear that you're going through th...   \n",
       "2  It sounds like there may be some communication...   \n",
       "3  I'm sorry to hear that you struggle with feeli...   \n",
       "\n",
       "                                              scores  min_score  max_score  \\\n",
       "0                   [70, 70, 70, 70, 75, 70, 75, 20]         20         75   \n",
       "1                                               [63]         63         63   \n",
       "2                                               [70]         70         70   \n",
       "3  [85, 75, 85, 85, 90, 85, 85, 85, 85, 70, 70, 9...         70         90   \n",
       "\n",
       "   mean_score  \n",
       "0        65.0  \n",
       "1        63.0  \n",
       "2        70.0  \n",
       "3        82.0  "
      ]
     },
     "execution_count": 45,
     "metadata": {},
     "output_type": "execute_result"
    }
   ],
   "source": [
    "gpt_simulation"
   ]
  },
  {
   "cell_type": "code",
   "execution_count": 47,
   "metadata": {},
   "outputs": [
    {
     "name": "stdout",
     "output_type": "stream",
     "text": [
      "\n",
      "4  len dataset will be saved to  simulation_data/gpt_simulation_01_0004.csv\n",
      "Dataset saved to  simulation_data/gpt_simulation_01_0004.csv\n"
     ]
    }
   ],
   "source": [
    "save_simulation_dataset()"
   ]
  },
  {
   "cell_type": "code",
   "execution_count": 48,
   "metadata": {},
   "outputs": [],
   "source": [
    "test=pd.read_csv('simulation_data/gpt_simulation_01_0004.csv')"
   ]
  },
  {
   "cell_type": "code",
   "execution_count": 49,
   "metadata": {},
   "outputs": [
    {
     "data": {
      "text/html": [
       "<div>\n",
       "<style scoped>\n",
       "    .dataframe tbody tr th:only-of-type {\n",
       "        vertical-align: middle;\n",
       "    }\n",
       "\n",
       "    .dataframe tbody tr th {\n",
       "        vertical-align: top;\n",
       "    }\n",
       "\n",
       "    .dataframe thead th {\n",
       "        text-align: right;\n",
       "    }\n",
       "</style>\n",
       "<table border=\"1\" class=\"dataframe\">\n",
       "  <thead>\n",
       "    <tr style=\"text-align: right;\">\n",
       "      <th></th>\n",
       "      <th>Unnamed: 0</th>\n",
       "      <th>request</th>\n",
       "      <th>label</th>\n",
       "      <th>ds_responses_count</th>\n",
       "      <th>chatgpt_response</th>\n",
       "      <th>scores</th>\n",
       "      <th>min_score</th>\n",
       "      <th>max_score</th>\n",
       "      <th>mean_score</th>\n",
       "    </tr>\n",
       "  </thead>\n",
       "  <tbody>\n",
       "    <tr>\n",
       "      <th>0</th>\n",
       "      <td>0</td>\n",
       "      <td>After I told them, they yelled at me.</td>\n",
       "      <td>Family Conflict, Anxiety</td>\n",
       "      <td>8</td>\n",
       "      <td>I'm sorry to hear that. It sounds like a diffi...</td>\n",
       "      <td>[70 70 70 70 75 70 75 20]</td>\n",
       "      <td>20</td>\n",
       "      <td>75</td>\n",
       "      <td>65.0</td>\n",
       "    </tr>\n",
       "    <tr>\n",
       "      <th>1</th>\n",
       "      <td>1</td>\n",
       "      <td>After my fiancé cheated on me because of a mis...</td>\n",
       "      <td>Relationship Issues, Trust Issues</td>\n",
       "      <td>1</td>\n",
       "      <td>I'm sorry to hear that you're going through th...</td>\n",
       "      <td>[63]</td>\n",
       "      <td>63</td>\n",
       "      <td>63</td>\n",
       "      <td>63.0</td>\n",
       "    </tr>\n",
       "    <tr>\n",
       "      <th>2</th>\n",
       "      <td>2</td>\n",
       "      <td>Any time things get heated, the past gets brou...</td>\n",
       "      <td>Relationship Issues, Alcohol Abuse</td>\n",
       "      <td>1</td>\n",
       "      <td>It sounds like there may be some communication...</td>\n",
       "      <td>[70]</td>\n",
       "      <td>70</td>\n",
       "      <td>70</td>\n",
       "      <td>70.0</td>\n",
       "    </tr>\n",
       "    <tr>\n",
       "      <th>3</th>\n",
       "      <td>3</td>\n",
       "      <td>Every winter I find myself getting sad because...</td>\n",
       "      <td>Seasonal Affective Disorder, Depression</td>\n",
       "      <td>15</td>\n",
       "      <td>I'm sorry to hear that you struggle with feeli...</td>\n",
       "      <td>[85 75 85 85 90 85 85 85 85 70 70 90 70 85 85]</td>\n",
       "      <td>70</td>\n",
       "      <td>90</td>\n",
       "      <td>82.0</td>\n",
       "    </tr>\n",
       "  </tbody>\n",
       "</table>\n",
       "</div>"
      ],
      "text/plain": [
       "   Unnamed: 0                                            request  \\\n",
       "0           0              After I told them, they yelled at me.   \n",
       "1           1  After my fiancé cheated on me because of a mis...   \n",
       "2           2  Any time things get heated, the past gets brou...   \n",
       "3           3  Every winter I find myself getting sad because...   \n",
       "\n",
       "                                     label  ds_responses_count  \\\n",
       "0                 Family Conflict, Anxiety                   8   \n",
       "1        Relationship Issues, Trust Issues                   1   \n",
       "2       Relationship Issues, Alcohol Abuse                   1   \n",
       "3  Seasonal Affective Disorder, Depression                  15   \n",
       "\n",
       "                                    chatgpt_response  \\\n",
       "0  I'm sorry to hear that. It sounds like a diffi...   \n",
       "1  I'm sorry to hear that you're going through th...   \n",
       "2  It sounds like there may be some communication...   \n",
       "3  I'm sorry to hear that you struggle with feeli...   \n",
       "\n",
       "                                           scores  min_score  max_score  \\\n",
       "0                       [70 70 70 70 75 70 75 20]         20         75   \n",
       "1                                            [63]         63         63   \n",
       "2                                            [70]         70         70   \n",
       "3  [85 75 85 85 90 85 85 85 85 70 70 90 70 85 85]         70         90   \n",
       "\n",
       "   mean_score  \n",
       "0        65.0  \n",
       "1        63.0  \n",
       "2        70.0  \n",
       "3        82.0  "
      ]
     },
     "execution_count": 49,
     "metadata": {},
     "output_type": "execute_result"
    }
   ],
   "source": [
    "test"
   ]
  },
  {
   "cell_type": "code",
   "execution_count": null,
   "metadata": {},
   "outputs": [],
   "source": []
  },
  {
   "cell_type": "markdown",
   "metadata": {},
   "source": [
    "### Ready to go!\n"
   ]
  },
  {
   "cell_type": "markdown",
   "metadata": {},
   "source": [
    "Ok, we will start with entries, that have 3 or more original dataset responses\n",
    "We will be doing 3 trials for each request"
   ]
  },
  {
   "cell_type": "code",
   "execution_count": 115,
   "metadata": {},
   "outputs": [],
   "source": [
    "del gpt_simulation\n",
    "\n",
    "gpt_simulation = pd.DataFrame(columns=['request', 'label', 'ds_responses_count',\n",
    "                              'chatgpt_response', 'scores', 'min_score', 'max_score', 'mean_score'])\n",
    "\n",
    "GPT_SIMULATION_DATASET_FILENAME = 'simulation_data/gpt_simulation_02_'"
   ]
  },
  {
   "cell_type": "code",
   "execution_count": 116,
   "metadata": {},
   "outputs": [],
   "source": [
    "NUM_TRIALS=3\n",
    "\n",
    "MAX_COMPARING=10\n",
    "\n",
    "SAVE_ON_NUMBER=25\n",
    "\n",
    "context_from_3_responses=context_unique[context_unique['count']>2]\n"
   ]
  },
  {
   "cell_type": "code",
   "execution_count": 118,
   "metadata": {},
   "outputs": [],
   "source": [
    "sim_length=len(context_from_3_responses)"
   ]
  },
  {
   "cell_type": "code",
   "execution_count": 111,
   "metadata": {},
   "outputs": [
    {
     "name": "stdout",
     "output_type": "stream",
     "text": [
      "context[0][A few years ago I was making love to my wife when for no known reason I lost my erection,    Now I'm In my early 30s and my problem has become more an] (L:Erectile Dysfunction, Depression) :\n",
      "SIM (4) [A few years ago I wa]  ->  {I'm sorry to hear that you're going through such a challenging situation. Erectile dysfunction (ED) } :: [72  70  85  20  75  85   ]  min: 20,  max: 85,  mean: 67.83333333333333 \n",
      "context[1][After 40 years of being straight, how could I now find myself interested in people of the same sex? I have had a few same sex encounters of my own doi] (L:Sexuality, Identity Crisis) :\n",
      "SIM (5) [After 40 years of be]  ->  {It's completely normal for sexual orientation to be fluid and for individuals to experience changes } :: [85  75  90  90  73  70   ]  min: 70,  max: 90,  mean: 80.5 \n",
      "context[2][After I told them, they yelled at me.] (L:Family Conflict, Anxiety) :\n",
      "SIM (6) [After I told them, t]  ->  {I'm sorry to hear that you had to go through that experience. It can be really difficult when you sh} :: [70  70  70  70  70  75  70  75   ]  min: 70,  max: 75,  mean: 71.25 \n",
      "\n",
      "7  len dataset will be saved to  simulation_data/gpt_simulation_02_0007.csv\n",
      "Dataset saved to  simulation_data/gpt_simulation_02_0007.csv\n",
      "context[3][After first meeting the client, what is the process that a counselor facilitates?] (L:Counseling, Anxiety) :\n",
      "SIM (7) [After first meeting ]  ->  {After the initial meeting with a client, a counselor typically follows a structured process to facil} :: [70  70  85  70  75  75  70   ]  min: 70,  max: 85,  mean: 73.57142857142857 \n"
     ]
    }
   ],
   "source": [
    "for request_number in range(sim_length):\n",
    "    request=context_from_3_responses.iloc[request_number].iloc[0]\n",
    "    label=get_label_from_chatGPT(request)\n",
    "    print(f'context[{request_number}][{request[:150]}] (L:{label}) :')\n",
    "                                          \n",
    "    for trial in range(NUM_TRIALS):\n",
    "        run_one_request(request,label,gpt_dataset=gpt_simulation,max_comparing=MAX_COMPARING)\n",
    "    \n",
    "    if (request_number % SAVE_ON_NUMBER==0)and(request_number>0):\n",
    "        save_simulation_dataset(gpt_dataset=gpt_simulation)   \n",
    "        print()\n",
    "    print()\n",
    "        "
   ]
  },
  {
   "cell_type": "code",
   "execution_count": 117,
   "metadata": {},
   "outputs": [
    {
     "data": {
      "text/html": [
       "<div>\n",
       "<style scoped>\n",
       "    .dataframe tbody tr th:only-of-type {\n",
       "        vertical-align: middle;\n",
       "    }\n",
       "\n",
       "    .dataframe tbody tr th {\n",
       "        vertical-align: top;\n",
       "    }\n",
       "\n",
       "    .dataframe thead th {\n",
       "        text-align: right;\n",
       "    }\n",
       "</style>\n",
       "<table border=\"1\" class=\"dataframe\">\n",
       "  <thead>\n",
       "    <tr style=\"text-align: right;\">\n",
       "      <th></th>\n",
       "      <th>request</th>\n",
       "      <th>label</th>\n",
       "      <th>ds_responses_count</th>\n",
       "      <th>chatgpt_response</th>\n",
       "      <th>scores</th>\n",
       "      <th>min_score</th>\n",
       "      <th>max_score</th>\n",
       "      <th>mean_score</th>\n",
       "    </tr>\n",
       "  </thead>\n",
       "  <tbody>\n",
       "  </tbody>\n",
       "</table>\n",
       "</div>"
      ],
      "text/plain": [
       "Empty DataFrame\n",
       "Columns: [request, label, ds_responses_count, chatgpt_response, scores, min_score, max_score, mean_score]\n",
       "Index: []"
      ]
     },
     "execution_count": 117,
     "metadata": {},
     "output_type": "execute_result"
    }
   ],
   "source": [
    "gpt_simulation"
   ]
  },
  {
   "cell_type": "code",
   "execution_count": null,
   "metadata": {},
   "outputs": [],
   "source": []
  }
 ],
 "metadata": {
  "kernelspec": {
   "display_name": "Python 3",
   "language": "python",
   "name": "python3"
  },
  "language_info": {
   "codemirror_mode": {
    "name": "ipython",
    "version": 3
   },
   "file_extension": ".py",
   "mimetype": "text/x-python",
   "name": "python",
   "nbconvert_exporter": "python",
   "pygments_lexer": "ipython3",
   "version": "3.11.6"
  }
 },
 "nbformat": 4,
 "nbformat_minor": 2
}
