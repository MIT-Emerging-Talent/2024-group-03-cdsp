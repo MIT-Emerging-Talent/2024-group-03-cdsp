{
 "cells": [
  {
   "cell_type": "markdown",
   "metadata": {},
   "source": [
    "# ChatGPT Mental Support simulation"
   ]
  },
  {
   "cell_type": "markdown",
   "metadata": {},
   "source": [
    "In this notebook we will simulate how chatGPT will respond to request from people with mental issues, problems and worries, that will be expressed plain in conversation.\n",
    "This responses will be compared to responses from mental counselor to see how is chatGPT doing this.\n",
    "\n",
    "### Dataset\n",
    "\n",
    "This simulation is based on this dataset:\n",
    "\n",
    "[Mental health Counseling Conversations dataset](https://www.kaggle.com/datasets/thedevastator/nlp-mental-health-conversations)\n",
    "\n",
    "### Dataset structure\n",
    "\n",
    "| Column   | Description | \n",
    "|----------|----------|\n",
    "| Context  | Request, phrase, query sentence from the patient, that seems to have mental troubles, problem, disorders of different kind        |  \n",
    "| Response | Response, that mental counselor is supposed to give. For one ```Context``` there is from 1 to 47 different responses (mean 2.5) | \n",
    "\n",
    "\n",
    "### Comparison\n",
    "\n",
    "Comparison between ChatGPT response will be done with special prompt, resulting in score [0-100], and be done comparing one response from ChatGRT to all (one by one) responses from the dataset. New dataset will chatGPT responses and scores will be build, and then explored\n",
    "\n"
   ]
  },
  {
   "cell_type": "markdown",
   "metadata": {},
   "source": [
    "## Preparing the data"
   ]
  },
  {
   "cell_type": "markdown",
   "metadata": {},
   "source": [
    "The dataset on the link above is available to download, so here it is already present in the ```dataset/NLP_Mental_Health_Conversations.csv```"
   ]
  },
  {
   "cell_type": "code",
   "execution_count": 2,
   "metadata": {},
   "outputs": [],
   "source": [
    "#!pip install pandas"
   ]
  },
  {
   "cell_type": "code",
   "execution_count": 3,
   "metadata": {},
   "outputs": [
    {
     "name": "stderr",
     "output_type": "stream",
     "text": [
      "C:\\Users\\sirius\\AppData\\Local\\Temp\\ipykernel_1380\\4080736814.py:1: DeprecationWarning: \n",
      "Pyarrow will become a required dependency of pandas in the next major release of pandas (pandas 3.0),\n",
      "(to allow more performant data types, such as the Arrow string type, and better interoperability with other libraries)\n",
      "but was not found to be installed on your system.\n",
      "If this would cause problems for you,\n",
      "please provide us feedback at https://github.com/pandas-dev/pandas/issues/54466\n",
      "        \n",
      "  import pandas as pd\n"
     ]
    }
   ],
   "source": [
    "import pandas as pd"
   ]
  },
  {
   "cell_type": "code",
   "execution_count": 4,
   "metadata": {},
   "outputs": [
    {
     "data": {
      "text/html": [
       "<div>\n",
       "<style scoped>\n",
       "    .dataframe tbody tr th:only-of-type {\n",
       "        vertical-align: middle;\n",
       "    }\n",
       "\n",
       "    .dataframe tbody tr th {\n",
       "        vertical-align: top;\n",
       "    }\n",
       "\n",
       "    .dataframe thead th {\n",
       "        text-align: right;\n",
       "    }\n",
       "</style>\n",
       "<table border=\"1\" class=\"dataframe\">\n",
       "  <thead>\n",
       "    <tr style=\"text-align: right;\">\n",
       "      <th></th>\n",
       "      <th>Context</th>\n",
       "      <th>Response</th>\n",
       "    </tr>\n",
       "  </thead>\n",
       "  <tbody>\n",
       "    <tr>\n",
       "      <th>0</th>\n",
       "      <td>I'm going through some things with my feelings...</td>\n",
       "      <td>If everyone thinks you're worthless, then mayb...</td>\n",
       "    </tr>\n",
       "    <tr>\n",
       "      <th>1</th>\n",
       "      <td>I'm going through some things with my feelings...</td>\n",
       "      <td>Hello, and thank you for your question and see...</td>\n",
       "    </tr>\n",
       "    <tr>\n",
       "      <th>2</th>\n",
       "      <td>I'm going through some things with my feelings...</td>\n",
       "      <td>First thing I'd suggest is getting the sleep y...</td>\n",
       "    </tr>\n",
       "    <tr>\n",
       "      <th>3</th>\n",
       "      <td>I'm going through some things with my feelings...</td>\n",
       "      <td>Therapy is essential for those that are feelin...</td>\n",
       "    </tr>\n",
       "    <tr>\n",
       "      <th>4</th>\n",
       "      <td>I'm going through some things with my feelings...</td>\n",
       "      <td>I first want to let you know that you are not ...</td>\n",
       "    </tr>\n",
       "  </tbody>\n",
       "</table>\n",
       "</div>"
      ],
      "text/plain": [
       "                                             Context  \\\n",
       "0  I'm going through some things with my feelings...   \n",
       "1  I'm going through some things with my feelings...   \n",
       "2  I'm going through some things with my feelings...   \n",
       "3  I'm going through some things with my feelings...   \n",
       "4  I'm going through some things with my feelings...   \n",
       "\n",
       "                                            Response  \n",
       "0  If everyone thinks you're worthless, then mayb...  \n",
       "1  Hello, and thank you for your question and see...  \n",
       "2  First thing I'd suggest is getting the sleep y...  \n",
       "3  Therapy is essential for those that are feelin...  \n",
       "4  I first want to let you know that you are not ...  "
      ]
     },
     "execution_count": 4,
     "metadata": {},
     "output_type": "execute_result"
    }
   ],
   "source": [
    "CONVERSATIONS_DATASET_FILENAME='dataset/NLP_Mental_Health_Conversations.csv'\n",
    "\n",
    "conversation_dataset=pd.read_csv(CONVERSATIONS_DATASET_FILENAME)\n",
    "\n",
    "conversation_dataset.head()"
   ]
  },
  {
   "cell_type": "code",
   "execution_count": 5,
   "metadata": {},
   "outputs": [
    {
     "data": {
      "text/plain": [
       "3512"
      ]
     },
     "execution_count": 5,
     "metadata": {},
     "output_type": "execute_result"
    }
   ],
   "source": [
    "len(conversation_dataset)"
   ]
  },
  {
   "cell_type": "code",
   "execution_count": 6,
   "metadata": {},
   "outputs": [],
   "source": [
    "conversation_dataset.columns = conversation_dataset.columns.str.lower().str.replace(' ', '_')"
   ]
  },
  {
   "cell_type": "code",
   "execution_count": 7,
   "metadata": {},
   "outputs": [
    {
     "data": {
      "text/plain": [
       "context     0\n",
       "response    4\n",
       "dtype: int64"
      ]
     },
     "execution_count": 7,
     "metadata": {},
     "output_type": "execute_result"
    }
   ],
   "source": [
    "conversation_dataset.isna().sum()"
   ]
  },
  {
   "cell_type": "code",
   "execution_count": 8,
   "metadata": {},
   "outputs": [
    {
     "data": {
      "text/html": [
       "<div>\n",
       "<style scoped>\n",
       "    .dataframe tbody tr th:only-of-type {\n",
       "        vertical-align: middle;\n",
       "    }\n",
       "\n",
       "    .dataframe tbody tr th {\n",
       "        vertical-align: top;\n",
       "    }\n",
       "\n",
       "    .dataframe thead th {\n",
       "        text-align: right;\n",
       "    }\n",
       "</style>\n",
       "<table border=\"1\" class=\"dataframe\">\n",
       "  <thead>\n",
       "    <tr style=\"text-align: right;\">\n",
       "      <th></th>\n",
       "      <th>context</th>\n",
       "      <th>response</th>\n",
       "    </tr>\n",
       "  </thead>\n",
       "  <tbody>\n",
       "    <tr>\n",
       "      <th>count</th>\n",
       "      <td>3512</td>\n",
       "      <td>3508</td>\n",
       "    </tr>\n",
       "    <tr>\n",
       "      <th>unique</th>\n",
       "      <td>995</td>\n",
       "      <td>2471</td>\n",
       "    </tr>\n",
       "    <tr>\n",
       "      <th>top</th>\n",
       "      <td>I have so many issues to address. I have a his...</td>\n",
       "      <td>Counseling ends when the client has received t...</td>\n",
       "    </tr>\n",
       "    <tr>\n",
       "      <th>freq</th>\n",
       "      <td>94</td>\n",
       "      <td>3</td>\n",
       "    </tr>\n",
       "  </tbody>\n",
       "</table>\n",
       "</div>"
      ],
      "text/plain": [
       "                                                  context  \\\n",
       "count                                                3512   \n",
       "unique                                                995   \n",
       "top     I have so many issues to address. I have a his...   \n",
       "freq                                                   94   \n",
       "\n",
       "                                                 response  \n",
       "count                                                3508  \n",
       "unique                                               2471  \n",
       "top     Counseling ends when the client has received t...  \n",
       "freq                                                    3  "
      ]
     },
     "execution_count": 8,
     "metadata": {},
     "output_type": "execute_result"
    }
   ],
   "source": [
    "conversation_dataset.describe()"
   ]
  },
  {
   "cell_type": "code",
   "execution_count": 9,
   "metadata": {},
   "outputs": [
    {
     "name": "stdout",
     "output_type": "stream",
     "text": [
      "I'm in a state of depression right now. Who can I talk to? I've been sick in a lot of pain and crying. Don't know where to turn.\n"
     ]
    }
   ],
   "source": [
    "context_example=conversation_dataset.loc[328]['context']\n",
    "\n",
    "responses_example=conversation_dataset[conversation_dataset['context']==context_example]\n",
    "\n",
    "print(context_example)\n"
   ]
  },
  {
   "cell_type": "code",
   "execution_count": 10,
   "metadata": {},
   "outputs": [
    {
     "data": {
      "text/html": [
       "<div>\n",
       "<style scoped>\n",
       "    .dataframe tbody tr th:only-of-type {\n",
       "        vertical-align: middle;\n",
       "    }\n",
       "\n",
       "    .dataframe tbody tr th {\n",
       "        vertical-align: top;\n",
       "    }\n",
       "\n",
       "    .dataframe thead th {\n",
       "        text-align: right;\n",
       "    }\n",
       "</style>\n",
       "<table border=\"1\" class=\"dataframe\">\n",
       "  <thead>\n",
       "    <tr style=\"text-align: right;\">\n",
       "      <th></th>\n",
       "      <th>context</th>\n",
       "      <th>response</th>\n",
       "    </tr>\n",
       "  </thead>\n",
       "  <tbody>\n",
       "    <tr>\n",
       "      <th>328</th>\n",
       "      <td>I'm in a state of depression right now. Who ca...</td>\n",
       "      <td>First of all, if you’re sick and in pain, have...</td>\n",
       "    </tr>\n",
       "    <tr>\n",
       "      <th>2166</th>\n",
       "      <td>I'm in a state of depression right now. Who ca...</td>\n",
       "      <td>First of all, if you’re sick and in pain, have...</td>\n",
       "    </tr>\n",
       "  </tbody>\n",
       "</table>\n",
       "</div>"
      ],
      "text/plain": [
       "                                                context  \\\n",
       "328   I'm in a state of depression right now. Who ca...   \n",
       "2166  I'm in a state of depression right now. Who ca...   \n",
       "\n",
       "                                               response  \n",
       "328   First of all, if you’re sick and in pain, have...  \n",
       "2166  First of all, if you’re sick and in pain, have...  "
      ]
     },
     "execution_count": 10,
     "metadata": {},
     "output_type": "execute_result"
    }
   ],
   "source": [
    "responses_example"
   ]
  },
  {
   "cell_type": "code",
   "execution_count": 11,
   "metadata": {},
   "outputs": [
    {
     "name": "stdout",
     "output_type": "stream",
     "text": [
      "First of all, if you’re sick and in pain, have you seen your doctor? If you have a chronic illness and pain, this can often lead to depression and is very common. You’ve taken the first step to dealing with it. You can talk to your doctor, even if your depression isn’t related to your health. He or she can either look at prescribing you an antidepressant or can refer you to a psychologist or psychiatrist.If that’s not really an option for you, there are also helplines (local or national) or support groups where people dealing with similar issues can talk to each other. If you can't find any in your area (newspapers usually publish this information), there are online support groups as well.\n",
      "First of all, if you’re sick and in pain, have you seen your doctor? If you have a chronic illness and pain, this can often lead to depression and is very common. You’ve taken the first step to dealing with it. You can talk to your doctor, even if your depression isn’t related to your health. He or she can either look at prescribing you an antidepressant or can refer you to a psychologist or psychiatrist.If that’s not really an option for you, there are also helplines (local or national) or support groups where people dealing with similar issues can talk to each other. If you can't find any in your area (newspapers usually publish this information), there are online support groups as well. \n"
     ]
    }
   ],
   "source": [
    "responses_example.reset_index(inplace=True)\n",
    "responses_example\n",
    "print(responses_example.loc[0]['response'])\n",
    "print(responses_example.loc[1]['response'])"
   ]
  },
  {
   "cell_type": "markdown",
   "metadata": {},
   "source": [
    "### Dataset contains duplicate responses\n",
    "\n",
    "lets see some more"
   ]
  },
  {
   "cell_type": "code",
   "execution_count": 12,
   "metadata": {},
   "outputs": [
    {
     "name": "stdout",
     "output_type": "stream",
     "text": [
      "I have so many issues to address. I have a history of sexual abuse, I’m a breast cancer survivor and I am a lifetime insomniac.    I have a long history of depression and I’m beginning to have anxiety. I have low self esteem but I’ve been happily married for almost 35 years.\n",
      "   I’ve never had counseling about any of this. Do I have too many issues to address in counseling?\n"
     ]
    }
   ],
   "source": [
    "context_example=conversation_dataset.loc[38]['context']\n",
    "\n",
    "responses_example=conversation_dataset[conversation_dataset['context']==context_example]\n",
    "\n",
    "print(context_example)"
   ]
  },
  {
   "cell_type": "code",
   "execution_count": 13,
   "metadata": {},
   "outputs": [
    {
     "data": {
      "text/html": [
       "<div>\n",
       "<style scoped>\n",
       "    .dataframe tbody tr th:only-of-type {\n",
       "        vertical-align: middle;\n",
       "    }\n",
       "\n",
       "    .dataframe tbody tr th {\n",
       "        vertical-align: top;\n",
       "    }\n",
       "\n",
       "    .dataframe thead th {\n",
       "        text-align: right;\n",
       "    }\n",
       "</style>\n",
       "<table border=\"1\" class=\"dataframe\">\n",
       "  <thead>\n",
       "    <tr style=\"text-align: right;\">\n",
       "      <th></th>\n",
       "      <th>context</th>\n",
       "      <th>response</th>\n",
       "    </tr>\n",
       "  </thead>\n",
       "  <tbody>\n",
       "    <tr>\n",
       "      <th>23</th>\n",
       "      <td>I have so many issues to address. I have a his...</td>\n",
       "      <td>Let me start by saying there are never too man...</td>\n",
       "    </tr>\n",
       "    <tr>\n",
       "      <th>24</th>\n",
       "      <td>I have so many issues to address. I have a his...</td>\n",
       "      <td>It is never too late to get help and begin mak...</td>\n",
       "    </tr>\n",
       "    <tr>\n",
       "      <th>25</th>\n",
       "      <td>I have so many issues to address. I have a his...</td>\n",
       "      <td>You have been through so much and it sounds li...</td>\n",
       "    </tr>\n",
       "    <tr>\n",
       "      <th>26</th>\n",
       "      <td>I have so many issues to address. I have a his...</td>\n",
       "      <td>Absolutely not.  I strongly recommending worki...</td>\n",
       "    </tr>\n",
       "    <tr>\n",
       "      <th>27</th>\n",
       "      <td>I have so many issues to address. I have a his...</td>\n",
       "      <td>Absolutely not!  In fact, most people have man...</td>\n",
       "    </tr>\n",
       "    <tr>\n",
       "      <th>...</th>\n",
       "      <td>...</td>\n",
       "      <td>...</td>\n",
       "    </tr>\n",
       "    <tr>\n",
       "      <th>2010</th>\n",
       "      <td>I have so many issues to address. I have a his...</td>\n",
       "      <td>The way it goes is that all your issues are co...</td>\n",
       "    </tr>\n",
       "    <tr>\n",
       "      <th>2011</th>\n",
       "      <td>I have so many issues to address. I have a his...</td>\n",
       "      <td>I think this is a very common question that pe...</td>\n",
       "    </tr>\n",
       "    <tr>\n",
       "      <th>2012</th>\n",
       "      <td>I have so many issues to address. I have a his...</td>\n",
       "      <td>Hello, I'm so glad you decided to take the fir...</td>\n",
       "    </tr>\n",
       "    <tr>\n",
       "      <th>2013</th>\n",
       "      <td>I have so many issues to address. I have a his...</td>\n",
       "      <td>Not at all my dear. Human beings are complex c...</td>\n",
       "    </tr>\n",
       "    <tr>\n",
       "      <th>2014</th>\n",
       "      <td>I have so many issues to address. I have a his...</td>\n",
       "      <td>Everyone has topics to discuss when they start...</td>\n",
       "    </tr>\n",
       "  </tbody>\n",
       "</table>\n",
       "<p>94 rows × 2 columns</p>\n",
       "</div>"
      ],
      "text/plain": [
       "                                                context  \\\n",
       "23    I have so many issues to address. I have a his...   \n",
       "24    I have so many issues to address. I have a his...   \n",
       "25    I have so many issues to address. I have a his...   \n",
       "26    I have so many issues to address. I have a his...   \n",
       "27    I have so many issues to address. I have a his...   \n",
       "...                                                 ...   \n",
       "2010  I have so many issues to address. I have a his...   \n",
       "2011  I have so many issues to address. I have a his...   \n",
       "2012  I have so many issues to address. I have a his...   \n",
       "2013  I have so many issues to address. I have a his...   \n",
       "2014  I have so many issues to address. I have a his...   \n",
       "\n",
       "                                               response  \n",
       "23    Let me start by saying there are never too man...  \n",
       "24    It is never too late to get help and begin mak...  \n",
       "25    You have been through so much and it sounds li...  \n",
       "26    Absolutely not.  I strongly recommending worki...  \n",
       "27    Absolutely not!  In fact, most people have man...  \n",
       "...                                                 ...  \n",
       "2010  The way it goes is that all your issues are co...  \n",
       "2011  I think this is a very common question that pe...  \n",
       "2012  Hello, I'm so glad you decided to take the fir...  \n",
       "2013  Not at all my dear. Human beings are complex c...  \n",
       "2014  Everyone has topics to discuss when they start...  \n",
       "\n",
       "[94 rows x 2 columns]"
      ]
     },
     "execution_count": 13,
     "metadata": {},
     "output_type": "execute_result"
    }
   ],
   "source": [
    "responses_example"
   ]
  },
  {
   "cell_type": "code",
   "execution_count": 14,
   "metadata": {},
   "outputs": [
    {
     "name": "stdout",
     "output_type": "stream",
     "text": [
      "I'm fine when we start becoming intimate, but out of nowhere, I will get a flashback of what happened to me in the past. I start hysterically crying and freaking out when my boyfriend obviously has done nothing to hurt me.\n"
     ]
    }
   ],
   "source": [
    "context_example=conversation_dataset.loc[1000]['context']\n",
    "\n",
    "responses_example=conversation_dataset[conversation_dataset['context']==context_example]\n",
    "\n",
    "print(context_example)"
   ]
  },
  {
   "cell_type": "code",
   "execution_count": 15,
   "metadata": {},
   "outputs": [
    {
     "data": {
      "text/html": [
       "<div>\n",
       "<style scoped>\n",
       "    .dataframe tbody tr th:only-of-type {\n",
       "        vertical-align: middle;\n",
       "    }\n",
       "\n",
       "    .dataframe tbody tr th {\n",
       "        vertical-align: top;\n",
       "    }\n",
       "\n",
       "    .dataframe thead th {\n",
       "        text-align: right;\n",
       "    }\n",
       "</style>\n",
       "<table border=\"1\" class=\"dataframe\">\n",
       "  <thead>\n",
       "    <tr style=\"text-align: right;\">\n",
       "      <th></th>\n",
       "      <th>context</th>\n",
       "      <th>response</th>\n",
       "    </tr>\n",
       "  </thead>\n",
       "  <tbody>\n",
       "    <tr>\n",
       "      <th>999</th>\n",
       "      <td>I'm fine when we start becoming intimate, but ...</td>\n",
       "      <td>Have you sought the support of a therapist rea...</td>\n",
       "    </tr>\n",
       "    <tr>\n",
       "      <th>1000</th>\n",
       "      <td>I'm fine when we start becoming intimate, but ...</td>\n",
       "      <td>Sexual intimacy can be very triggering for sur...</td>\n",
       "    </tr>\n",
       "    <tr>\n",
       "      <th>2701</th>\n",
       "      <td>I'm fine when we start becoming intimate, but ...</td>\n",
       "      <td>Have you sought the support of a therapist rea...</td>\n",
       "    </tr>\n",
       "    <tr>\n",
       "      <th>2709</th>\n",
       "      <td>I'm fine when we start becoming intimate, but ...</td>\n",
       "      <td>Sexual intimacy can be very triggering for su...</td>\n",
       "    </tr>\n",
       "  </tbody>\n",
       "</table>\n",
       "</div>"
      ],
      "text/plain": [
       "                                                context  \\\n",
       "999   I'm fine when we start becoming intimate, but ...   \n",
       "1000  I'm fine when we start becoming intimate, but ...   \n",
       "2701  I'm fine when we start becoming intimate, but ...   \n",
       "2709  I'm fine when we start becoming intimate, but ...   \n",
       "\n",
       "                                               response  \n",
       "999   Have you sought the support of a therapist rea...  \n",
       "1000  Sexual intimacy can be very triggering for sur...  \n",
       "2701  Have you sought the support of a therapist rea...  \n",
       "2709   Sexual intimacy can be very triggering for su...  "
      ]
     },
     "execution_count": 15,
     "metadata": {},
     "output_type": "execute_result"
    }
   ],
   "source": [
    "responses_example"
   ]
  },
  {
   "cell_type": "markdown",
   "metadata": {},
   "source": [
    "### Removing duplicates and zero entries"
   ]
  },
  {
   "cell_type": "code",
   "execution_count": 16,
   "metadata": {},
   "outputs": [],
   "source": [
    "conversation_dataset.dropna(subset=['response'], inplace=True)\n",
    "conversation_dataset.drop_duplicates(subset=['response'], inplace=True)\n",
    "conversation_dataset.reset_index(drop=True, inplace=True)"
   ]
  },
  {
   "cell_type": "code",
   "execution_count": 17,
   "metadata": {},
   "outputs": [
    {
     "data": {
      "text/plain": [
       "2471"
      ]
     },
     "execution_count": 17,
     "metadata": {},
     "output_type": "execute_result"
    }
   ],
   "source": [
    "len(conversation_dataset)"
   ]
  },
  {
   "cell_type": "code",
   "execution_count": 18,
   "metadata": {},
   "outputs": [
    {
     "data": {
      "text/plain": [
       "context     0\n",
       "response    0\n",
       "dtype: int64"
      ]
     },
     "execution_count": 18,
     "metadata": {},
     "output_type": "execute_result"
    }
   ],
   "source": [
    "conversation_dataset.isna().sum()"
   ]
  },
  {
   "cell_type": "code",
   "execution_count": 19,
   "metadata": {},
   "outputs": [
    {
     "name": "stdout",
     "output_type": "stream",
     "text": [
      "I'm in a state of depression right now. Who can I talk to? I've been sick in a lot of pain and crying. Don't know where to turn.\n"
     ]
    }
   ],
   "source": [
    "context_example=conversation_dataset.loc[328]['context']\n",
    "\n",
    "responses_example=conversation_dataset[conversation_dataset['context']==context_example]\n",
    "\n",
    "print(context_example)\n"
   ]
  },
  {
   "cell_type": "code",
   "execution_count": 20,
   "metadata": {},
   "outputs": [
    {
     "data": {
      "text/html": [
       "<div>\n",
       "<style scoped>\n",
       "    .dataframe tbody tr th:only-of-type {\n",
       "        vertical-align: middle;\n",
       "    }\n",
       "\n",
       "    .dataframe tbody tr th {\n",
       "        vertical-align: top;\n",
       "    }\n",
       "\n",
       "    .dataframe thead th {\n",
       "        text-align: right;\n",
       "    }\n",
       "</style>\n",
       "<table border=\"1\" class=\"dataframe\">\n",
       "  <thead>\n",
       "    <tr style=\"text-align: right;\">\n",
       "      <th></th>\n",
       "      <th>context</th>\n",
       "      <th>response</th>\n",
       "    </tr>\n",
       "  </thead>\n",
       "  <tbody>\n",
       "    <tr>\n",
       "      <th>328</th>\n",
       "      <td>I'm in a state of depression right now. Who ca...</td>\n",
       "      <td>First of all, if you’re sick and in pain, have...</td>\n",
       "    </tr>\n",
       "    <tr>\n",
       "      <th>2025</th>\n",
       "      <td>I'm in a state of depression right now. Who ca...</td>\n",
       "      <td>First of all, if you’re sick and in pain, have...</td>\n",
       "    </tr>\n",
       "  </tbody>\n",
       "</table>\n",
       "</div>"
      ],
      "text/plain": [
       "                                                context  \\\n",
       "328   I'm in a state of depression right now. Who ca...   \n",
       "2025  I'm in a state of depression right now. Who ca...   \n",
       "\n",
       "                                               response  \n",
       "328   First of all, if you’re sick and in pain, have...  \n",
       "2025  First of all, if you’re sick and in pain, have...  "
      ]
     },
     "execution_count": 20,
     "metadata": {},
     "output_type": "execute_result"
    }
   ],
   "source": [
    "responses_example"
   ]
  },
  {
   "cell_type": "code",
   "execution_count": 21,
   "metadata": {},
   "outputs": [
    {
     "data": {
      "text/html": [
       "<div>\n",
       "<style scoped>\n",
       "    .dataframe tbody tr th:only-of-type {\n",
       "        vertical-align: middle;\n",
       "    }\n",
       "\n",
       "    .dataframe tbody tr th {\n",
       "        vertical-align: top;\n",
       "    }\n",
       "\n",
       "    .dataframe thead th {\n",
       "        text-align: right;\n",
       "    }\n",
       "</style>\n",
       "<table border=\"1\" class=\"dataframe\">\n",
       "  <thead>\n",
       "    <tr style=\"text-align: right;\">\n",
       "      <th></th>\n",
       "      <th>context</th>\n",
       "      <th>response</th>\n",
       "    </tr>\n",
       "  </thead>\n",
       "  <tbody>\n",
       "    <tr>\n",
       "      <th>count</th>\n",
       "      <td>2471</td>\n",
       "      <td>2471</td>\n",
       "    </tr>\n",
       "    <tr>\n",
       "      <th>unique</th>\n",
       "      <td>912</td>\n",
       "      <td>2471</td>\n",
       "    </tr>\n",
       "    <tr>\n",
       "      <th>top</th>\n",
       "      <td>I have so many issues to address. I have a his...</td>\n",
       "      <td>If everyone thinks you're worthless, then mayb...</td>\n",
       "    </tr>\n",
       "    <tr>\n",
       "      <th>freq</th>\n",
       "      <td>47</td>\n",
       "      <td>1</td>\n",
       "    </tr>\n",
       "  </tbody>\n",
       "</table>\n",
       "</div>"
      ],
      "text/plain": [
       "                                                  context  \\\n",
       "count                                                2471   \n",
       "unique                                                912   \n",
       "top     I have so many issues to address. I have a his...   \n",
       "freq                                                   47   \n",
       "\n",
       "                                                 response  \n",
       "count                                                2471  \n",
       "unique                                               2471  \n",
       "top     If everyone thinks you're worthless, then mayb...  \n",
       "freq                                                    1  "
      ]
     },
     "execution_count": 21,
     "metadata": {},
     "output_type": "execute_result"
    }
   ],
   "source": [
    "conversation_dataset.describe()"
   ]
  },
  {
   "cell_type": "code",
   "execution_count": 22,
   "metadata": {},
   "outputs": [
    {
     "name": "stdout",
     "output_type": "stream",
     "text": [
      "I'm fine when we start becoming intimate, but out of nowhere, I will get a flashback of what happened to me in the past. I start hysterically crying and freaking out when my boyfriend obviously has done nothing to hurt me.\n"
     ]
    }
   ],
   "source": [
    "context_example=conversation_dataset.loc[1000]['context']\n",
    "\n",
    "responses_example=conversation_dataset[conversation_dataset['context']==context_example]\n",
    "\n",
    "print(context_example)"
   ]
  },
  {
   "cell_type": "code",
   "execution_count": 23,
   "metadata": {},
   "outputs": [
    {
     "data": {
      "text/html": [
       "<div>\n",
       "<style scoped>\n",
       "    .dataframe tbody tr th:only-of-type {\n",
       "        vertical-align: middle;\n",
       "    }\n",
       "\n",
       "    .dataframe tbody tr th {\n",
       "        vertical-align: top;\n",
       "    }\n",
       "\n",
       "    .dataframe thead th {\n",
       "        text-align: right;\n",
       "    }\n",
       "</style>\n",
       "<table border=\"1\" class=\"dataframe\">\n",
       "  <thead>\n",
       "    <tr style=\"text-align: right;\">\n",
       "      <th></th>\n",
       "      <th>context</th>\n",
       "      <th>response</th>\n",
       "    </tr>\n",
       "  </thead>\n",
       "  <tbody>\n",
       "    <tr>\n",
       "      <th>999</th>\n",
       "      <td>I'm fine when we start becoming intimate, but ...</td>\n",
       "      <td>Have you sought the support of a therapist rea...</td>\n",
       "    </tr>\n",
       "    <tr>\n",
       "      <th>1000</th>\n",
       "      <td>I'm fine when we start becoming intimate, but ...</td>\n",
       "      <td>Sexual intimacy can be very triggering for sur...</td>\n",
       "    </tr>\n",
       "    <tr>\n",
       "      <th>2218</th>\n",
       "      <td>I'm fine when we start becoming intimate, but ...</td>\n",
       "      <td>Have you sought the support of a therapist rea...</td>\n",
       "    </tr>\n",
       "    <tr>\n",
       "      <th>2223</th>\n",
       "      <td>I'm fine when we start becoming intimate, but ...</td>\n",
       "      <td>Sexual intimacy can be very triggering for su...</td>\n",
       "    </tr>\n",
       "  </tbody>\n",
       "</table>\n",
       "</div>"
      ],
      "text/plain": [
       "                                                context  \\\n",
       "999   I'm fine when we start becoming intimate, but ...   \n",
       "1000  I'm fine when we start becoming intimate, but ...   \n",
       "2218  I'm fine when we start becoming intimate, but ...   \n",
       "2223  I'm fine when we start becoming intimate, but ...   \n",
       "\n",
       "                                               response  \n",
       "999   Have you sought the support of a therapist rea...  \n",
       "1000  Sexual intimacy can be very triggering for sur...  \n",
       "2218  Have you sought the support of a therapist rea...  \n",
       "2223   Sexual intimacy can be very triggering for su...  "
      ]
     },
     "execution_count": 23,
     "metadata": {},
     "output_type": "execute_result"
    }
   ],
   "source": [
    "responses_example"
   ]
  },
  {
   "cell_type": "code",
   "execution_count": 24,
   "metadata": {},
   "outputs": [
    {
     "data": {
      "text/plain": [
       "False"
      ]
     },
     "execution_count": 24,
     "metadata": {},
     "output_type": "execute_result"
    }
   ],
   "source": [
    "conversation_dataset.loc[1000]['response']==conversation_dataset.loc[2226]['response']"
   ]
  },
  {
   "cell_type": "code",
   "execution_count": 25,
   "metadata": {},
   "outputs": [
    {
     "name": "stdout",
     "output_type": "stream",
     "text": [
      "Sexual intimacy can be very triggering for survivors even when it is both wanted and consensual.  You may want to consider seeing a therapist who specializes in trauma to work through the abuse if you have not already done so. Often times triggers still hold such a powerful effect when the emotions related to the abuse  have not been fully processed.  In the meantime, you may want to consider coming up with a Safe Word to let your partner know that you are being triggered or to communicate your physical boundaries to him.  Often times, the experience of communicating  your physical boundaries to your partner, having those boundaries respected and validated, and having a partner who is understanding and  willing to engage in intimacy in such a way that does not violate your physical boundaries  can reinforce a sense of safety with him.\n",
      "EMDR therapy has shown great results for work with PTSD symptoms which are similar to what you described. If you are unable to find a local EMDR specialist then I would suggest some meditation and journaling in addition to talk therapy to process your trauma. Your anxiety response centers int he brain are in hyper vigilance mode and retraining to turn down that response could be helpful for you. \n",
      "First of all, if you’re sick and in pain, have you seen your doctor? If you have a chronic illness and pain, this can often lead to depression and is very common. You’ve taken the first step to dealing with it. You can talk to your doctor, even if your depression isn’t related to your health. He or she can either look at prescribing you an antidepressant or can refer you to a psychologist or psychiatrist.If that’s not really an option for you, there are also helplines (local or national) or support groups where people dealing with similar issues can talk to each other. If you can't find any in your area (newspapers usually publish this information), there are online support groups as well.\n",
      "First of all, if you’re sick and in pain, have you seen your doctor? If you have a chronic illness and pain, this can often lead to depression and is very common. You’ve taken the first step to dealing with it. You can talk to your doctor, even if your depression isn’t related to your health. He or she can either look at prescribing you an antidepressant or can refer you to a psychologist or psychiatrist.If that’s not really an option for you, there are also helplines (local or national) or support groups where people dealing with similar issues can talk to each other. If you can't find any in your area (newspapers usually publish this information), there are online support groups as well. \n",
      "False\n"
     ]
    }
   ],
   "source": [
    "print(conversation_dataset.loc[1000]['response'])\n",
    "print(conversation_dataset.loc[2226]['response'])\n",
    "\n",
    "print(conversation_dataset.loc[328]['response'])\n",
    "print(conversation_dataset.loc[2025]['response'])\n",
    "\n",
    "print(conversation_dataset.loc[328]['response']==conversation_dataset.loc[2025]['response'])"
   ]
  },
  {
   "cell_type": "code",
   "execution_count": 26,
   "metadata": {},
   "outputs": [
    {
     "name": "stdout",
     "output_type": "stream",
     "text": [
      "Positions where responses differ:\n",
      "[]\n",
      "Lengths of response1 and response2: 698 699\n"
     ]
    }
   ],
   "source": [
    "response1 = conversation_dataset.loc[328]['response']\n",
    "response2 = conversation_dataset.loc[2025]['response']\n",
    "\n",
    "# Find the minimum length of the two responses\n",
    "min_length = min(len(response1), len(response2))\n",
    "\n",
    "# Iterate through each character and find the positions where they differ\n",
    "differences = []\n",
    "for i in range(min_length):\n",
    "    if response1[i] != response2[i]:\n",
    "        differences.append(i)\n",
    "\n",
    "# Print the positions where the responses differ\n",
    "print(\"Positions where responses differ:\")\n",
    "print(differences)\n",
    "print('Lengths of response1 and response2:', len(response1), len(response2))"
   ]
  },
  {
   "cell_type": "code",
   "execution_count": 27,
   "metadata": {},
   "outputs": [
    {
     "name": "stdout",
     "output_type": "stream",
     "text": [
      "True\n"
     ]
    }
   ],
   "source": [
    "print(response1.strip()==response2.strip())"
   ]
  },
  {
   "cell_type": "markdown",
   "metadata": {},
   "source": [
    "So there is duplicate entries, but they differ in heading or trailing spaces.\n",
    "Let's fix this, and remove duplicates once more."
   ]
  },
  {
   "cell_type": "code",
   "execution_count": 28,
   "metadata": {},
   "outputs": [],
   "source": [
    "conversation_dataset['response']=conversation_dataset['response'].apply(lambda x: x.strip())"
   ]
  },
  {
   "cell_type": "code",
   "execution_count": 29,
   "metadata": {},
   "outputs": [
    {
     "data": {
      "text/html": [
       "<div>\n",
       "<style scoped>\n",
       "    .dataframe tbody tr th:only-of-type {\n",
       "        vertical-align: middle;\n",
       "    }\n",
       "\n",
       "    .dataframe tbody tr th {\n",
       "        vertical-align: top;\n",
       "    }\n",
       "\n",
       "    .dataframe thead th {\n",
       "        text-align: right;\n",
       "    }\n",
       "</style>\n",
       "<table border=\"1\" class=\"dataframe\">\n",
       "  <thead>\n",
       "    <tr style=\"text-align: right;\">\n",
       "      <th></th>\n",
       "      <th>context</th>\n",
       "      <th>response</th>\n",
       "    </tr>\n",
       "  </thead>\n",
       "  <tbody>\n",
       "    <tr>\n",
       "      <th>count</th>\n",
       "      <td>2471</td>\n",
       "      <td>2471</td>\n",
       "    </tr>\n",
       "    <tr>\n",
       "      <th>unique</th>\n",
       "      <td>912</td>\n",
       "      <td>2052</td>\n",
       "    </tr>\n",
       "    <tr>\n",
       "      <th>top</th>\n",
       "      <td>I have so many issues to address. I have a his...</td>\n",
       "      <td>That sounds like a very hurtful situation. Unf...</td>\n",
       "    </tr>\n",
       "    <tr>\n",
       "      <th>freq</th>\n",
       "      <td>47</td>\n",
       "      <td>2</td>\n",
       "    </tr>\n",
       "  </tbody>\n",
       "</table>\n",
       "</div>"
      ],
      "text/plain": [
       "                                                  context  \\\n",
       "count                                                2471   \n",
       "unique                                                912   \n",
       "top     I have so many issues to address. I have a his...   \n",
       "freq                                                   47   \n",
       "\n",
       "                                                 response  \n",
       "count                                                2471  \n",
       "unique                                               2052  \n",
       "top     That sounds like a very hurtful situation. Unf...  \n",
       "freq                                                    2  "
      ]
     },
     "execution_count": 29,
     "metadata": {},
     "output_type": "execute_result"
    }
   ],
   "source": [
    "conversation_dataset.describe()"
   ]
  },
  {
   "cell_type": "code",
   "execution_count": 30,
   "metadata": {},
   "outputs": [],
   "source": [
    "conversation_dataset.drop_duplicates(subset=['response'], inplace=True)\n",
    "conversation_dataset.reset_index(drop=True, inplace=True)"
   ]
  },
  {
   "cell_type": "code",
   "execution_count": 31,
   "metadata": {},
   "outputs": [
    {
     "data": {
      "text/html": [
       "<div>\n",
       "<style scoped>\n",
       "    .dataframe tbody tr th:only-of-type {\n",
       "        vertical-align: middle;\n",
       "    }\n",
       "\n",
       "    .dataframe tbody tr th {\n",
       "        vertical-align: top;\n",
       "    }\n",
       "\n",
       "    .dataframe thead th {\n",
       "        text-align: right;\n",
       "    }\n",
       "</style>\n",
       "<table border=\"1\" class=\"dataframe\">\n",
       "  <thead>\n",
       "    <tr style=\"text-align: right;\">\n",
       "      <th></th>\n",
       "      <th>context</th>\n",
       "      <th>response</th>\n",
       "    </tr>\n",
       "  </thead>\n",
       "  <tbody>\n",
       "    <tr>\n",
       "      <th>count</th>\n",
       "      <td>2052</td>\n",
       "      <td>2052</td>\n",
       "    </tr>\n",
       "    <tr>\n",
       "      <th>unique</th>\n",
       "      <td>843</td>\n",
       "      <td>2052</td>\n",
       "    </tr>\n",
       "    <tr>\n",
       "      <th>top</th>\n",
       "      <td>I have so many issues to address. I have a his...</td>\n",
       "      <td>If everyone thinks you're worthless, then mayb...</td>\n",
       "    </tr>\n",
       "    <tr>\n",
       "      <th>freq</th>\n",
       "      <td>47</td>\n",
       "      <td>1</td>\n",
       "    </tr>\n",
       "  </tbody>\n",
       "</table>\n",
       "</div>"
      ],
      "text/plain": [
       "                                                  context  \\\n",
       "count                                                2052   \n",
       "unique                                                843   \n",
       "top     I have so many issues to address. I have a his...   \n",
       "freq                                                   47   \n",
       "\n",
       "                                                 response  \n",
       "count                                                2052  \n",
       "unique                                               2052  \n",
       "top     If everyone thinks you're worthless, then mayb...  \n",
       "freq                                                    1  "
      ]
     },
     "execution_count": 31,
     "metadata": {},
     "output_type": "execute_result"
    }
   ],
   "source": [
    "conversation_dataset.describe()"
   ]
  },
  {
   "cell_type": "code",
   "execution_count": 32,
   "metadata": {},
   "outputs": [
    {
     "name": "stdout",
     "output_type": "stream",
     "text": [
      "I'm fine when we start becoming intimate, but out of nowhere, I will get a flashback of what happened to me in the past. I start hysterically crying and freaking out when my boyfriend obviously has done nothing to hurt me.\n"
     ]
    }
   ],
   "source": [
    "# Test once more\n",
    "context_example=conversation_dataset.loc[1000]['context']\n",
    "\n",
    "responses_example=conversation_dataset[conversation_dataset['context']==context_example]\n",
    "\n",
    "print(context_example)"
   ]
  },
  {
   "cell_type": "code",
   "execution_count": 33,
   "metadata": {},
   "outputs": [
    {
     "data": {
      "text/html": [
       "<div>\n",
       "<style scoped>\n",
       "    .dataframe tbody tr th:only-of-type {\n",
       "        vertical-align: middle;\n",
       "    }\n",
       "\n",
       "    .dataframe tbody tr th {\n",
       "        vertical-align: top;\n",
       "    }\n",
       "\n",
       "    .dataframe thead th {\n",
       "        text-align: right;\n",
       "    }\n",
       "</style>\n",
       "<table border=\"1\" class=\"dataframe\">\n",
       "  <thead>\n",
       "    <tr style=\"text-align: right;\">\n",
       "      <th></th>\n",
       "      <th>context</th>\n",
       "      <th>response</th>\n",
       "    </tr>\n",
       "  </thead>\n",
       "  <tbody>\n",
       "    <tr>\n",
       "      <th>999</th>\n",
       "      <td>I'm fine when we start becoming intimate, but ...</td>\n",
       "      <td>Have you sought the support of a therapist rea...</td>\n",
       "    </tr>\n",
       "    <tr>\n",
       "      <th>1000</th>\n",
       "      <td>I'm fine when we start becoming intimate, but ...</td>\n",
       "      <td>Sexual intimacy can be very triggering for sur...</td>\n",
       "    </tr>\n",
       "  </tbody>\n",
       "</table>\n",
       "</div>"
      ],
      "text/plain": [
       "                                                context  \\\n",
       "999   I'm fine when we start becoming intimate, but ...   \n",
       "1000  I'm fine when we start becoming intimate, but ...   \n",
       "\n",
       "                                               response  \n",
       "999   Have you sought the support of a therapist rea...  \n",
       "1000  Sexual intimacy can be very triggering for sur...  "
      ]
     },
     "execution_count": 33,
     "metadata": {},
     "output_type": "execute_result"
    }
   ],
   "source": [
    "responses_example"
   ]
  },
  {
   "cell_type": "markdown",
   "metadata": {},
   "source": [
    "### Errors in dataset\n",
    "\n",
    "Working with the dataset I found some irrelevant entries. So we should just delete them\n"
   ]
  },
  {
   "cell_type": "code",
   "execution_count": 34,
   "metadata": {},
   "outputs": [],
   "source": [
    "error_context=[\" such as not enough sleep\", \n",
    "\"Can a counselor take sides with one parent and allow a parent to order the child to tell the counselor\"]\n",
    "\n",
    "conversation_dataset=conversation_dataset[~conversation_dataset['context'].str.startswith(tuple(error_context))]\n"
   ]
  },
  {
   "cell_type": "code",
   "execution_count": 35,
   "metadata": {},
   "outputs": [
    {
     "data": {
      "text/html": [
       "<div>\n",
       "<style scoped>\n",
       "    .dataframe tbody tr th:only-of-type {\n",
       "        vertical-align: middle;\n",
       "    }\n",
       "\n",
       "    .dataframe tbody tr th {\n",
       "        vertical-align: top;\n",
       "    }\n",
       "\n",
       "    .dataframe thead th {\n",
       "        text-align: right;\n",
       "    }\n",
       "</style>\n",
       "<table border=\"1\" class=\"dataframe\">\n",
       "  <thead>\n",
       "    <tr style=\"text-align: right;\">\n",
       "      <th></th>\n",
       "      <th>context</th>\n",
       "      <th>response</th>\n",
       "    </tr>\n",
       "  </thead>\n",
       "  <tbody>\n",
       "    <tr>\n",
       "      <th>count</th>\n",
       "      <td>2049</td>\n",
       "      <td>2049</td>\n",
       "    </tr>\n",
       "    <tr>\n",
       "      <th>unique</th>\n",
       "      <td>841</td>\n",
       "      <td>2049</td>\n",
       "    </tr>\n",
       "    <tr>\n",
       "      <th>top</th>\n",
       "      <td>I have so many issues to address. I have a his...</td>\n",
       "      <td>If everyone thinks you're worthless, then mayb...</td>\n",
       "    </tr>\n",
       "    <tr>\n",
       "      <th>freq</th>\n",
       "      <td>47</td>\n",
       "      <td>1</td>\n",
       "    </tr>\n",
       "  </tbody>\n",
       "</table>\n",
       "</div>"
      ],
      "text/plain": [
       "                                                  context  \\\n",
       "count                                                2049   \n",
       "unique                                                841   \n",
       "top     I have so many issues to address. I have a his...   \n",
       "freq                                                   47   \n",
       "\n",
       "                                                 response  \n",
       "count                                                2049  \n",
       "unique                                               2049  \n",
       "top     If everyone thinks you're worthless, then mayb...  \n",
       "freq                                                    1  "
      ]
     },
     "execution_count": 35,
     "metadata": {},
     "output_type": "execute_result"
    }
   ],
   "source": [
    "conversation_dataset.describe()"
   ]
  },
  {
   "cell_type": "code",
   "execution_count": 36,
   "metadata": {},
   "outputs": [],
   "source": [
    "context_unique = conversation_dataset.groupby('context').size().reset_index(name='count')"
   ]
  },
  {
   "cell_type": "code",
   "execution_count": 37,
   "metadata": {},
   "outputs": [
    {
     "data": {
      "text/html": [
       "<div>\n",
       "<style scoped>\n",
       "    .dataframe tbody tr th:only-of-type {\n",
       "        vertical-align: middle;\n",
       "    }\n",
       "\n",
       "    .dataframe tbody tr th {\n",
       "        vertical-align: top;\n",
       "    }\n",
       "\n",
       "    .dataframe thead th {\n",
       "        text-align: right;\n",
       "    }\n",
       "</style>\n",
       "<table border=\"1\" class=\"dataframe\">\n",
       "  <thead>\n",
       "    <tr style=\"text-align: right;\">\n",
       "      <th></th>\n",
       "      <th>context</th>\n",
       "      <th>count</th>\n",
       "    </tr>\n",
       "  </thead>\n",
       "  <tbody>\n",
       "    <tr>\n",
       "      <th>286</th>\n",
       "      <td>I have so many issues to address. I have a his...</td>\n",
       "      <td>47</td>\n",
       "    </tr>\n",
       "    <tr>\n",
       "      <th>78</th>\n",
       "      <td>How do you know you have the right therapist f...</td>\n",
       "      <td>41</td>\n",
       "    </tr>\n",
       "    <tr>\n",
       "      <th>545</th>\n",
       "      <td>Is it normal for people to cry during therapy,...</td>\n",
       "      <td>38</td>\n",
       "    </tr>\n",
       "    <tr>\n",
       "      <th>523</th>\n",
       "      <td>I've gone to a couple therapy sessions so far ...</td>\n",
       "      <td>26</td>\n",
       "    </tr>\n",
       "    <tr>\n",
       "      <th>828</th>\n",
       "      <td>When my daughter is stressed about a silly thi...</td>\n",
       "      <td>23</td>\n",
       "    </tr>\n",
       "    <tr>\n",
       "      <th>...</th>\n",
       "      <td>...</td>\n",
       "      <td>...</td>\n",
       "    </tr>\n",
       "    <tr>\n",
       "      <th>360</th>\n",
       "      <td>I stress over everything. If I don't have enou...</td>\n",
       "      <td>1</td>\n",
       "    </tr>\n",
       "    <tr>\n",
       "      <th>365</th>\n",
       "      <td>I think I have depression, anxiety, bipolar di...</td>\n",
       "      <td>1</td>\n",
       "    </tr>\n",
       "    <tr>\n",
       "      <th>368</th>\n",
       "      <td>I think adult life is making him depressed and...</td>\n",
       "      <td>1</td>\n",
       "    </tr>\n",
       "    <tr>\n",
       "      <th>369</th>\n",
       "      <td>I think i may suffer from depression, and it i...</td>\n",
       "      <td>1</td>\n",
       "    </tr>\n",
       "    <tr>\n",
       "      <th>840</th>\n",
       "      <td>i was addicted to porn since the second grade....</td>\n",
       "      <td>1</td>\n",
       "    </tr>\n",
       "  </tbody>\n",
       "</table>\n",
       "<p>841 rows × 2 columns</p>\n",
       "</div>"
      ],
      "text/plain": [
       "                                               context  count\n",
       "286  I have so many issues to address. I have a his...     47\n",
       "78   How do you know you have the right therapist f...     41\n",
       "545  Is it normal for people to cry during therapy,...     38\n",
       "523  I've gone to a couple therapy sessions so far ...     26\n",
       "828  When my daughter is stressed about a silly thi...     23\n",
       "..                                                 ...    ...\n",
       "360  I stress over everything. If I don't have enou...      1\n",
       "365  I think I have depression, anxiety, bipolar di...      1\n",
       "368  I think adult life is making him depressed and...      1\n",
       "369  I think i may suffer from depression, and it i...      1\n",
       "840  i was addicted to porn since the second grade....      1\n",
       "\n",
       "[841 rows x 2 columns]"
      ]
     },
     "execution_count": 37,
     "metadata": {},
     "output_type": "execute_result"
    }
   ],
   "source": [
    "context_unique.sort_values('count',ascending=False)"
   ]
  },
  {
   "cell_type": "code",
   "execution_count": 38,
   "metadata": {},
   "outputs": [
    {
     "data": {
      "text/html": [
       "<div>\n",
       "<style scoped>\n",
       "    .dataframe tbody tr th:only-of-type {\n",
       "        vertical-align: middle;\n",
       "    }\n",
       "\n",
       "    .dataframe tbody tr th {\n",
       "        vertical-align: top;\n",
       "    }\n",
       "\n",
       "    .dataframe thead th {\n",
       "        text-align: right;\n",
       "    }\n",
       "</style>\n",
       "<table border=\"1\" class=\"dataframe\">\n",
       "  <thead>\n",
       "    <tr style=\"text-align: right;\">\n",
       "      <th></th>\n",
       "      <th>context</th>\n",
       "      <th>count</th>\n",
       "    </tr>\n",
       "  </thead>\n",
       "  <tbody>\n",
       "    <tr>\n",
       "      <th>286</th>\n",
       "      <td>I have so many issues to address. I have a his...</td>\n",
       "      <td>47</td>\n",
       "    </tr>\n",
       "    <tr>\n",
       "      <th>78</th>\n",
       "      <td>How do you know you have the right therapist f...</td>\n",
       "      <td>41</td>\n",
       "    </tr>\n",
       "    <tr>\n",
       "      <th>545</th>\n",
       "      <td>Is it normal for people to cry during therapy,...</td>\n",
       "      <td>38</td>\n",
       "    </tr>\n",
       "    <tr>\n",
       "      <th>523</th>\n",
       "      <td>I've gone to a couple therapy sessions so far ...</td>\n",
       "      <td>26</td>\n",
       "    </tr>\n",
       "    <tr>\n",
       "      <th>828</th>\n",
       "      <td>When my daughter is stressed about a silly thi...</td>\n",
       "      <td>23</td>\n",
       "    </tr>\n",
       "    <tr>\n",
       "      <th>461</th>\n",
       "      <td>I'm going through some things with my feelings...</td>\n",
       "      <td>23</td>\n",
       "    </tr>\n",
       "    <tr>\n",
       "      <th>80</th>\n",
       "      <td>How does a person start the counseling process?</td>\n",
       "      <td>22</td>\n",
       "    </tr>\n",
       "    <tr>\n",
       "      <th>79</th>\n",
       "      <td>How does a counselor decide when to end counse...</td>\n",
       "      <td>20</td>\n",
       "    </tr>\n",
       "    <tr>\n",
       "      <th>31</th>\n",
       "      <td>Does counseling really do anything that can he...</td>\n",
       "      <td>20</td>\n",
       "    </tr>\n",
       "    <tr>\n",
       "      <th>73</th>\n",
       "      <td>How do I decide if I should end my relationshi...</td>\n",
       "      <td>15</td>\n",
       "    </tr>\n",
       "    <tr>\n",
       "      <th>41</th>\n",
       "      <td>Every winter I find myself getting sad because...</td>\n",
       "      <td>15</td>\n",
       "    </tr>\n",
       "    <tr>\n",
       "      <th>695</th>\n",
       "      <td>My mother takes care of niece whom my sister a...</td>\n",
       "      <td>13</td>\n",
       "    </tr>\n",
       "    <tr>\n",
       "      <th>353</th>\n",
       "      <td>I start counseling/therapy in a few days (I'm ...</td>\n",
       "      <td>12</td>\n",
       "    </tr>\n",
       "    <tr>\n",
       "      <th>306</th>\n",
       "      <td>I just took a job that requires me to travel f...</td>\n",
       "      <td>11</td>\n",
       "    </tr>\n",
       "    <tr>\n",
       "      <th>396</th>\n",
       "      <td>I was raped a couple months ago, Since then, a...</td>\n",
       "      <td>11</td>\n",
       "    </tr>\n",
       "    <tr>\n",
       "      <th>823</th>\n",
       "      <td>When I'm in large crowds I get angry and I jus...</td>\n",
       "      <td>11</td>\n",
       "    </tr>\n",
       "    <tr>\n",
       "      <th>643</th>\n",
       "      <td>My fiancé and I have been together for 3 years...</td>\n",
       "      <td>11</td>\n",
       "    </tr>\n",
       "    <tr>\n",
       "      <th>311</th>\n",
       "      <td>I keep having these random thoughts that I don...</td>\n",
       "      <td>11</td>\n",
       "    </tr>\n",
       "    <tr>\n",
       "      <th>213</th>\n",
       "      <td>I have a friend that who I used to be in a rel...</td>\n",
       "      <td>10</td>\n",
       "    </tr>\n",
       "    <tr>\n",
       "      <th>693</th>\n",
       "      <td>My mother has Alzheimer's and she has become s...</td>\n",
       "      <td>10</td>\n",
       "    </tr>\n",
       "    <tr>\n",
       "      <th>484</th>\n",
       "      <td>I'm obsessing about a terrible breakup. Everyt...</td>\n",
       "      <td>9</td>\n",
       "    </tr>\n",
       "    <tr>\n",
       "      <th>624</th>\n",
       "      <td>My daughter is in later elementary school. She...</td>\n",
       "      <td>9</td>\n",
       "    </tr>\n",
       "    <tr>\n",
       "      <th>303</th>\n",
       "      <td>I just lost my grandpa and i'm having a rough ...</td>\n",
       "      <td>9</td>\n",
       "    </tr>\n",
       "    <tr>\n",
       "      <th>465</th>\n",
       "      <td>I'm having relationship problems and I want to...</td>\n",
       "      <td>9</td>\n",
       "    </tr>\n",
       "    <tr>\n",
       "      <th>813</th>\n",
       "      <td>What makes a healthy marriage last?</td>\n",
       "      <td>9</td>\n",
       "    </tr>\n",
       "    <tr>\n",
       "      <th>154</th>\n",
       "      <td>I don't know what to say. I have never really ...</td>\n",
       "      <td>9</td>\n",
       "    </tr>\n",
       "    <tr>\n",
       "      <th>566</th>\n",
       "      <td>I’ve been in a long distance relationship with...</td>\n",
       "      <td>9</td>\n",
       "    </tr>\n",
       "    <tr>\n",
       "      <th>246</th>\n",
       "      <td>I have been married for 11 years. Within the p...</td>\n",
       "      <td>9</td>\n",
       "    </tr>\n",
       "    <tr>\n",
       "      <th>16</th>\n",
       "      <td>After he got home from the hospital he was ang...</td>\n",
       "      <td>9</td>\n",
       "    </tr>\n",
       "    <tr>\n",
       "      <th>561</th>\n",
       "      <td>I’m facing severe depression and anxiety and I...</td>\n",
       "      <td>9</td>\n",
       "    </tr>\n",
       "  </tbody>\n",
       "</table>\n",
       "</div>"
      ],
      "text/plain": [
       "                                               context  count\n",
       "286  I have so many issues to address. I have a his...     47\n",
       "78   How do you know you have the right therapist f...     41\n",
       "545  Is it normal for people to cry during therapy,...     38\n",
       "523  I've gone to a couple therapy sessions so far ...     26\n",
       "828  When my daughter is stressed about a silly thi...     23\n",
       "461  I'm going through some things with my feelings...     23\n",
       "80     How does a person start the counseling process?     22\n",
       "79   How does a counselor decide when to end counse...     20\n",
       "31   Does counseling really do anything that can he...     20\n",
       "73   How do I decide if I should end my relationshi...     15\n",
       "41   Every winter I find myself getting sad because...     15\n",
       "695  My mother takes care of niece whom my sister a...     13\n",
       "353  I start counseling/therapy in a few days (I'm ...     12\n",
       "306  I just took a job that requires me to travel f...     11\n",
       "396  I was raped a couple months ago, Since then, a...     11\n",
       "823  When I'm in large crowds I get angry and I jus...     11\n",
       "643  My fiancé and I have been together for 3 years...     11\n",
       "311  I keep having these random thoughts that I don...     11\n",
       "213  I have a friend that who I used to be in a rel...     10\n",
       "693  My mother has Alzheimer's and she has become s...     10\n",
       "484  I'm obsessing about a terrible breakup. Everyt...      9\n",
       "624  My daughter is in later elementary school. She...      9\n",
       "303  I just lost my grandpa and i'm having a rough ...      9\n",
       "465  I'm having relationship problems and I want to...      9\n",
       "813                What makes a healthy marriage last?      9\n",
       "154  I don't know what to say. I have never really ...      9\n",
       "566  I’ve been in a long distance relationship with...      9\n",
       "246  I have been married for 11 years. Within the p...      9\n",
       "16   After he got home from the hospital he was ang...      9\n",
       "561  I’m facing severe depression and anxiety and I...      9"
      ]
     },
     "execution_count": 38,
     "metadata": {},
     "output_type": "execute_result"
    }
   ],
   "source": [
    "context_unique.sort_values('count',ascending=False).head(30)"
   ]
  },
  {
   "cell_type": "code",
   "execution_count": 39,
   "metadata": {},
   "outputs": [
    {
     "data": {
      "text/plain": [
       "count    841.000000\n",
       "mean       2.436385\n",
       "std        3.538705\n",
       "min        1.000000\n",
       "25%        1.000000\n",
       "50%        1.000000\n",
       "75%        2.000000\n",
       "max       47.000000\n",
       "Name: count, dtype: float64"
      ]
     },
     "execution_count": 39,
     "metadata": {},
     "output_type": "execute_result"
    }
   ],
   "source": [
    "context_unique['count'].describe()"
   ]
  },
  {
   "cell_type": "code",
   "execution_count": 40,
   "metadata": {},
   "outputs": [
    {
     "data": {
      "text/html": [
       "<div>\n",
       "<style scoped>\n",
       "    .dataframe tbody tr th:only-of-type {\n",
       "        vertical-align: middle;\n",
       "    }\n",
       "\n",
       "    .dataframe tbody tr th {\n",
       "        vertical-align: top;\n",
       "    }\n",
       "\n",
       "    .dataframe thead th {\n",
       "        text-align: right;\n",
       "    }\n",
       "</style>\n",
       "<table border=\"1\" class=\"dataframe\">\n",
       "  <thead>\n",
       "    <tr style=\"text-align: right;\">\n",
       "      <th></th>\n",
       "      <th>context</th>\n",
       "      <th>count</th>\n",
       "    </tr>\n",
       "  </thead>\n",
       "  <tbody>\n",
       "    <tr>\n",
       "      <th>0</th>\n",
       "      <td>A few nights ago I talked to this girl I know ...</td>\n",
       "      <td>1</td>\n",
       "    </tr>\n",
       "    <tr>\n",
       "      <th>2</th>\n",
       "      <td>A friend of mine taking psychology advised I g...</td>\n",
       "      <td>1</td>\n",
       "    </tr>\n",
       "    <tr>\n",
       "      <th>3</th>\n",
       "      <td>A girl and I were madly in love. We dated for ...</td>\n",
       "      <td>1</td>\n",
       "    </tr>\n",
       "    <tr>\n",
       "      <th>8</th>\n",
       "      <td>About a month ago, I went through my boyfriend...</td>\n",
       "      <td>1</td>\n",
       "    </tr>\n",
       "    <tr>\n",
       "      <th>13</th>\n",
       "      <td>After a domestic abuse situation, I went to a ...</td>\n",
       "      <td>1</td>\n",
       "    </tr>\n",
       "    <tr>\n",
       "      <th>...</th>\n",
       "      <td>...</td>\n",
       "      <td>...</td>\n",
       "    </tr>\n",
       "    <tr>\n",
       "      <th>826</th>\n",
       "      <td>When having sex I think of other men and want ...</td>\n",
       "      <td>1</td>\n",
       "    </tr>\n",
       "    <tr>\n",
       "      <th>833</th>\n",
       "      <td>Whenever I leave my girlfriend I get panic att...</td>\n",
       "      <td>1</td>\n",
       "    </tr>\n",
       "    <tr>\n",
       "      <th>835</th>\n",
       "      <td>Whenever I sing along with a song that I like ...</td>\n",
       "      <td>1</td>\n",
       "    </tr>\n",
       "    <tr>\n",
       "      <th>837</th>\n",
       "      <td>Why am I attracted to older men?</td>\n",
       "      <td>1</td>\n",
       "    </tr>\n",
       "    <tr>\n",
       "      <th>840</th>\n",
       "      <td>i was addicted to porn since the second grade....</td>\n",
       "      <td>1</td>\n",
       "    </tr>\n",
       "  </tbody>\n",
       "</table>\n",
       "<p>452 rows × 2 columns</p>\n",
       "</div>"
      ],
      "text/plain": [
       "                                               context  count\n",
       "0    A few nights ago I talked to this girl I know ...      1\n",
       "2    A friend of mine taking psychology advised I g...      1\n",
       "3    A girl and I were madly in love. We dated for ...      1\n",
       "8    About a month ago, I went through my boyfriend...      1\n",
       "13   After a domestic abuse situation, I went to a ...      1\n",
       "..                                                 ...    ...\n",
       "826  When having sex I think of other men and want ...      1\n",
       "833  Whenever I leave my girlfriend I get panic att...      1\n",
       "835  Whenever I sing along with a song that I like ...      1\n",
       "837                   Why am I attracted to older men?      1\n",
       "840  i was addicted to porn since the second grade....      1\n",
       "\n",
       "[452 rows x 2 columns]"
      ]
     },
     "execution_count": 40,
     "metadata": {},
     "output_type": "execute_result"
    }
   ],
   "source": [
    "context_unique[context_unique['count']==1]"
   ]
  },
  {
   "cell_type": "code",
   "execution_count": 41,
   "metadata": {},
   "outputs": [
    {
     "data": {
      "text/plain": [
       "count\n",
       "1     452\n",
       "2     182\n",
       "3      78\n",
       "4      40\n",
       "5      23\n",
       "6      18\n",
       "9      12\n",
       "7      10\n",
       "8       6\n",
       "11      5\n",
       "23      2\n",
       "20      2\n",
       "15      2\n",
       "10      2\n",
       "38      1\n",
       "26      1\n",
       "41      1\n",
       "12      1\n",
       "47      1\n",
       "22      1\n",
       "13      1\n",
       "Name: count, dtype: int64"
      ]
     },
     "execution_count": 41,
     "metadata": {},
     "output_type": "execute_result"
    }
   ],
   "source": [
    "count_distribution = context_unique['count'].value_counts()\n",
    "\n",
    "count_distribution"
   ]
  },
  {
   "cell_type": "code",
   "execution_count": 41,
   "metadata": {},
   "outputs": [],
   "source": [
    "CONTEXT_UNIQUE_FILENAME='working_data/context_unique.csv'\n",
    "\n",
    "context_unique.to_csv(CONTEXT_UNIQUE_FILENAME)"
   ]
  },
  {
   "cell_type": "code",
   "execution_count": 42,
   "metadata": {},
   "outputs": [
    {
     "data": {
      "text/html": [
       "<div>\n",
       "<style scoped>\n",
       "    .dataframe tbody tr th:only-of-type {\n",
       "        vertical-align: middle;\n",
       "    }\n",
       "\n",
       "    .dataframe tbody tr th {\n",
       "        vertical-align: top;\n",
       "    }\n",
       "\n",
       "    .dataframe thead th {\n",
       "        text-align: right;\n",
       "    }\n",
       "</style>\n",
       "<table border=\"1\" class=\"dataframe\">\n",
       "  <thead>\n",
       "    <tr style=\"text-align: right;\">\n",
       "      <th></th>\n",
       "      <th>context</th>\n",
       "      <th>response</th>\n",
       "    </tr>\n",
       "  </thead>\n",
       "  <tbody>\n",
       "    <tr>\n",
       "      <th>count</th>\n",
       "      <td>2049</td>\n",
       "      <td>2049</td>\n",
       "    </tr>\n",
       "    <tr>\n",
       "      <th>unique</th>\n",
       "      <td>841</td>\n",
       "      <td>2049</td>\n",
       "    </tr>\n",
       "    <tr>\n",
       "      <th>top</th>\n",
       "      <td>I have so many issues to address. I have a his...</td>\n",
       "      <td>If everyone thinks you're worthless, then mayb...</td>\n",
       "    </tr>\n",
       "    <tr>\n",
       "      <th>freq</th>\n",
       "      <td>47</td>\n",
       "      <td>1</td>\n",
       "    </tr>\n",
       "  </tbody>\n",
       "</table>\n",
       "</div>"
      ],
      "text/plain": [
       "                                                  context  \\\n",
       "count                                                2049   \n",
       "unique                                                841   \n",
       "top     I have so many issues to address. I have a his...   \n",
       "freq                                                   47   \n",
       "\n",
       "                                                 response  \n",
       "count                                                2049  \n",
       "unique                                               2049  \n",
       "top     If everyone thinks you're worthless, then mayb...  \n",
       "freq                                                    1  "
      ]
     },
     "execution_count": 42,
     "metadata": {},
     "output_type": "execute_result"
    }
   ],
   "source": [
    "conversation_dataset.describe()"
   ]
  },
  {
   "cell_type": "markdown",
   "metadata": {},
   "source": [
    "### Data is cleaned and ready for simulation\n",
    "\n",
    "So we have 845 unique requests, with a mean of 2.45 responses for each, and 452 having one response, and max of 47 responses, but only 10 requests have more then 10 responses.\n",
    "\n",
    "### Conclusions\n",
    "\n",
    "**Maybe for simulation we should use only requests with 2 or more responses, so we have some variety in approved responses to compare with. If we take request with 2 or more we will have 393 requests, if we take with 3 or more - 209 requests. 209 may be enough for our simulation. And having only one response will make it possible for incorrect scoring of ChatGPT output. Because mental issues is delicate matter, so several different responses may serve well for specific case.**\n"
   ]
  },
  {
   "cell_type": "markdown",
   "metadata": {},
   "source": [
    "## ChatGPT"
   ]
  },
  {
   "cell_type": "markdown",
   "metadata": {},
   "source": [
    "We follow the standard way of using OpenAI API for reaching ChatGPT\n",
    "The below code uses ```.env``` file in this directory, which is not included to the repository.\n",
    "```.env```  which must contain:\n",
    "```\n",
    "OPENAI_API_KEY=...\n",
    "```\n",
    "This API key to be used to interact with OpenAI API\n",
    "\n",
    "If you want to use this code, you must [get your own API key from OpenAI](https://platform.openai.com/api-keys)\n",
    "\n",
    "Moreover you will need to make a payment to your ChatGPT account, to be able to use it.\n",
    "\n",
    "This code is based on the [course by DeepLearning.AI](https://learn.deeplearning.ai/courses/langchain/lesson/2/models%2C-prompts-and-parsers)"
   ]
  },
  {
   "cell_type": "code",
   "execution_count": 43,
   "metadata": {},
   "outputs": [],
   "source": [
    "# !pip install python-dotenv\n",
    "# !pip install openai"
   ]
  },
  {
   "cell_type": "code",
   "execution_count": 61,
   "metadata": {},
   "outputs": [],
   "source": [
    "import os\n",
    "import openai\n",
    "\n",
    "from dotenv import load_dotenv, find_dotenv\n",
    "_ = load_dotenv(find_dotenv()) # read local .env file"
   ]
  },
  {
   "cell_type": "code",
   "execution_count": null,
   "metadata": {},
   "outputs": [],
   "source": []
  },
  {
   "cell_type": "code",
   "execution_count": 55,
   "metadata": {},
   "outputs": [],
   "source": [
    "GPT_MODEL='gpt-3.5-turbo-0125'   \n",
    "#\n",
    "# Pricing\n",
    "# Model\tInput\tOutput\n",
    "# gpt-3.5-turbo-0125\t$0.0005 / 1K tokens\t$0.0015 / 1K tokens\n",
    "#\n",
    "# Updated GPT 3.5 Turbo\n",
    "# The latest GPT-3.5 Turbo model with higher accuracy at responding in requested formats \n",
    "# and a fix for a bug which caused a text encoding issue for non-English language function calls. \n",
    "# Returns a maximum of 4,096 output tokens.\n",
    "#"
   ]
  },
  {
   "cell_type": "code",
   "execution_count": 62,
   "metadata": {},
   "outputs": [],
   "source": [
    "client = openai.OpenAI(\n",
    "\n",
    "    api_key=os.environ.get(\"OPENAI_API_KEY\"),\n",
    ")"
   ]
  },
  {
   "cell_type": "code",
   "execution_count": null,
   "metadata": {},
   "outputs": [],
   "source": []
  },
  {
   "cell_type": "code",
   "execution_count": 47,
   "metadata": {},
   "outputs": [],
   "source": [
    "chat_completion = client.chat.completions.create(\n",
    "    messages=[\n",
    "        {\n",
    "            \"role\": \"user\",\n",
    "            \"content\": \"Hello, this is a test\",\n",
    "        }\n",
    "    ],\n",
    "    model=GPT_MODEL,\n",
    ")\n",
    "\n",
    "# print(chat_completion.choices[0].message.content)\n"
   ]
  },
  {
   "cell_type": "code",
   "execution_count": null,
   "metadata": {},
   "outputs": [],
   "source": []
  },
  {
   "cell_type": "code",
   "execution_count": 53,
   "metadata": {},
   "outputs": [],
   "source": [
    "import random\n",
    "\n",
    "TEMPERATURE = 0.6 # default temperature for ChatGPT. Web ChatGPT uses 0.6 all the time. varies from 0 (same answers, no randomness) to 1 (much variety, much random)\n",
    "\n",
    "# Our randomness constants:\n",
    "\n",
    "USE_STARTUP_DIALOG = 0.25\n",
    "\n",
    "# if we use startup dialog, we may have up to 4 preceding phrases.\n",
    "\n",
    "DIALOG_LENGTH_WEIGHTS=[0.35,0.3,0.2,0.15]  # So len 1 will occur more frequently, len 4 - much less\n",
    "DIALOG_LENGTH_OPTIONS=[2,4,6,8]\n",
    "\n",
    "starting_messages = [\n",
    "[\n",
    "    {'role': 'user', 'content': \"Hi\"},\n",
    "    {'role': 'assistant', 'content': \"Hello! How can I assist you today?\"},\n",
    "    {'role': 'user', 'content': \"Yes! How are you?\"},\n",
    "    {'role': 'assistant', 'content': \"As an AI, I don't have feelings or emotions, but I'm here and ready to assist you with any questions or tasks you have. How can I help you today?\"},\n",
    "    {'role': 'user', 'content': \"What do you do\"},\n",
    "    {'role': 'assistant', 'content': \"I'm here to help with a wide range of tasks! You can ask me questions, seek information on various topics, brainstorm ideas, get assistance with writing or editing, play text-based games, generate creative content, and much more. Just let me know what you need help with, and I'll do my best to assist you!\"},\n",
    "    {'role': 'user', 'content': 'Yes'},\n",
    "    {'role': 'assistant', 'content': \"Great! If you have any specific questions or need assistance with something, feel free to ask. I'm here to help!\"},\n",
    "],\n",
    "[\n",
    "    {'role': 'user', 'content': \"Hello!\"},\n",
    "    {'role': 'assistant', 'content': \"Hello! How can I assist you today?\"},\n",
    "    {'role': 'user', 'content': \"I don't know\"},\n",
    "    {'role': 'assistant', 'content': \"That's perfectly fine! If you have any questions, need advice, want to discuss a topic, or just want to chat, feel free to let me know. I'm here to help with anything you need.\"},\n",
    "    {'role': 'user', 'content': \"Ok. I will think about it\"},\n",
    "    {'role': 'assistant', 'content': \"Sure thing! Take your time to think, and whenever you're ready, feel free to reach out. I'll be here to assist you whenever you need.\"},\n",
    "    {'role': 'user', 'content': \"Tell me something\"},\n",
    "    {'role': 'assistant', 'content': \"Sure! Did you know that the world's largest desert isn't the Sahara, but actually Antarctica? Despite being covered in ice, Antarctica is considered a desert because it receives very little precipitation, less than 2 inches (50 millimeters) per year in some areas. Its size and harsh climate make it the largest desert on Earth, even larger than the Sahara Desert.\"},         \n",
    "],\n",
    "[\n",
    "    {'role': 'user', 'content': \"Nice to see you\"},\n",
    "    {'role': 'assistant', 'content': \"Nice to see you too! How can I assist you today?\"},\n",
    "    {'role': 'user', 'content': \"What can you say?\"},\n",
    "    {'role': 'assistant', 'content': \"As an AI language model, I can engage in conversation, answer questions, provide information on a wide range of topics, generate text based on prompts, offer suggestions, and more. Just let me know what you need assistance with or what you'd like to discuss!\"},\n",
    "    {'role': 'user', 'content': \"Just tell me something\"},\n",
    "    {'role': 'assistant', 'content': \"Sure! Did you know that honey never spoils? Archaeologists have found pots of honey in ancient Egyptian tombs that are over 3,000 years old and still perfectly edible. This remarkable longevity is due to the unique chemical composition of honey, which includes low water content and natural acidity, making it inhospitable to bacteria and microorganisms that cause food to spoil.\"},\n",
    "    {'role': 'user', 'content': \"Interesting\"},\n",
    "    {'role': 'assistant', 'content': \"I'm glad you found it interesting! If you have any other topics you'd like to learn about or discuss, feel free to let me know. I'm here to help!\"},  \n",
    "],\n",
    "[\n",
    "    {'role': 'user', 'content': \"How are things\"},\n",
    "    {'role': 'assistant', 'content': \"As an AI, I don't have personal experiences, but I'm here and ready to assist you with any questions or tasks you have! How can I help you today?\"},  \n",
    "    {'role': 'user', 'content': \"I am unsure\"},\n",
    "    {'role': 'assistant', 'content': \"It's okay to feel unsure sometimes. If there's anything specific on your mind or any decision you're facing, feel free to share, and I'll do my best to assist you. Whether it's about making a choice, seeking advice, or just discussing your thoughts, I'm here to help.\"},  \n",
    "    {'role': 'user', 'content': \"yes talk to me\"},\n",
    "    {'role': 'assistant', 'content': \"Of course! Is there anything particular on your mind that you'd like to talk about? It could be anything from personal concerns, questions about a topic, or just casual conversation. Feel free to share, and I'm here to listen and offer assistance or insights as best as I can.\"},  \n",
    "    {'role': 'user', 'content': \"i don't know\"},\n",
    "    {'role': 'assistant', 'content': \"That's completely fine. Sometimes it can be helpful to explore different topics or interests to see if anything sparks your curiosity or engages your thoughts. Is there a subject you've been curious about or something you've been meaning to learn more about? Alternatively, we can engage in a casual conversation about anything you'd like. Let me know if there's a specific direction you'd like to take our conversation or if there's anything specific you'd like to discuss.\"},  \n",
    "],\n",
    "]\n"
   ]
  },
  {
   "cell_type": "markdown",
   "metadata": {},
   "source": [
    "### Helper function for request - response"
   ]
  },
  {
   "cell_type": "code",
   "execution_count": 49,
   "metadata": {},
   "outputs": [],
   "source": [
    "def generate_messages(phrase_request:str)->list[dict]:\n",
    "    \"\"\"Using random this function will generate messages to pass to ChatGPT\n",
    "\n",
    "    Args:\n",
    "        phrase_request (str): Request phrase to put to the end of messages list\n",
    "\n",
    "    Returns:\n",
    "        list[dict]: messages list in a OpenAi format\n",
    "    \"\"\"\n",
    "    # this is a standard option\n",
    "    return_messages=[    {'role': 'system', 'content': \"You are a helpful assistant.\"},\n",
    "                     ]\n",
    "    \n",
    "    # use random to chose if we are adding anything\n",
    "    if random.random()<USE_STARTUP_DIALOG:\n",
    "        # choose number of adding, based on provided weights\n",
    "        startup_len_to_add=random.choices(DIALOG_LENGTH_OPTIONS, weights=DIALOG_LENGTH_WEIGHTS)[0]\n",
    "        message_chain=random.randint(0,len(starting_messages)-1)\n",
    "        return_messages+=starting_messages[message_chain][:startup_len_to_add]\n",
    "    \n",
    "    # finally our phrase                                                                                \n",
    "    return return_messages+[\n",
    "        {'role': 'user', 'content': phrase_request},\n",
    "    ]"
   ]
  },
  {
   "cell_type": "code",
   "execution_count": 50,
   "metadata": {},
   "outputs": [
    {
     "data": {
      "text/plain": [
       "[{'role': 'system', 'content': 'You are a helpful assistant.'},\n",
       " {'role': 'user', 'content': 'hello'}]"
      ]
     },
     "execution_count": 50,
     "metadata": {},
     "output_type": "execute_result"
    }
   ],
   "source": [
    "generate_messages('hello')"
   ]
  },
  {
   "cell_type": "code",
   "execution_count": 51,
   "metadata": {},
   "outputs": [
    {
     "data": {
      "text/plain": [
       "[{'role': 'system', 'content': 'You are a helpful assistant.'},\n",
       " {'role': 'user', 'content': 'Hi'},\n",
       " {'role': 'assistant', 'content': 'Hello! How can I assist you today?'},\n",
       " {'role': 'user', 'content': 'Yes! How are you?'},\n",
       " {'role': 'assistant',\n",
       "  'content': \"As an AI, I don't have feelings or emotions, but I'm here and ready to assist you with any questions or tasks you have. How can I help you today?\"},\n",
       " {'role': 'user', 'content': 'What do you do'},\n",
       " {'role': 'assistant',\n",
       "  'content': \"I'm here to help with a wide range of tasks! You can ask me questions, seek information on various topics, brainstorm ideas, get assistance with writing or editing, play text-based games, generate creative content, and much more. Just let me know what you need help with, and I'll do my best to assist you!\"},\n",
       " {'role': 'user', 'content': 'Yes'},\n",
       " {'role': 'assistant',\n",
       "  'content': \"Great! If you have any specific questions or need assistance with something, feel free to ask. I'm here to help!\"},\n",
       " {'role': 'user', 'content': 'hello'}]"
      ]
     },
     "execution_count": 51,
     "metadata": {},
     "output_type": "execute_result"
    }
   ],
   "source": [
    "generate_messages('hello')"
   ]
  },
  {
   "cell_type": "code",
   "execution_count": 52,
   "metadata": {},
   "outputs": [],
   "source": [
    "# now let's write a function that sends this messages to ChatGPT and get response"
   ]
  },
  {
   "cell_type": "code",
   "execution_count": 56,
   "metadata": {},
   "outputs": [],
   "source": [
    "def request_gpt(messages:list[dict], temperature=TEMPERATURE, model=GPT_MODEL)->str:\n",
    "    \"\"\"Sends messages to ChatGPT and returns the response\n",
    "\n",
    "    Args:\n",
    "        messages (list[dict]): list of messages in OpenAI format\n",
    "\n",
    "    Returns:\n",
    "        str: response of ChatGpt\n",
    "    \"\"\"\n",
    "    chat_completion = client.chat.completions.create(\n",
    "        messages=messages,\n",
    "        model=model,\n",
    "        temperature=temperature\n",
    "    )\n",
    "\n",
    "    return chat_completion.choices[0].message.content"
   ]
  },
  {
   "cell_type": "code",
   "execution_count": 54,
   "metadata": {},
   "outputs": [],
   "source": [
    "def speak_with_gpt(phrase_request:str)->str:\n",
    "    \"\"\"Use phrase_request to generate messages with generate_messages function, send's them to ChatGPT, and return response\n",
    "\n",
    "    Args:\n",
    "        phrase_request (str): Phrase to ask\n",
    "\n",
    "    Returns:\n",
    "        str: Response of ChatGPT\n",
    "    \"\"\"\n",
    "    return request_gpt(generate_messages(phrase_request=phrase_request))"
   ]
  },
  {
   "cell_type": "code",
   "execution_count": 55,
   "metadata": {},
   "outputs": [],
   "source": [
    "example_phrase=context_unique.loc[100]['context']"
   ]
  },
  {
   "cell_type": "code",
   "execution_count": 56,
   "metadata": {},
   "outputs": [
    {
     "data": {
      "text/plain": [
       "[{'role': 'system', 'content': 'You are a helpful assistant.'},\n",
       " {'role': 'user',\n",
       "  'content': 'I am always arguing with my father. He gets stressed over work and health and talks to me in a tone of voice that seems very demanding and seems more like yelling. I get upset often at this. Am I too sensitive? He always says I am overreacting but never seems to understand that he is hurting my feelings. No matter how often I try to tell him this, he never listens.'}]"
      ]
     },
     "execution_count": 56,
     "metadata": {},
     "output_type": "execute_result"
    }
   ],
   "source": [
    "generate_messages(example_phrase)"
   ]
  },
  {
   "cell_type": "code",
   "execution_count": 57,
   "metadata": {},
   "outputs": [],
   "source": [
    "# speak_with_gpt(example_phrase)"
   ]
  },
  {
   "cell_type": "code",
   "execution_count": 58,
   "metadata": {},
   "outputs": [],
   "source": [
    "# lets try it again several times"
   ]
  },
  {
   "cell_type": "code",
   "execution_count": 59,
   "metadata": {},
   "outputs": [],
   "source": [
    "# speak_with_gpt(example_phrase)"
   ]
  },
  {
   "cell_type": "code",
   "execution_count": 60,
   "metadata": {},
   "outputs": [],
   "source": [
    "# speak_with_gpt(example_phrase)"
   ]
  },
  {
   "cell_type": "code",
   "execution_count": 61,
   "metadata": {},
   "outputs": [],
   "source": [
    "# copies of output\n",
    "chatgpt_response1=\"It's completely understandable that you feel upset when your father speaks to you in a demanding or yelling tone. It's important to remember that everyone has different communication styles and ways of expressing their stress. It's also okay to have your own feelings and reactions to the way he speaks to you.\\n\\nIt's not necessarily that you are too sensitive, but rather that you have valid feelings that deserve to be acknowledged and respected. It's important to communicate your feelings to your father in a calm and assertive manner. You can try to have a conversation with him during a calm moment, expressing how his tone of voice makes you feel and how you would like to be spoken to.\\n\\nIt's possible that your father may not be aware of how his tone affects you, and it may take some time for him to understand and adjust his communication style. It's important to be patient and persistent in expressing your feelings to him.\\n\\nIf despite your efforts, your father continues to dismiss your feelings and refuses to listen, it may be helpful to seek support from a trusted family member, friend, or counselor to help navigate the situation and find healthy ways to cope with the challenging interactions. Remember that it's okay to prioritize your own well-being and set boundaries in relationships that are emotionally challenging.\"\n",
    "chatgpt_response2='It sounds like you\\'re going through a challenging situation with your father. It\\'s important to remember that everyone experiences and expresses stress differently. It\\'s also common for misunderstandings to occur in communication, especially during times of tension.\\n\\nYour feelings are valid, and it\\'s okay to feel upset when someone speaks to you in a way that hurts your feelings. It\\'s also understandable that you want your father to understand how his tone affects you.\\n\\nHere are a few suggestions that may help improve communication with your father:\\n\\n1. Choose the right time: Try to have a calm and private conversation with your father when both of you are in a relaxed state and not already in the midst of an argument.\\n\\n2. Use \"I\" statements: Express your feelings using \"I\" statements to help your father understand how his tone of voice affects you. For example, \"I feel hurt when you speak to me in a demanding tone.\"\\n\\n3. Listen actively: Try to listen to your father\\'s perspective as well. Understanding each other\\'s point of view can lead to better communication and empathy.\\n\\n4. Seek support: If you find it challenging to communicate with your father on your own, consider seeking the help of a family therapist or counselor who can facilitate productive conversations and provide guidance on improving your relationship.\\n\\nRemember, it\\'s okay to set boundaries and communicate your feelings in a respectful manner. Your well-being is important, and it\\'s essential to address any concerns that are affecting your mental health and relationships.'\n",
    "chatgpt_response3=\"It's understandable that you feel upset in this situation. It's important to remember that your feelings are valid, and it's not necessarily about being too sensitive. It sounds like there may be a communication issue between you and your father.\\n\\nIt might be helpful to have a calm and honest conversation with your father when you both are in a good mood. Express how his tone of voice and demanding behavior make you feel, and try to explain that you are not trying to overreact but instead want to improve your relationship with him.\\n\\nIt's possible that your father may not realize the impact of his words and actions on you, so having an open and honest conversation could help bring this to his attention. It may take time for him to understand and change his behavior, so be patient and continue to communicate your feelings to him.\\n\\nIn the meantime, it could also be beneficial to find healthy ways to cope with the stress and tension in your relationship with your father, such as practicing self-care, talking to a trusted friend or counselor, or engaging in activities that bring you joy and relaxation. Remember to prioritize your well-being and set boundaries to protect your emotional health.\"\n"
   ]
  },
  {
   "cell_type": "code",
   "execution_count": 106,
   "metadata": {},
   "outputs": [
    {
     "name": "stdout",
     "output_type": "stream",
     "text": [
      "Thanks for the question. Regardless of whether or not you are sensitive, it is okay to want better communication with those who are important to you. When we feel that we are being talked down to or being ridiculed, it is difficult to not take it personally. It sounds like you have taken the first and necessary step in resolving this by bringing up the issue to him. Is it possible that the delivery of your message is causing him to feel blamed or defensive? Try communicating with him during a time when you are not upset and when it is out of context. Begin your statements with \"I\" as opposed to \"you.\" For example, you can tell him, \"I feel angry when you raise your voice at me\" instead of \"You always yell at me.\" Also, avoid using black and white terms such as never and always. Additionally, offer sugggestions as to ways that he can better communicate with you. Maybe he just doesn't know how to. Lastly, when delivering a message, I like to use the sandwich method by starting off the discussion with something postive and ending it with something postive. For example, you may say something to the effect of:\"Dad, I enjoy the discussions we share and really value your opinion. There are times that I feel angry when you talk to me aggressively. Perhaps you can try talking to me using a calmer tone when I bring up heated topics. Let's try and work on this together. I will try to be less sensitive and I am asking that you be more calm.\"I hope you find this useful!\n"
     ]
    }
   ],
   "source": [
    "dataset_response=conversation_dataset[conversation_dataset['context']==example_phrase]['response'].iloc[0]\n",
    "print(dataset_response)"
   ]
  },
  {
   "cell_type": "code",
   "execution_count": null,
   "metadata": {},
   "outputs": [],
   "source": []
  },
  {
   "cell_type": "markdown",
   "metadata": {},
   "source": [
    "### Helper function for comparing the results"
   ]
  },
  {
   "cell_type": "code",
   "execution_count": 63,
   "metadata": {},
   "outputs": [],
   "source": [
    "COMPARING_TEMPERATURE=0.3   # lower is better in such cases, we will get more sustainable responses\n",
    "\n",
    "#\n",
    "# note: i have made several experiments with it. with high temp you sometimes have 20 f\n",
    "#\n",
    "\n",
    "COMPARING_PROMPT_TEMPLATE_1 =\"\"\"\n",
    "Please compare the meaning and summarization of PHRASE_1 and PHRASE_2. \n",
    "\n",
    "Rate similarity of meaning by scale from 0 to 100 (0 - opposite meaning, no similarity, 100 - total similarity).\n",
    "\n",
    "Response with number only!\n",
    "\n",
    "```PHRASE_1```\n",
    "<<<PHRASE1###>>>\n",
    "```END OF PHRASE_1```\n",
    "\n",
    "\n",
    "```PHRASE_2```\n",
    "<<<PHRASE2###>>>\n",
    "```END OF PHRASE_2```\n",
    "\n",
    "SCALE OF LIKENESS:\n",
    "\"\"\"\n",
    "\n",
    "COMPARING_PROMPT_TEMPLATE_2 =\"\"\"\n",
    "You will need to compare two phrases and scale their likeness. \n",
    "\n",
    "Compare PHRASE_1 and PHRASE_2 by summarized meaning, rate similarity by scale from 0 to 100 (0 - no similarity or opposite meaning, 100 - total likeness, similar meaning).\n",
    "\n",
    "Response with number only!\n",
    "\n",
    "\n",
    "```PHRASE_1```\n",
    "<<<PHRASE1###>>>\n",
    "```END OF PHRASE_1```\n",
    "\n",
    "\n",
    "```PHRASE_2```\n",
    "<<<PHRASE2###>>>\n",
    "```END OF PHRASE_2```\n",
    "\n",
    "SCALE OF LIKENESS:\n",
    "\"\"\""
   ]
  },
  {
   "cell_type": "code",
   "execution_count": 64,
   "metadata": {},
   "outputs": [],
   "source": [
    "def generate_comparing_prompt(response1:str,response2:str, comparing_template=COMPARING_PROMPT_TEMPLATE_2)->str:\n",
    "    \"\"\"Insert into COMPARING_PROMPT_TEMPLATE given request and responses\n",
    "\n",
    "    Args:\n",
    "        response1 (str): response1\n",
    "        response2 (str): response2\n",
    "\n",
    "    Returns:\n",
    "        str: Prompt to send to ChatGRT for comparing\n",
    "    \"\"\"\n",
    "    return comparing_template.replace('<<<PHRASE1###>>>', response1).replace('<<<PHRASE2###>>>', response2)"
   ]
  },
  {
   "cell_type": "code",
   "execution_count": 65,
   "metadata": {},
   "outputs": [
    {
     "name": "stdout",
     "output_type": "stream",
     "text": [
      "\n",
      "You will need to compare two phrases and scale their likeness. \n",
      "\n",
      "Compare PHRASE_1 and PHRASE_2 by summarized meaning, rate similarity by scale from 0 to 100 (0 - no similarity or opposite meaning, 100 - total likeness, similar meaning).\n",
      "\n",
      "Response with number only!\n",
      "\n",
      "\n",
      "```PHRASE_1```\n",
      "It's understandable that you feel upset in this situation. It's important to remember that your feelings are valid, and it's not necessarily about being too sensitive. It sounds like there may be a communication issue between you and your father.\n",
      "\n",
      "It might be helpful to have a calm and honest conversation with your father when you both are in a good mood. Express how his tone of voice and demanding behavior make you feel, and try to explain that you are not trying to overreact but instead want to improve your relationship with him.\n",
      "\n",
      "It's possible that your father may not realize the impact of his words and actions on you, so having an open and honest conversation could help bring this to his attention. It may take time for him to understand and change his behavior, so be patient and continue to communicate your feelings to him.\n",
      "\n",
      "In the meantime, it could also be beneficial to find healthy ways to cope with the stress and tension in your relationship with your father, such as practicing self-care, talking to a trusted friend or counselor, or engaging in activities that bring you joy and relaxation. Remember to prioritize your well-being and set boundaries to protect your emotional health.\n",
      "```END OF PHRASE_1```\n",
      "\n",
      "\n",
      "```PHRASE_2```\n",
      "Thanks for the question. Regardless of whether or not you are sensitive, it is okay to want better communication with those who are important to you. When we feel that we are being talked down to or being ridiculed, it is difficult to not take it personally. It sounds like you have taken the first and necessary step in resolving this by bringing up the issue to him. Is it possible that the delivery of your message is causing him to feel blamed or defensive? Try communicating with him during a time when you are not upset and when it is out of context. Begin your statements with \"I\" as opposed to \"you.\" For example, you can tell him, \"I feel angry when you raise your voice at me\" instead of \"You always yell at me.\" Also, avoid using black and white terms such as never and always. Additionally, offer sugggestions as to ways that he can better communicate with you. Maybe he just doesn't know how to. Lastly, when delivering a message, I like to use the sandwich method by starting off the discussion with something postive and ending it with something postive. For example, you may say something to the effect of:\"Dad, I enjoy the discussions we share and really value your opinion. There are times that I feel angry when you talk to me aggressively. Perhaps you can try talking to me using a calmer tone when I bring up heated topics. Let's try and work on this together. I will try to be less sensitive and I am asking that you be more calm.\"I hope you find this useful!\n",
      "```END OF PHRASE_2```\n",
      "\n",
      "SCALE OF LIKENESS:\n",
      "\n"
     ]
    }
   ],
   "source": [
    "comparing_prompt=generate_comparing_prompt(chatgpt_response3,dataset_response)\n",
    "print(comparing_prompt)"
   ]
  },
  {
   "cell_type": "code",
   "execution_count": 66,
   "metadata": {},
   "outputs": [],
   "source": [
    "def compare_with_gpt(response1:str,response2:str, temperature=COMPARING_TEMPERATURE, model=GPT_MODEL)->int:\n",
    "    \"\"\"Makes a prompt to compare phrase1 and phrase2, send to ChatGPT and return and integer \n",
    "\n",
    "    Args:\n",
    "        response1 (str): response1\n",
    "        response2 (str): response2\n",
    "\n",
    "    Returns:\n",
    "        int: 0..100 - scale of likeness, -1 if something goes wrong\n",
    "    \"\"\"\n",
    "    messages=[{'role': 'system', 'content': \"You are a helpful assistant. \"},\n",
    "              {'role': 'user', 'content': generate_comparing_prompt(response1,response2)},  \n",
    "    ]\n",
    "    response=request_gpt(messages,temperature=temperature)\n",
    "    \n",
    "    try:\n",
    "        scale_number=int(response.strip())\n",
    "    except ValueError:\n",
    "        scale_number=-1\n",
    "        \n",
    "    return scale_number\n",
    "    "
   ]
  },
  {
   "cell_type": "code",
   "execution_count": 88,
   "metadata": {},
   "outputs": [
    {
     "name": "stdout",
     "output_type": "stream",
     "text": [
      "90\n"
     ]
    }
   ],
   "source": [
    "# print(compare_with_gpt(chatgpt_response1,dataset_response))"
   ]
  },
  {
   "cell_type": "code",
   "execution_count": 86,
   "metadata": {},
   "outputs": [
    {
     "name": "stdout",
     "output_type": "stream",
     "text": [
      "85\n"
     ]
    }
   ],
   "source": [
    "# print(compare_with_gpt(chatgpt_response2,dataset_response))"
   ]
  },
  {
   "cell_type": "code",
   "execution_count": 84,
   "metadata": {},
   "outputs": [
    {
     "name": "stdout",
     "output_type": "stream",
     "text": [
      "10\n"
     ]
    }
   ],
   "source": [
    "# print(compare_with_gpt(\"rtu7e56ujdfghj\",dataset_response))"
   ]
  },
  {
   "cell_type": "code",
   "execution_count": 107,
   "metadata": {},
   "outputs": [
    {
     "name": "stdout",
     "output_type": "stream",
     "text": [
      "10\n"
     ]
    }
   ],
   "source": [
    "# print(compare_with_gpt(\"Oh no!! You are a bad son!!!\",dataset_response))"
   ]
  },
  {
   "cell_type": "code",
   "execution_count": null,
   "metadata": {},
   "outputs": [],
   "source": []
  },
  {
   "cell_type": "code",
   "execution_count": 92,
   "metadata": {},
   "outputs": [],
   "source": [
    "example_phrase2=context_unique.iloc[340]['context']"
   ]
  },
  {
   "cell_type": "code",
   "execution_count": 93,
   "metadata": {},
   "outputs": [
    {
     "data": {
      "text/plain": [
       "'I panicked over a minor parking lot mistake. It was totally my fault, but due to another insurance issue, I left a note with an illegible phone number. Guilty over this, I got an envelope containing several hundred dollars. Unfortunately, by the time I returned, the other driver had seen my ersatz note and drove away. Since I cannot make this up to that individual, how do I atone for my cowardly act? I have been trying to do random acts of kindness in hopes that karma will somehow even out.'"
      ]
     },
     "execution_count": 93,
     "metadata": {},
     "output_type": "execute_result"
    }
   ],
   "source": [
    "example_phrase2"
   ]
  },
  {
   "cell_type": "code",
   "execution_count": 94,
   "metadata": {},
   "outputs": [
    {
     "name": "stdout",
     "output_type": "stream",
     "text": [
      "407    From your writing, you have already atoned for...\n",
      "408    Thanks for sharing as it shows your humanity a...\n",
      "Name: response, dtype: object\n"
     ]
    }
   ],
   "source": [
    "dataset_response=conversation_dataset[conversation_dataset['context']==example_phrase2]['response']\n",
    "print(dataset_response)"
   ]
  },
  {
   "cell_type": "code",
   "execution_count": 95,
   "metadata": {},
   "outputs": [],
   "source": [
    "dataset_response1=dataset_response.iloc[0]\n",
    "dataset_response2=dataset_response.iloc[1]\n"
   ]
  },
  {
   "cell_type": "code",
   "execution_count": 96,
   "metadata": {},
   "outputs": [
    {
     "name": "stdout",
     "output_type": "stream",
     "text": [
      "From your writing, you have already atoned for what you describe as \"cowardly\".Recognizing your action and trying to directly correct it, realizing your action was improper and demonstrating the willingness to take right action, are all examples of making things right.Since the actual driver is unavailable to consult as to their wishes on what they expect and feel would correct the matter, you did the next best thing and considered the situation from the driver point of view. Thanks for sharing as it shows your humanity and that you have a sensitive conscience. In your example here I'd encourage you to always think, \"safety first\"; and never offer a stranger at the accident scene \"...several hundred dollars\". Why? Because it could go badly against you (i.e. extortion, robbed, or would this be considered a bribe).   To the point, I'm reminded of Steps Eight and Nine in many 12-step programs regarding making amends. In your specific example since the injured unidentified party departed, and by your own admission you've been doing random acts of kindness, it seems to me you've acted in reasonable good faith fashion to make amends. Well done.   I'm not a karma expert but as a therapist I would invite you to explore the deeper story behind your use of the words \"cowardly\", \"guilty\", and what it does for you to engage in \"random acts of kindness\". What a fascinating journey this could be for you. Best wishes.\n"
     ]
    }
   ],
   "source": [
    "print(dataset_response1,dataset_response2)"
   ]
  },
  {
   "cell_type": "code",
   "execution_count": 97,
   "metadata": {},
   "outputs": [
    {
     "name": "stdout",
     "output_type": "stream",
     "text": [
      "Example simulation 1.\n",
      "request: I panicked over a minor parking lot mistake. It was totally my fault, but due to another insurance issue, I left a note with an illegible phone number. Guilty over this, I got an envelope containing several hundred dollars. Unfortunately, by the time I returned, the other driver had seen my ersatz note and drove away. Since I cannot make this up to that individual, how do I atone for my cowardly act? I have been trying to do random acts of kindness in hopes that karma will somehow even out.\n",
      "database response1: From your writing, you have already atoned for what you describe as \"cowardly\".Recognizing your action and trying to directly correct it, realizing your action was improper and demonstrating the willingness to take right action, are all examples of making things right.Since the actual driver is unavailable to consult as to their wishes on what they expect and feel would correct the matter, you did the next best thing and considered the situation from the driver point of view.\n",
      "database response2: Thanks for sharing as it shows your humanity and that you have a sensitive conscience. In your example here I'd encourage you to always think, \"safety first\"; and never offer a stranger at the accident scene \"...several hundred dollars\". Why? Because it could go badly against you (i.e. extortion, robbed, or would this be considered a bribe).   To the point, I'm reminded of Steps Eight and Nine in many 12-step programs regarding making amends. In your specific example since the injured unidentified party departed, and by your own admission you've been doing random acts of kindness, it seems to me you've acted in reasonable good faith fashion to make amends. Well done.   I'm not a karma expert but as a therapist I would invite you to explore the deeper story behind your use of the words \"cowardly\", \"guilty\", and what it does for you to engage in \"random acts of kindness\". What a fascinating journey this could be for you. Best wishes.\n",
      "\n",
      "iteration 0\n",
      "GPT have given response 0\n",
      "Compared to dataset response 1: 78\n",
      "Compared to dataset response 2: 72\n",
      "\n",
      "iteration 1\n",
      "GPT have given response 1\n",
      "Compared to dataset response 1: 70\n",
      "Compared to dataset response 2: 63\n",
      "\n",
      "iteration 2\n",
      "GPT have given response 2\n",
      "Compared to dataset response 1: 90\n",
      "Compared to dataset response 2: 72\n",
      "\n",
      "iteration 3\n",
      "GPT have given response 3\n",
      "Compared to dataset response 1: 70\n",
      "Compared to dataset response 2: 74\n",
      "\n"
     ]
    }
   ],
   "source": [
    "chat_gpt_responses=[]\n",
    "print(\"Example simulation 1.\")\n",
    "print(\"request:\",example_phrase2)\n",
    "print(\"database response1:\", dataset_response1 )\n",
    "print(\"database response2:\", dataset_response2 )\n",
    "print()\n",
    "\n",
    "def simulation1():\n",
    "    for i in range(4):\n",
    "        print('iteration', i)\n",
    "        single_response=speak_with_gpt(example_phrase2)\n",
    "        print(\"GPT have given response\", i)\n",
    "        comp_score1=compare_with_gpt(single_response,dataset_response1)\n",
    "        comp_score2=compare_with_gpt(single_response,dataset_response2)\n",
    "        print(\"Compared to dataset response 1:\", comp_score1)\n",
    "        print(\"Compared to dataset response 2:\", comp_score2)   \n",
    "        chat_gpt_responses.append([comp_score1,comp_score2,single_response])\n",
    "        print()\n",
    "        \n",
    "# simulation1()\n",
    "    \n",
    "# print('final array of comparing:', chat_gpt_responses)"
   ]
  },
  {
   "cell_type": "code",
   "execution_count": 98,
   "metadata": {},
   "outputs": [
    {
     "data": {
      "text/plain": [
       "[[78,\n",
       "  72,\n",
       "  \"It's understandable that you feel guilty about the situation, but it's important to remember that mistakes happen and it's how we choose to learn and grow from them that truly matters. It's great that you're trying to make amends through random acts of kindness.\\n\\nTo continue atoning for your actions, you can consider the following steps:\\n\\n1. **Pay it forward:** Continue with your random acts of kindness and spread positivity wherever you go. Small gestures, like helping someone carry groceries or holding the door open, can make a big difference.\\n\\n2. **Volunteer:** Consider volunteering your time and skills to help those in need. It could be at a local charity, community organization, or even just helping out a neighbor.\\n\\n3. **Donate:** If you're able to, consider making a donation to a charity or cause that you care about. Every little bit helps and can make a positive impact.\\n\\n4. **Practice mindfulness:** Reflect on the situation and use it as a learning experience. Practice self-forgiveness and commit to being more responsible in the future.\\n\\nRemember that while you may not be able to directly make it up to the individual involved in the parking lot incident, your efforts to spread kindness and positivity can still have a meaningful impact on others. Keep focusing on doing good and being a better version of yourself each day.\"],\n",
       " [70,\n",
       "  63,\n",
       "  \"It's understandable that you feel guilty about the situation, but it's important to remember that mistakes happen. It's commendable that you're trying to make amends through acts of kindness. Here are some suggestions on how to continue atoning for your mistake:\\n\\n1. Keep doing random acts of kindness: Continue to spread positivity and kindness in your daily life. Small gestures can make a big difference in someone else's day.\\n\\n2. Volunteer: Consider volunteering your time and skills to help others in need. There are many organizations and causes that could benefit from your support.\\n\\n3. Donate to charity: If you're able to, consider making a donation to a charity or organization that aligns with your values. Every little bit helps, and it's a way to give back to the community.\\n\\n4. Practice self-forgiveness: It's important to forgive yourself for the mistake you made. Remember that everyone makes errors, and what's important is how you choose to move forward and learn from the experience.\\n\\n5. Reflect and learn: Take some time to reflect on the situation and think about what you can learn from it. Use it as an opportunity for personal growth and to become more mindful in your actions in the future.\\n\\nRemember that while you may not be able to make it up to the individual in the parking lot, your efforts to spread kindness and positivity can still make a difference in the world. Keep focusing on doing good and being a better person each day.\"],\n",
       " [90,\n",
       "  72,\n",
       "  \"It sounds like you're feeling guilty about the situation, and it's commendable that you're trying to make amends through random acts of kindness. While you may not be able to directly make up for the parking lot incident, you can continue to pay it forward and spread positivity through your actions.\\n\\nHere are a few suggestions on how you can atone for the situation:\\n\\n1. Continue with your random acts of kindness: Keep doing good deeds for others, whether it's helping someone in need, volunteering, or simply being kind to those around you. Your positive actions can have a ripple effect and make a difference in someone else's life.\\n\\n2. Practice forgiveness: Forgive yourself for the mistake you made and learn from it. It's important to acknowledge your wrongdoing, but dwelling on it excessively can be counterproductive. Use this experience as a lesson to be more mindful and responsible in the future.\\n\\n3. Reflect on your actions: Take some time to reflect on the situation and consider how you can handle similar incidents differently in the future. By being more prepared and proactive, you can prevent similar mistakes from happening again.\\n\\nRemember that everyone makes mistakes, and it's how we respond to them that truly matters. By continuing to spread kindness and positivity, you are already taking steps to atone for your past actions. Keep up the good work, and remember to be kind to yourself as well.\"],\n",
       " [70,\n",
       "  74,\n",
       "  \"It's understandable that you feel guilty about the situation, but it's important to remember that everyone makes mistakes. It's commendable that you are trying to make amends through random acts of kindness. Here are some suggestions on how you can continue to atone for your actions:\\n\\n1. Pay it forward: Continue to perform random acts of kindness for others. You can volunteer at a local charity, help a neighbor in need, or simply offer a kind gesture to someone you encounter during your day.\\n\\n2. Practice mindfulness: Reflect on your actions and strive to be more present and aware in your interactions with others. By being mindful of your behavior, you can make conscious efforts to be more considerate and compassionate towards others.\\n\\n3. Apologize if the opportunity arises: If you happen to come across the individual affected by the parking lot incident in the future, consider apologizing and explaining the situation. Express your regret for the misunderstanding and offer to make amends in any way you can.\\n\\n4. Learn from the experience: Use this situation as a learning opportunity to be more responsible and attentive in your future actions. By acknowledging your mistake and taking steps to improve, you can grow as a person and prevent similar incidents from happening again.\\n\\nRemember that it's never too late to make amends and strive to be a better person. Keep spreading positivity and kindness in the world, and trust that your efforts will make a difference in balancing out any negative experiences.\"]]"
      ]
     },
     "execution_count": 98,
     "metadata": {},
     "output_type": "execute_result"
    }
   ],
   "source": [
    "chat_gpt_responses"
   ]
  },
  {
   "cell_type": "code",
   "execution_count": 99,
   "metadata": {},
   "outputs": [
    {
     "name": "stdout",
     "output_type": "stream",
     "text": [
      "A few years ago I was making love to my wife when for no known reason I lost my erection,    Now I'm In my early 30s and my problem has become more and more frequent. This is causing major problems for my ego and it's diminishing my self esteem. This has resulted in ongoing depression and tearing apart my marriage.    I am devastated and cannot find a cause for these issues. I am very attracted to my wife and want to express it in the bedroom like I used to.    What could be causing this, and what can I do about it?\n",
      "89    First step always is to do a medical rule out ...\n",
      "90    When I'm working with men with this type of si...\n",
      "91    For starters, know that this is a normal exper...\n",
      "92    Erection maintenance is caused by connective t...\n",
      "93    If you haven't already, please see a doctor.  ...\n",
      "94    Assuming there are no medical explanations for...\n",
      "Name: response, dtype: object\n"
     ]
    }
   ],
   "source": [
    "example_phrase3=context_unique.iloc[1]['context']\n",
    "dataset_response=conversation_dataset[conversation_dataset['context']==example_phrase3]['response']\n",
    "print(example_phrase3)\n",
    "print(dataset_response)"
   ]
  },
  {
   "cell_type": "code",
   "execution_count": 100,
   "metadata": {},
   "outputs": [
    {
     "name": "stdout",
     "output_type": "stream",
     "text": [
      "Example simulation 2.\n",
      "request: A few years ago I was making love to my wife when for no known reason I lost my erection,    Now I'm In my early 30s and my problem has become more and more frequent. This is causing major problems for my ego and it's diminishing my self esteem. This has resulted in ongoing depression and tearing apart my marriage.    I am devastated and cannot find a cause for these issues. I am very attracted to my wife and want to express it in the bedroom like I used to.    What could be causing this, and what can I do about it?\n",
      "\n",
      "iteration 0\n",
      "Got GPT response 0\n",
      "comparing scores: [70, 70, 85, 10, 80, 80]\n",
      "\n",
      "iteration 1\n",
      "Got GPT response 1\n",
      "comparing scores: [70, 70, 85, 35, 72, 85]\n",
      "\n",
      "iteration 2\n",
      "Got GPT response 2\n",
      "comparing scores: [70, 70, 85, 40, 80, 85]\n",
      "\n",
      "iteration 3\n",
      "Got GPT response 3\n",
      "comparing scores: [72, 70, 85, 20, 80, 85]\n",
      "\n",
      "iteration 4\n",
      "Got GPT response 4\n",
      "comparing scores: [70, 70, 76, 70, 70, 87]\n",
      "\n"
     ]
    }
   ],
   "source": [
    "chat_gpt_responses2=[]\n",
    "print(\"Example simulation 2.\")\n",
    "print(\"request:\",example_phrase3)\n",
    "\n",
    "print()\n",
    "\n",
    "def simulation2():\n",
    "    for i in range(5):\n",
    "        print('iteration', i)\n",
    "        single_response=speak_with_gpt(example_phrase3)\n",
    "        print(\"Got GPT response\", i)\n",
    "        result_line=[]\n",
    "        for j in range(6):\n",
    "            result_line.append(compare_with_gpt(single_response,dataset_response.iloc[j])) \n",
    "        print('comparing scores:',result_line)\n",
    "        result_line.append(single_response)\n",
    "        chat_gpt_responses2.append(result_line)\n",
    "        print()\n",
    "        \n",
    "# simulation2()"
   ]
  },
  {
   "cell_type": "code",
   "execution_count": 101,
   "metadata": {},
   "outputs": [
    {
     "data": {
      "text/plain": [
       "[[70,\n",
       "  70,\n",
       "  85,\n",
       "  10,\n",
       "  80,\n",
       "  80,\n",
       "  \"I'm sorry to hear that you're experiencing difficulties with your sexual health, and I appreciate you reaching out for help. Erectile dysfunction can be caused by a variety of physical and psychological factors. Some common causes include stress, anxiety, relationship issues, depression, fatigue, alcohol or drug use, certain medications, and underlying health conditions such as diabetes or heart disease.\\n\\nIt's important to consult with a healthcare provider to determine the root cause of your erectile dysfunction. They can help identify any underlying medical conditions and provide appropriate treatment options. In some cases, counseling or therapy may also be beneficial to address any psychological factors contributing to the issue.\\n\\nIn the meantime, here are some general tips that may help improve your sexual health and overall well-being:\\n\\n1. Communicate openly with your partner about your feelings and concerns. Building a supportive and understanding relationship can help alleviate stress and anxiety.\\n\\n2. Practice stress-reducing techniques such as mindfulness, deep breathing, or meditation to help manage anxiety and improve relaxation.\\n\\n3. Maintain a healthy lifestyle by eating a balanced diet, exercising regularly, getting enough sleep, and avoiding excessive alcohol and drug use.\\n\\n4. Consider trying relaxation techniques or couples therapy to improve intimacy and communication in your relationship.\\n\\n5. Remember that seeking help is a sign of strength, and you deserve to prioritize your emotional and physical well-being.\\n\\nPlease remember that you are not alone in facing these challenges, and there are resources and professionals available to support you through this difficult time. Don't hesitate to reach out for help and take steps toward improving your sexual health and overall happiness.\"],\n",
       " [70,\n",
       "  70,\n",
       "  85,\n",
       "  35,\n",
       "  72,\n",
       "  85,\n",
       "  \"I'm sorry to hear that you are facing these challenges in your relationship. Erectile dysfunction can be a difficult issue to deal with, but the good news is that there are often underlying causes that can be addressed. It's important to remember that you are not alone in experiencing this, and seeking help is a positive step towards finding a solution.\\n\\nThere are several potential causes for erectile dysfunction, including physical factors such as cardiovascular issues, diabetes, hormonal imbalances, or medication side effects. Psychological factors such as stress, anxiety, depression, or relationship problems can also contribute to the issue.\\n\\nI would recommend speaking with a healthcare provider, such as a urologist or a therapist specializing in sexual health, to discuss your concerns and explore potential causes. They can help determine if there are any underlying medical conditions that need to be addressed, and can also provide guidance on psychological factors that may be contributing to the problem.\\n\\nIn addition to seeking professional help, there are also lifestyle changes you can consider to improve your overall sexual health. These may include maintaining a healthy diet, regular exercise, managing stress, getting enough sleep, and avoiding excessive alcohol and tobacco use.\\n\\nCommunication with your partner is also key in addressing these issues. Open and honest conversations about how you are feeling, as well as exploring different ways to connect intimately, can help strengthen your relationship and provide mutual support during this challenging time.\\n\\nRemember, it's important to be patient with yourself and seek the support you need to address these concerns. Taking proactive steps towards finding a solution can help improve your self-esteem and restore intimacy in your relationship.\"],\n",
       " [70,\n",
       "  70,\n",
       "  85,\n",
       "  40,\n",
       "  80,\n",
       "  85,\n",
       "  \"I'm sorry to hear that you're going through this difficult situation. Erectile dysfunction can have various causes, including physical, psychological, or a combination of both. It's important to remember that you are not alone in facing this issue and seeking help is the first step towards finding a solution.\\n\\nHere are some potential causes of erectile dysfunction to consider:\\n1. Stress and anxiety: Performance pressure, relationship problems, work stress, or other life stressors can contribute to erectile issues.\\n2. Health conditions: Conditions such as diabetes, high blood pressure, heart disease, obesity, or hormonal imbalances can impact erectile function.\\n3. Lifestyle factors: Smoking, excessive alcohol consumption, lack of exercise, poor diet, and lack of sleep can also play a role.\\n4. Mental health issues: Depression, anxiety, or other mental health conditions can affect sexual function.\\n5. Medications: Some medications can have side effects that affect erectile function.\\n\\nI recommend that you consider seeking help from a healthcare provider, such as a urologist or a therapist specializing in sexual health. They can help diagnose the underlying cause and recommend appropriate treatment options. Treatment may include therapy, lifestyle changes, medication, or other interventions depending on the specific cause of your erectile dysfunction.\\n\\nIn the meantime, it's important to communicate openly and honestly with your wife about what you're going through. Maintaining emotional intimacy and connection can help strengthen your relationship during this challenging time. Remember that seeking help is a positive step towards improving your sexual health and overall well-being.\"],\n",
       " [72,\n",
       "  70,\n",
       "  85,\n",
       "  20,\n",
       "  80,\n",
       "  85,\n",
       "  \"I'm sorry to hear that you're experiencing these challenges in your relationship. It's important to know that erectile dysfunction is a common issue that many men face at some point in their lives, and there are several potential causes, both physical and psychological.\\n\\nSome common physical causes of erectile dysfunction include:\\n\\n1. **Medical conditions**: Conditions such as diabetes, heart disease, high blood pressure, and obesity can contribute to erectile dysfunction.\\n2. **Medications**: Some medications, including antidepressants, antihistamines, and blood pressure medications, can affect sexual function.\\n3. **Lifestyle factors**: Factors such as smoking, excessive alcohol consumption, and lack of exercise can also contribute to erectile dysfunction.\\n\\nOn the other hand, psychological factors can also play a significant role in erectile dysfunction. Stress, anxiety, depression, and relationship issues can all impact your ability to maintain an erection.\\n\\nGiven the impact this is having on your self-esteem and marriage, it's important to seek help from a healthcare professional. A doctor or a therapist can help you explore potential causes and recommend appropriate treatment options. They may suggest lifestyle changes, therapy, medication, or other interventions to address your concerns.\\n\\nIn the meantime, it's important to communicate openly and honestly with your wife about what you're experiencing. Building a strong emotional connection and maintaining intimacy in your relationship can help reduce the pressure and anxiety you may be feeling in the bedroom.\\n\\nRemember that you're not alone in facing these challenges, and seeking help is the first step towards finding a solution. Take care of yourself and don't hesitate to reach out for support.\"],\n",
       " [70,\n",
       "  70,\n",
       "  76,\n",
       "  70,\n",
       "  70,\n",
       "  87,\n",
       "  \"I'm sorry to hear that you're going through this challenging situation. Erectile dysfunction can have various causes, including physical, psychological, or a combination of both. It's important to consult with a healthcare professional to determine the underlying cause and receive appropriate treatment.\\n\\nHere are some common factors that can contribute to erectile dysfunction:\\n\\n1. **Physical Factors:** These can include conditions such as heart disease, high blood pressure, diabetes, obesity, and hormonal imbalances. Lifestyle factors such as smoking, excessive alcohol consumption, and lack of exercise can also play a role.\\n\\n2. **Psychological Factors:** Stress, anxiety, depression, relationship issues, and performance anxiety can all affect your ability to maintain an erection.\\n\\n3. **Medication Side Effects:** Certain medications, such as antidepressants, antihistamines, and blood pressure medications, can also contribute to erectile dysfunction.\\n\\nIt's important to address both the physical and psychological aspects of your condition. Here are some steps you can take to help address the issue:\\n\\n1. **Consult a Healthcare Professional:** Schedule an appointment with a doctor or a urologist to discuss your symptoms and undergo a physical examination. They can help determine the underlying cause and recommend appropriate treatment options.\\n\\n2. **Lifestyle Changes:** Adopting a healthy lifestyle can help improve erectile function. This includes regular exercise, maintaining a healthy weight, eating a balanced diet, and reducing alcohol consumption and smoking.\\n\\n3. **Manage Stress:** Practice stress-reduction techniques such as mindfulness, meditation, deep breathing exercises, or yoga to help alleviate anxiety and improve your mental well-being.\\n\\n4. **Communication:** Open and honest communication with your partner is essential. Discussing your concerns and exploring ways to enhance intimacy and connection can help alleviate performance pressure.\\n\\n5. **Therapy:** Consider seeking therapy or counseling to address any underlying psychological factors contributing to your erectile dysfunction. Therapy can help you work through issues such as anxiety, depression, or relationship problems.\\n\\nRemember, you are not alone in facing this issue, and there are effective treatments available. Seeking help and support is the first step towards reclaiming your sexual health and overall well-being.\"]]"
      ]
     },
     "execution_count": 101,
     "metadata": {},
     "output_type": "execute_result"
    }
   ],
   "source": [
    "chat_gpt_responses2"
   ]
  },
  {
   "cell_type": "code",
   "execution_count": 102,
   "metadata": {},
   "outputs": [
    {
     "name": "stdout",
     "output_type": "stream",
     "text": [
      "Every time I send a message to someone or a group message on Instagram, iMessage, or snapchat people will read my messages but then they won't answer me.    Could it be that there is something they don't like about me? I don't understand why they won't answer my messages. How do I get people to respond to me?\n",
      "1831    I understand the feeling of not being liked du...\n",
      "1832    Sorry to hear your friends aren't responding t...\n",
      "1833    I'm sorry that you are having a difficult time...\n",
      "Name: response, dtype: object\n"
     ]
    }
   ],
   "source": [
    "ii=38\n",
    "\n",
    "example_phrase4=context_unique.iloc[ii]['context']\n",
    "dataset_response_s4=conversation_dataset[conversation_dataset['context']==example_phrase4]['response']\n",
    "print(example_phrase4)\n",
    "print(dataset_response_s4)"
   ]
  },
  {
   "cell_type": "code",
   "execution_count": 103,
   "metadata": {},
   "outputs": [
    {
     "name": "stdout",
     "output_type": "stream",
     "text": [
      "Example simulation 3.\n",
      "request: Every time I send a message to someone or a group message on Instagram, iMessage, or snapchat people will read my messages but then they won't answer me.    Could it be that there is something they don't like about me? I don't understand why they won't answer my messages. How do I get people to respond to me?\n",
      "\n",
      "iteration 0\n",
      "Got GPT response 0\n",
      "comparing scores: [72, 85, 70]\n",
      "\n",
      "iteration 1\n",
      "Got GPT response 1\n",
      "comparing scores: [80, 75, 70]\n",
      "\n",
      "iteration 2\n",
      "Got GPT response 2\n",
      "comparing scores: [87, 70, 70]\n",
      "\n",
      "iteration 3\n",
      "Got GPT response 3\n",
      "comparing scores: [72, 72, 70]\n",
      "\n",
      "iteration 4\n",
      "Got GPT response 4\n",
      "comparing scores: [73, 72, 70]\n",
      "\n"
     ]
    }
   ],
   "source": [
    "chat_gpt_responses4=[]\n",
    "print(\"Example simulation 3.\")\n",
    "print(\"request:\",example_phrase4)\n",
    "\n",
    "print()\n",
    "\n",
    "def simulation3():\n",
    "    for i in range(5):\n",
    "        print('iteration', i)\n",
    "        single_response=speak_with_gpt(example_phrase4)\n",
    "        print(\"Got GPT response\", i)\n",
    "        result_line=[]\n",
    "        for j in range(3):\n",
    "            result_line.append(compare_with_gpt(single_response,dataset_response_s4.iloc[j])) \n",
    "        print('comparing scores:',result_line)\n",
    "        result_line.append(single_response)\n",
    "        chat_gpt_responses4.append(result_line)\n",
    "        print()\n",
    "        \n",
    "# simulation3()"
   ]
  },
  {
   "cell_type": "code",
   "execution_count": 104,
   "metadata": {},
   "outputs": [
    {
     "data": {
      "text/plain": [
       "[[72,\n",
       "  85,\n",
       "  70,\n",
       "  \"I'm sorry to hear that you're feeling this way. It's important to remember that people's behaviors and responses can be influenced by various factors, and it may not always be about you personally. There could be many reasons why someone doesn't respond to a message promptly, such as being busy, distracted, or simply forgetting to reply.\\n\\nHere are a few tips that may help improve your chances of getting responses:\\n\\n1. **Be patient:** Give people some time to respond. Not everyone checks their messages immediately, and they may need some time to formulate a response.\\n\\n2. **Engage in meaningful conversations:** Try to initiate conversations that are interesting and engaging. Ask questions, share stories, or show genuine interest in the other person's life. This can make your messages more likely to receive a response.\\n\\n3. **Respect boundaries:** Everyone has different communication preferences and boundaries. Make sure you're not overwhelming people with too many messages or coming across as too demanding.\\n\\n4. **Consider timing:** Think about when you're sending your messages. People may be more likely to respond during certain times of the day when they're less busy.\\n\\n5. **Reflect on your messages:** Take a moment to reflect on the content and tone of your messages. Are they clear, friendly, and easy to respond to? Making your messages more engaging and easy to reply to can increase the chances of getting a response.\\n\\nRemember, it's also important to focus on building meaningful connections with people who value and appreciate your communication. If someone consistently ignores your messages or doesn't respond positively, it might be worth reassessing the nature of your relationship with them.\\n\\nIf you're feeling down about this, it might also be helpful to talk to a trusted friend or counselor about your feelings. They can provide support and perspective to help you navigate these situations.\"],\n",
       " [80,\n",
       "  75,\n",
       "  70,\n",
       "  \"It's understandable to feel frustrated when people don't respond to your messages. However, there could be various reasons why someone may not reply promptly or at all. It's important not to jump to conclusions or assume that it's something about you personally. Here are a few possible reasons why people may not respond to your messages:\\n\\n1. **Busy Schedule**: People may be busy with their own lives, work, or responsibilities, and may not have the time to respond immediately.\\n\\n2. **Lack of Interest**: It's possible that the recipients are not interested in the topic of conversation or are not in the mood to chat at that moment.\\n\\n3. **Forgetfulness**: Sometimes people read messages with the intention of responding later but forget to do so.\\n\\n4. **Technical Issues**: There could be technical issues with the app or their device that prevent them from replying.\\n\\nTo increase the chances of getting a response, here are a few tips:\\n\\n1. **Be Patient**: Give people some time to respond before following up. They may reply when they have a moment.\\n\\n2. **Engage in Meaningful Conversations**: Try to initiate conversations that are interesting and engaging for the other person. Ask questions and show genuine interest in what they have to say.\\n\\n3. **Consider their Schedule**: If you know the person is busy or has a hectic routine, try to message them at a time when they are more likely to be free.\\n\\n4. **Avoid Bombarding**: Sending multiple messages in quick succession may come across as overwhelming. Give the person some space to respond at their own pace.\\n\\n5. **Use Different Communication Channels**: If someone is not responsive on one platform, you could try reaching out through a different channel.\\n\\nRemember, everyone has different communication habits and preferences. It's essential to respect people's boundaries and not take their lack of response personally. If you continue to face challenges in getting responses, consider having an open conversation with your friends about communication preferences and expectations.\"],\n",
       " [87,\n",
       "  70,\n",
       "  70,\n",
       "  \"It's understandable that it can be frustrating when people don't respond to your messages. There could be various reasons why someone may not respond promptly, such as being busy, forgetting to reply, or not knowing how to respond at that moment.\\n\\nIt's important to remember that people's actions or lack of response may not necessarily be a reflection of you personally. However, if you feel like there might be something specific causing others not to respond, it could be helpful to reflect on your communication style or the content of your messages.\\n\\nHere are a few tips that might help increase the chances of getting responses from people:\\n\\n1. **Be Clear and Concise:** Make sure your messages are easy to understand and get straight to the point.\\n\\n2. **Show Genuine Interest:** Ask questions or show interest in the other person's life to encourage engagement.\\n\\n3. **Avoid Overwhelming:** Try not to send too many messages in a short period, as this might come across as overwhelming.\\n\\n4. **Respect Boundaries:** Understand that everyone has different response times and preferences for communication.\\n\\n5. **Patience:** Give people time to respond, as they may be busy or need some time to consider their reply.\\n\\nRemember, building and maintaining relationships takes time and effort from both parties. If you continue to have trouble getting responses, it might be worth having a conversation with the individuals involved to understand their perspective better.\"],\n",
       " [72,\n",
       "  72,\n",
       "  70,\n",
       "  \"It's natural to feel concerned when people don't respond to your messages, but it's important not to jump to conclusions about why they might be doing so. There could be various reasons why someone may not immediately respond to messages, such as being busy, distracted, or simply not knowing how to respond at the moment.\\n\\nTo increase the likelihood of getting responses to your messages, here are some tips you can consider:\\n\\n1. **Be mindful of timing**: Try to send messages at times when you know the recipients are likely to be available and not busy, such as during the evening or on weekends.\\n\\n2. **Keep your messages concise and engaging**: Avoid sending lengthy messages that might overwhelm the recipient. Instead, try to keep your messages clear, concise, and engaging to spark their interest and encourage a response.\\n\\n3. **Show genuine interest**: Show genuine interest in the other person by asking questions about their day, interests, or opinions. People are more likely to respond when they feel that you are genuinely interested in them.\\n\\n4. **Use emojis or GIFs**: Adding emojis or GIFs to your messages can make them more visually appealing and engaging, potentially increasing the chances of getting a response.\\n\\n5. **Avoid bombarding with messages**: If someone hasn't responded to your initial message, avoid bombarding them with multiple follow-up messages. Give them some time to respond at their own pace.\\n\\n6. **Consider alternative communication methods**: If you notice that certain individuals are more responsive on a particular platform, try reaching out to them through that platform.\\n\\nRemember that everyone has their own communication preferences and schedules, so it's essential to be patient and understanding. If you continue to experience challenges with getting responses, consider having a conversation with the individuals involved to understand their perspective and improve communication.\"],\n",
       " [73,\n",
       "  72,\n",
       "  70,\n",
       "  \"It's natural to feel concerned when your messages are read but not responded to. However, it's important to remember that people's reasons for not responding can vary and may not necessarily be related to you personally. Here are a few things to consider:\\n\\n1. **Timing**: People may be busy or preoccupied when they read your messages, leading them to forget to respond. Give them some time and space before following up.\\n\\n2. **Communication Style**: Consider if your messages are clear, engaging, and easy to respond to. Avoid sending overly long messages or bombarding people with multiple messages at once.\\n\\n3. **Relationship Dynamics**: People have different communication preferences. Some may prefer in-person conversations over messaging, while others may be more responsive via certain platforms. \\n\\n4. **Engagement**: Try to initiate conversations that are interesting and relevant to the recipient. Ask questions, share stories, or show genuine interest in their lives to encourage responses.\\n\\n5. **Respect Boundaries**: Be mindful of people's boundaries and avoid pressuring them to respond if they are not interested or available.\\n\\n6. **Self-Reflection**: Reflect on your own behavior and interactions. Are there any patterns or habits that may be inadvertently affecting how people respond to you?\\n\\nRemember, it's important to focus on building genuine connections and not solely on getting responses. Keep being yourself, stay positive, and continue reaching out to those you care about.\"]]"
      ]
     },
     "execution_count": 104,
     "metadata": {},
     "output_type": "execute_result"
    }
   ],
   "source": [
    "chat_gpt_responses4"
   ]
  },
  {
   "cell_type": "code",
   "execution_count": 119,
   "metadata": {},
   "outputs": [
    {
     "name": "stdout",
     "output_type": "stream",
     "text": [
      "I understand the feeling of not being liked due to not having any responses on the sites you list.More than likely the non-response has less to do with liking you than w liking the way you write your messages.Have you tried asking a question in your posts?  This would be one way to invite people to answer your post.When you write,  imagine yourself as the reader of the post.If you think about the wording of a question which would motivate you to respond, then this formula will very likely be the same for many others who read your post.Good luck!\n",
      "Sorry to hear your friends aren't responding to you. If these friends are in-person as well as online, perhaps going to them in person and asking talking to them about your concern. Perhaps it's the way you send messages or the way they are receiving them. if they say no, then a simple request to respond to your messages. Measure the result and notice if there are even small differences. Also understand, why this is so important to you. Ask yourself, why it's so important for you to receive these messages from friends. What does it mean when they don't respond.\n",
      "I'm sorry that you are having a difficult time.I wonder about how your friendships are in person. If you get along well with people and have effective conversations with them face-to-face, there could be some kind of technology-related problem.Have you tried gently talking to people about how you send a message and they didn't answer? If you can phrase it in such a way that they recognize that you are asking for information and not blaming them for not answering you, that could be effective.I'd also encourage you to consider how much this is bothering you. If it is causing a significant amount of anxiety (say, more than 5/10 if 10 is really anxious), I would suggest talking with a local therapist.In the meantime, consider talking about this with someone you trust to whom you can get more details to get a more specific answer.\n"
     ]
    }
   ],
   "source": [
    "for j in range(3):\n",
    "    print(dataset_response_s4.iloc[j])"
   ]
  },
  {
   "cell_type": "code",
   "execution_count": null,
   "metadata": {},
   "outputs": [],
   "source": []
  },
  {
   "cell_type": "markdown",
   "metadata": {},
   "source": [
    "## Labeling "
   ]
  },
  {
   "cell_type": "code",
   "execution_count": 65,
   "metadata": {},
   "outputs": [],
   "source": [
    "LABELING_TEMPERATURE=0\n",
    "\n",
    "LABEL_PROMPT_1=\"\"\"\n",
    "Analyze the text and label the topic of it. Label must be of one or several words, and name the type of mental disorder the author of text is facing. \n",
    "Examples of topics: [ Depression, Anxiety, Eating Disorder, Drug Use, Addiction, Schizophrenia, Bipolar Disorder, Self-Esteem, Personality Disorders, .... ]\n",
    "You should use common label names with low variety, so I could use this label later in my project.\n",
    "Respond with label names only, separate different labels with coma \",\"!\n",
    "<<<TEXT>>>\n",
    "<<<<<<TEXT###>>>>>>\n",
    "<<<END OF TEXT>>>\n",
    "\n",
    "<<<LABEL>>>:\n",
    "\"\"\"\n",
    "\n",
    "\n",
    "def generate_labeling_prompt(text_to_label:str, comparing_template=LABEL_PROMPT_1)->str:\n",
    "    \"\"\"Insert into comparing_template given text to send later to ChatGPT\n",
    "\n",
    "    Args:\n",
    "        text_to_label (str): text to label\n",
    "\n",
    "    Returns:\n",
    "        str: Prompt to send to ChatGRT for labeling\n",
    "    \"\"\"\n",
    "    return comparing_template.replace('<<<<<<TEXT###>>>>>>', text_to_label)\n",
    "\n"
   ]
  },
  {
   "cell_type": "code",
   "execution_count": 66,
   "metadata": {},
   "outputs": [
    {
     "name": "stdout",
     "output_type": "stream",
     "text": [
      "Every time I speak, he says I anger him. Also, when he’s mad at something, like work, he gets angry at me. I feel like we’re so distant from each other now. We used to laugh all the time, and I feel like he lets too much negativity in. What should I do? We've been married for two years but together for seven.\n"
     ]
    }
   ],
   "source": [
    "ii=39\n",
    "\n",
    "example_phrase8=context_unique.iloc[ii]['context']\n",
    "\n",
    "print(example_phrase8)\n"
   ]
  },
  {
   "cell_type": "code",
   "execution_count": 67,
   "metadata": {},
   "outputs": [
    {
     "name": "stdout",
     "output_type": "stream",
     "text": [
      "\n",
      "Analyze the text and label the topic of it. Label must be of one or several words, and name the type of mental disorder the author of text is facing. \n",
      "Examples of topics: [ Depression, Anxiety, Eating Disorder, Drug Use, Addiction, Schizophrenia, Bipolar Disorder, Self-Esteem, Personality Disorders, .... ]\n",
      "You should use common label names with low variety, so I could use this label later in my project.\n",
      "Respond with label names only, separate different labels with coma \",\"!\n",
      "<<<TEXT>>>\n",
      "Every time I speak, he says I anger him. Also, when he’s mad at something, like work, he gets angry at me. I feel like we’re so distant from each other now. We used to laugh all the time, and I feel like he lets too much negativity in. What should I do? We've been married for two years but together for seven.\n",
      "<<<END OF TEXT>>>\n",
      "\n",
      "<<<LABEL>>>:\n",
      "\n"
     ]
    }
   ],
   "source": [
    "print(generate_labeling_prompt(example_phrase8))"
   ]
  },
  {
   "cell_type": "code",
   "execution_count": 68,
   "metadata": {},
   "outputs": [],
   "source": [
    "def get_label_from_chatGPT(text_to_label:str, temperature=LABELING_TEMPERATURE)->str:\n",
    "    \"\"\"Generate label prompt, send to ChatGPT and get label for given text\n",
    "\n",
    "    Args:\n",
    "        text_to_label (str): text to label\n",
    "\n",
    "    Returns:\n",
    "        str: label\n",
    "    \"\"\"\n",
    "    messages=[{'role': 'system', 'content': \"You are a helpful assistant. You label text with labels from a limited common set, so they could later be used to aggregate texts.\"},\n",
    "              {'role': 'user', 'content': generate_labeling_prompt(text_to_label)},  \n",
    "    ]\n",
    "    response=request_gpt(messages,temperature=temperature)\n",
    "    \n",
    "    return response\n",
    "       "
   ]
  },
  {
   "cell_type": "code",
   "execution_count": 69,
   "metadata": {},
   "outputs": [
    {
     "name": "stdout",
     "output_type": "stream",
     "text": [
      "Relationship Issues, Anger\n"
     ]
    }
   ],
   "source": [
    "print(get_label_from_chatGPT(example_phrase8))"
   ]
  },
  {
   "cell_type": "code",
   "execution_count": 71,
   "metadata": {},
   "outputs": [
    {
     "name": "stdout",
     "output_type": "stream",
     "text": [
      "An organization admitted to implanting thoughts in my head with technologies. The study was to implant a fantasy other people are having, but to me, it's a nightmare. I lost my kids, my job, and all that. I was an unwilling participant. I no longer trust a therapist. I'm too afraid to go under hypnosis or anything.\n"
     ]
    }
   ],
   "source": [
    "ii=20\n",
    "\n",
    "example_phrase9=context_unique.iloc[ii]['context']\n",
    "\n",
    "print(example_phrase9)"
   ]
  },
  {
   "cell_type": "code",
   "execution_count": 72,
   "metadata": {},
   "outputs": [
    {
     "name": "stdout",
     "output_type": "stream",
     "text": [
      "Paranoia, Trauma\n"
     ]
    }
   ],
   "source": [
    "print(get_label_from_chatGPT(example_phrase9))"
   ]
  },
  {
   "cell_type": "markdown",
   "metadata": {},
   "source": [
    "# Simulation\n",
    "\n",
    "work is continued in the next [simulation notebook](notebook_chatgpt_simulation.ipynb)\n",
    "\n"
   ]
  }
 ],
 "metadata": {
  "kernelspec": {
   "display_name": "Python 3",
   "language": "python",
   "name": "python3"
  },
  "language_info": {
   "codemirror_mode": {
    "name": "ipython",
    "version": 3
   },
   "file_extension": ".py",
   "mimetype": "text/x-python",
   "name": "python",
   "nbconvert_exporter": "python",
   "pygments_lexer": "ipython3",
   "version": "3.11.6"
  }
 },
 "nbformat": 4,
 "nbformat_minor": 2
}
