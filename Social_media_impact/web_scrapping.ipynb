{
 "cells": [
  {
   "cell_type": "code",
   "execution_count": 42,
   "id": "00b14d97",
   "metadata": {},
   "outputs": [],
   "source": [
    "#Import the necessary libraries required for the task\n",
    "\n",
    "import pandas as pd\n",
    "import urllib.request\n",
    "from pprint import pprint\n",
    "from html_table_parser.parser import HTMLTableParser\n",
    "import matplotlib.pyplot as plt\n",
    "import seaborn as sns"
   ]
  },
  {
   "cell_type": "markdown",
   "id": "bc852125",
   "metadata": {},
   "source": [
    "Defining a function to get contents of the website"
   ]
  },
  {
   "cell_type": "code",
   "execution_count": 10,
   "id": "67cc2888",
   "metadata": {},
   "outputs": [],
   "source": [
    "# Open a website and read its binary contents (HTTP Response Body)\n",
    "def url_get_contents(url):\n",
    "    \n",
    "    #defining header\n",
    "    header= {'User-Agent': 'Mozilla/5.0 (X11; Linux x86_64) ' \n",
    "          'AppleWebKit/537.11 (KHTML, like Gecko) '\n",
    "          'Chrome/23.0.1271.64 Safari/537.11',\n",
    "          'Accept': 'text/html,application/xhtml+xml,application/xml;q=0.9,*/*;q=0.8',\n",
    "          'Accept-Charset': 'ISO-8859-1,utf-8;q=0.7,*;q=0.3',\n",
    "          'Accept-Encoding': 'none',\n",
    "          'Accept-Language': 'en-US,en;q=0.8',\n",
    "          'Connection': 'keep-alive'}\n",
    "\n",
    "    #making request to the website\n",
    "    req = urllib.request.Request(url=url, headers=header)\n",
    "    f = urllib.request.urlopen(req)\n",
    "\n",
    "    #reading contents of the website\n",
    "    return f.read()"
   ]
  },
  {
   "cell_type": "markdown",
   "id": "44d9f6a1",
   "metadata": {},
   "source": [
    "Parsing tables and create dataframes for the first study."
   ]
  },
  {
   "cell_type": "code",
   "execution_count": 25,
   "id": "0e5c8fd3",
   "metadata": {},
   "outputs": [],
   "source": [
    "# defining the html contents of a URL.\n",
    "xhtml1 = url_get_contents('https://www.ncbi.nlm.nih.gov/pmc/articles/PMC8804162/').decode('utf-8')\n",
    "\n",
    "# Defining the HTMLTableParser object\n",
    "p = HTMLTableParser()\n",
    "\n",
    "# feeding the html contents in the HTMLTableParser object\n",
    "p.feed(xhtml1)\n",
    "\n",
    "\n",
    "# Now finally obtaining the data of the table required\n",
    "ghq_score = pd.DataFrame(p.tables[0])\n",
    "sm_use_and_mh = pd.DataFrame(p.tables[1])\n",
    "\n"
   ]
  },
  {
   "cell_type": "markdown",
   "id": "a597d667",
   "metadata": {},
   "source": [
    "Each row of the table is stored in an array. This can be converted into a pandas dataframe easily and can be used to perform any analysis. "
   ]
  },
  {
   "cell_type": "code",
   "execution_count": 26,
   "id": "0e8b1576",
   "metadata": {},
   "outputs": [
    {
     "name": "stdout",
     "output_type": "stream",
     "text": [
      "                                    0               1               2  \\\n",
      "0                                        Total sample             USA   \n",
      "1                     Characteristics          M (SD)          M (SD)   \n",
      "2                           Age group                                   \n",
      "3                         18 29 years  18.9 (6.8) ***  18.5 (6.8) ***   \n",
      "4                         30 39 years      17.4 (6.5)      17.5 (6.4)   \n",
      "5                         40 49 years      16.5 (6.7)      16.6 (6.2)   \n",
      "6                         50 59 years      15.4 (6.7)      14.9 (6.4)   \n",
      "7                         60 69 years      14.5 (6.3)      14.4 (5.8)   \n",
      "8                          70 years +      12.9 (5.8)      13.2 (5.5)   \n",
      "9                     Gender identity                                   \n",
      "10                               Male  14.8 (7.1) ***  14.7 (6.9) ***   \n",
      "11                             Female      16.9 (6.6)      16.9 (6.2)   \n",
      "12                    Education level                                   \n",
      "13  High school/tech. degree or lower  16.8 (7.4) ***   16.0 (7.0) **   \n",
      "14                  Bachelor's degree      16.8 (6.9)      17.1 (6.8)   \n",
      "15           Master's/doctoral degree      15.7 (6.2)      16.0 (6.6)   \n",
      "16                       Cohabitation                                   \n",
      "17                                Yes  15.8 (6.5) ***   16.1 (6.3) **   \n",
      "18                                 No      17.3 (7.2)      16.8 (7.0)   \n",
      "19                         Employment                                   \n",
      "20             Full-time or part-time      16.5 (6.6)   16.7 (6.3) **   \n",
      "21                      No employment      16.3 (7.3)      15.6 (6.9)   \n",
      "\n",
      "                 3               4              5  \n",
      "0               UK          Norway      Australia  \n",
      "1           M (SD)          M (SD)         M (SD)  \n",
      "2                                                  \n",
      "3   20.7 (6.9) ***  18.4 (6.2) ***     17.7 (7.3)  \n",
      "4       17.9 (6.5)      16.8 (7.0)     15.1 (5.6)  \n",
      "5       17.8 (7.2)      15.1 (7.2)     14.2 (6.5)  \n",
      "6       17.9 (6.7)      13.7 (6.6)     15.0 (7.1)  \n",
      "7       16.8 (7.1)      13.1 (7.0)     15.1 (7.0)  \n",
      "8       15.0 (7.0)      10.9 (5.6)     13.2 (6.8)  \n",
      "9                                                  \n",
      "10      17.5 (7.6)   13.0 (7.2) **     14.3 (6.0)  \n",
      "11      18.6 (6.8)      15.4 (6.9)     15.1 (7.0)  \n",
      "12                                                 \n",
      "13      18.8 (7.6)  17.0 (7.7) ***     16.5 (7.9)  \n",
      "14      18.7 (6.7)      14.6 (7.1)     14.9 (6.7)  \n",
      "15      17.4 (6.6)      13.8 (6.2)     14.6 (6.3)  \n",
      "16                                                 \n",
      "17  17.2 (6.6) ***  13.9 (6.6) ***  13.5 (5.6) **  \n",
      "18      20.0 (7.2)      16.4 (7.3)     17.5 (7.8)  \n",
      "19                                                 \n",
      "20      18.0 (6.8)   14.4 (6.5) **     15.3 (6.7)  \n",
      "21      19.2 (7.4)      16.1 (8.1)     15.3 (7.1)  \n"
     ]
    }
   ],
   "source": [
    "print(ghq_score)"
   ]
  },
  {
   "cell_type": "code",
   "execution_count": 44,
   "id": "8adbcd8e",
   "metadata": {},
   "outputs": [
    {
     "ename": "KeyError",
     "evalue": "'Age group'",
     "output_type": "error",
     "traceback": [
      "\u001b[0;31m---------------------------------------------------------------------------\u001b[0m",
      "\u001b[0;31mKeyError\u001b[0m                                  Traceback (most recent call last)",
      "Cell \u001b[0;32mIn[44], line 1\u001b[0m\n\u001b[0;32m----> 1\u001b[0m sns\u001b[38;5;241m.\u001b[39mdisplot(ghq_score[\u001b[38;5;124m'\u001b[39m\u001b[38;5;124mAge group\u001b[39m\u001b[38;5;124m'\u001b[39m])\n",
      "File \u001b[0;32m~/anaconda3/lib/python3.11/site-packages/pandas/core/frame.py:3761\u001b[0m, in \u001b[0;36mDataFrame.__getitem__\u001b[0;34m(self, key)\u001b[0m\n\u001b[1;32m   3759\u001b[0m \u001b[38;5;28;01mif\u001b[39;00m \u001b[38;5;28mself\u001b[39m\u001b[38;5;241m.\u001b[39mcolumns\u001b[38;5;241m.\u001b[39mnlevels \u001b[38;5;241m>\u001b[39m \u001b[38;5;241m1\u001b[39m:\n\u001b[1;32m   3760\u001b[0m     \u001b[38;5;28;01mreturn\u001b[39;00m \u001b[38;5;28mself\u001b[39m\u001b[38;5;241m.\u001b[39m_getitem_multilevel(key)\n\u001b[0;32m-> 3761\u001b[0m indexer \u001b[38;5;241m=\u001b[39m \u001b[38;5;28mself\u001b[39m\u001b[38;5;241m.\u001b[39mcolumns\u001b[38;5;241m.\u001b[39mget_loc(key)\n\u001b[1;32m   3762\u001b[0m \u001b[38;5;28;01mif\u001b[39;00m is_integer(indexer):\n\u001b[1;32m   3763\u001b[0m     indexer \u001b[38;5;241m=\u001b[39m [indexer]\n",
      "File \u001b[0;32m~/anaconda3/lib/python3.11/site-packages/pandas/core/indexes/range.py:349\u001b[0m, in \u001b[0;36mRangeIndex.get_loc\u001b[0;34m(self, key)\u001b[0m\n\u001b[1;32m    347\u001b[0m         \u001b[38;5;28;01mraise\u001b[39;00m \u001b[38;5;167;01mKeyError\u001b[39;00m(key) \u001b[38;5;28;01mfrom\u001b[39;00m \u001b[38;5;21;01merr\u001b[39;00m\n\u001b[1;32m    348\u001b[0m \u001b[38;5;28;01mif\u001b[39;00m \u001b[38;5;28misinstance\u001b[39m(key, Hashable):\n\u001b[0;32m--> 349\u001b[0m     \u001b[38;5;28;01mraise\u001b[39;00m \u001b[38;5;167;01mKeyError\u001b[39;00m(key)\n\u001b[1;32m    350\u001b[0m \u001b[38;5;28mself\u001b[39m\u001b[38;5;241m.\u001b[39m_check_indexing_error(key)\n\u001b[1;32m    351\u001b[0m \u001b[38;5;28;01mraise\u001b[39;00m \u001b[38;5;167;01mKeyError\u001b[39;00m(key)\n",
      "\u001b[0;31mKeyError\u001b[0m: 'Age group'"
     ]
    }
   ],
   "source": [
    "sns.displot(ghq_score['Age group'])"
   ]
  },
  {
   "cell_type": "code",
   "execution_count": 27,
   "id": "67add99f",
   "metadata": {},
   "outputs": [
    {
     "name": "stdout",
     "output_type": "stream",
     "text": [
      "                             0             1             2           3  \\\n",
      "0                      Motives  Total sample           USA          UK   \n",
      "1                                     M (SD)        M (SD)      M (SD)   \n",
      "2             Personal contact     3.5 (1.0)     3.6 (1.1)   3.4 (1.1)   \n",
      "3          Decrease loneliness     2.7 (1.3)     2.7 (1.3)   2.6 (1.2)   \n",
      "4                Entertainment     3.5 (1.1)     3.6 (1.1)   3.5 (1.2)   \n",
      "5    Maintaining relationships      3.7 1.0)     3.7 (1.0)   3.8 (1.0)   \n",
      "6   Social skills compensation     2.0 (1.1)     2.1 (1.2)   1.8 (1.0)   \n",
      "7             Social inclusion     2.3 (1.2)     2.3 (1.2)   2.2 (1.2)   \n",
      "8               Meeting people     1.6 (0.8)     1.6 (0.9)   1.6 (0.9)   \n",
      "9   Daily time on social media        n  (%)        n  (%)      n  (%)   \n",
      "10                      10 min      77 (2.2)      24 (1.3)    14 (2.7)   \n",
      "11                   10 30 min     272 (7.8)     145 (8.1)    47 (9.1)   \n",
      "12                    1 2 -1 h    492 (14.2)    267 (14.9)   90 (17.5)   \n",
      "13                       1 2 h    859 (24.7)    500 (27.9)  131 (25.4)   \n",
      "14                       2 3 h    567 (16.3)    429 (23.9)  107 (20.8)   \n",
      "15                 3 h or more    718 (20.7)  1,794 (23.9)  515 (24.5)   \n",
      "16               Mental health        M (SD)        M (SD)      M (SD)   \n",
      "17                   GHQ score    16.4 (6.8)    16.4 (6.6)  18.3 (7.0)   \n",
      "\n",
      "             4           5      6  \n",
      "0       Norway   Australia      p  \n",
      "1       M (SD)      M (SD)         \n",
      "2    3.3 (1.0)   3.4 (1.0)  0.001  \n",
      "3    2.5 (1.2)   2.4 (1.2)  0.001  \n",
      "4    3.5 (1.2)   3.1 (1.2)  0.001  \n",
      "5    3.6 (1.0)   3.6 (1.0)   0.05  \n",
      "6    1.5 (0.8)   1.8 (1.0)  0.001  \n",
      "7    2.5 (1.2)   2.4 (1.2)   0.01  \n",
      "8    1.5 (0.8)   1.5 (0.8)   0.01  \n",
      "9       n  (%)      n  (%)  0.001  \n",
      "10    36 (6.6)     3 (2.3)         \n",
      "11   69 (12.6)    11 (8.5)         \n",
      "12  108 (19.7)   27 (20.9)         \n",
      "13  189 (34.6)   39 (30.2)         \n",
      "14     2 (0.4)   29 (22.5)         \n",
      "15  547 (26.1)  129 (15.5)         \n",
      "16      M (SD)      M (SD)      p  \n",
      "17  14.9 (7.0)  15.2 (6.9)  0.001  \n"
     ]
    }
   ],
   "source": [
    "print(sm_use_and_mh)"
   ]
  },
  {
   "cell_type": "code",
   "execution_count": null,
   "id": "4ac34933",
   "metadata": {},
   "outputs": [],
   "source": []
  },
  {
   "cell_type": "markdown",
   "id": "0554c39d",
   "metadata": {},
   "source": [
    "Parsing tables and create dataframes for the second study."
   ]
  },
  {
   "cell_type": "code",
   "execution_count": 31,
   "id": "f12d6d58",
   "metadata": {},
   "outputs": [],
   "source": [
    "xhtml2 = url_get_contents('https://www.ncbi.nlm.nih.gov/pmc/articles/PMC10864490/').decode('utf-8')\n",
    "p.feed(xhtml2)\n",
    "students_demographic = pd.DataFrame(p.tables[0])\n",
    "sm_use_pattern = pd.DataFrame(p.tables[1])\n",
    "gender_differences_md = pd.DataFrame(p.tables[2])"
   ]
  },
  {
   "cell_type": "code",
   "execution_count": 28,
   "id": "86ad80a8",
   "metadata": {},
   "outputs": [
    {
     "name": "stdout",
     "output_type": "stream",
     "text": [
      "                                    0               1               2  \\\n",
      "0                                        Total sample             USA   \n",
      "1                     Characteristics          M (SD)          M (SD)   \n",
      "2                           Age group                                   \n",
      "3                         18 29 years  18.9 (6.8) ***  18.5 (6.8) ***   \n",
      "4                         30 39 years      17.4 (6.5)      17.5 (6.4)   \n",
      "5                         40 49 years      16.5 (6.7)      16.6 (6.2)   \n",
      "6                         50 59 years      15.4 (6.7)      14.9 (6.4)   \n",
      "7                         60 69 years      14.5 (6.3)      14.4 (5.8)   \n",
      "8                          70 years +      12.9 (5.8)      13.2 (5.5)   \n",
      "9                     Gender identity                                   \n",
      "10                               Male  14.8 (7.1) ***  14.7 (6.9) ***   \n",
      "11                             Female      16.9 (6.6)      16.9 (6.2)   \n",
      "12                    Education level                                   \n",
      "13  High school/tech. degree or lower  16.8 (7.4) ***   16.0 (7.0) **   \n",
      "14                  Bachelor's degree      16.8 (6.9)      17.1 (6.8)   \n",
      "15           Master's/doctoral degree      15.7 (6.2)      16.0 (6.6)   \n",
      "16                       Cohabitation                                   \n",
      "17                                Yes  15.8 (6.5) ***   16.1 (6.3) **   \n",
      "18                                 No      17.3 (7.2)      16.8 (7.0)   \n",
      "19                         Employment                                   \n",
      "20             Full-time or part-time      16.5 (6.6)   16.7 (6.3) **   \n",
      "21                      No employment      16.3 (7.3)      15.6 (6.9)   \n",
      "\n",
      "                 3               4              5  \n",
      "0               UK          Norway      Australia  \n",
      "1           M (SD)          M (SD)         M (SD)  \n",
      "2                                                  \n",
      "3   20.7 (6.9) ***  18.4 (6.2) ***     17.7 (7.3)  \n",
      "4       17.9 (6.5)      16.8 (7.0)     15.1 (5.6)  \n",
      "5       17.8 (7.2)      15.1 (7.2)     14.2 (6.5)  \n",
      "6       17.9 (6.7)      13.7 (6.6)     15.0 (7.1)  \n",
      "7       16.8 (7.1)      13.1 (7.0)     15.1 (7.0)  \n",
      "8       15.0 (7.0)      10.9 (5.6)     13.2 (6.8)  \n",
      "9                                                  \n",
      "10      17.5 (7.6)   13.0 (7.2) **     14.3 (6.0)  \n",
      "11      18.6 (6.8)      15.4 (6.9)     15.1 (7.0)  \n",
      "12                                                 \n",
      "13      18.8 (7.6)  17.0 (7.7) ***     16.5 (7.9)  \n",
      "14      18.7 (6.7)      14.6 (7.1)     14.9 (6.7)  \n",
      "15      17.4 (6.6)      13.8 (6.2)     14.6 (6.3)  \n",
      "16                                                 \n",
      "17  17.2 (6.6) ***  13.9 (6.6) ***  13.5 (5.6) **  \n",
      "18      20.0 (7.2)      16.4 (7.3)     17.5 (7.8)  \n",
      "19                                                 \n",
      "20      18.0 (6.8)   14.4 (6.5) **     15.3 (6.7)  \n",
      "21      19.2 (7.4)      16.1 (8.1)     15.3 (7.1)  \n"
     ]
    }
   ],
   "source": [
    "print(students_demographic)"
   ]
  },
  {
   "cell_type": "code",
   "execution_count": 29,
   "id": "4b2bec6f",
   "metadata": {},
   "outputs": [
    {
     "name": "stdout",
     "output_type": "stream",
     "text": [
      "                             0             1             2           3  \\\n",
      "0                      Motives  Total sample           USA          UK   \n",
      "1                                     M (SD)        M (SD)      M (SD)   \n",
      "2             Personal contact     3.5 (1.0)     3.6 (1.1)   3.4 (1.1)   \n",
      "3          Decrease loneliness     2.7 (1.3)     2.7 (1.3)   2.6 (1.2)   \n",
      "4                Entertainment     3.5 (1.1)     3.6 (1.1)   3.5 (1.2)   \n",
      "5    Maintaining relationships      3.7 1.0)     3.7 (1.0)   3.8 (1.0)   \n",
      "6   Social skills compensation     2.0 (1.1)     2.1 (1.2)   1.8 (1.0)   \n",
      "7             Social inclusion     2.3 (1.2)     2.3 (1.2)   2.2 (1.2)   \n",
      "8               Meeting people     1.6 (0.8)     1.6 (0.9)   1.6 (0.9)   \n",
      "9   Daily time on social media        n  (%)        n  (%)      n  (%)   \n",
      "10                      10 min      77 (2.2)      24 (1.3)    14 (2.7)   \n",
      "11                   10 30 min     272 (7.8)     145 (8.1)    47 (9.1)   \n",
      "12                    1 2 -1 h    492 (14.2)    267 (14.9)   90 (17.5)   \n",
      "13                       1 2 h    859 (24.7)    500 (27.9)  131 (25.4)   \n",
      "14                       2 3 h    567 (16.3)    429 (23.9)  107 (20.8)   \n",
      "15                 3 h or more    718 (20.7)  1,794 (23.9)  515 (24.5)   \n",
      "16               Mental health        M (SD)        M (SD)      M (SD)   \n",
      "17                   GHQ score    16.4 (6.8)    16.4 (6.6)  18.3 (7.0)   \n",
      "\n",
      "             4           5      6  \n",
      "0       Norway   Australia      p  \n",
      "1       M (SD)      M (SD)         \n",
      "2    3.3 (1.0)   3.4 (1.0)  0.001  \n",
      "3    2.5 (1.2)   2.4 (1.2)  0.001  \n",
      "4    3.5 (1.2)   3.1 (1.2)  0.001  \n",
      "5    3.6 (1.0)   3.6 (1.0)   0.05  \n",
      "6    1.5 (0.8)   1.8 (1.0)  0.001  \n",
      "7    2.5 (1.2)   2.4 (1.2)   0.01  \n",
      "8    1.5 (0.8)   1.5 (0.8)   0.01  \n",
      "9       n  (%)      n  (%)  0.001  \n",
      "10    36 (6.6)     3 (2.3)         \n",
      "11   69 (12.6)    11 (8.5)         \n",
      "12  108 (19.7)   27 (20.9)         \n",
      "13  189 (34.6)   39 (30.2)         \n",
      "14     2 (0.4)   29 (22.5)         \n",
      "15  547 (26.1)  129 (15.5)         \n",
      "16      M (SD)      M (SD)      p  \n",
      "17  14.9 (7.0)  15.2 (6.9)  0.001  \n"
     ]
    }
   ],
   "source": [
    "print(sm_use_pattern)"
   ]
  },
  {
   "cell_type": "code",
   "execution_count": 30,
   "id": "d12acd6d",
   "metadata": {},
   "outputs": [
    {
     "name": "stdout",
     "output_type": "stream",
     "text": [
      "                                    0             1          2          3  \\\n",
      "0               Independent variables  Total sample        USA         UK   \n",
      "1          Sociodemographic variables                                       \n",
      "2                          Higher age      0.17 ***   0.17 ***       0.05   \n",
      "3                       Female gender      0.06 ***      0.06*       0.07   \n",
      "4              Higher education level          0.04       0.03       0.03   \n",
      "5          Living with spouse/partner        0.04 *       0.00    0.14 **   \n",
      "6                   Having employment       0.05 **       0.02       0.07   \n",
      "7                        R   2 change      9.9% ***   9.2% ***   7.6% ***   \n",
      "8                    Social media use                                       \n",
      "9             Personal contact motive       0.07 **     0.07 *       0.08   \n",
      "10         Decrease loneliness motive      0.29 ***   0.34 ***     0.11 *   \n",
      "11               Entertainment motive      0.13 ***   0.11 ***   0.21 ***   \n",
      "12   Maintaining relationships motive      0.10 ***    0.09 **    0.16 **   \n",
      "13  Social skills compensation motive          0.03       0.01       0.08   \n",
      "14            Social inclusion motive          0.03       0.05       0.08   \n",
      "15              Meeting people motive          0.03       0.05       0.00   \n",
      "16   Time spent on social media daily      0.07 ***   0.09 ***       0.07   \n",
      "17                       R   2 change     12.0% ***  14.3% ***   7.8% ***   \n",
      "18                 Explained variance     21.8% ***  23.5% ***  15.3% ***   \n",
      "\n",
      "            4          5  \n",
      "0      Norway  Australia  \n",
      "1                         \n",
      "2    0.22 ***       0.08  \n",
      "3        0.05       0.03  \n",
      "4        0.02       0.00  \n",
      "5        0.03     0.22 *  \n",
      "6    0.16 ***       0.04  \n",
      "7   18.4% ***     10.6%*  \n",
      "8                         \n",
      "9        0.07       0.05  \n",
      "10   0.27 ***       0.18  \n",
      "11    0.17 **       0.20  \n",
      "12    0.14 **       0.04  \n",
      "13    0.15 **       0.03  \n",
      "14       0.09       0.15  \n",
      "15       0.07       0.11  \n",
      "16       0.01       0.15  \n",
      "17  14.9% ***    17.6%**  \n",
      "18  33.3% ***  28.2% ***  \n"
     ]
    }
   ],
   "source": [
    "print(gender_differences_md)"
   ]
  },
  {
   "cell_type": "code",
   "execution_count": null,
   "id": "4591d835",
   "metadata": {},
   "outputs": [],
   "source": []
  },
  {
   "cell_type": "markdown",
   "id": "3e958437",
   "metadata": {},
   "source": [
    "Parsing tables and create dataframes for the third study."
   ]
  },
  {
   "cell_type": "code",
   "execution_count": null,
   "id": "a1a299b0",
   "metadata": {},
   "outputs": [],
   "source": [
    "xhtml3 = url_get_contents('https://www.ncbi.nlm.nih.gov/pmc/articles/PMC9122809/').decode('utf-8')\n",
    "p.feed(xhtml3)\n",
    "demographic = pd.DataFrame(p.tables[0])\n",
    "descriptive_stat_1 = pd.DataFrame(p.tables[1])\n",
    "descriptive_stat_2 = pd.DataFrame(p.tables[2])\n",
    "ds_different_condittions = pd.DataFrame(p.tables[3])\n",
    "sm_and_mh_correlation = pd.DataFrame(p.tables[4])\n"
   ]
  }
 ],
 "metadata": {
  "kernelspec": {
   "display_name": "Python 3 (ipykernel)",
   "language": "python",
   "name": "python3"
  },
  "language_info": {
   "codemirror_mode": {
    "name": "ipython",
    "version": 3
   },
   "file_extension": ".py",
   "mimetype": "text/x-python",
   "name": "python",
   "nbconvert_exporter": "python",
   "pygments_lexer": "ipython3",
   "version": "3.11.5"
  }
 },
 "nbformat": 4,
 "nbformat_minor": 5
}
